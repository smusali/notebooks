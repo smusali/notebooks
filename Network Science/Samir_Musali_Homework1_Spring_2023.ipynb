{
  "nbformat": 4,
  "nbformat_minor": 0,
  "metadata": {
    "colab": {
      "provenance": []
    },
    "kernelspec": {
      "display_name": "Python 3",
      "language": "python",
      "name": "python3"
    },
    "language_info": {
      "codemirror_mode": {
        "name": "ipython",
        "version": 3
      },
      "file_extension": ".py",
      "mimetype": "text/x-python",
      "name": "python",
      "nbconvert_exporter": "python",
      "pygments_lexer": "ipython3",
      "version": "3.9.2"
    }
  },
  "cells": [
    {
      "cell_type": "markdown",
      "metadata": {
        "id": "kF9wFG4bMonS"
      },
      "source": [
        "\n",
        "<h1><center> <font color='black'>  Network Science (LTAT.02.011) - Homework - 01  </font></center></h1>\n",
        "<h2><center> <font color='black'> Introduction to Network Analysis</font></center></h3>\n",
        "<h2><center> <font color='black'> University of Tartu - Spring 2023</font></center></h3>\n"
      ]
    },
    {
      "cell_type": "markdown",
      "metadata": {
        "id": "wvt4ACYmMonb"
      },
      "source": [
        "================================================================================================================"
      ]
    },
    {
      "cell_type": "markdown",
      "metadata": {
        "id": "IPfsIG7UEce-"
      },
      "source": [
        "# Homework instructions"
      ]
    },
    {
      "cell_type": "markdown",
      "metadata": {
        "id": "16vIDo5rEfk-"
      },
      "source": [
        "- This homework should be done individually or in group of 2 (max).\n",
        "\n",
        "- Please provide the names and student IDs of the team-members in the field \"Student info\" below. If you are not working in a team please insert only your name and student ID. \n",
        "\n",
        "- Only one of the teammates should submit the homework. We will grade the homework and the marks and feedback is applied for both the team members. So please communicate with your team member about marks and feedback if you are submitting the homework.\n",
        "\n",
        "- The accepted submission format is .ipynb file. Please upload the file on moodle.\n",
        "\n",
        "- The submission will automatically close on **<font color='red'>22 March 2023 at 23:59 pm</font>**, so please make sure you have enough time to submit the homework. \n",
        "\n",
        "- You do not necessarily need to work on Colab. Especially as the size and the complexity of datasets will increase through the course, you can install jupyter notebooks locally and work from there.\n",
        "\n",
        "- If you do not understand what a question is asking for, please ask in Moodle. \n"
      ]
    },
    {
      "cell_type": "markdown",
      "metadata": {
        "id": "4v9--6zLEtD0"
      },
      "source": [
        "**<h2><font color='red'>Student info:</font></h2>**\n",
        "\n",
        "\n",
        "<font color='red'>Full name: </font> Samir Musali\n",
        "\n",
        "<font color='red'>Student ID: </font>C29810"
      ]
    },
    {
      "cell_type": "markdown",
      "metadata": {
        "id": "O3RaLGGrRU0M"
      },
      "source": [
        "# Dataset details:\n",
        "**The network data consists of trading countries. There are two files. The first file, *nodes.csv* file has information about the countries where each row consists of node id and the corresponding country name. The second file *edges.csv* contains information about trading countries. Each row represents two countries which trade which each other.**\n",
        "\n"
      ]
    },
    {
      "cell_type": "markdown",
      "metadata": {
        "id": "S_iUr47MMonk"
      },
      "source": [
        "# Libraries\n"
      ]
    },
    {
      "cell_type": "code",
      "source": [
        "# Installing additional dependencies\n",
        "!pip install cairocffi\n",
        "!pip install python-igraph"
      ],
      "metadata": {
        "id": "LyW1BCzJRB_I",
        "colab": {
          "base_uri": "https://localhost:8080/"
        },
        "outputId": "e62b48af-0d3d-4ae4-f4df-fe62f8a6020b"
      },
      "execution_count": 1,
      "outputs": [
        {
          "output_type": "stream",
          "name": "stdout",
          "text": [
            "Looking in indexes: https://pypi.org/simple, https://us-python.pkg.dev/colab-wheels/public/simple/\n",
            "Collecting cairocffi\n",
            "  Downloading cairocffi-1.5.0.tar.gz (86 kB)\n",
            "\u001b[2K     \u001b[90m━━━━━━━━━━━━━━━━━━━━━━━━━━━━━━━━━━━━━━━━\u001b[0m \u001b[32m86.8/86.8 KB\u001b[0m \u001b[31m2.7 MB/s\u001b[0m eta \u001b[36m0:00:00\u001b[0m\n",
            "\u001b[?25h  Installing build dependencies ... \u001b[?25l\u001b[?25hdone\n",
            "  Getting requirements to build wheel ... \u001b[?25l\u001b[?25hdone\n",
            "  Installing backend dependencies ... \u001b[?25l\u001b[?25hdone\n",
            "  Preparing metadata (pyproject.toml) ... \u001b[?25l\u001b[?25hdone\n",
            "Requirement already satisfied: cffi>=1.1.0 in /usr/local/lib/python3.9/dist-packages (from cairocffi) (1.15.1)\n",
            "Requirement already satisfied: pycparser in /usr/local/lib/python3.9/dist-packages (from cffi>=1.1.0->cairocffi) (2.21)\n",
            "Building wheels for collected packages: cairocffi\n",
            "  Building wheel for cairocffi (pyproject.toml) ... \u001b[?25l\u001b[?25hdone\n",
            "  Created wheel for cairocffi: filename=cairocffi-1.5.0-py3-none-any.whl size=90538 sha256=078b7d168e13820df1b3fe87cbe508b4cfa7b65c7dd97f668f819aadc011be72\n",
            "  Stored in directory: /root/.cache/pip/wheels/34/c0/21/58ab88c0e5a36a32f10f5257afbd6e5fae805171da13691863\n",
            "Successfully built cairocffi\n",
            "Installing collected packages: cairocffi\n",
            "Successfully installed cairocffi-1.5.0\n",
            "Looking in indexes: https://pypi.org/simple, https://us-python.pkg.dev/colab-wheels/public/simple/\n",
            "Collecting python-igraph\n",
            "  Downloading python-igraph-0.10.4.tar.gz (9.5 kB)\n",
            "  Preparing metadata (setup.py) ... \u001b[?25l\u001b[?25hdone\n",
            "Collecting igraph==0.10.4\n",
            "  Downloading igraph-0.10.4-cp39-abi3-manylinux_2_17_x86_64.manylinux2014_x86_64.whl (3.3 MB)\n",
            "\u001b[2K     \u001b[90m━━━━━━━━━━━━━━━━━━━━━━━━━━━━━━━━━━━━━━━━\u001b[0m \u001b[32m3.3/3.3 MB\u001b[0m \u001b[31m30.2 MB/s\u001b[0m eta \u001b[36m0:00:00\u001b[0m\n",
            "\u001b[?25hCollecting texttable>=1.6.2\n",
            "  Downloading texttable-1.6.7-py2.py3-none-any.whl (10 kB)\n",
            "Building wheels for collected packages: python-igraph\n",
            "  Building wheel for python-igraph (setup.py) ... \u001b[?25l\u001b[?25hdone\n",
            "  Created wheel for python-igraph: filename=python_igraph-0.10.4-py3-none-any.whl size=9073 sha256=114d8a964a4973a268a48f89e6792dc772df37447c2101bf984b5890f3d3894c\n",
            "  Stored in directory: /root/.cache/pip/wheels/dc/07/ac/bff79052fd6222d1239b228cd24a47222f227c2350f9c4df01\n",
            "Successfully built python-igraph\n",
            "Installing collected packages: texttable, igraph, python-igraph\n",
            "Successfully installed igraph-0.10.4 python-igraph-0.10.4 texttable-1.6.7\n"
          ]
        }
      ]
    },
    {
      "cell_type": "code",
      "metadata": {
        "id": "VLehHD7rMonp"
      },
      "source": [
        "# Importing libraries\n",
        "import igraph as ig\n",
        "import networkx as nx\n",
        "from networkx.algorithms import community\n",
        "import pandas as pd\n",
        "import matplotlib.pyplot as plt"
      ],
      "execution_count": 2,
      "outputs": []
    },
    {
      "cell_type": "markdown",
      "metadata": {
        "id": "1Wtx7nkgG7d3"
      },
      "source": [
        "# Reading the datasets"
      ]
    },
    {
      "cell_type": "code",
      "metadata": {
        "id": "nQYvKAJfG7d3"
      },
      "source": [
        "nodes = pd.read_csv('nodes.csv')\n",
        "edges = pd.read_csv('edges.csv')"
      ],
      "execution_count": 3,
      "outputs": []
    },
    {
      "cell_type": "code",
      "metadata": {
        "id": "3KdqTWsZG7d4",
        "colab": {
          "base_uri": "https://localhost:8080/"
        },
        "outputId": "ec8528c4-b8b7-4e92-871e-9424f746b341"
      },
      "source": [
        "print('Nodes dataset dimension:', nodes.shape, '\\nEdges dataset dimension:', edges.shape)"
      ],
      "execution_count": 4,
      "outputs": [
        {
          "output_type": "stream",
          "name": "stdout",
          "text": [
            "Nodes dataset dimension: (214, 2) \n",
            "Edges dataset dimension: (318346, 2)\n"
          ]
        }
      ]
    },
    {
      "cell_type": "code",
      "metadata": {
        "id": "tpYttlrIG7d5",
        "colab": {
          "base_uri": "https://localhost:8080/",
          "height": 206
        },
        "outputId": "48858638-e9b7-42be-a6e2-d1490d036837"
      },
      "source": [
        "nodes.head()"
      ],
      "execution_count": 5,
      "outputs": [
        {
          "output_type": "execute_result",
          "data": {
            "text/plain": [
              "   id         Name\n",
              "0   1  Afghanistan\n",
              "1   2    Australia\n",
              "2   3      Austria\n",
              "3   4      Belgium\n",
              "4   5       Brazil"
            ],
            "text/html": [
              "\n",
              "  <div id=\"df-f627d2a8-ff99-4aa9-84bc-a43ccf04c013\">\n",
              "    <div class=\"colab-df-container\">\n",
              "      <div>\n",
              "<style scoped>\n",
              "    .dataframe tbody tr th:only-of-type {\n",
              "        vertical-align: middle;\n",
              "    }\n",
              "\n",
              "    .dataframe tbody tr th {\n",
              "        vertical-align: top;\n",
              "    }\n",
              "\n",
              "    .dataframe thead th {\n",
              "        text-align: right;\n",
              "    }\n",
              "</style>\n",
              "<table border=\"1\" class=\"dataframe\">\n",
              "  <thead>\n",
              "    <tr style=\"text-align: right;\">\n",
              "      <th></th>\n",
              "      <th>id</th>\n",
              "      <th>Name</th>\n",
              "    </tr>\n",
              "  </thead>\n",
              "  <tbody>\n",
              "    <tr>\n",
              "      <th>0</th>\n",
              "      <td>1</td>\n",
              "      <td>Afghanistan</td>\n",
              "    </tr>\n",
              "    <tr>\n",
              "      <th>1</th>\n",
              "      <td>2</td>\n",
              "      <td>Australia</td>\n",
              "    </tr>\n",
              "    <tr>\n",
              "      <th>2</th>\n",
              "      <td>3</td>\n",
              "      <td>Austria</td>\n",
              "    </tr>\n",
              "    <tr>\n",
              "      <th>3</th>\n",
              "      <td>4</td>\n",
              "      <td>Belgium</td>\n",
              "    </tr>\n",
              "    <tr>\n",
              "      <th>4</th>\n",
              "      <td>5</td>\n",
              "      <td>Brazil</td>\n",
              "    </tr>\n",
              "  </tbody>\n",
              "</table>\n",
              "</div>\n",
              "      <button class=\"colab-df-convert\" onclick=\"convertToInteractive('df-f627d2a8-ff99-4aa9-84bc-a43ccf04c013')\"\n",
              "              title=\"Convert this dataframe to an interactive table.\"\n",
              "              style=\"display:none;\">\n",
              "        \n",
              "  <svg xmlns=\"http://www.w3.org/2000/svg\" height=\"24px\"viewBox=\"0 0 24 24\"\n",
              "       width=\"24px\">\n",
              "    <path d=\"M0 0h24v24H0V0z\" fill=\"none\"/>\n",
              "    <path d=\"M18.56 5.44l.94 2.06.94-2.06 2.06-.94-2.06-.94-.94-2.06-.94 2.06-2.06.94zm-11 1L8.5 8.5l.94-2.06 2.06-.94-2.06-.94L8.5 2.5l-.94 2.06-2.06.94zm10 10l.94 2.06.94-2.06 2.06-.94-2.06-.94-.94-2.06-.94 2.06-2.06.94z\"/><path d=\"M17.41 7.96l-1.37-1.37c-.4-.4-.92-.59-1.43-.59-.52 0-1.04.2-1.43.59L10.3 9.45l-7.72 7.72c-.78.78-.78 2.05 0 2.83L4 21.41c.39.39.9.59 1.41.59.51 0 1.02-.2 1.41-.59l7.78-7.78 2.81-2.81c.8-.78.8-2.07 0-2.86zM5.41 20L4 18.59l7.72-7.72 1.47 1.35L5.41 20z\"/>\n",
              "  </svg>\n",
              "      </button>\n",
              "      \n",
              "  <style>\n",
              "    .colab-df-container {\n",
              "      display:flex;\n",
              "      flex-wrap:wrap;\n",
              "      gap: 12px;\n",
              "    }\n",
              "\n",
              "    .colab-df-convert {\n",
              "      background-color: #E8F0FE;\n",
              "      border: none;\n",
              "      border-radius: 50%;\n",
              "      cursor: pointer;\n",
              "      display: none;\n",
              "      fill: #1967D2;\n",
              "      height: 32px;\n",
              "      padding: 0 0 0 0;\n",
              "      width: 32px;\n",
              "    }\n",
              "\n",
              "    .colab-df-convert:hover {\n",
              "      background-color: #E2EBFA;\n",
              "      box-shadow: 0px 1px 2px rgba(60, 64, 67, 0.3), 0px 1px 3px 1px rgba(60, 64, 67, 0.15);\n",
              "      fill: #174EA6;\n",
              "    }\n",
              "\n",
              "    [theme=dark] .colab-df-convert {\n",
              "      background-color: #3B4455;\n",
              "      fill: #D2E3FC;\n",
              "    }\n",
              "\n",
              "    [theme=dark] .colab-df-convert:hover {\n",
              "      background-color: #434B5C;\n",
              "      box-shadow: 0px 1px 3px 1px rgba(0, 0, 0, 0.15);\n",
              "      filter: drop-shadow(0px 1px 2px rgba(0, 0, 0, 0.3));\n",
              "      fill: #FFFFFF;\n",
              "    }\n",
              "  </style>\n",
              "\n",
              "      <script>\n",
              "        const buttonEl =\n",
              "          document.querySelector('#df-f627d2a8-ff99-4aa9-84bc-a43ccf04c013 button.colab-df-convert');\n",
              "        buttonEl.style.display =\n",
              "          google.colab.kernel.accessAllowed ? 'block' : 'none';\n",
              "\n",
              "        async function convertToInteractive(key) {\n",
              "          const element = document.querySelector('#df-f627d2a8-ff99-4aa9-84bc-a43ccf04c013');\n",
              "          const dataTable =\n",
              "            await google.colab.kernel.invokeFunction('convertToInteractive',\n",
              "                                                     [key], {});\n",
              "          if (!dataTable) return;\n",
              "\n",
              "          const docLinkHtml = 'Like what you see? Visit the ' +\n",
              "            '<a target=\"_blank\" href=https://colab.research.google.com/notebooks/data_table.ipynb>data table notebook</a>'\n",
              "            + ' to learn more about interactive tables.';\n",
              "          element.innerHTML = '';\n",
              "          dataTable['output_type'] = 'display_data';\n",
              "          await google.colab.output.renderOutput(dataTable, element);\n",
              "          const docLink = document.createElement('div');\n",
              "          docLink.innerHTML = docLinkHtml;\n",
              "          element.appendChild(docLink);\n",
              "        }\n",
              "      </script>\n",
              "    </div>\n",
              "  </div>\n",
              "  "
            ]
          },
          "metadata": {},
          "execution_count": 5
        }
      ]
    },
    {
      "cell_type": "code",
      "metadata": {
        "id": "iGJn1wpfG7d5",
        "colab": {
          "base_uri": "https://localhost:8080/",
          "height": 206
        },
        "outputId": "b8da8b98-a764-4c3c-e887-bc6175d9a502"
      },
      "source": [
        "edges.head()"
      ],
      "execution_count": 6,
      "outputs": [
        {
          "output_type": "execute_result",
          "data": {
            "text/plain": [
              "   from  to\n",
              "0     2   1\n",
              "1     2   2\n",
              "2     2   3\n",
              "3     2   4\n",
              "4     2   6"
            ],
            "text/html": [
              "\n",
              "  <div id=\"df-5ce461fe-d466-4a86-9a87-3001848632d1\">\n",
              "    <div class=\"colab-df-container\">\n",
              "      <div>\n",
              "<style scoped>\n",
              "    .dataframe tbody tr th:only-of-type {\n",
              "        vertical-align: middle;\n",
              "    }\n",
              "\n",
              "    .dataframe tbody tr th {\n",
              "        vertical-align: top;\n",
              "    }\n",
              "\n",
              "    .dataframe thead th {\n",
              "        text-align: right;\n",
              "    }\n",
              "</style>\n",
              "<table border=\"1\" class=\"dataframe\">\n",
              "  <thead>\n",
              "    <tr style=\"text-align: right;\">\n",
              "      <th></th>\n",
              "      <th>from</th>\n",
              "      <th>to</th>\n",
              "    </tr>\n",
              "  </thead>\n",
              "  <tbody>\n",
              "    <tr>\n",
              "      <th>0</th>\n",
              "      <td>2</td>\n",
              "      <td>1</td>\n",
              "    </tr>\n",
              "    <tr>\n",
              "      <th>1</th>\n",
              "      <td>2</td>\n",
              "      <td>2</td>\n",
              "    </tr>\n",
              "    <tr>\n",
              "      <th>2</th>\n",
              "      <td>2</td>\n",
              "      <td>3</td>\n",
              "    </tr>\n",
              "    <tr>\n",
              "      <th>3</th>\n",
              "      <td>2</td>\n",
              "      <td>4</td>\n",
              "    </tr>\n",
              "    <tr>\n",
              "      <th>4</th>\n",
              "      <td>2</td>\n",
              "      <td>6</td>\n",
              "    </tr>\n",
              "  </tbody>\n",
              "</table>\n",
              "</div>\n",
              "      <button class=\"colab-df-convert\" onclick=\"convertToInteractive('df-5ce461fe-d466-4a86-9a87-3001848632d1')\"\n",
              "              title=\"Convert this dataframe to an interactive table.\"\n",
              "              style=\"display:none;\">\n",
              "        \n",
              "  <svg xmlns=\"http://www.w3.org/2000/svg\" height=\"24px\"viewBox=\"0 0 24 24\"\n",
              "       width=\"24px\">\n",
              "    <path d=\"M0 0h24v24H0V0z\" fill=\"none\"/>\n",
              "    <path d=\"M18.56 5.44l.94 2.06.94-2.06 2.06-.94-2.06-.94-.94-2.06-.94 2.06-2.06.94zm-11 1L8.5 8.5l.94-2.06 2.06-.94-2.06-.94L8.5 2.5l-.94 2.06-2.06.94zm10 10l.94 2.06.94-2.06 2.06-.94-2.06-.94-.94-2.06-.94 2.06-2.06.94z\"/><path d=\"M17.41 7.96l-1.37-1.37c-.4-.4-.92-.59-1.43-.59-.52 0-1.04.2-1.43.59L10.3 9.45l-7.72 7.72c-.78.78-.78 2.05 0 2.83L4 21.41c.39.39.9.59 1.41.59.51 0 1.02-.2 1.41-.59l7.78-7.78 2.81-2.81c.8-.78.8-2.07 0-2.86zM5.41 20L4 18.59l7.72-7.72 1.47 1.35L5.41 20z\"/>\n",
              "  </svg>\n",
              "      </button>\n",
              "      \n",
              "  <style>\n",
              "    .colab-df-container {\n",
              "      display:flex;\n",
              "      flex-wrap:wrap;\n",
              "      gap: 12px;\n",
              "    }\n",
              "\n",
              "    .colab-df-convert {\n",
              "      background-color: #E8F0FE;\n",
              "      border: none;\n",
              "      border-radius: 50%;\n",
              "      cursor: pointer;\n",
              "      display: none;\n",
              "      fill: #1967D2;\n",
              "      height: 32px;\n",
              "      padding: 0 0 0 0;\n",
              "      width: 32px;\n",
              "    }\n",
              "\n",
              "    .colab-df-convert:hover {\n",
              "      background-color: #E2EBFA;\n",
              "      box-shadow: 0px 1px 2px rgba(60, 64, 67, 0.3), 0px 1px 3px 1px rgba(60, 64, 67, 0.15);\n",
              "      fill: #174EA6;\n",
              "    }\n",
              "\n",
              "    [theme=dark] .colab-df-convert {\n",
              "      background-color: #3B4455;\n",
              "      fill: #D2E3FC;\n",
              "    }\n",
              "\n",
              "    [theme=dark] .colab-df-convert:hover {\n",
              "      background-color: #434B5C;\n",
              "      box-shadow: 0px 1px 3px 1px rgba(0, 0, 0, 0.15);\n",
              "      filter: drop-shadow(0px 1px 2px rgba(0, 0, 0, 0.3));\n",
              "      fill: #FFFFFF;\n",
              "    }\n",
              "  </style>\n",
              "\n",
              "      <script>\n",
              "        const buttonEl =\n",
              "          document.querySelector('#df-5ce461fe-d466-4a86-9a87-3001848632d1 button.colab-df-convert');\n",
              "        buttonEl.style.display =\n",
              "          google.colab.kernel.accessAllowed ? 'block' : 'none';\n",
              "\n",
              "        async function convertToInteractive(key) {\n",
              "          const element = document.querySelector('#df-5ce461fe-d466-4a86-9a87-3001848632d1');\n",
              "          const dataTable =\n",
              "            await google.colab.kernel.invokeFunction('convertToInteractive',\n",
              "                                                     [key], {});\n",
              "          if (!dataTable) return;\n",
              "\n",
              "          const docLinkHtml = 'Like what you see? Visit the ' +\n",
              "            '<a target=\"_blank\" href=https://colab.research.google.com/notebooks/data_table.ipynb>data table notebook</a>'\n",
              "            + ' to learn more about interactive tables.';\n",
              "          element.innerHTML = '';\n",
              "          dataTable['output_type'] = 'display_data';\n",
              "          await google.colab.output.renderOutput(dataTable, element);\n",
              "          const docLink = document.createElement('div');\n",
              "          docLink.innerHTML = docLinkHtml;\n",
              "          element.appendChild(docLink);\n",
              "        }\n",
              "      </script>\n",
              "    </div>\n",
              "  </div>\n",
              "  "
            ]
          },
          "metadata": {},
          "execution_count": 6
        }
      ]
    },
    {
      "cell_type": "markdown",
      "metadata": {
        "id": "y5Yn4BjipF3d"
      },
      "source": [
        "# 1. Network creation (1.5 points)"
      ]
    },
    {
      "cell_type": "markdown",
      "metadata": {
        "id": "SaLHaHm2u6n8"
      },
      "source": [
        "**1.1. Create undirected and unweighted network using nodes and edges datasets (0.25 point)**\n",
        "\n",
        "<font color='red'>How you should answer the following questions: In the `#TODO` cell you have to write the code representing your solution.</font>"
      ]
    },
    {
      "cell_type": "code",
      "metadata": {
        "id": "-gUBmUIxG7d6"
      },
      "source": [
        "\"\"\"\n",
        "Hint: Use igraph or networkx to create a correct graph type. \n",
        "\"\"\"\n",
        "G_unweighted_undirected = nx.Graph()\n",
        "for _, row in nodes.iterrows():\n",
        "    G_unweighted_undirected.add_node(row['id'], attr_dict=row.to_dict())\n",
        "\n",
        "for _, row in edges.iterrows():\n",
        "    G_unweighted_undirected.add_edge(row['from'], row['to'])"
      ],
      "execution_count": 7,
      "outputs": []
    },
    {
      "cell_type": "markdown",
      "metadata": {
        "id": "FANOIPpu_Vbq"
      },
      "source": [
        "**1.2. Create undirected and weighted network using nodes and edges datasets (0.25 point)**"
      ]
    },
    {
      "cell_type": "code",
      "metadata": {
        "id": "EMbYWjBxG7d6"
      },
      "source": [
        "'''\n",
        "Hint: Create \"weight\" column in the \"edges\" dataframe by grouping on \"from\" and \"to\" columns.\n",
        "'''\n",
        "edge_weights = edges.groupby(['from', 'to']).size()\n",
        "edges['weight'] = edges.apply(lambda row: edge_weights[row['from'], row['to']], axis=1)\n",
        "G_weighted_undirected = nx.Graph()\n",
        "for _, row in nodes.iterrows():\n",
        "    G_weighted_undirected.add_node(row['id'], attr_dict=row.to_dict())\n",
        "for _, row in edges.iterrows():\n",
        "    G_weighted_undirected.add_edge(row['from'], row['to'], weight=row['weight'])"
      ],
      "execution_count": 9,
      "outputs": []
    },
    {
      "cell_type": "markdown",
      "metadata": {
        "id": "h4vKYcyb_dZ-"
      },
      "source": [
        "**1.3. Create directed and unweighted network using nodes and edges datasets (0.25 point)**"
      ]
    },
    {
      "cell_type": "code",
      "metadata": {
        "id": "Ya6C7ns4G7d7"
      },
      "source": [
        "G_unweighted_directed = nx.DiGraph()\n",
        "for _, row in nodes.iterrows():\n",
        "    G_unweighted_directed.add_node(row['id'], attr_dict=row.to_dict())\n",
        "for _, row in edges.iterrows():\n",
        "    G_unweighted_directed.add_edge(row['from'], row['to'])"
      ],
      "execution_count": 10,
      "outputs": []
    },
    {
      "cell_type": "markdown",
      "metadata": {
        "id": "9xXoUj25_jrw"
      },
      "source": [
        "**1.4. Create directed and weighted network using nodes and edges datasets (0.25 point)**"
      ]
    },
    {
      "cell_type": "code",
      "metadata": {
        "id": "cE7jb27DG7d7"
      },
      "source": [
        "G_weighted_directed = nx.DiGraph()\n",
        "for _, row in nodes.iterrows():\n",
        "    G_weighted_directed.add_node(row['id'], attr_dict=row.to_dict())\n",
        "for _, row in edges.iterrows():\n",
        "    G_weighted_directed.add_edge(row['from'], row['to'], weight=row['weight'])"
      ],
      "execution_count": 11,
      "outputs": []
    },
    {
      "cell_type": "markdown",
      "metadata": {
        "id": "6t_ZEW2Z_pMD"
      },
      "source": [
        "**1.5. Check whether undirected and unweighted network is connected or disconected (0.5 point).**\n",
        "\n",
        "<font color='red'>How you should answer the following questions. First, in the `#TODO` cell you have to write the code representing your solution. And in the `Your answer` cell write the answer in your own words. It does not have to be a full sentence.</font>"
      ]
    },
    {
      "cell_type": "code",
      "metadata": {
        "id": "yEHLgW06G7d8",
        "colab": {
          "base_uri": "https://localhost:8080/"
        },
        "outputId": "874cd2bc-360c-4466-cc86-3c4548ec9c55"
      },
      "source": [
        "is_connected = nx.is_connected(G_unweighted_undirected)\n",
        "\n",
        "if is_connected:\n",
        "    print(\"The graph is connected\")\n",
        "else:\n",
        "    print(\"The graph is disconnected\")"
      ],
      "execution_count": 12,
      "outputs": [
        {
          "output_type": "stream",
          "name": "stdout",
          "text": [
            "The graph is connected\n"
          ]
        }
      ]
    },
    {
      "cell_type": "markdown",
      "metadata": {
        "id": "7yu1FwG597Es"
      },
      "source": [
        "**<font color='red'>Your answer:</font>** Apparently, it's connected!"
      ]
    },
    {
      "cell_type": "markdown",
      "metadata": {
        "id": "z8-AgYruG7d8"
      },
      "source": [
        "# 2. Network properties (3 points)"
      ]
    },
    {
      "cell_type": "markdown",
      "metadata": {
        "id": "YONms-55G7d8"
      },
      "source": [
        "## 2.1. Edge density (0.5 points)."
      ]
    },
    {
      "cell_type": "markdown",
      "metadata": {
        "id": "JpVpGV9zAERc"
      },
      "source": [
        "**2.1.1. Calculate edge density for undirected and unweighted network (0.125 point);**"
      ]
    },
    {
      "cell_type": "code",
      "metadata": {
        "id": "sjes-lwQG7d8",
        "colab": {
          "base_uri": "https://localhost:8080/"
        },
        "outputId": "7895510b-c8b1-499a-ba3f-a1f99133842b"
      },
      "source": [
        "n_nodes = G_unweighted_undirected.number_of_nodes()\n",
        "n_edges = G_unweighted_undirected.number_of_edges()\n",
        "max_edges = (n_nodes * (n_nodes - 1)) / 2\n",
        "edge_density = n_edges / max_edges\n",
        "\n",
        "print(\"Edge density:\", edge_density)"
      ],
      "execution_count": 13,
      "outputs": [
        {
          "output_type": "stream",
          "name": "stdout",
          "text": [
            "Edge density: 0.41424246413057786\n"
          ]
        }
      ]
    },
    {
      "cell_type": "markdown",
      "metadata": {
        "id": "F5WSBcN4G7d8"
      },
      "source": [
        "**<font color='red'>Your answer:</font>** ~0.41"
      ]
    },
    {
      "cell_type": "markdown",
      "metadata": {
        "id": "gDrF2KyuAQ_a"
      },
      "source": [
        "**2.1.2. Calculate edge density for directed and unweighted network (0.125 point)**"
      ]
    },
    {
      "cell_type": "code",
      "metadata": {
        "id": "GWaAtV-YG7d9",
        "colab": {
          "base_uri": "https://localhost:8080/"
        },
        "outputId": "c8cc92b3-fa8a-4c92-cbca-7f96b9682710"
      },
      "source": [
        "n_nodes = G_unweighted_directed.number_of_nodes()\n",
        "n_edges = G_unweighted_directed.number_of_edges()\n",
        "max_edges = n_nodes * (n_nodes - 1)\n",
        "edge_density = n_edges / max_edges\n",
        "\n",
        "print(\"Edge density:\", edge_density)"
      ],
      "execution_count": 14,
      "outputs": [
        {
          "output_type": "stream",
          "name": "stdout",
          "text": [
            "Edge density: 0.30134702294765475\n"
          ]
        }
      ]
    },
    {
      "cell_type": "markdown",
      "metadata": {
        "id": "udomo4dOG7d9"
      },
      "source": [
        "**<font color='red'>Your answer:</font>** ~0.3"
      ]
    },
    {
      "cell_type": "markdown",
      "source": [
        "**2.1.3 Compare the results you received. Which network has a higher edge density? Why? (0.25 point)**"
      ],
      "metadata": {
        "id": "_K8lNNu2VF05"
      }
    },
    {
      "cell_type": "markdown",
      "source": [
        "**<font color='red'>Your answer:</font>** As you can see, the edge density of the directed and unweighted network is lower since the maximum possible number of edges is more in directed network than in undirected one."
      ],
      "metadata": {
        "id": "ynF6t4kJV9sN"
      }
    },
    {
      "cell_type": "markdown",
      "metadata": {
        "id": "H1DhbRKSG7d9"
      },
      "source": [
        "## 2.2. Clustering coefficient (1 point)"
      ]
    },
    {
      "cell_type": "markdown",
      "metadata": {
        "id": "H5noZ89bAc3k"
      },
      "source": [
        "**2.2.1. Calculate average clustering coefficient for undirected and unweighted network (0.125 point);**"
      ]
    },
    {
      "cell_type": "code",
      "metadata": {
        "id": "JG3qgDHbG7d9",
        "colab": {
          "base_uri": "https://localhost:8080/"
        },
        "outputId": "952065ed-4f64-40b5-8dd8-306333122b37"
      },
      "source": [
        "average_clustering_coefficient = nx.average_clustering(G_unweighted_undirected)\n",
        "print(\"Average clustering coefficient:\", average_clustering_coefficient)"
      ],
      "execution_count": 15,
      "outputs": [
        {
          "output_type": "stream",
          "name": "stdout",
          "text": [
            "Average clustering coefficient: 0.8124991062175771\n"
          ]
        }
      ]
    },
    {
      "cell_type": "markdown",
      "metadata": {
        "id": "vE7jrxQGG7d9"
      },
      "source": [
        "**<font color='red'>Your answer:</font>** ~0.81"
      ]
    },
    {
      "cell_type": "markdown",
      "metadata": {
        "id": "SUZZs6AFAhVw"
      },
      "source": [
        "**2.2.2. Calculate average clustering coefficient for directed and unweighted network (0.125 point);**"
      ]
    },
    {
      "cell_type": "code",
      "metadata": {
        "id": "yZto1olwG7d9",
        "colab": {
          "base_uri": "https://localhost:8080/"
        },
        "outputId": "fce30cc4-cdf0-4a95-d66a-5e7e9137a856"
      },
      "source": [
        "average_clustering_coefficient = nx.average_clustering(G_unweighted_directed, count_zeros=True)\n",
        "print(\"Average clustering coefficient:\", average_clustering_coefficient)"
      ],
      "execution_count": 16,
      "outputs": [
        {
          "output_type": "stream",
          "name": "stdout",
          "text": [
            "Average clustering coefficient: 0.7480679346326201\n"
          ]
        }
      ]
    },
    {
      "cell_type": "markdown",
      "metadata": {
        "id": "lU3l6i_1G7d-"
      },
      "source": [
        "**<font color='red'>Your answer:</font>** ~0.75"
      ]
    },
    {
      "cell_type": "markdown",
      "source": [
        "**2.2.3 Compare the results you received for unweighted networks. Which network has a higher average clustering coefficient? Why? (0.25 point);**"
      ],
      "metadata": {
        "id": "XWwde31SYa4X"
      }
    },
    {
      "cell_type": "markdown",
      "source": [
        "**<font color='red'>Your answer:</font>** The average clustering coefficient of `G_unweighted_directed` is lower than that of `G_unweighted_undirected` because the directed edges in `G_unweighted_directed` do not allow for the formation of the same kind of clusters as in the undirected graph."
      ],
      "metadata": {
        "id": "Nz6l0MRhYdL5"
      }
    },
    {
      "cell_type": "markdown",
      "metadata": {
        "id": "6KihTvrsAi-V"
      },
      "source": [
        "**2.2.4. Calculate average clustering coefficient for undirected and weighted network (0.125 point);**"
      ]
    },
    {
      "cell_type": "code",
      "metadata": {
        "id": "R7oFjLZdG7d-",
        "colab": {
          "base_uri": "https://localhost:8080/"
        },
        "outputId": "4ec4a736-1e3b-4b6b-b274-9d42a50ce9e7"
      },
      "source": [
        "avg_cluster_coeff = nx.average_clustering(G_weighted_undirected)\n",
        "print(\"Average clustering coefficient for G_weighted_undirected: \", avg_cluster_coeff)"
      ],
      "execution_count": 17,
      "outputs": [
        {
          "output_type": "stream",
          "name": "stdout",
          "text": [
            "Average clustering coefficient for G_weighted_undirected:  0.8124991062175771\n"
          ]
        }
      ]
    },
    {
      "cell_type": "markdown",
      "metadata": {
        "id": "3Es9S2NuG7d-"
      },
      "source": [
        "**<font color='red'>Your answer:</font>** ~0.81"
      ]
    },
    {
      "cell_type": "markdown",
      "metadata": {
        "id": "XemdJ2MtAkML"
      },
      "source": [
        "**2.2.5. Calculate average clustering coefficient for directed and weighted network (0.125 point);**"
      ]
    },
    {
      "cell_type": "code",
      "metadata": {
        "id": "v_9fuKNQG7d-",
        "colab": {
          "base_uri": "https://localhost:8080/"
        },
        "outputId": "59ea9ac9-41b6-4b6b-de48-491780ba747c"
      },
      "source": [
        "avg_cluster_coeff = nx.average_clustering(G_weighted_directed)\n",
        "print(\"Average clustering coefficient for G_weighted_directed: \", avg_cluster_coeff)"
      ],
      "execution_count": 18,
      "outputs": [
        {
          "output_type": "stream",
          "name": "stdout",
          "text": [
            "Average clustering coefficient for G_weighted_directed:  0.7480679346326201\n"
          ]
        }
      ]
    },
    {
      "cell_type": "markdown",
      "metadata": {
        "id": "72LURaaxG7d-"
      },
      "source": [
        "**<font color='red'>Your answer:</font>** ~0.75"
      ]
    },
    {
      "cell_type": "markdown",
      "source": [
        "**2.2.6 Compare the results you received for weighted networks. Which network has a higher average clustering coefficient? Why? (0.25 point);**"
      ],
      "metadata": {
        "id": "7FSoMIVNY4N1"
      }
    },
    {
      "cell_type": "markdown",
      "source": [
        "**<font color='red'>Your answer:</font>** In `G_weighted_directed`, since the edges have weights, the definition of clustering coefficient is modified to take into account the weights of the edges. However, since the graph is directed, this means that the incoming and outgoing edges are treated separately, leading to a lower clustering coefficient compared to an undirected graph with the same set of edges.\n",
        "\n",
        "In contrast, in `G_weighted_undirected`, the graph is undirected, and the clustering coefficient is calculated based on the connections between the neighbors of each node, without taking into account the direction of the edges. Therefore, the clustering coefficient for `G_weighted_undirected` will generally be higher than for a directed network with the same set of edges."
      ],
      "metadata": {
        "id": "AgomSAtxZEoH"
      }
    },
    {
      "cell_type": "markdown",
      "metadata": {
        "id": "krMdtTD8G7d_"
      },
      "source": [
        "## 2.3. Diameter (0.5 point)"
      ]
    },
    {
      "cell_type": "markdown",
      "metadata": {
        "id": "8fhUcsAtAnsW"
      },
      "source": [
        "**2.3.1. Calculate diameter for undirected and unweighted network (0.125 point); and interpret the result (0.125 point)**"
      ]
    },
    {
      "cell_type": "code",
      "metadata": {
        "id": "0cMakJtsG7d_"
      },
      "source": [
        "#TODO"
      ],
      "execution_count": null,
      "outputs": []
    },
    {
      "cell_type": "markdown",
      "metadata": {
        "id": "heTNrbknG7d_"
      },
      "source": [
        "**<font color='red'>Your answer:</font>**"
      ]
    },
    {
      "cell_type": "markdown",
      "metadata": {
        "id": "03O3AVaZApGX"
      },
      "source": [
        "**2.3.2. Calculate diameter for directed and unweighted network (0.125 point); and interpret the result (0.125 point)**"
      ]
    },
    {
      "cell_type": "code",
      "metadata": {
        "id": "UPMWLW36G7d_",
        "colab": {
          "base_uri": "https://localhost:8080/",
          "height": 389
        },
        "outputId": "99275ea8-3dac-44f4-9cec-6e8a875f7209"
      },
      "source": [
        "'''\n",
        "Hint: This will generate an error. Please find and explain the reason in your own words and suggest a possible solution.\n",
        "'''\n",
        "diameter = nx.diameter(G_unweighted_directed)\n",
        "print(\"Diameter of G_unweighted_directed:\", diameter)"
      ],
      "execution_count": 19,
      "outputs": [
        {
          "output_type": "error",
          "ename": "NetworkXError",
          "evalue": "ignored",
          "traceback": [
            "\u001b[0;31m---------------------------------------------------------------------------\u001b[0m",
            "\u001b[0;31mNetworkXError\u001b[0m                             Traceback (most recent call last)",
            "\u001b[0;32m<ipython-input-19-a44c3dafdebf>\u001b[0m in \u001b[0;36m<module>\u001b[0;34m\u001b[0m\n\u001b[1;32m      2\u001b[0m \u001b[0mHint\u001b[0m\u001b[0;34m:\u001b[0m \u001b[0mThis\u001b[0m \u001b[0mwill\u001b[0m \u001b[0mgenerate\u001b[0m \u001b[0man\u001b[0m \u001b[0merror\u001b[0m\u001b[0;34m.\u001b[0m \u001b[0mPlease\u001b[0m \u001b[0mfind\u001b[0m \u001b[0;32mand\u001b[0m \u001b[0mexplain\u001b[0m \u001b[0mthe\u001b[0m \u001b[0mreason\u001b[0m \u001b[0;32min\u001b[0m \u001b[0myour\u001b[0m \u001b[0mown\u001b[0m \u001b[0mwords\u001b[0m \u001b[0;32mand\u001b[0m \u001b[0msuggest\u001b[0m \u001b[0ma\u001b[0m \u001b[0mpossible\u001b[0m \u001b[0msolution\u001b[0m\u001b[0;34m.\u001b[0m\u001b[0;34m\u001b[0m\u001b[0;34m\u001b[0m\u001b[0m\n\u001b[1;32m      3\u001b[0m '''\n\u001b[0;32m----> 4\u001b[0;31m \u001b[0mdiameter\u001b[0m \u001b[0;34m=\u001b[0m \u001b[0mnx\u001b[0m\u001b[0;34m.\u001b[0m\u001b[0mdiameter\u001b[0m\u001b[0;34m(\u001b[0m\u001b[0mG_unweighted_directed\u001b[0m\u001b[0;34m)\u001b[0m\u001b[0;34m\u001b[0m\u001b[0;34m\u001b[0m\u001b[0m\n\u001b[0m\u001b[1;32m      5\u001b[0m \u001b[0mprint\u001b[0m\u001b[0;34m(\u001b[0m\u001b[0;34m\"Diameter of G_unweighted_directed:\"\u001b[0m\u001b[0;34m,\u001b[0m \u001b[0mdiameter\u001b[0m\u001b[0;34m)\u001b[0m\u001b[0;34m\u001b[0m\u001b[0;34m\u001b[0m\u001b[0m\n",
            "\u001b[0;32m/usr/local/lib/python3.9/dist-packages/networkx/algorithms/distance_measures.py\u001b[0m in \u001b[0;36mdiameter\u001b[0;34m(G, e, usebounds, weight)\u001b[0m\n\u001b[1;32m    375\u001b[0m         \u001b[0;32mreturn\u001b[0m \u001b[0m_extrema_bounding\u001b[0m\u001b[0;34m(\u001b[0m\u001b[0mG\u001b[0m\u001b[0;34m,\u001b[0m \u001b[0mcompute\u001b[0m\u001b[0;34m=\u001b[0m\u001b[0;34m\"diameter\"\u001b[0m\u001b[0;34m,\u001b[0m \u001b[0mweight\u001b[0m\u001b[0;34m=\u001b[0m\u001b[0mweight\u001b[0m\u001b[0;34m)\u001b[0m\u001b[0;34m\u001b[0m\u001b[0;34m\u001b[0m\u001b[0m\n\u001b[1;32m    376\u001b[0m     \u001b[0;32mif\u001b[0m \u001b[0me\u001b[0m \u001b[0;32mis\u001b[0m \u001b[0;32mNone\u001b[0m\u001b[0;34m:\u001b[0m\u001b[0;34m\u001b[0m\u001b[0;34m\u001b[0m\u001b[0m\n\u001b[0;32m--> 377\u001b[0;31m         \u001b[0me\u001b[0m \u001b[0;34m=\u001b[0m \u001b[0meccentricity\u001b[0m\u001b[0;34m(\u001b[0m\u001b[0mG\u001b[0m\u001b[0;34m,\u001b[0m \u001b[0mweight\u001b[0m\u001b[0;34m=\u001b[0m\u001b[0mweight\u001b[0m\u001b[0;34m)\u001b[0m\u001b[0;34m\u001b[0m\u001b[0;34m\u001b[0m\u001b[0m\n\u001b[0m\u001b[1;32m    378\u001b[0m     \u001b[0;32mreturn\u001b[0m \u001b[0mmax\u001b[0m\u001b[0;34m(\u001b[0m\u001b[0me\u001b[0m\u001b[0;34m.\u001b[0m\u001b[0mvalues\u001b[0m\u001b[0;34m(\u001b[0m\u001b[0;34m)\u001b[0m\u001b[0;34m)\u001b[0m\u001b[0;34m\u001b[0m\u001b[0;34m\u001b[0m\u001b[0m\n\u001b[1;32m    379\u001b[0m \u001b[0;34m\u001b[0m\u001b[0m\n",
            "\u001b[0;32m/usr/local/lib/python3.9/dist-packages/networkx/algorithms/distance_measures.py\u001b[0m in \u001b[0;36meccentricity\u001b[0;34m(G, v, sp, weight)\u001b[0m\n\u001b[1;32m    315\u001b[0m             \u001b[0;32melse\u001b[0m\u001b[0;34m:\u001b[0m\u001b[0;34m\u001b[0m\u001b[0;34m\u001b[0m\u001b[0m\n\u001b[1;32m    316\u001b[0m                 \u001b[0mmsg\u001b[0m \u001b[0;34m=\u001b[0m \u001b[0;34m\"Found infinite path length because the graph is not\"\u001b[0m \u001b[0;34m\" connected\"\u001b[0m\u001b[0;34m\u001b[0m\u001b[0;34m\u001b[0m\u001b[0m\n\u001b[0;32m--> 317\u001b[0;31m             \u001b[0;32mraise\u001b[0m \u001b[0mnx\u001b[0m\u001b[0;34m.\u001b[0m\u001b[0mNetworkXError\u001b[0m\u001b[0;34m(\u001b[0m\u001b[0mmsg\u001b[0m\u001b[0;34m)\u001b[0m\u001b[0;34m\u001b[0m\u001b[0;34m\u001b[0m\u001b[0m\n\u001b[0m\u001b[1;32m    318\u001b[0m \u001b[0;34m\u001b[0m\u001b[0m\n\u001b[1;32m    319\u001b[0m         \u001b[0me\u001b[0m\u001b[0;34m[\u001b[0m\u001b[0mn\u001b[0m\u001b[0;34m]\u001b[0m \u001b[0;34m=\u001b[0m \u001b[0mmax\u001b[0m\u001b[0;34m(\u001b[0m\u001b[0mlength\u001b[0m\u001b[0;34m.\u001b[0m\u001b[0mvalues\u001b[0m\u001b[0;34m(\u001b[0m\u001b[0;34m)\u001b[0m\u001b[0;34m)\u001b[0m\u001b[0;34m\u001b[0m\u001b[0;34m\u001b[0m\u001b[0m\n",
            "\u001b[0;31mNetworkXError\u001b[0m: Found infinite path length because the digraph is not strongly connected"
          ]
        }
      ]
    },
    {
      "cell_type": "markdown",
      "metadata": {
        "id": "z-FW0L61G7d_"
      },
      "source": [
        "[For further help](https://stackoverflow.com/questions/33114746/why-does-networkx-say-my-directed-graph-is-disconnected-when-finding-diameter)"
      ]
    },
    {
      "cell_type": "markdown",
      "metadata": {
        "id": "ovf1zMTWG7d_"
      },
      "source": [
        "**<font color='red'>Your answer:</font>** The error message suggests that the `nx.diameter` function could not calculate the diameter of the directed and unweighted network `G_unweighted_directed` because it is not strongly connected. The diameter is defined as the maximum shortest path between any two nodes in a graph. If a graph is not strongly connected, meaning there is at least one node that cannot be reached from every other node, then it is impossible to compute the shortest path between some pairs of nodes, resulting in an infinite path length and thus, the `NetworkXError`."
      ]
    },
    {
      "cell_type": "markdown",
      "metadata": {
        "id": "pS2JJgJzG7eA"
      },
      "source": [
        "## 2.4. Average path length (1 point)"
      ]
    },
    {
      "cell_type": "markdown",
      "metadata": {
        "id": "0xgdAM-cAqge"
      },
      "source": [
        "**2.4.1. Calculate average path lenth for undirected and unweighted network (0.125 point);**"
      ]
    },
    {
      "cell_type": "code",
      "metadata": {
        "id": "WmxjVYeyG7eB",
        "colab": {
          "base_uri": "https://localhost:8080/"
        },
        "outputId": "c4102385-7401-43da-a49e-ff2dc65bd8af"
      },
      "source": [
        "avg_path_length = nx.average_shortest_path_length(G_unweighted_undirected)\n",
        "print(\"Average path length of G_unweighted_undirected:\", avg_path_length)"
      ],
      "execution_count": 22,
      "outputs": [
        {
          "output_type": "stream",
          "name": "stdout",
          "text": [
            "Average path length of G_unweighted_undirected: 1.601246105919003\n"
          ]
        }
      ]
    },
    {
      "cell_type": "markdown",
      "metadata": {
        "id": "_TU0iyvQG7eB"
      },
      "source": [
        "**<font color='red'>Your answer:</font>** ~1.6"
      ]
    },
    {
      "cell_type": "markdown",
      "metadata": {
        "id": "PHwTk56pArtX"
      },
      "source": [
        "**2.4.2. Calculate average path lenth for directed and unweighted network (0.125 point);**"
      ]
    },
    {
      "cell_type": "code",
      "metadata": {
        "id": "EcJyWQB0G7eB",
        "colab": {
          "base_uri": "https://localhost:8080/"
        },
        "outputId": "a4114b57-8d90-4b28-c8dd-108ea0c0d1c7"
      },
      "source": [
        "components = nx.strongly_connected_components(G_unweighted_directed)\n",
        "avg_path_lengths = []\n",
        "for c in components:\n",
        "    subgraph = G_unweighted_directed.subgraph(c)\n",
        "    if len(subgraph) > 1:\n",
        "        avg_path_lengths.append(nx.average_shortest_path_length(subgraph))\n",
        "\n",
        "avg_path_length = sum(avg_path_lengths) / len(avg_path_lengths)\n",
        "print(\"Average path length of G_unweighted_directed:\", avg_path_length)"
      ],
      "execution_count": 20,
      "outputs": [
        {
          "output_type": "stream",
          "name": "stdout",
          "text": [
            "Average path length of G_unweighted_directed: 1.3847117794486214\n"
          ]
        }
      ]
    },
    {
      "cell_type": "markdown",
      "metadata": {
        "id": "ejdDRrljG7eB"
      },
      "source": [
        "**<font color='red'>Your answer:</font>** ~1.39"
      ]
    },
    {
      "cell_type": "markdown",
      "source": [
        "**2.4.3 Compare the results you received for unweighted networks. Which network has a higher average path length? Why? (0.25 point);**"
      ],
      "metadata": {
        "id": "t0NZHaHya5ao"
      }
    },
    {
      "cell_type": "markdown",
      "source": [
        "**<font color='red'>Your answer:</font>**"
      ],
      "metadata": {
        "id": "E4VnRvEqboVa"
      }
    },
    {
      "cell_type": "markdown",
      "metadata": {
        "id": "5gM3Jw47As-K"
      },
      "source": [
        "**2.4.4. Calculate average path lenth for undirected and weighted network (0.125 point);**"
      ]
    },
    {
      "cell_type": "code",
      "metadata": {
        "id": "ChLI93bHG7eB",
        "colab": {
          "base_uri": "https://localhost:8080/"
        },
        "outputId": "ae9b720d-f1d3-4585-8b11-a90d386ae2b5"
      },
      "source": [
        "avg_path_length = nx.average_shortest_path_length(G_weighted_undirected)\n",
        "print(\"Average path length of G_weighted_undirected:\", avg_path_length)"
      ],
      "execution_count": 23,
      "outputs": [
        {
          "output_type": "stream",
          "name": "stdout",
          "text": [
            "Average path length of G_weighted_undirected: 1.601246105919003\n"
          ]
        }
      ]
    },
    {
      "cell_type": "markdown",
      "metadata": {
        "id": "ai07FzJ-G7eC"
      },
      "source": [
        "**<font color='red'>Your answer:</font>** ~1.6"
      ]
    },
    {
      "cell_type": "markdown",
      "metadata": {
        "id": "MTHIRzHyAuCo"
      },
      "source": [
        "**2.4.5. Calculate average path lenth for directed and weighted network (0.125 point);**"
      ]
    },
    {
      "cell_type": "code",
      "metadata": {
        "id": "i2Af8JVbG7eC",
        "colab": {
          "base_uri": "https://localhost:8080/"
        },
        "outputId": "4bb10cbb-c87b-4a93-90df-cb6e5d33a518"
      },
      "source": [
        "components = nx.strongly_connected_components(G_weighted_directed)\n",
        "avg_path_lengths = []\n",
        "for c in components:\n",
        "    subgraph = G_weighted_directed.subgraph(c)\n",
        "    if len(subgraph) > 1:\n",
        "        avg_path_lengths.append(nx.average_shortest_path_length(subgraph))\n",
        "\n",
        "avg_path_length = sum(avg_path_lengths) / len(avg_path_lengths)\n",
        "print(\"Average path length of G_weighted_directed:\", avg_path_length)"
      ],
      "execution_count": 24,
      "outputs": [
        {
          "output_type": "stream",
          "name": "stdout",
          "text": [
            "Average path length of G_weighted_directed: 1.3847117794486214\n"
          ]
        }
      ]
    },
    {
      "cell_type": "markdown",
      "metadata": {
        "id": "mQPof8kUG7eC"
      },
      "source": [
        "**<font color='red'>Your answer:</font>** ~1.39"
      ]
    },
    {
      "cell_type": "markdown",
      "source": [
        "**2.4.6 Compare the results you received for weighted networks with unweighted networks. Which network type (unweighted vs weighted)  has a higher average path length? Why? (0.25 point);**"
      ],
      "metadata": {
        "id": "d_s91EdEbyNT"
      }
    },
    {
      "cell_type": "markdown",
      "source": [
        "**<font color='red'>Your answer:</font>**"
      ],
      "metadata": {
        "id": "ss7csnuEb_dt"
      }
    },
    {
      "cell_type": "markdown",
      "metadata": {
        "id": "HCXHAiTEG7eC"
      },
      "source": [
        "# 3. Network centrality measures (2 points)"
      ]
    },
    {
      "cell_type": "markdown",
      "metadata": {
        "id": "r5mxP_jOG7eC"
      },
      "source": [
        "## 3.1. Degree centrality (0.5 points)."
      ]
    },
    {
      "cell_type": "markdown",
      "metadata": {
        "id": "0U4pMfPsAw0Z"
      },
      "source": [
        "**3.1.1. Find the top 4 countries based on degree centrality for undirected and unweighted network (0.25 point).**"
      ]
    },
    {
      "cell_type": "code",
      "metadata": {
        "id": "a89y1Pb8G7eC"
      },
      "source": [
        "'''\n",
        "Hint: In case our network is created using edgelist, we need to map it with the actual country name provided in the \"nodes\" dataframe.\n",
        "'''\n",
        "#TODO"
      ],
      "execution_count": null,
      "outputs": []
    },
    {
      "cell_type": "markdown",
      "metadata": {
        "id": "xUx8DywXG7eD"
      },
      "source": [
        "**<font color='red'>Your answer:</font>**"
      ]
    },
    {
      "cell_type": "markdown",
      "metadata": {
        "id": "iM7ND8hOAyIP"
      },
      "source": [
        "**3.1.2. Find the top 4 countries based on degree centrality for directed and unweighted network (0.25 point).**"
      ]
    },
    {
      "cell_type": "code",
      "metadata": {
        "id": "z6eh4YknG7eD"
      },
      "source": [
        "#TODO"
      ],
      "execution_count": null,
      "outputs": []
    },
    {
      "cell_type": "markdown",
      "metadata": {
        "id": "Z3RZ6duCG7eD"
      },
      "source": [
        "**<font color='red'>Your answer:</font>**"
      ]
    },
    {
      "cell_type": "markdown",
      "metadata": {
        "id": "99F1UMv5G7eD"
      },
      "source": [
        "## 3.2. Closeness centrality (0.5 points)."
      ]
    },
    {
      "cell_type": "markdown",
      "metadata": {
        "id": "-MlgjqS4AzRH"
      },
      "source": [
        "**3.2.1. Find the top 4 countries based on closeness centrality for undirected and weighted network (0.25 point)**"
      ]
    },
    {
      "cell_type": "code",
      "metadata": {
        "id": "F0-UXeymG7eD"
      },
      "source": [
        "'''\n",
        "Hint: Create 'distance' using 'weight' feature. Refer lab 04 for detail.\n",
        "'''\n",
        "#TODO"
      ],
      "execution_count": null,
      "outputs": []
    },
    {
      "cell_type": "markdown",
      "metadata": {
        "id": "ShPmYN8cG7eD"
      },
      "source": [
        "**<font color='red'>Your answer:</font>**"
      ]
    },
    {
      "cell_type": "markdown",
      "metadata": {
        "id": "vo-_uKxTA0av"
      },
      "source": [
        "**3.2.2. Find the top 4 countries based on closeness centrality for directed and weighted network (0.25 point)**"
      ]
    },
    {
      "cell_type": "code",
      "metadata": {
        "id": "_IX1WKFyG7eE"
      },
      "source": [
        "'''\n",
        "Hint: Create 'distance' using 'weight' feature. Refer lab 04 for detail.\n",
        "'''\n",
        "#TODO"
      ],
      "execution_count": null,
      "outputs": []
    },
    {
      "cell_type": "markdown",
      "metadata": {
        "id": "pS1DgOepG7eE"
      },
      "source": [
        "**<font color='red'>Your answer:</font>**"
      ]
    },
    {
      "cell_type": "markdown",
      "metadata": {
        "id": "zIZAOnqPG7eE"
      },
      "source": [
        "## 3.3. Betweenness centrality (0.5 points)."
      ]
    },
    {
      "cell_type": "markdown",
      "metadata": {
        "id": "v9bIAGLYA1e9"
      },
      "source": [
        "**3.3.1. Find the top 4 countries based on Betweenness centrality for undirected and unweighted network (0.25 point)**"
      ]
    },
    {
      "cell_type": "code",
      "metadata": {
        "id": "3HzWoCBTG7eE"
      },
      "source": [
        "#TODO"
      ],
      "execution_count": null,
      "outputs": []
    },
    {
      "cell_type": "markdown",
      "metadata": {
        "id": "CO9cIfqJG7eE"
      },
      "source": [
        "**<font color='red'>Your answer:</font>**"
      ]
    },
    {
      "cell_type": "markdown",
      "metadata": {
        "id": "ENYGaXRcA2rx"
      },
      "source": [
        "**3.3.2. Plotted the undirected and unweighted network by highlighting the most important nodes (according to betweenness centrality) \n",
        "using different size and/or color (0.25 point)**"
      ]
    },
    {
      "cell_type": "code",
      "metadata": {
        "id": "fHKE05esG7eE"
      },
      "source": [
        "#TODO"
      ],
      "execution_count": null,
      "outputs": []
    },
    {
      "cell_type": "markdown",
      "metadata": {
        "id": "81Pp91eYG7eF"
      },
      "source": [
        "## 3.4. Eigenvector centrality (0.5 points)."
      ]
    },
    {
      "cell_type": "markdown",
      "metadata": {
        "id": "dJiP-Of-A32g"
      },
      "source": [
        "**3.4.1. Find the top 4 countries based on Eigenvector centrality for undirected and unweighted network (0.25 point).**"
      ]
    },
    {
      "cell_type": "code",
      "metadata": {
        "id": "EanhA_erG7eF"
      },
      "source": [
        "#TODO"
      ],
      "execution_count": null,
      "outputs": []
    },
    {
      "cell_type": "markdown",
      "metadata": {
        "id": "h0MtKvs2G7eF"
      },
      "source": [
        "**<font color='red'>Your answer:</font>**"
      ]
    },
    {
      "cell_type": "markdown",
      "metadata": {
        "id": "-ApRsCNiA4-a"
      },
      "source": [
        "**3.4.2. Find the top 4 countries based on Eigenvector centrality for directed and weighted network (0.225 point).**"
      ]
    },
    {
      "cell_type": "code",
      "metadata": {
        "id": "oKbjBAtYG7eF"
      },
      "source": [
        "#TODO"
      ],
      "execution_count": null,
      "outputs": []
    },
    {
      "cell_type": "markdown",
      "metadata": {
        "id": "xyLCKQyAG7eF"
      },
      "source": [
        "**<font color='red'>Your answer:</font>**"
      ]
    },
    {
      "cell_type": "markdown",
      "metadata": {
        "id": "ZAIv0tT2G7eF"
      },
      "source": [
        "# 4. Community detection (2 points)"
      ]
    },
    {
      "cell_type": "markdown",
      "metadata": {
        "id": "Q82L3saiG7eG"
      },
      "source": [
        "## 4.1. Girvan–Newman (Edge betweenness) (0.5 points)"
      ]
    },
    {
      "cell_type": "markdown",
      "metadata": {
        "id": "dyPj_Dj0A8Ff"
      },
      "source": [
        "**4.1.1. Report the optimal number of communities you find using Girvan–Newman algorithm for undirected and unweighted network (0.25 point)**"
      ]
    },
    {
      "cell_type": "code",
      "metadata": {
        "id": "zhq2wdEwG7eG"
      },
      "source": [
        "#TODO"
      ],
      "execution_count": null,
      "outputs": []
    },
    {
      "cell_type": "markdown",
      "metadata": {
        "id": "OqMUzUZmG7eG"
      },
      "source": [
        "**<font color='red'>Your answer:</font>** "
      ]
    },
    {
      "cell_type": "markdown",
      "metadata": {
        "id": "0onpxvVkA9Q-"
      },
      "source": [
        "**4.1.2. Plotted the undirected and unweighted network by highlighting the nodes in various communities (according to the optimal number of communities based on Girvan–Newman algorithm) using different color (0.25 point).**"
      ]
    },
    {
      "cell_type": "code",
      "metadata": {
        "id": "y9GxH4GsG7eG"
      },
      "source": [
        "#TODO"
      ],
      "execution_count": null,
      "outputs": []
    },
    {
      "cell_type": "markdown",
      "metadata": {
        "id": "R8VzevcbG7eH"
      },
      "source": [
        "## 4.2. Louvian (0.5 points)"
      ]
    },
    {
      "cell_type": "markdown",
      "metadata": {
        "id": "PpSuUNLmA-pR"
      },
      "source": [
        "**4.2.1. Report the number of communities you find using Louvian algorithm for undirected and unweighted network (0.25 point)**"
      ]
    },
    {
      "cell_type": "code",
      "metadata": {
        "id": "ZMkZVhNJG7eH"
      },
      "source": [
        "#TODO"
      ],
      "execution_count": null,
      "outputs": []
    },
    {
      "cell_type": "markdown",
      "metadata": {
        "id": "rkHYonlLG7eH"
      },
      "source": [
        "**<font color='red'>Your answer:</font>**"
      ]
    },
    {
      "cell_type": "markdown",
      "metadata": {
        "id": "8v3M80ZBA_pU"
      },
      "source": [
        "**4.2.2. Plotted the undirected and unweighted network by highlighting the nodes in various communities (according to Louvian algorithm) using different color (0.25 point).**"
      ]
    },
    {
      "cell_type": "code",
      "metadata": {
        "id": "G8Mvq0iLG7eH"
      },
      "source": [
        "#TODO"
      ],
      "execution_count": null,
      "outputs": []
    },
    {
      "cell_type": "markdown",
      "metadata": {
        "id": "ZT9OLPNpG7eH"
      },
      "source": [
        "## 4.3. Walk Trap (0.5 points)"
      ]
    },
    {
      "cell_type": "markdown",
      "metadata": {
        "id": "WJFnhUMEBAha"
      },
      "source": [
        "**4.3.1. Report the number of communities you find using Walk Trap algorithm (with step size = 4) for undirected and unweighted network (0.25 point)**"
      ]
    },
    {
      "cell_type": "code",
      "metadata": {
        "id": "RB21PcoIG7eH"
      },
      "source": [
        "#TODO"
      ],
      "execution_count": null,
      "outputs": []
    },
    {
      "cell_type": "markdown",
      "metadata": {
        "id": "O9tM0-7FG7eI"
      },
      "source": [
        "**<font color='red'>Your answer:</font>**"
      ]
    },
    {
      "cell_type": "markdown",
      "metadata": {
        "id": "_-CUM4XfBBaJ"
      },
      "source": [
        "**4.3.2. Plotted the undirected and unweighted network by highlighting the nodes in various communities (according to Walk Trap algorithm with step size = 4) using different color (0.25 point).**"
      ]
    },
    {
      "cell_type": "code",
      "metadata": {
        "id": "zMPA4ox1G7eI"
      },
      "source": [
        "#TODO"
      ],
      "execution_count": null,
      "outputs": []
    },
    {
      "cell_type": "markdown",
      "metadata": {
        "id": "cRTvBWbCG7eI"
      },
      "source": [
        "## 4.4. Label propagation (0.5 points)"
      ]
    },
    {
      "cell_type": "markdown",
      "metadata": {
        "id": "M3G2TfxyBCYR"
      },
      "source": [
        "**4.4.1. Report the number of communities you find using Label propagation algorithm for undirected and unweighted network (0.25 point)**"
      ]
    },
    {
      "cell_type": "code",
      "metadata": {
        "id": "AOkJD6KEG7eI"
      },
      "source": [
        "#TODO"
      ],
      "execution_count": null,
      "outputs": []
    },
    {
      "cell_type": "markdown",
      "metadata": {
        "id": "GyMBXkpvG7eI"
      },
      "source": [
        "**<font color='red'>Your answer:</font>**"
      ]
    },
    {
      "cell_type": "markdown",
      "metadata": {
        "id": "Bcor1h-9BDpr"
      },
      "source": [
        "**4.4.2. Plotted the undirected and unweighted network by highlighting the nodes in various communities (according to Label propagation algorithm) using different color (0.25 point).**"
      ]
    },
    {
      "cell_type": "code",
      "metadata": {
        "id": "PwE6nX_TG7eJ"
      },
      "source": [
        "#TODO"
      ],
      "execution_count": null,
      "outputs": []
    },
    {
      "cell_type": "markdown",
      "metadata": {
        "id": "z98rpcfcG7eJ"
      },
      "source": [
        "# 5. Network Visualization Using Gephi (1.5 points)"
      ]
    },
    {
      "cell_type": "markdown",
      "metadata": {
        "id": "PdldGxPGbtbE"
      },
      "source": [
        "**5.1. Create graph using gephi. Adjust the node size based on degree centrality (for undirected network) and color them based on modularity value. Please import your network as png and attach to the notebook (0.5 point)**\n",
        "\n",
        "<font color='red'>Please note that you don't need to upload the png file. You can insert it and save the notebook and it will be available to us.</font>"
      ]
    },
    {
      "cell_type": "code",
      "metadata": {
        "id": "d4nsr-CAG7eJ"
      },
      "source": [
        "from IPython.display import Image\n",
        "Image(\"ImageName.png\")"
      ],
      "execution_count": null,
      "outputs": []
    },
    {
      "cell_type": "markdown",
      "metadata": {
        "id": "fZm86RJ2czxI"
      },
      "source": [
        "**5.2. Create graph using gephi. Adjust the node size based on PageRank centrality (for undirected network) and color them based on modularity value. Please import your network as png and attach to the notebook (0.5 point)**"
      ]
    },
    {
      "cell_type": "code",
      "metadata": {
        "id": "Yah-KygXG7eJ"
      },
      "source": [
        "#Image(\"ImageName.png\")"
      ],
      "execution_count": null,
      "outputs": []
    },
    {
      "cell_type": "markdown",
      "metadata": {
        "id": "nf58Y08Kc1TT"
      },
      "source": [
        "**5.3. Create graph using gephi. Adjust the node size based on eigenvector centality (for undirected network) and color them based on modularity value. Please import your network as png and attach to the notebook (0.5 point)**"
      ]
    },
    {
      "cell_type": "code",
      "metadata": {
        "id": "iqDZmN3lcxB2"
      },
      "source": [
        "#Image(\"ImageName.png\")"
      ],
      "execution_count": null,
      "outputs": []
    },
    {
      "cell_type": "markdown",
      "metadata": {
        "id": "9glEtATCGeQs"
      },
      "source": [
        "## How long did it take you to solve the homework?\n",
        "\n",
        "* Please answer as precisely as you can. It does not affect your points or grade in any way. It is okay, if it took 0.5 hours or 24 hours. The collected information will be used to improve future homeworks. Please change X into your estimate.\n",
        "\n",
        "<font color='red'> **Answer:**</font> X hours \n",
        "\n",
        "## What is the level of difficulty for this homework?\n",
        "Please put a number between $0:10$ ($0:$ easy, $10:$ difficult)\n",
        "\n",
        "<font color='red'> **Answer:**</font>"
      ]
    }
  ]
}