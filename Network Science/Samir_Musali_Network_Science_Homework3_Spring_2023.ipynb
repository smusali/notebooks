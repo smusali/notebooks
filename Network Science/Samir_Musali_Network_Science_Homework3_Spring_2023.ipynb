{
  "nbformat": 4,
  "nbformat_minor": 0,
  "metadata": {
    "colab": {
      "provenance": []
    },
    "kernelspec": {
      "display_name": "Python 3",
      "language": "python",
      "name": "python3"
    },
    "language_info": {
      "codemirror_mode": {
        "name": "ipython",
        "version": 3
      },
      "file_extension": ".py",
      "mimetype": "text/x-python",
      "name": "python",
      "nbconvert_exporter": "python",
      "pygments_lexer": "ipython3",
      "version": "3.8.5"
    }
  },
  "cells": [
    {
      "cell_type": "markdown",
      "metadata": {
        "id": "ja8G4NYcKHDe"
      },
      "source": [
        "\n",
        "<h1><center> <font color='black'>  Network Science (LTAT.02.011) - Homework - 03  (Total points - 15)</font></center></h1>\n",
        "<h2><center> <font color='black'> Introduction to Network Analysis</font></center></h3>\n",
        "<h2><center> <font color='black'> University of Tartu</font></center></h3>\n"
      ]
    },
    {
      "cell_type": "markdown",
      "metadata": {
        "id": "O4VsmZOHKHDl"
      },
      "source": [
        "================================================================================================================"
      ]
    },
    {
      "cell_type": "markdown",
      "metadata": {
        "id": "3C8eLb7GKHDl"
      },
      "source": [
        "# Homework instructions"
      ]
    },
    {
      "cell_type": "markdown",
      "metadata": {
        "id": "kMAGUR_aKHDm"
      },
      "source": [
        "\n",
        "- Please provide the names and student IDs of the team-members (Maximum 2 person) in the field \"Team mates\" below. If you are not working in a team please insert only your name and student ID. \n",
        "\n",
        "- ONLY one of the teammates should submit the homework. We will grade the homework and the marks and feedback is applied for both the team members. So please communicate with your team member about marks and feedback if you are submit the homework.\n",
        "\n",
        "\n",
        "- The accepted submission format is .ipynb file. Please upload the file on moodle.\n",
        "\n",
        "- The submission will automatically close on **<font color='red'>25 April 2023 at 23:59 pm</font>**, so please make sure you have enough time to submit the homework. \n",
        "\n",
        "- You do not necessarily need to work on Colab. Especially as the size and the complexity of datasets will increase through the course, you can install jupyter notebooks locally and work from there.\n",
        "\n",
        "- If you do not understand what a question is asking for, please ask in Moodle. \n",
        "\n",
        "- Please Click on \"**Restart and Run All**\" before uploading the '.ipynb' file.\n",
        "\n",
        "- Plagiarism is <font color='red'>**PROHIBITED**</font>. Any form of plagiarism will be dealt according to the university policy (https://www.ut.ee/en/current-students/academic-fraud).\n",
        "\n",
        "- **Note: The tasks which involves writing your thoughts should not contain more than 3-4 sentences. It should be clear and concise.**\n"
      ]
    },
    {
      "cell_type": "markdown",
      "metadata": {
        "id": "oc1zmBfnKHDm"
      },
      "source": [
        "**<h2><font color='red'>Student info:</font></h2>**\n",
        "\n",
        "\n",
        "<font color='red'>Full name: </font>  Samir Musali\n",
        "\n",
        "<font color='red'>Student ID: </font> C29810"
      ]
    },
    {
      "cell_type": "markdown",
      "metadata": {
        "id": "HyJ-LwyyKHDn"
      },
      "source": [
        "================================================================================================================"
      ]
    },
    {
      "cell_type": "markdown",
      "metadata": {
        "id": "i4ZugzV1KHDn"
      },
      "source": [
        "# 1. Node Classification using Graph Convolutional Network (10 points)\n",
        "Documentation for reference - https://stellargraph.readthedocs.io/en/stable/demos/link-prediction/gcn-link-prediction.html "
      ]
    },
    {
      "cell_type": "markdown",
      "source": [
        "# Preprocessing"
      ],
      "metadata": {
        "id": "BBKeJUFMb1xb"
      }
    },
    {
      "cell_type": "code",
      "source": [
        "# cloning the repository\n",
        "! git clone https://github.com/stellargraph/stellargraph.git\n",
        "\n",
        " # just for validation that the repository has been cloned\n",
        "%cd stellargraph \n",
        "! dir\n",
        "\n",
        "! pip install -r requirements.txt #this command will install all the required dependencies. This will take a while to run and if you encounter \"subprocess-exited-with-error\" do not worry, just go ahead.\n",
        "\n",
        "# stellargraph was built in 3.6 so we are downgrading the python version to 3.6\n",
        "# first install python 3.6\n",
        "!sudo apt-get update -y\n",
        "!sudo apt-get install python3.6\n",
        "# change alternatives\n",
        "!sudo update-alternatives --install /usr/bin/python3 python3 /usr/bin/python3.6 1\n",
        "# select python version\n",
        "!sudo update-alternatives --config python3\n",
        "# check python version\n",
        "!python --version\n",
        "# install pip for new python \n",
        "!sudo apt-get install python3.6-distutils\n",
        "!wget https://bootstrap.pypa.io/get-pip.py\n",
        "!python get-pip.py\n",
        "# upgrade pip\n",
        "!sudo apt install python3-pip\n",
        "!python -m pip install --upgrade pip\n",
        "\n",
        "! dir # see the directories and files present,  directory named stellargraph should be here.\n",
        "\n",
        "! pip install stellargraph # installing the stellargraph library\n",
        "\n"
      ],
      "metadata": {
        "id": "OJZsC1RXbpzE",
        "colab": {
          "base_uri": "https://localhost:8080/",
          "height": 1000
        },
        "outputId": "d29a0e90-7f0c-467a-ec90-481310457fc2"
      },
      "execution_count": 3,
      "outputs": [
        {
          "output_type": "stream",
          "name": "stdout",
          "text": [
            "fatal: destination path 'stellargraph' already exists and is not an empty directory.\n",
            "/content/stellargraph/stellargraph\n",
            "calibration.py\tdatasets      interpretability\t__pycache__\n",
            "connector\tensemble.py   layer\t\trandom.py\n",
            "core\t\tglobalvar.py  losses.py\t\tutils\n",
            "data\t\t__init__.py   mapper\t\tversion.py\n",
            "\u001b[31mERROR: Could not open requirements file: [Errno 2] No such file or directory: 'requirements.txt'\u001b[0m\u001b[31m\n",
            "Hit:1 https://cloud.r-project.org/bin/linux/ubuntu focal-cran40/ InRelease\n",
            "Hit:2 https://developer.download.nvidia.com/compute/cuda/repos/ubuntu2004/x86_64  InRelease\n",
            "Hit:3 http://security.ubuntu.com/ubuntu focal-security InRelease\n",
            "Hit:4 http://ppa.launchpad.net/c2d4u.team/c2d4u4.0+/ubuntu focal InRelease\n",
            "Hit:5 http://archive.ubuntu.com/ubuntu focal InRelease\n",
            "Hit:6 http://archive.ubuntu.com/ubuntu focal-updates InRelease\n",
            "Hit:7 http://ppa.launchpad.net/cran/libgit2/ubuntu focal InRelease\n",
            "Hit:8 http://archive.ubuntu.com/ubuntu focal-backports InRelease\n",
            "Hit:9 http://ppa.launchpad.net/deadsnakes/ppa/ubuntu focal InRelease\n",
            "Hit:10 http://ppa.launchpad.net/graphics-drivers/ppa/ubuntu focal InRelease\n",
            "Hit:11 http://ppa.launchpad.net/ubuntugis/ppa/ubuntu focal InRelease\n",
            "Reading package lists... Done\n",
            "Reading package lists... Done\n",
            "Building dependency tree       \n",
            "Reading state information... Done\n",
            "python3.6 is already the newest version (3.6.15-1+focal3).\n",
            "0 upgraded, 0 newly installed, 0 to remove and 26 not upgraded.\n",
            "There are 3 choices for the alternative python3 (providing /usr/bin/python3).\n",
            "\n",
            "  Selection    Path                Priority   Status\n",
            "------------------------------------------------------------\n",
            "* 0            /usr/bin/python3.9   2         auto mode\n",
            "  1            /usr/bin/python3.6   1         manual mode\n",
            "  2            /usr/bin/python3.8   1         manual mode\n",
            "  3            /usr/bin/python3.9   2         manual mode\n",
            "\n",
            "Press <enter> to keep the current choice[*], or type selection number: 2\n",
            "update-alternatives: using /usr/bin/python3.8 to provide /usr/bin/python3 (python3) in manual mode\n",
            "Python 3.8.10\n",
            "Reading package lists... Done\n",
            "Building dependency tree       \n",
            "Reading state information... Done\n",
            "python3.6-distutils is already the newest version (3.6.15-1+focal3).\n",
            "0 upgraded, 0 newly installed, 0 to remove and 26 not upgraded.\n",
            "--2023-04-22 10:42:42--  https://bootstrap.pypa.io/get-pip.py\n",
            "Resolving bootstrap.pypa.io (bootstrap.pypa.io)... 151.101.0.175, 151.101.64.175, 151.101.128.175, ...\n",
            "Connecting to bootstrap.pypa.io (bootstrap.pypa.io)|151.101.0.175|:443... connected.\n",
            "HTTP request sent, awaiting response... 200 OK\n",
            "Length: 2578194 (2.5M) [text/x-python]\n",
            "Saving to: ‘get-pip.py’\n",
            "\n",
            "get-pip.py          100%[===================>]   2.46M  --.-KB/s    in 0.07s   \n",
            "\n",
            "2023-04-22 10:42:43 (33.8 MB/s) - ‘get-pip.py’ saved [2578194/2578194]\n",
            "\n",
            "Traceback (most recent call last):\n",
            "  File \"get-pip.py\", line 40, in <module>\n",
            "    import tempfile\n",
            "  File \"/usr/lib/python3.8/tempfile.py\", line 184, in <module>\n",
            "    from random import Random as _Random\n",
            "  File \"/content/stellargraph/stellargraph/random.py\", line 25, in <module>\n",
            "    import numpy.random as np_rn\n",
            "ModuleNotFoundError: No module named 'numpy'\n",
            "Reading package lists... Done\n",
            "Building dependency tree       \n",
            "Reading state information... Done\n",
            "python3-pip is already the newest version (20.0.2-5ubuntu1.8).\n",
            "0 upgraded, 0 newly installed, 0 to remove and 26 not upgraded.\n",
            "Traceback (most recent call last):\n",
            "  File \"/usr/lib/python3.8/runpy.py\", line 194, in _run_module_as_main\n",
            "    return _run_code(code, main_globals, None,\n",
            "  File \"/usr/lib/python3.8/runpy.py\", line 87, in _run_code\n",
            "    exec(code, run_globals)\n",
            "  File \"/usr/lib/python3/dist-packages/pip/__main__.py\", line 16, in <module>\n",
            "    from pip._internal.cli.main import main as _main  # isort:skip # noqa\n",
            "  File \"/usr/lib/python3/dist-packages/pip/_internal/cli/main.py\", line 10, in <module>\n",
            "    from pip._internal.cli.autocompletion import autocomplete\n",
            "  File \"/usr/lib/python3/dist-packages/pip/_internal/cli/autocompletion.py\", line 9, in <module>\n",
            "    from pip._internal.cli.main_parser import create_main_parser\n",
            "  File \"/usr/lib/python3/dist-packages/pip/_internal/cli/main_parser.py\", line 7, in <module>\n",
            "    from pip._internal.cli import cmdoptions\n",
            "  File \"/usr/lib/python3/dist-packages/pip/_internal/cli/cmdoptions.py\", line 28, in <module>\n",
            "    from pip._internal.models.target_python import TargetPython\n",
            "  File \"/usr/lib/python3/dist-packages/pip/_internal/models/target_python.py\", line 4, in <module>\n",
            "    from pip._internal.utils.misc import normalize_version_info\n",
            "  File \"/usr/lib/python3/dist-packages/pip/_internal/utils/misc.py\", line 20, in <module>\n",
            "    from pip._vendor import pkg_resources\n",
            "ImportError: cannot import name 'pkg_resources' from 'pip._vendor' (/usr/lib/python3/dist-packages/pip/_vendor/__init__.py)\n",
            "calibration.py\tdatasets      __init__.py\tmapper\t     version.py\n",
            "connector\tensemble.py   interpretability\t__pycache__\n",
            "core\t\tget-pip.py    layer\t\trandom.py\n",
            "data\t\tglobalvar.py  losses.py\t\tutils\n",
            "Looking in indexes: https://pypi.org/simple, https://us-python.pkg.dev/colab-wheels/public/simple/\n",
            "Collecting stellargraph\n",
            "  Downloading stellargraph-1.2.1-py3-none-any.whl (435 kB)\n",
            "\u001b[K     |████████████████████████████████| 435 kB 4.7 MB/s \n",
            "\u001b[?25hCollecting pandas>=0.24\n",
            "  Downloading pandas-2.0.0-cp38-cp38-manylinux_2_17_x86_64.manylinux2014_x86_64.whl (12.3 MB)\n",
            "\u001b[K     |████████████████████████████████| 12.3 MB 32.4 MB/s \n",
            "\u001b[?25hCollecting scikit-learn>=0.20\n",
            "  Downloading scikit_learn-1.2.2-cp38-cp38-manylinux_2_17_x86_64.manylinux2014_x86_64.whl (9.8 MB)\n",
            "\u001b[K     |████████████████████████████████| 9.8 MB 55.6 MB/s \n",
            "\u001b[?25hCollecting matplotlib>=2.2\n",
            "  Downloading matplotlib-3.7.1-cp38-cp38-manylinux_2_12_x86_64.manylinux2010_x86_64.whl (9.2 MB)\n",
            "\u001b[K     |████████████████████████████████| 9.2 MB 32.6 MB/s \n",
            "\u001b[?25hCollecting numpy>=1.14\n",
            "  Downloading numpy-1.24.2-cp38-cp38-manylinux_2_17_x86_64.manylinux2014_x86_64.whl (17.3 MB)\n",
            "\u001b[K     |████████████████████████████████| 17.3 MB 68.6 MB/s \n",
            "\u001b[?25hCollecting networkx>=2.2\n",
            "  Downloading networkx-3.1-py3-none-any.whl (2.1 MB)\n",
            "\u001b[K     |████████████████████████████████| 2.1 MB 58.7 MB/s \n",
            "\u001b[?25hCollecting scipy>=1.1.0\n",
            "  Downloading scipy-1.10.1-cp38-cp38-manylinux_2_17_x86_64.manylinux2014_x86_64.whl (34.5 MB)\n",
            "\u001b[K     |████████████████████████████████| 34.5 MB 24 kB/s \n",
            "\u001b[?25hCollecting gensim>=3.4.0\n",
            "  Downloading gensim-4.3.1-cp38-cp38-manylinux_2_17_x86_64.manylinux2014_x86_64.whl (26.5 MB)\n",
            "\u001b[K     |████████████████████████████████| 26.5 MB 1.2 MB/s \n",
            "\u001b[?25hCollecting tensorflow>=2.1.0\n",
            "  Downloading tensorflow-2.12.0-cp38-cp38-manylinux_2_17_x86_64.manylinux2014_x86_64.whl (585.9 MB)\n",
            "\u001b[K     |████████████████████████████████| 585.9 MB 3.8 kB/s \n",
            "\u001b[?25hCollecting pytz>=2020.1\n",
            "  Downloading pytz-2023.3-py2.py3-none-any.whl (502 kB)\n",
            "\u001b[K     |████████████████████████████████| 502 kB 63.6 MB/s \n",
            "\u001b[?25hCollecting tzdata>=2022.1\n",
            "  Downloading tzdata-2023.3-py2.py3-none-any.whl (341 kB)\n",
            "\u001b[K     |████████████████████████████████| 341 kB 41.7 MB/s \n",
            "\u001b[?25hCollecting python-dateutil>=2.8.2\n",
            "  Downloading python_dateutil-2.8.2-py2.py3-none-any.whl (247 kB)\n",
            "\u001b[K     |████████████████████████████████| 247 kB 65.5 MB/s \n",
            "\u001b[?25hCollecting threadpoolctl>=2.0.0\n",
            "  Downloading threadpoolctl-3.1.0-py3-none-any.whl (14 kB)\n",
            "Collecting joblib>=1.1.1\n",
            "  Downloading joblib-1.2.0-py3-none-any.whl (297 kB)\n",
            "\u001b[K     |████████████████████████████████| 297 kB 51.5 MB/s \n",
            "\u001b[?25hCollecting fonttools>=4.22.0\n",
            "  Downloading fonttools-4.39.3-py3-none-any.whl (1.0 MB)\n",
            "\u001b[K     |████████████████████████████████| 1.0 MB 48.0 MB/s \n",
            "\u001b[?25hCollecting importlib-resources>=3.2.0; python_version < \"3.10\"\n",
            "  Downloading importlib_resources-5.12.0-py3-none-any.whl (36 kB)\n",
            "Collecting kiwisolver>=1.0.1\n",
            "  Downloading kiwisolver-1.4.4-cp38-cp38-manylinux_2_5_x86_64.manylinux1_x86_64.whl (1.2 MB)\n",
            "\u001b[K     |████████████████████████████████| 1.2 MB 48.3 MB/s \n",
            "\u001b[?25hCollecting pillow>=6.2.0\n",
            "  Downloading Pillow-9.5.0-cp38-cp38-manylinux_2_17_x86_64.manylinux2014_x86_64.whl (3.3 MB)\n",
            "\u001b[K     |████████████████████████████████| 3.3 MB 51.0 MB/s \n",
            "\u001b[?25hCollecting cycler>=0.10\n",
            "  Downloading cycler-0.11.0-py3-none-any.whl (6.4 kB)\n",
            "Collecting pyparsing>=2.3.1\n",
            "  Downloading pyparsing-3.0.9-py3-none-any.whl (98 kB)\n",
            "\u001b[K     |████████████████████████████████| 98 kB 5.9 MB/s \n",
            "\u001b[?25hCollecting contourpy>=1.0.1\n",
            "  Downloading contourpy-1.0.7-cp38-cp38-manylinux_2_17_x86_64.manylinux2014_x86_64.whl (300 kB)\n",
            "\u001b[K     |████████████████████████████████| 300 kB 52.4 MB/s \n",
            "\u001b[?25hCollecting packaging>=20.0\n",
            "  Downloading packaging-23.1-py3-none-any.whl (48 kB)\n",
            "\u001b[K     |████████████████████████████████| 48 kB 5.1 MB/s \n",
            "\u001b[?25hCollecting smart-open>=1.8.1\n",
            "  Downloading smart_open-6.3.0-py3-none-any.whl (56 kB)\n",
            "\u001b[K     |████████████████████████████████| 56 kB 4.3 MB/s \n",
            "\u001b[?25hCollecting six>=1.12.0\n",
            "  Downloading six-1.16.0-py2.py3-none-any.whl (11 kB)\n",
            "Collecting libclang>=13.0.0\n",
            "  Downloading libclang-16.0.0-py2.py3-none-manylinux2010_x86_64.whl (22.9 MB)\n",
            "\u001b[K     |████████████████████████████████| 22.9 MB 1.3 MB/s \n",
            "\u001b[?25hCollecting jax>=0.3.15\n",
            "  Downloading jax-0.4.8.tar.gz (1.2 MB)\n",
            "\u001b[K     |████████████████████████████████| 1.2 MB 50.7 MB/s \n",
            "\u001b[?25h  Installing build dependencies ... \u001b[?25l\u001b[?25hdone\n",
            "  Getting requirements to build wheel ... \u001b[?25l\u001b[?25hdone\n",
            "    Preparing wheel metadata ... \u001b[?25l\u001b[?25hdone\n",
            "Collecting flatbuffers>=2.0\n",
            "  Downloading flatbuffers-23.3.3-py2.py3-none-any.whl (26 kB)\n",
            "Collecting wrapt<1.15,>=1.11.0\n",
            "  Downloading wrapt-1.14.1-cp38-cp38-manylinux_2_5_x86_64.manylinux1_x86_64.manylinux_2_17_x86_64.manylinux2014_x86_64.whl (81 kB)\n",
            "\u001b[K     |████████████████████████████████| 81 kB 928 kB/s \n",
            "\u001b[?25hCollecting gast<=0.4.0,>=0.2.1\n",
            "  Downloading gast-0.4.0-py3-none-any.whl (9.8 kB)\n",
            "Collecting google-pasta>=0.1.1\n",
            "  Downloading google_pasta-0.2.0-py3-none-any.whl (57 kB)\n",
            "\u001b[K     |████████████████████████████████| 57 kB 4.9 MB/s \n",
            "\u001b[?25hCollecting tensorflow-estimator<2.13,>=2.12.0\n",
            "  Downloading tensorflow_estimator-2.12.0-py2.py3-none-any.whl (440 kB)\n",
            "\u001b[K     |████████████████████████████████| 440 kB 40.3 MB/s \n",
            "\u001b[?25hCollecting absl-py>=1.0.0\n",
            "  Downloading absl_py-1.4.0-py3-none-any.whl (126 kB)\n",
            "\u001b[K     |████████████████████████████████| 126 kB 51.5 MB/s \n",
            "\u001b[?25hCollecting keras<2.13,>=2.12.0\n",
            "  Downloading keras-2.12.0-py2.py3-none-any.whl (1.7 MB)\n",
            "\u001b[K     |████████████████████████████████| 1.7 MB 59.6 MB/s \n",
            "\u001b[?25hCollecting tensorflow-io-gcs-filesystem>=0.23.1; platform_machine != \"arm64\" or platform_system != \"Darwin\"\n",
            "  Downloading tensorflow_io_gcs_filesystem-0.32.0-cp38-cp38-manylinux_2_12_x86_64.manylinux2010_x86_64.whl (2.4 MB)\n",
            "\u001b[K     |████████████████████████████████| 2.4 MB 57.1 MB/s \n",
            "\u001b[?25hCollecting grpcio<2.0,>=1.24.3\n",
            "  Downloading grpcio-1.54.0-cp38-cp38-manylinux_2_17_x86_64.manylinux2014_x86_64.whl (5.1 MB)\n",
            "\u001b[K     |████████████████████████████████| 5.1 MB 61.1 MB/s \n",
            "\u001b[?25hCollecting protobuf!=4.21.0,!=4.21.1,!=4.21.2,!=4.21.3,!=4.21.4,!=4.21.5,<5.0.0dev,>=3.20.3\n",
            "  Downloading protobuf-4.22.3-cp37-abi3-manylinux2014_x86_64.whl (302 kB)\n",
            "\u001b[K     |████████████████████████████████| 302 kB 46.2 MB/s \n",
            "\u001b[?25hCollecting termcolor>=1.1.0\n",
            "  Downloading termcolor-2.2.0-py3-none-any.whl (6.6 kB)\n",
            "Collecting opt-einsum>=2.3.2\n",
            "  Downloading opt_einsum-3.3.0-py3-none-any.whl (65 kB)\n",
            "\u001b[K     |████████████████████████████████| 65 kB 3.5 MB/s \n",
            "\u001b[?25hCollecting tensorboard<2.13,>=2.12\n",
            "  Downloading tensorboard-2.12.2-py3-none-any.whl (5.6 MB)\n",
            "\u001b[K     |████████████████████████████████| 5.6 MB 48.3 MB/s \n",
            "\u001b[?25hCollecting typing-extensions>=3.6.6\n",
            "  Downloading typing_extensions-4.5.0-py3-none-any.whl (27 kB)\n",
            "Collecting astunparse>=1.6.0\n",
            "  Downloading astunparse-1.6.3-py2.py3-none-any.whl (12 kB)\n",
            "Collecting h5py>=2.9.0\n",
            "  Downloading h5py-3.8.0-cp38-cp38-manylinux_2_17_x86_64.manylinux2014_x86_64.whl (4.7 MB)\n",
            "\u001b[K     |████████████████████████████████| 4.7 MB 39.4 MB/s \n",
            "\u001b[?25hRequirement already satisfied: setuptools in /usr/lib/python3/dist-packages (from tensorflow>=2.1.0->stellargraph) (45.2.0)\n",
            "Collecting zipp>=3.1.0; python_version < \"3.10\"\n",
            "  Downloading zipp-3.15.0-py3-none-any.whl (6.8 kB)\n",
            "Collecting ml-dtypes>=0.0.3\n",
            "  Downloading ml_dtypes-0.1.0-cp38-cp38-manylinux_2_17_x86_64.manylinux2014_x86_64.whl (190 kB)\n",
            "\u001b[K     |████████████████████████████████| 190 kB 43.2 MB/s \n",
            "\u001b[?25hCollecting tensorboard-data-server<0.8.0,>=0.7.0\n",
            "  Downloading tensorboard_data_server-0.7.0-py3-none-manylinux2014_x86_64.whl (6.6 MB)\n",
            "\u001b[K     |████████████████████████████████| 6.6 MB 34.3 MB/s \n",
            "\u001b[?25hCollecting google-auth<3,>=1.6.3\n",
            "  Downloading google_auth-2.17.3-py2.py3-none-any.whl (178 kB)\n",
            "\u001b[K     |████████████████████████████████| 178 kB 45.5 MB/s \n",
            "\u001b[?25hCollecting markdown>=2.6.8\n",
            "  Downloading Markdown-3.4.3-py3-none-any.whl (93 kB)\n",
            "\u001b[K     |████████████████████████████████| 93 kB 57 kB/s \n",
            "\u001b[?25hRequirement already satisfied: wheel>=0.26 in /usr/lib/python3/dist-packages (from tensorboard<2.13,>=2.12->tensorflow>=2.1.0->stellargraph) (0.34.2)\n",
            "Collecting google-auth-oauthlib<1.1,>=0.5\n",
            "  Downloading google_auth_oauthlib-1.0.0-py2.py3-none-any.whl (18 kB)\n",
            "Collecting requests<3,>=2.21.0\n",
            "  Downloading requests-2.28.2-py3-none-any.whl (62 kB)\n",
            "\u001b[K     |████████████████████████████████| 62 kB 968 kB/s \n",
            "\u001b[?25hCollecting tensorboard-plugin-wit>=1.6.0\n",
            "  Downloading tensorboard_plugin_wit-1.8.1-py3-none-any.whl (781 kB)\n",
            "\u001b[K     |████████████████████████████████| 781 kB 43.2 MB/s \n",
            "\u001b[?25hCollecting werkzeug>=1.0.1\n",
            "  Downloading Werkzeug-2.2.3-py3-none-any.whl (233 kB)\n",
            "\u001b[K     |████████████████████████████████| 233 kB 47.7 MB/s \n",
            "\u001b[?25hCollecting pyasn1-modules>=0.2.1\n",
            "  Downloading pyasn1_modules-0.3.0-py2.py3-none-any.whl (181 kB)\n",
            "\u001b[K     |████████████████████████████████| 181 kB 46.2 MB/s \n",
            "\u001b[?25hCollecting rsa<5,>=3.1.4; python_version >= \"3.6\"\n",
            "  Downloading rsa-4.9-py3-none-any.whl (34 kB)\n",
            "Collecting cachetools<6.0,>=2.0.0\n",
            "  Downloading cachetools-5.3.0-py3-none-any.whl (9.3 kB)\n",
            "Collecting importlib-metadata>=4.4; python_version < \"3.10\"\n",
            "  Downloading importlib_metadata-6.5.1-py3-none-any.whl (22 kB)\n",
            "Collecting requests-oauthlib>=0.7.0\n",
            "  Downloading requests_oauthlib-1.3.1-py2.py3-none-any.whl (23 kB)\n",
            "Collecting certifi>=2017.4.17\n",
            "  Downloading certifi-2022.12.7-py3-none-any.whl (155 kB)\n",
            "\u001b[K     |████████████████████████████████| 155 kB 33.9 MB/s \n",
            "\u001b[?25hCollecting idna<4,>=2.5\n",
            "  Downloading idna-3.4-py3-none-any.whl (61 kB)\n",
            "\u001b[K     |████████████████████████████████| 61 kB 69 kB/s \n",
            "\u001b[?25hCollecting urllib3<1.27,>=1.21.1\n",
            "  Downloading urllib3-1.26.15-py2.py3-none-any.whl (140 kB)\n",
            "\u001b[K     |████████████████████████████████| 140 kB 49.0 MB/s \n",
            "\u001b[?25hCollecting charset-normalizer<4,>=2\n",
            "  Downloading charset_normalizer-3.1.0-cp38-cp38-manylinux_2_17_x86_64.manylinux2014_x86_64.whl (195 kB)\n",
            "\u001b[K     |████████████████████████████████| 195 kB 41.4 MB/s \n",
            "\u001b[?25hCollecting MarkupSafe>=2.1.1\n",
            "  Downloading MarkupSafe-2.1.2-cp38-cp38-manylinux_2_17_x86_64.manylinux2014_x86_64.whl (25 kB)\n",
            "Collecting pyasn1<0.6.0,>=0.4.6\n",
            "  Downloading pyasn1-0.5.0-py2.py3-none-any.whl (83 kB)\n",
            "\u001b[K     |████████████████████████████████| 83 kB 2.5 MB/s \n",
            "\u001b[?25hCollecting oauthlib>=3.0.0\n",
            "  Downloading oauthlib-3.2.2-py3-none-any.whl (151 kB)\n",
            "\u001b[K     |████████████████████████████████| 151 kB 60.3 MB/s \n",
            "\u001b[?25hBuilding wheels for collected packages: jax\n",
            "  Building wheel for jax (PEP 517) ... \u001b[?25l\u001b[?25hdone\n",
            "  Created wheel for jax: filename=jax-0.4.8-py3-none-any.whl size=1439691 sha256=f8f1afd97fcbdc613f211ad6f49e8c510dcc978f5c13c8000246eb78235ebab4\n",
            "  Stored in directory: /root/.cache/pip/wheels/45/83/1e/3db22c5e1941c10e41c4f5cdf829b0a358146d4d0733d4a105\n",
            "Successfully built jax\n",
            "\u001b[31mERROR: tensorflow 2.12.0 has requirement numpy<1.24,>=1.22, but you'll have numpy 1.24.2 which is incompatible.\u001b[0m\n",
            "Installing collected packages: pytz, numpy, tzdata, six, python-dateutil, pandas, threadpoolctl, scipy, joblib, scikit-learn, fonttools, zipp, importlib-resources, kiwisolver, pillow, cycler, pyparsing, contourpy, packaging, matplotlib, networkx, smart-open, gensim, libclang, opt-einsum, ml-dtypes, jax, flatbuffers, wrapt, gast, google-pasta, tensorflow-estimator, absl-py, keras, tensorflow-io-gcs-filesystem, grpcio, protobuf, termcolor, tensorboard-data-server, pyasn1, pyasn1-modules, rsa, cachetools, google-auth, importlib-metadata, markdown, certifi, idna, urllib3, charset-normalizer, requests, oauthlib, requests-oauthlib, google-auth-oauthlib, tensorboard-plugin-wit, MarkupSafe, werkzeug, tensorboard, typing-extensions, astunparse, h5py, tensorflow, stellargraph\n",
            "Successfully installed MarkupSafe-2.1.2 absl-py-1.4.0 astunparse-1.6.3 cachetools-5.3.0 certifi-2022.12.7 charset-normalizer-3.1.0 contourpy-1.0.7 cycler-0.11.0 flatbuffers-23.3.3 fonttools-4.39.3 gast-0.4.0 gensim-4.3.1 google-auth-2.17.3 google-auth-oauthlib-1.0.0 google-pasta-0.2.0 grpcio-1.54.0 h5py-3.8.0 idna-3.4 importlib-metadata-6.5.1 importlib-resources-5.12.0 jax-0.4.8 joblib-1.2.0 keras-2.12.0 kiwisolver-1.4.4 libclang-16.0.0 markdown-3.4.3 matplotlib-3.7.1 ml-dtypes-0.1.0 networkx-3.1 numpy-1.24.2 oauthlib-3.2.2 opt-einsum-3.3.0 packaging-23.1 pandas-2.0.0 pillow-9.5.0 protobuf-4.22.3 pyasn1-0.5.0 pyasn1-modules-0.3.0 pyparsing-3.0.9 python-dateutil-2.8.2 pytz-2023.3 requests-2.28.2 requests-oauthlib-1.3.1 rsa-4.9 scikit-learn-1.2.2 scipy-1.10.1 six-1.16.0 smart-open-6.3.0 stellargraph-1.2.1 tensorboard-2.12.2 tensorboard-data-server-0.7.0 tensorboard-plugin-wit-1.8.1 tensorflow-2.12.0 tensorflow-estimator-2.12.0 tensorflow-io-gcs-filesystem-0.32.0 termcolor-2.2.0 threadpoolctl-3.1.0 typing-extensions-4.5.0 tzdata-2023.3 urllib3-1.26.15 werkzeug-2.2.3 wrapt-1.14.1 zipp-3.15.0\n"
          ]
        },
        {
          "output_type": "display_data",
          "data": {
            "application/vnd.colab-display-data+json": {
              "pip_warning": {
                "packages": [
                  "absl",
                  "astunparse",
                  "cachetools",
                  "certifi",
                  "cycler",
                  "dateutil",
                  "flatbuffers",
                  "gast",
                  "google",
                  "h5py",
                  "importlib_resources",
                  "jax",
                  "joblib",
                  "keras",
                  "kiwisolver",
                  "matplotlib",
                  "ml_dtypes",
                  "mpl_toolkits",
                  "networkx",
                  "opt_einsum",
                  "six",
                  "sklearn",
                  "tensorboard",
                  "tensorflow",
                  "urllib3",
                  "wrapt",
                  "zipp"
                ]
              }
            }
          },
          "metadata": {}
        }
      ]
    },
    {
      "cell_type": "markdown",
      "metadata": {
        "id": "GvZ0T-ZTKHDo"
      },
      "source": [
        "# Libraries"
      ]
    },
    {
      "cell_type": "code",
      "metadata": {
        "id": "pk0lHTXHKHDo"
      },
      "source": [
        "# Importing required libraries (install other libraries if needed)\n",
        "import os\n",
        "\n",
        "import pandas as pd\n",
        "\n",
        "import stellargraph as sg\n",
        "from stellargraph.mapper import FullBatchNodeGenerator\n",
        "from stellargraph.layer import GCN\n",
        "from stellargraph import StellarGraph\n",
        "from stellargraph.datasets import Cora\n",
        "\n",
        "from tensorflow.keras import Model\n",
        "from tensorflow.keras.callbacks import EarlyStopping\n",
        "\n",
        "from sklearn import preprocessing, model_selection\n",
        "from IPython.display import display, HTML\n",
        "import matplotlib.pyplot as plt\n",
        "\n",
        "%matplotlib inline"
      ],
      "execution_count": 4,
      "outputs": []
    },
    {
      "cell_type": "markdown",
      "metadata": {
        "id": "uVzommVFKHDr"
      },
      "source": [
        "## 1.1 Processing on the dataset (1 point)"
      ]
    },
    {
      "cell_type": "markdown",
      "metadata": {
        "id": "uaxJE7AzKHDp"
      },
      "source": [
        "Reference: https://stellargraph.readthedocs.io/en/stable/demos/basics/loading-pandas.html"
      ]
    },
    {
      "cell_type": "markdown",
      "metadata": {
        "id": "ceJHyIHjKHDr"
      },
      "source": [
        "**1.1.1 Download the Cora dataset into your local machine and do some pre-processing.  (0.5 point)** <br>\n",
        "<font color='red'>How you should answer the following questions: In the `#TODO` cell you have to write the code representing your solution.</font>"
      ]
    },
    {
      "cell_type": "markdown",
      "metadata": {
        "id": "St7HZ3PZlZsm"
      },
      "source": [
        "We’ve been using a synthetic graph with perfectly formatted data as an example till now, because it helps us focus on just the core StellarGraph functionality. Real life isn’t so simple; there’s usually files to wrangle and formats to convert, so we’ll use real data in this notebook to go from data in files to a StellarGraph."
      ]
    },
    {
      "cell_type": "markdown",
      "metadata": {
        "id": "BMkwmYVGlZsm"
      },
      "source": [
        "We’ll work with the Cora dataset from https://linqs.soe.ucsc.edu/data:\n",
        "\n",
        "The Cora dataset consists of 2708 scientific publications classified into one of seven classes. The citation network consists of 5429 links. Each publication in the dataset is described by a 0/1-valued word vector indicating the absence/presence of the corresponding word from the dictionary. The dictionary consists of 1433 unique words. The README file in the dataset provides more details.\n",
        "\n",
        "The dataset contains two files: cora.cites and cora.content.\n",
        "\n",
        "cora.cites is a tab-separated values (TSV) file of the graph edges. The first column identifies the cited paper, and the second column identifies the paper that cites it. The first three lines of the file look like:\n",
        "\n",
        "35  1033<br>\n",
        "35  103482<br>\n",
        "35  103515<br>\n",
        "...\n",
        "cora.content is also a TSV file of information about each node (paper), with 1435 columns: the first column is the node ID (matching the IDs used in cora.cites), the next 1433 are the 0/1-values of word vectors, and the last is the subject area class of the paper. The first three lines of the file look like (with the 1423 of the 0/1 columns truncated)\n",
        "\n",
        "31336   0   0   ... 0   1   0   0   0   0   0   0   Neural_Networks<br>\n",
        "1061127 0   0   ... 1   0   0   0   0   0   0   0   Rule_Learning<br>\n",
        "1106406 0   0   ... 0   0   0   0   0   0   0   0   Reinforcement_Learning<br>\n",
        "...\n",
        "This graph is homogeneous (all nodes are papers, and all edges are citations), with node features (the 0/1-values) but no edge weights.\n",
        "\n",
        "The StellarGraph library provides the datasets module for working with some common datasets via classes like Cora (docs). It can download the necessary files via the download method. (The load method also converts it into a StellarGraph, but that’s too helpful for this tutorial: we’re learning how to do that ourselves.)"
      ]
    },
    {
      "cell_type": "code",
      "metadata": {
        "id": "t2b9UNTtKHDp"
      },
      "source": [
        "# Cora dataset download\n",
        "cora = Cora()\n",
        "cora.download()\n",
        "\n",
        "# the base_directory property tells us where it was downloaded to:\n",
        "cora_cites_file = os.path.join(cora.base_directory, \"cora.cites\")\n",
        "cora_content_file = os.path.join(cora.base_directory, \"cora.content\")"
      ],
      "execution_count": 5,
      "outputs": []
    },
    {
      "cell_type": "markdown",
      "metadata": {
        "id": "5hrNq7G-lZsn"
      },
      "source": [
        "We’ve now got the files on disk, so we can read them using the pd.read_csv function. Despite the “CSV” in the name, this function can be used to read TSV files too. The files don’t have a row of column headings, so we’ll want to set our own.\n",
        "\n",
        "First, the edges. We can use source and target as the column headings, to match StellarGraph’s defaults. However, the natural phrasing is “paper X cites paper Y”, not “paper Y is cited by paper X”, so we use the columns in reverse order to match."
      ]
    },
    {
      "cell_type": "code",
      "metadata": {
        "id": "hSPp4-B4lZsn",
        "colab": {
          "base_uri": "https://localhost:8080/",
          "height": 424
        },
        "outputId": "97e97695-b491-4893-877f-b2c49d6fc954"
      },
      "source": [
        "cora_cites = pd.read_csv(\n",
        "    cora_cites_file,\n",
        "    sep=\"\\t\",  # tab-separated\n",
        "    header=None,  # no heading row\n",
        "    names=[\"target\", \"source\"],  # set our own names for the columns\n",
        ")\n",
        "cora_cites"
      ],
      "execution_count": 6,
      "outputs": [
        {
          "output_type": "execute_result",
          "data": {
            "text/plain": [
              "      target   source\n",
              "0         35     1033\n",
              "1         35   103482\n",
              "2         35   103515\n",
              "3         35  1050679\n",
              "4         35  1103960\n",
              "...      ...      ...\n",
              "5424  853116    19621\n",
              "5425  853116   853155\n",
              "5426  853118  1140289\n",
              "5427  853155   853118\n",
              "5428  954315  1155073\n",
              "\n",
              "[5429 rows x 2 columns]"
            ],
            "text/html": [
              "\n",
              "  <div id=\"df-167bce67-6856-4dcf-890c-5862d29a51a8\">\n",
              "    <div class=\"colab-df-container\">\n",
              "      <div>\n",
              "<style scoped>\n",
              "    .dataframe tbody tr th:only-of-type {\n",
              "        vertical-align: middle;\n",
              "    }\n",
              "\n",
              "    .dataframe tbody tr th {\n",
              "        vertical-align: top;\n",
              "    }\n",
              "\n",
              "    .dataframe thead th {\n",
              "        text-align: right;\n",
              "    }\n",
              "</style>\n",
              "<table border=\"1\" class=\"dataframe\">\n",
              "  <thead>\n",
              "    <tr style=\"text-align: right;\">\n",
              "      <th></th>\n",
              "      <th>target</th>\n",
              "      <th>source</th>\n",
              "    </tr>\n",
              "  </thead>\n",
              "  <tbody>\n",
              "    <tr>\n",
              "      <th>0</th>\n",
              "      <td>35</td>\n",
              "      <td>1033</td>\n",
              "    </tr>\n",
              "    <tr>\n",
              "      <th>1</th>\n",
              "      <td>35</td>\n",
              "      <td>103482</td>\n",
              "    </tr>\n",
              "    <tr>\n",
              "      <th>2</th>\n",
              "      <td>35</td>\n",
              "      <td>103515</td>\n",
              "    </tr>\n",
              "    <tr>\n",
              "      <th>3</th>\n",
              "      <td>35</td>\n",
              "      <td>1050679</td>\n",
              "    </tr>\n",
              "    <tr>\n",
              "      <th>4</th>\n",
              "      <td>35</td>\n",
              "      <td>1103960</td>\n",
              "    </tr>\n",
              "    <tr>\n",
              "      <th>...</th>\n",
              "      <td>...</td>\n",
              "      <td>...</td>\n",
              "    </tr>\n",
              "    <tr>\n",
              "      <th>5424</th>\n",
              "      <td>853116</td>\n",
              "      <td>19621</td>\n",
              "    </tr>\n",
              "    <tr>\n",
              "      <th>5425</th>\n",
              "      <td>853116</td>\n",
              "      <td>853155</td>\n",
              "    </tr>\n",
              "    <tr>\n",
              "      <th>5426</th>\n",
              "      <td>853118</td>\n",
              "      <td>1140289</td>\n",
              "    </tr>\n",
              "    <tr>\n",
              "      <th>5427</th>\n",
              "      <td>853155</td>\n",
              "      <td>853118</td>\n",
              "    </tr>\n",
              "    <tr>\n",
              "      <th>5428</th>\n",
              "      <td>954315</td>\n",
              "      <td>1155073</td>\n",
              "    </tr>\n",
              "  </tbody>\n",
              "</table>\n",
              "<p>5429 rows × 2 columns</p>\n",
              "</div>\n",
              "      <button class=\"colab-df-convert\" onclick=\"convertToInteractive('df-167bce67-6856-4dcf-890c-5862d29a51a8')\"\n",
              "              title=\"Convert this dataframe to an interactive table.\"\n",
              "              style=\"display:none;\">\n",
              "        \n",
              "  <svg xmlns=\"http://www.w3.org/2000/svg\" height=\"24px\"viewBox=\"0 0 24 24\"\n",
              "       width=\"24px\">\n",
              "    <path d=\"M0 0h24v24H0V0z\" fill=\"none\"/>\n",
              "    <path d=\"M18.56 5.44l.94 2.06.94-2.06 2.06-.94-2.06-.94-.94-2.06-.94 2.06-2.06.94zm-11 1L8.5 8.5l.94-2.06 2.06-.94-2.06-.94L8.5 2.5l-.94 2.06-2.06.94zm10 10l.94 2.06.94-2.06 2.06-.94-2.06-.94-.94-2.06-.94 2.06-2.06.94z\"/><path d=\"M17.41 7.96l-1.37-1.37c-.4-.4-.92-.59-1.43-.59-.52 0-1.04.2-1.43.59L10.3 9.45l-7.72 7.72c-.78.78-.78 2.05 0 2.83L4 21.41c.39.39.9.59 1.41.59.51 0 1.02-.2 1.41-.59l7.78-7.78 2.81-2.81c.8-.78.8-2.07 0-2.86zM5.41 20L4 18.59l7.72-7.72 1.47 1.35L5.41 20z\"/>\n",
              "  </svg>\n",
              "      </button>\n",
              "      \n",
              "  <style>\n",
              "    .colab-df-container {\n",
              "      display:flex;\n",
              "      flex-wrap:wrap;\n",
              "      gap: 12px;\n",
              "    }\n",
              "\n",
              "    .colab-df-convert {\n",
              "      background-color: #E8F0FE;\n",
              "      border: none;\n",
              "      border-radius: 50%;\n",
              "      cursor: pointer;\n",
              "      display: none;\n",
              "      fill: #1967D2;\n",
              "      height: 32px;\n",
              "      padding: 0 0 0 0;\n",
              "      width: 32px;\n",
              "    }\n",
              "\n",
              "    .colab-df-convert:hover {\n",
              "      background-color: #E2EBFA;\n",
              "      box-shadow: 0px 1px 2px rgba(60, 64, 67, 0.3), 0px 1px 3px 1px rgba(60, 64, 67, 0.15);\n",
              "      fill: #174EA6;\n",
              "    }\n",
              "\n",
              "    [theme=dark] .colab-df-convert {\n",
              "      background-color: #3B4455;\n",
              "      fill: #D2E3FC;\n",
              "    }\n",
              "\n",
              "    [theme=dark] .colab-df-convert:hover {\n",
              "      background-color: #434B5C;\n",
              "      box-shadow: 0px 1px 3px 1px rgba(0, 0, 0, 0.15);\n",
              "      filter: drop-shadow(0px 1px 2px rgba(0, 0, 0, 0.3));\n",
              "      fill: #FFFFFF;\n",
              "    }\n",
              "  </style>\n",
              "\n",
              "      <script>\n",
              "        const buttonEl =\n",
              "          document.querySelector('#df-167bce67-6856-4dcf-890c-5862d29a51a8 button.colab-df-convert');\n",
              "        buttonEl.style.display =\n",
              "          google.colab.kernel.accessAllowed ? 'block' : 'none';\n",
              "\n",
              "        async function convertToInteractive(key) {\n",
              "          const element = document.querySelector('#df-167bce67-6856-4dcf-890c-5862d29a51a8');\n",
              "          const dataTable =\n",
              "            await google.colab.kernel.invokeFunction('convertToInteractive',\n",
              "                                                     [key], {});\n",
              "          if (!dataTable) return;\n",
              "\n",
              "          const docLinkHtml = 'Like what you see? Visit the ' +\n",
              "            '<a target=\"_blank\" href=https://colab.research.google.com/notebooks/data_table.ipynb>data table notebook</a>'\n",
              "            + ' to learn more about interactive tables.';\n",
              "          element.innerHTML = '';\n",
              "          dataTable['output_type'] = 'display_data';\n",
              "          await google.colab.output.renderOutput(dataTable, element);\n",
              "          const docLink = document.createElement('div');\n",
              "          docLink.innerHTML = docLinkHtml;\n",
              "          element.appendChild(docLink);\n",
              "        }\n",
              "      </script>\n",
              "    </div>\n",
              "  </div>\n",
              "  "
            ]
          },
          "metadata": {},
          "execution_count": 6
        }
      ]
    },
    {
      "cell_type": "markdown",
      "metadata": {
        "id": "iKPc1jS_lZso"
      },
      "source": [
        "Now, the nodes. Again, we have to choose the columns’ names. The names of the 0/1-columns don’t matter so much, but we can give the first column (of IDs) and the last one (of subjects) useful names."
      ]
    },
    {
      "cell_type": "code",
      "metadata": {
        "id": "VwvbtAN4lZsp",
        "colab": {
          "base_uri": "https://localhost:8080/",
          "height": 424
        },
        "outputId": "8b851480-8bf3-44f0-9f4f-e18f8f5f22bb"
      },
      "source": [
        "cora_feature_names = [f\"w{i}\" for i in range(1433)]\n",
        "\n",
        "cora_raw_content = pd.read_csv(\n",
        "    cora_content_file,\n",
        "    sep=\"\\t\",  # tab-separated\n",
        "    header=None,  # no heading row\n",
        "    names=[\"id\", *cora_feature_names, \"subject\"],  # set our own names for the columns\n",
        ")\n",
        "cora_raw_content"
      ],
      "execution_count": 7,
      "outputs": [
        {
          "output_type": "execute_result",
          "data": {
            "text/plain": [
              "           id  w0  w1  w2  w3  w4  w5  w6  w7  w8  ...  w1424  w1425  w1426  \\\n",
              "0       31336   0   0   0   0   0   0   0   0   0  ...      0      0      1   \n",
              "1     1061127   0   0   0   0   0   0   0   0   0  ...      0      1      0   \n",
              "2     1106406   0   0   0   0   0   0   0   0   0  ...      0      0      0   \n",
              "3       13195   0   0   0   0   0   0   0   0   0  ...      0      0      0   \n",
              "4       37879   0   0   0   0   0   0   0   0   0  ...      0      0      0   \n",
              "...       ...  ..  ..  ..  ..  ..  ..  ..  ..  ..  ...    ...    ...    ...   \n",
              "2703  1128975   0   0   0   0   0   0   0   0   0  ...      0      0      0   \n",
              "2704  1128977   0   0   0   0   0   0   0   0   0  ...      0      0      0   \n",
              "2705  1128978   0   0   0   0   0   0   0   0   0  ...      0      0      0   \n",
              "2706   117328   0   0   0   0   1   0   0   0   0  ...      0      0      0   \n",
              "2707    24043   0   0   0   0   0   0   0   0   0  ...      0      0      0   \n",
              "\n",
              "      w1427  w1428  w1429  w1430  w1431  w1432                 subject  \n",
              "0         0      0      0      0      0      0         Neural_Networks  \n",
              "1         0      0      0      0      0      0           Rule_Learning  \n",
              "2         0      0      0      0      0      0  Reinforcement_Learning  \n",
              "3         0      0      0      0      0      0  Reinforcement_Learning  \n",
              "4         0      0      0      0      0      0   Probabilistic_Methods  \n",
              "...     ...    ...    ...    ...    ...    ...                     ...  \n",
              "2703      0      0      0      0      0      0      Genetic_Algorithms  \n",
              "2704      0      0      0      0      0      0      Genetic_Algorithms  \n",
              "2705      0      0      0      0      0      0      Genetic_Algorithms  \n",
              "2706      0      0      0      0      0      0              Case_Based  \n",
              "2707      0      0      0      0      0      0         Neural_Networks  \n",
              "\n",
              "[2708 rows x 1435 columns]"
            ],
            "text/html": [
              "\n",
              "  <div id=\"df-b99c75a3-c6af-4fcf-ad63-dfa4e308e114\">\n",
              "    <div class=\"colab-df-container\">\n",
              "      <div>\n",
              "<style scoped>\n",
              "    .dataframe tbody tr th:only-of-type {\n",
              "        vertical-align: middle;\n",
              "    }\n",
              "\n",
              "    .dataframe tbody tr th {\n",
              "        vertical-align: top;\n",
              "    }\n",
              "\n",
              "    .dataframe thead th {\n",
              "        text-align: right;\n",
              "    }\n",
              "</style>\n",
              "<table border=\"1\" class=\"dataframe\">\n",
              "  <thead>\n",
              "    <tr style=\"text-align: right;\">\n",
              "      <th></th>\n",
              "      <th>id</th>\n",
              "      <th>w0</th>\n",
              "      <th>w1</th>\n",
              "      <th>w2</th>\n",
              "      <th>w3</th>\n",
              "      <th>w4</th>\n",
              "      <th>w5</th>\n",
              "      <th>w6</th>\n",
              "      <th>w7</th>\n",
              "      <th>w8</th>\n",
              "      <th>...</th>\n",
              "      <th>w1424</th>\n",
              "      <th>w1425</th>\n",
              "      <th>w1426</th>\n",
              "      <th>w1427</th>\n",
              "      <th>w1428</th>\n",
              "      <th>w1429</th>\n",
              "      <th>w1430</th>\n",
              "      <th>w1431</th>\n",
              "      <th>w1432</th>\n",
              "      <th>subject</th>\n",
              "    </tr>\n",
              "  </thead>\n",
              "  <tbody>\n",
              "    <tr>\n",
              "      <th>0</th>\n",
              "      <td>31336</td>\n",
              "      <td>0</td>\n",
              "      <td>0</td>\n",
              "      <td>0</td>\n",
              "      <td>0</td>\n",
              "      <td>0</td>\n",
              "      <td>0</td>\n",
              "      <td>0</td>\n",
              "      <td>0</td>\n",
              "      <td>0</td>\n",
              "      <td>...</td>\n",
              "      <td>0</td>\n",
              "      <td>0</td>\n",
              "      <td>1</td>\n",
              "      <td>0</td>\n",
              "      <td>0</td>\n",
              "      <td>0</td>\n",
              "      <td>0</td>\n",
              "      <td>0</td>\n",
              "      <td>0</td>\n",
              "      <td>Neural_Networks</td>\n",
              "    </tr>\n",
              "    <tr>\n",
              "      <th>1</th>\n",
              "      <td>1061127</td>\n",
              "      <td>0</td>\n",
              "      <td>0</td>\n",
              "      <td>0</td>\n",
              "      <td>0</td>\n",
              "      <td>0</td>\n",
              "      <td>0</td>\n",
              "      <td>0</td>\n",
              "      <td>0</td>\n",
              "      <td>0</td>\n",
              "      <td>...</td>\n",
              "      <td>0</td>\n",
              "      <td>1</td>\n",
              "      <td>0</td>\n",
              "      <td>0</td>\n",
              "      <td>0</td>\n",
              "      <td>0</td>\n",
              "      <td>0</td>\n",
              "      <td>0</td>\n",
              "      <td>0</td>\n",
              "      <td>Rule_Learning</td>\n",
              "    </tr>\n",
              "    <tr>\n",
              "      <th>2</th>\n",
              "      <td>1106406</td>\n",
              "      <td>0</td>\n",
              "      <td>0</td>\n",
              "      <td>0</td>\n",
              "      <td>0</td>\n",
              "      <td>0</td>\n",
              "      <td>0</td>\n",
              "      <td>0</td>\n",
              "      <td>0</td>\n",
              "      <td>0</td>\n",
              "      <td>...</td>\n",
              "      <td>0</td>\n",
              "      <td>0</td>\n",
              "      <td>0</td>\n",
              "      <td>0</td>\n",
              "      <td>0</td>\n",
              "      <td>0</td>\n",
              "      <td>0</td>\n",
              "      <td>0</td>\n",
              "      <td>0</td>\n",
              "      <td>Reinforcement_Learning</td>\n",
              "    </tr>\n",
              "    <tr>\n",
              "      <th>3</th>\n",
              "      <td>13195</td>\n",
              "      <td>0</td>\n",
              "      <td>0</td>\n",
              "      <td>0</td>\n",
              "      <td>0</td>\n",
              "      <td>0</td>\n",
              "      <td>0</td>\n",
              "      <td>0</td>\n",
              "      <td>0</td>\n",
              "      <td>0</td>\n",
              "      <td>...</td>\n",
              "      <td>0</td>\n",
              "      <td>0</td>\n",
              "      <td>0</td>\n",
              "      <td>0</td>\n",
              "      <td>0</td>\n",
              "      <td>0</td>\n",
              "      <td>0</td>\n",
              "      <td>0</td>\n",
              "      <td>0</td>\n",
              "      <td>Reinforcement_Learning</td>\n",
              "    </tr>\n",
              "    <tr>\n",
              "      <th>4</th>\n",
              "      <td>37879</td>\n",
              "      <td>0</td>\n",
              "      <td>0</td>\n",
              "      <td>0</td>\n",
              "      <td>0</td>\n",
              "      <td>0</td>\n",
              "      <td>0</td>\n",
              "      <td>0</td>\n",
              "      <td>0</td>\n",
              "      <td>0</td>\n",
              "      <td>...</td>\n",
              "      <td>0</td>\n",
              "      <td>0</td>\n",
              "      <td>0</td>\n",
              "      <td>0</td>\n",
              "      <td>0</td>\n",
              "      <td>0</td>\n",
              "      <td>0</td>\n",
              "      <td>0</td>\n",
              "      <td>0</td>\n",
              "      <td>Probabilistic_Methods</td>\n",
              "    </tr>\n",
              "    <tr>\n",
              "      <th>...</th>\n",
              "      <td>...</td>\n",
              "      <td>...</td>\n",
              "      <td>...</td>\n",
              "      <td>...</td>\n",
              "      <td>...</td>\n",
              "      <td>...</td>\n",
              "      <td>...</td>\n",
              "      <td>...</td>\n",
              "      <td>...</td>\n",
              "      <td>...</td>\n",
              "      <td>...</td>\n",
              "      <td>...</td>\n",
              "      <td>...</td>\n",
              "      <td>...</td>\n",
              "      <td>...</td>\n",
              "      <td>...</td>\n",
              "      <td>...</td>\n",
              "      <td>...</td>\n",
              "      <td>...</td>\n",
              "      <td>...</td>\n",
              "      <td>...</td>\n",
              "    </tr>\n",
              "    <tr>\n",
              "      <th>2703</th>\n",
              "      <td>1128975</td>\n",
              "      <td>0</td>\n",
              "      <td>0</td>\n",
              "      <td>0</td>\n",
              "      <td>0</td>\n",
              "      <td>0</td>\n",
              "      <td>0</td>\n",
              "      <td>0</td>\n",
              "      <td>0</td>\n",
              "      <td>0</td>\n",
              "      <td>...</td>\n",
              "      <td>0</td>\n",
              "      <td>0</td>\n",
              "      <td>0</td>\n",
              "      <td>0</td>\n",
              "      <td>0</td>\n",
              "      <td>0</td>\n",
              "      <td>0</td>\n",
              "      <td>0</td>\n",
              "      <td>0</td>\n",
              "      <td>Genetic_Algorithms</td>\n",
              "    </tr>\n",
              "    <tr>\n",
              "      <th>2704</th>\n",
              "      <td>1128977</td>\n",
              "      <td>0</td>\n",
              "      <td>0</td>\n",
              "      <td>0</td>\n",
              "      <td>0</td>\n",
              "      <td>0</td>\n",
              "      <td>0</td>\n",
              "      <td>0</td>\n",
              "      <td>0</td>\n",
              "      <td>0</td>\n",
              "      <td>...</td>\n",
              "      <td>0</td>\n",
              "      <td>0</td>\n",
              "      <td>0</td>\n",
              "      <td>0</td>\n",
              "      <td>0</td>\n",
              "      <td>0</td>\n",
              "      <td>0</td>\n",
              "      <td>0</td>\n",
              "      <td>0</td>\n",
              "      <td>Genetic_Algorithms</td>\n",
              "    </tr>\n",
              "    <tr>\n",
              "      <th>2705</th>\n",
              "      <td>1128978</td>\n",
              "      <td>0</td>\n",
              "      <td>0</td>\n",
              "      <td>0</td>\n",
              "      <td>0</td>\n",
              "      <td>0</td>\n",
              "      <td>0</td>\n",
              "      <td>0</td>\n",
              "      <td>0</td>\n",
              "      <td>0</td>\n",
              "      <td>...</td>\n",
              "      <td>0</td>\n",
              "      <td>0</td>\n",
              "      <td>0</td>\n",
              "      <td>0</td>\n",
              "      <td>0</td>\n",
              "      <td>0</td>\n",
              "      <td>0</td>\n",
              "      <td>0</td>\n",
              "      <td>0</td>\n",
              "      <td>Genetic_Algorithms</td>\n",
              "    </tr>\n",
              "    <tr>\n",
              "      <th>2706</th>\n",
              "      <td>117328</td>\n",
              "      <td>0</td>\n",
              "      <td>0</td>\n",
              "      <td>0</td>\n",
              "      <td>0</td>\n",
              "      <td>1</td>\n",
              "      <td>0</td>\n",
              "      <td>0</td>\n",
              "      <td>0</td>\n",
              "      <td>0</td>\n",
              "      <td>...</td>\n",
              "      <td>0</td>\n",
              "      <td>0</td>\n",
              "      <td>0</td>\n",
              "      <td>0</td>\n",
              "      <td>0</td>\n",
              "      <td>0</td>\n",
              "      <td>0</td>\n",
              "      <td>0</td>\n",
              "      <td>0</td>\n",
              "      <td>Case_Based</td>\n",
              "    </tr>\n",
              "    <tr>\n",
              "      <th>2707</th>\n",
              "      <td>24043</td>\n",
              "      <td>0</td>\n",
              "      <td>0</td>\n",
              "      <td>0</td>\n",
              "      <td>0</td>\n",
              "      <td>0</td>\n",
              "      <td>0</td>\n",
              "      <td>0</td>\n",
              "      <td>0</td>\n",
              "      <td>0</td>\n",
              "      <td>...</td>\n",
              "      <td>0</td>\n",
              "      <td>0</td>\n",
              "      <td>0</td>\n",
              "      <td>0</td>\n",
              "      <td>0</td>\n",
              "      <td>0</td>\n",
              "      <td>0</td>\n",
              "      <td>0</td>\n",
              "      <td>0</td>\n",
              "      <td>Neural_Networks</td>\n",
              "    </tr>\n",
              "  </tbody>\n",
              "</table>\n",
              "<p>2708 rows × 1435 columns</p>\n",
              "</div>\n",
              "      <button class=\"colab-df-convert\" onclick=\"convertToInteractive('df-b99c75a3-c6af-4fcf-ad63-dfa4e308e114')\"\n",
              "              title=\"Convert this dataframe to an interactive table.\"\n",
              "              style=\"display:none;\">\n",
              "        \n",
              "  <svg xmlns=\"http://www.w3.org/2000/svg\" height=\"24px\"viewBox=\"0 0 24 24\"\n",
              "       width=\"24px\">\n",
              "    <path d=\"M0 0h24v24H0V0z\" fill=\"none\"/>\n",
              "    <path d=\"M18.56 5.44l.94 2.06.94-2.06 2.06-.94-2.06-.94-.94-2.06-.94 2.06-2.06.94zm-11 1L8.5 8.5l.94-2.06 2.06-.94-2.06-.94L8.5 2.5l-.94 2.06-2.06.94zm10 10l.94 2.06.94-2.06 2.06-.94-2.06-.94-.94-2.06-.94 2.06-2.06.94z\"/><path d=\"M17.41 7.96l-1.37-1.37c-.4-.4-.92-.59-1.43-.59-.52 0-1.04.2-1.43.59L10.3 9.45l-7.72 7.72c-.78.78-.78 2.05 0 2.83L4 21.41c.39.39.9.59 1.41.59.51 0 1.02-.2 1.41-.59l7.78-7.78 2.81-2.81c.8-.78.8-2.07 0-2.86zM5.41 20L4 18.59l7.72-7.72 1.47 1.35L5.41 20z\"/>\n",
              "  </svg>\n",
              "      </button>\n",
              "      \n",
              "  <style>\n",
              "    .colab-df-container {\n",
              "      display:flex;\n",
              "      flex-wrap:wrap;\n",
              "      gap: 12px;\n",
              "    }\n",
              "\n",
              "    .colab-df-convert {\n",
              "      background-color: #E8F0FE;\n",
              "      border: none;\n",
              "      border-radius: 50%;\n",
              "      cursor: pointer;\n",
              "      display: none;\n",
              "      fill: #1967D2;\n",
              "      height: 32px;\n",
              "      padding: 0 0 0 0;\n",
              "      width: 32px;\n",
              "    }\n",
              "\n",
              "    .colab-df-convert:hover {\n",
              "      background-color: #E2EBFA;\n",
              "      box-shadow: 0px 1px 2px rgba(60, 64, 67, 0.3), 0px 1px 3px 1px rgba(60, 64, 67, 0.15);\n",
              "      fill: #174EA6;\n",
              "    }\n",
              "\n",
              "    [theme=dark] .colab-df-convert {\n",
              "      background-color: #3B4455;\n",
              "      fill: #D2E3FC;\n",
              "    }\n",
              "\n",
              "    [theme=dark] .colab-df-convert:hover {\n",
              "      background-color: #434B5C;\n",
              "      box-shadow: 0px 1px 3px 1px rgba(0, 0, 0, 0.15);\n",
              "      filter: drop-shadow(0px 1px 2px rgba(0, 0, 0, 0.3));\n",
              "      fill: #FFFFFF;\n",
              "    }\n",
              "  </style>\n",
              "\n",
              "      <script>\n",
              "        const buttonEl =\n",
              "          document.querySelector('#df-b99c75a3-c6af-4fcf-ad63-dfa4e308e114 button.colab-df-convert');\n",
              "        buttonEl.style.display =\n",
              "          google.colab.kernel.accessAllowed ? 'block' : 'none';\n",
              "\n",
              "        async function convertToInteractive(key) {\n",
              "          const element = document.querySelector('#df-b99c75a3-c6af-4fcf-ad63-dfa4e308e114');\n",
              "          const dataTable =\n",
              "            await google.colab.kernel.invokeFunction('convertToInteractive',\n",
              "                                                     [key], {});\n",
              "          if (!dataTable) return;\n",
              "\n",
              "          const docLinkHtml = 'Like what you see? Visit the ' +\n",
              "            '<a target=\"_blank\" href=https://colab.research.google.com/notebooks/data_table.ipynb>data table notebook</a>'\n",
              "            + ' to learn more about interactive tables.';\n",
              "          element.innerHTML = '';\n",
              "          dataTable['output_type'] = 'display_data';\n",
              "          await google.colab.output.renderOutput(dataTable, element);\n",
              "          const docLink = document.createElement('div');\n",
              "          docLink.innerHTML = docLinkHtml;\n",
              "          element.appendChild(docLink);\n",
              "        }\n",
              "      </script>\n",
              "    </div>\n",
              "  </div>\n",
              "  "
            ]
          },
          "metadata": {},
          "execution_count": 7
        }
      ]
    },
    {
      "cell_type": "markdown",
      "metadata": {
        "id": "XswrogrelZsp"
      },
      "source": [
        "As we saw above when adding node features, StellarGraph uses the index of the DataFrame as the connection between a node and a row of the DataFrame. Currently our dataframe just has a simple numeric range as the index, but it needs to be using the id column. Pandas offers a few ways to control the indexing; in this case, we want to replace the current index by moving the id column to it, which is done most easily with set_index:"
      ]
    },
    {
      "cell_type": "code",
      "metadata": {
        "id": "TB9U1qqflZsp",
        "colab": {
          "base_uri": "https://localhost:8080/",
          "height": 455
        },
        "outputId": "35b8c365-7a4b-4943-e1f6-57510561f5b4"
      },
      "source": [
        "cora_content_str_subject = cora_raw_content.set_index(\"id\")\n",
        "cora_content_str_subject"
      ],
      "execution_count": 8,
      "outputs": [
        {
          "output_type": "execute_result",
          "data": {
            "text/plain": [
              "         w0  w1  w2  w3  w4  w5  w6  w7  w8  w9  ...  w1424  w1425  w1426  \\\n",
              "id                                               ...                        \n",
              "31336     0   0   0   0   0   0   0   0   0   0  ...      0      0      1   \n",
              "1061127   0   0   0   0   0   0   0   0   0   0  ...      0      1      0   \n",
              "1106406   0   0   0   0   0   0   0   0   0   0  ...      0      0      0   \n",
              "13195     0   0   0   0   0   0   0   0   0   0  ...      0      0      0   \n",
              "37879     0   0   0   0   0   0   0   0   0   0  ...      0      0      0   \n",
              "...      ..  ..  ..  ..  ..  ..  ..  ..  ..  ..  ...    ...    ...    ...   \n",
              "1128975   0   0   0   0   0   0   0   0   0   0  ...      0      0      0   \n",
              "1128977   0   0   0   0   0   0   0   0   0   0  ...      0      0      0   \n",
              "1128978   0   0   0   0   0   0   0   0   0   0  ...      0      0      0   \n",
              "117328    0   0   0   0   1   0   0   0   0   0  ...      0      0      0   \n",
              "24043     0   0   0   0   0   0   0   0   0   0  ...      0      0      0   \n",
              "\n",
              "         w1427  w1428  w1429  w1430  w1431  w1432                 subject  \n",
              "id                                                                         \n",
              "31336        0      0      0      0      0      0         Neural_Networks  \n",
              "1061127      0      0      0      0      0      0           Rule_Learning  \n",
              "1106406      0      0      0      0      0      0  Reinforcement_Learning  \n",
              "13195        0      0      0      0      0      0  Reinforcement_Learning  \n",
              "37879        0      0      0      0      0      0   Probabilistic_Methods  \n",
              "...        ...    ...    ...    ...    ...    ...                     ...  \n",
              "1128975      0      0      0      0      0      0      Genetic_Algorithms  \n",
              "1128977      0      0      0      0      0      0      Genetic_Algorithms  \n",
              "1128978      0      0      0      0      0      0      Genetic_Algorithms  \n",
              "117328       0      0      0      0      0      0              Case_Based  \n",
              "24043        0      0      0      0      0      0         Neural_Networks  \n",
              "\n",
              "[2708 rows x 1434 columns]"
            ],
            "text/html": [
              "\n",
              "  <div id=\"df-d4fb345b-8db5-45df-9a09-f9fc6dad7094\">\n",
              "    <div class=\"colab-df-container\">\n",
              "      <div>\n",
              "<style scoped>\n",
              "    .dataframe tbody tr th:only-of-type {\n",
              "        vertical-align: middle;\n",
              "    }\n",
              "\n",
              "    .dataframe tbody tr th {\n",
              "        vertical-align: top;\n",
              "    }\n",
              "\n",
              "    .dataframe thead th {\n",
              "        text-align: right;\n",
              "    }\n",
              "</style>\n",
              "<table border=\"1\" class=\"dataframe\">\n",
              "  <thead>\n",
              "    <tr style=\"text-align: right;\">\n",
              "      <th></th>\n",
              "      <th>w0</th>\n",
              "      <th>w1</th>\n",
              "      <th>w2</th>\n",
              "      <th>w3</th>\n",
              "      <th>w4</th>\n",
              "      <th>w5</th>\n",
              "      <th>w6</th>\n",
              "      <th>w7</th>\n",
              "      <th>w8</th>\n",
              "      <th>w9</th>\n",
              "      <th>...</th>\n",
              "      <th>w1424</th>\n",
              "      <th>w1425</th>\n",
              "      <th>w1426</th>\n",
              "      <th>w1427</th>\n",
              "      <th>w1428</th>\n",
              "      <th>w1429</th>\n",
              "      <th>w1430</th>\n",
              "      <th>w1431</th>\n",
              "      <th>w1432</th>\n",
              "      <th>subject</th>\n",
              "    </tr>\n",
              "    <tr>\n",
              "      <th>id</th>\n",
              "      <th></th>\n",
              "      <th></th>\n",
              "      <th></th>\n",
              "      <th></th>\n",
              "      <th></th>\n",
              "      <th></th>\n",
              "      <th></th>\n",
              "      <th></th>\n",
              "      <th></th>\n",
              "      <th></th>\n",
              "      <th></th>\n",
              "      <th></th>\n",
              "      <th></th>\n",
              "      <th></th>\n",
              "      <th></th>\n",
              "      <th></th>\n",
              "      <th></th>\n",
              "      <th></th>\n",
              "      <th></th>\n",
              "      <th></th>\n",
              "      <th></th>\n",
              "    </tr>\n",
              "  </thead>\n",
              "  <tbody>\n",
              "    <tr>\n",
              "      <th>31336</th>\n",
              "      <td>0</td>\n",
              "      <td>0</td>\n",
              "      <td>0</td>\n",
              "      <td>0</td>\n",
              "      <td>0</td>\n",
              "      <td>0</td>\n",
              "      <td>0</td>\n",
              "      <td>0</td>\n",
              "      <td>0</td>\n",
              "      <td>0</td>\n",
              "      <td>...</td>\n",
              "      <td>0</td>\n",
              "      <td>0</td>\n",
              "      <td>1</td>\n",
              "      <td>0</td>\n",
              "      <td>0</td>\n",
              "      <td>0</td>\n",
              "      <td>0</td>\n",
              "      <td>0</td>\n",
              "      <td>0</td>\n",
              "      <td>Neural_Networks</td>\n",
              "    </tr>\n",
              "    <tr>\n",
              "      <th>1061127</th>\n",
              "      <td>0</td>\n",
              "      <td>0</td>\n",
              "      <td>0</td>\n",
              "      <td>0</td>\n",
              "      <td>0</td>\n",
              "      <td>0</td>\n",
              "      <td>0</td>\n",
              "      <td>0</td>\n",
              "      <td>0</td>\n",
              "      <td>0</td>\n",
              "      <td>...</td>\n",
              "      <td>0</td>\n",
              "      <td>1</td>\n",
              "      <td>0</td>\n",
              "      <td>0</td>\n",
              "      <td>0</td>\n",
              "      <td>0</td>\n",
              "      <td>0</td>\n",
              "      <td>0</td>\n",
              "      <td>0</td>\n",
              "      <td>Rule_Learning</td>\n",
              "    </tr>\n",
              "    <tr>\n",
              "      <th>1106406</th>\n",
              "      <td>0</td>\n",
              "      <td>0</td>\n",
              "      <td>0</td>\n",
              "      <td>0</td>\n",
              "      <td>0</td>\n",
              "      <td>0</td>\n",
              "      <td>0</td>\n",
              "      <td>0</td>\n",
              "      <td>0</td>\n",
              "      <td>0</td>\n",
              "      <td>...</td>\n",
              "      <td>0</td>\n",
              "      <td>0</td>\n",
              "      <td>0</td>\n",
              "      <td>0</td>\n",
              "      <td>0</td>\n",
              "      <td>0</td>\n",
              "      <td>0</td>\n",
              "      <td>0</td>\n",
              "      <td>0</td>\n",
              "      <td>Reinforcement_Learning</td>\n",
              "    </tr>\n",
              "    <tr>\n",
              "      <th>13195</th>\n",
              "      <td>0</td>\n",
              "      <td>0</td>\n",
              "      <td>0</td>\n",
              "      <td>0</td>\n",
              "      <td>0</td>\n",
              "      <td>0</td>\n",
              "      <td>0</td>\n",
              "      <td>0</td>\n",
              "      <td>0</td>\n",
              "      <td>0</td>\n",
              "      <td>...</td>\n",
              "      <td>0</td>\n",
              "      <td>0</td>\n",
              "      <td>0</td>\n",
              "      <td>0</td>\n",
              "      <td>0</td>\n",
              "      <td>0</td>\n",
              "      <td>0</td>\n",
              "      <td>0</td>\n",
              "      <td>0</td>\n",
              "      <td>Reinforcement_Learning</td>\n",
              "    </tr>\n",
              "    <tr>\n",
              "      <th>37879</th>\n",
              "      <td>0</td>\n",
              "      <td>0</td>\n",
              "      <td>0</td>\n",
              "      <td>0</td>\n",
              "      <td>0</td>\n",
              "      <td>0</td>\n",
              "      <td>0</td>\n",
              "      <td>0</td>\n",
              "      <td>0</td>\n",
              "      <td>0</td>\n",
              "      <td>...</td>\n",
              "      <td>0</td>\n",
              "      <td>0</td>\n",
              "      <td>0</td>\n",
              "      <td>0</td>\n",
              "      <td>0</td>\n",
              "      <td>0</td>\n",
              "      <td>0</td>\n",
              "      <td>0</td>\n",
              "      <td>0</td>\n",
              "      <td>Probabilistic_Methods</td>\n",
              "    </tr>\n",
              "    <tr>\n",
              "      <th>...</th>\n",
              "      <td>...</td>\n",
              "      <td>...</td>\n",
              "      <td>...</td>\n",
              "      <td>...</td>\n",
              "      <td>...</td>\n",
              "      <td>...</td>\n",
              "      <td>...</td>\n",
              "      <td>...</td>\n",
              "      <td>...</td>\n",
              "      <td>...</td>\n",
              "      <td>...</td>\n",
              "      <td>...</td>\n",
              "      <td>...</td>\n",
              "      <td>...</td>\n",
              "      <td>...</td>\n",
              "      <td>...</td>\n",
              "      <td>...</td>\n",
              "      <td>...</td>\n",
              "      <td>...</td>\n",
              "      <td>...</td>\n",
              "      <td>...</td>\n",
              "    </tr>\n",
              "    <tr>\n",
              "      <th>1128975</th>\n",
              "      <td>0</td>\n",
              "      <td>0</td>\n",
              "      <td>0</td>\n",
              "      <td>0</td>\n",
              "      <td>0</td>\n",
              "      <td>0</td>\n",
              "      <td>0</td>\n",
              "      <td>0</td>\n",
              "      <td>0</td>\n",
              "      <td>0</td>\n",
              "      <td>...</td>\n",
              "      <td>0</td>\n",
              "      <td>0</td>\n",
              "      <td>0</td>\n",
              "      <td>0</td>\n",
              "      <td>0</td>\n",
              "      <td>0</td>\n",
              "      <td>0</td>\n",
              "      <td>0</td>\n",
              "      <td>0</td>\n",
              "      <td>Genetic_Algorithms</td>\n",
              "    </tr>\n",
              "    <tr>\n",
              "      <th>1128977</th>\n",
              "      <td>0</td>\n",
              "      <td>0</td>\n",
              "      <td>0</td>\n",
              "      <td>0</td>\n",
              "      <td>0</td>\n",
              "      <td>0</td>\n",
              "      <td>0</td>\n",
              "      <td>0</td>\n",
              "      <td>0</td>\n",
              "      <td>0</td>\n",
              "      <td>...</td>\n",
              "      <td>0</td>\n",
              "      <td>0</td>\n",
              "      <td>0</td>\n",
              "      <td>0</td>\n",
              "      <td>0</td>\n",
              "      <td>0</td>\n",
              "      <td>0</td>\n",
              "      <td>0</td>\n",
              "      <td>0</td>\n",
              "      <td>Genetic_Algorithms</td>\n",
              "    </tr>\n",
              "    <tr>\n",
              "      <th>1128978</th>\n",
              "      <td>0</td>\n",
              "      <td>0</td>\n",
              "      <td>0</td>\n",
              "      <td>0</td>\n",
              "      <td>0</td>\n",
              "      <td>0</td>\n",
              "      <td>0</td>\n",
              "      <td>0</td>\n",
              "      <td>0</td>\n",
              "      <td>0</td>\n",
              "      <td>...</td>\n",
              "      <td>0</td>\n",
              "      <td>0</td>\n",
              "      <td>0</td>\n",
              "      <td>0</td>\n",
              "      <td>0</td>\n",
              "      <td>0</td>\n",
              "      <td>0</td>\n",
              "      <td>0</td>\n",
              "      <td>0</td>\n",
              "      <td>Genetic_Algorithms</td>\n",
              "    </tr>\n",
              "    <tr>\n",
              "      <th>117328</th>\n",
              "      <td>0</td>\n",
              "      <td>0</td>\n",
              "      <td>0</td>\n",
              "      <td>0</td>\n",
              "      <td>1</td>\n",
              "      <td>0</td>\n",
              "      <td>0</td>\n",
              "      <td>0</td>\n",
              "      <td>0</td>\n",
              "      <td>0</td>\n",
              "      <td>...</td>\n",
              "      <td>0</td>\n",
              "      <td>0</td>\n",
              "      <td>0</td>\n",
              "      <td>0</td>\n",
              "      <td>0</td>\n",
              "      <td>0</td>\n",
              "      <td>0</td>\n",
              "      <td>0</td>\n",
              "      <td>0</td>\n",
              "      <td>Case_Based</td>\n",
              "    </tr>\n",
              "    <tr>\n",
              "      <th>24043</th>\n",
              "      <td>0</td>\n",
              "      <td>0</td>\n",
              "      <td>0</td>\n",
              "      <td>0</td>\n",
              "      <td>0</td>\n",
              "      <td>0</td>\n",
              "      <td>0</td>\n",
              "      <td>0</td>\n",
              "      <td>0</td>\n",
              "      <td>0</td>\n",
              "      <td>...</td>\n",
              "      <td>0</td>\n",
              "      <td>0</td>\n",
              "      <td>0</td>\n",
              "      <td>0</td>\n",
              "      <td>0</td>\n",
              "      <td>0</td>\n",
              "      <td>0</td>\n",
              "      <td>0</td>\n",
              "      <td>0</td>\n",
              "      <td>Neural_Networks</td>\n",
              "    </tr>\n",
              "  </tbody>\n",
              "</table>\n",
              "<p>2708 rows × 1434 columns</p>\n",
              "</div>\n",
              "      <button class=\"colab-df-convert\" onclick=\"convertToInteractive('df-d4fb345b-8db5-45df-9a09-f9fc6dad7094')\"\n",
              "              title=\"Convert this dataframe to an interactive table.\"\n",
              "              style=\"display:none;\">\n",
              "        \n",
              "  <svg xmlns=\"http://www.w3.org/2000/svg\" height=\"24px\"viewBox=\"0 0 24 24\"\n",
              "       width=\"24px\">\n",
              "    <path d=\"M0 0h24v24H0V0z\" fill=\"none\"/>\n",
              "    <path d=\"M18.56 5.44l.94 2.06.94-2.06 2.06-.94-2.06-.94-.94-2.06-.94 2.06-2.06.94zm-11 1L8.5 8.5l.94-2.06 2.06-.94-2.06-.94L8.5 2.5l-.94 2.06-2.06.94zm10 10l.94 2.06.94-2.06 2.06-.94-2.06-.94-.94-2.06-.94 2.06-2.06.94z\"/><path d=\"M17.41 7.96l-1.37-1.37c-.4-.4-.92-.59-1.43-.59-.52 0-1.04.2-1.43.59L10.3 9.45l-7.72 7.72c-.78.78-.78 2.05 0 2.83L4 21.41c.39.39.9.59 1.41.59.51 0 1.02-.2 1.41-.59l7.78-7.78 2.81-2.81c.8-.78.8-2.07 0-2.86zM5.41 20L4 18.59l7.72-7.72 1.47 1.35L5.41 20z\"/>\n",
              "  </svg>\n",
              "      </button>\n",
              "      \n",
              "  <style>\n",
              "    .colab-df-container {\n",
              "      display:flex;\n",
              "      flex-wrap:wrap;\n",
              "      gap: 12px;\n",
              "    }\n",
              "\n",
              "    .colab-df-convert {\n",
              "      background-color: #E8F0FE;\n",
              "      border: none;\n",
              "      border-radius: 50%;\n",
              "      cursor: pointer;\n",
              "      display: none;\n",
              "      fill: #1967D2;\n",
              "      height: 32px;\n",
              "      padding: 0 0 0 0;\n",
              "      width: 32px;\n",
              "    }\n",
              "\n",
              "    .colab-df-convert:hover {\n",
              "      background-color: #E2EBFA;\n",
              "      box-shadow: 0px 1px 2px rgba(60, 64, 67, 0.3), 0px 1px 3px 1px rgba(60, 64, 67, 0.15);\n",
              "      fill: #174EA6;\n",
              "    }\n",
              "\n",
              "    [theme=dark] .colab-df-convert {\n",
              "      background-color: #3B4455;\n",
              "      fill: #D2E3FC;\n",
              "    }\n",
              "\n",
              "    [theme=dark] .colab-df-convert:hover {\n",
              "      background-color: #434B5C;\n",
              "      box-shadow: 0px 1px 3px 1px rgba(0, 0, 0, 0.15);\n",
              "      filter: drop-shadow(0px 1px 2px rgba(0, 0, 0, 0.3));\n",
              "      fill: #FFFFFF;\n",
              "    }\n",
              "  </style>\n",
              "\n",
              "      <script>\n",
              "        const buttonEl =\n",
              "          document.querySelector('#df-d4fb345b-8db5-45df-9a09-f9fc6dad7094 button.colab-df-convert');\n",
              "        buttonEl.style.display =\n",
              "          google.colab.kernel.accessAllowed ? 'block' : 'none';\n",
              "\n",
              "        async function convertToInteractive(key) {\n",
              "          const element = document.querySelector('#df-d4fb345b-8db5-45df-9a09-f9fc6dad7094');\n",
              "          const dataTable =\n",
              "            await google.colab.kernel.invokeFunction('convertToInteractive',\n",
              "                                                     [key], {});\n",
              "          if (!dataTable) return;\n",
              "\n",
              "          const docLinkHtml = 'Like what you see? Visit the ' +\n",
              "            '<a target=\"_blank\" href=https://colab.research.google.com/notebooks/data_table.ipynb>data table notebook</a>'\n",
              "            + ' to learn more about interactive tables.';\n",
              "          element.innerHTML = '';\n",
              "          dataTable['output_type'] = 'display_data';\n",
              "          await google.colab.output.renderOutput(dataTable, element);\n",
              "          const docLink = document.createElement('div');\n",
              "          docLink.innerHTML = docLinkHtml;\n",
              "          element.appendChild(docLink);\n",
              "        }\n",
              "      </script>\n",
              "    </div>\n",
              "  </div>\n",
              "  "
            ]
          },
          "metadata": {},
          "execution_count": 8
        }
      ]
    },
    {
      "cell_type": "markdown",
      "metadata": {
        "id": "eEYpv_3dlZsp"
      },
      "source": [
        "We’re almost ready to create the StellarGraph, we just have to do something about the non-numeric subject column. Many machine learning models only work on numeric features, requiring text and other data to be converted before apply; the models in StellarGraph are no different.\n",
        "\n",
        "There are two options, depending on the task:\n",
        "\n",
        "1. remove the subject column entirely: many uses of Cora are predicting the subject of a node, given all of the graph structure and other information, so including it as information in the graph is giving the answer directly\n",
        "\n",
        "2. convert it to numeric via one-hot encoding, where we have 7 columns of 0 and 1, one for each subject value (similar to the 1433 other w... features). <br>\n",
        "**We will be using option - 1 in this notebook,**"
      ]
    },
    {
      "cell_type": "markdown",
      "metadata": {
        "id": "B7MCjtK5lZsq"
      },
      "source": [
        "**Removing columns**<br>\n",
        "Let’s start with the first, removing the columns. The drop method lets us remove one or more columns."
      ]
    },
    {
      "cell_type": "code",
      "metadata": {
        "id": "af_SnKfSlZsq",
        "colab": {
          "base_uri": "https://localhost:8080/",
          "height": 455
        },
        "outputId": "99cdb369-521d-40f9-f69d-4afe9d652ff6"
      },
      "source": [
        "cora_content_no_subject = cora_content_str_subject.drop(columns=\"subject\")\n",
        "cora_content_no_subject"
      ],
      "execution_count": 9,
      "outputs": [
        {
          "output_type": "execute_result",
          "data": {
            "text/plain": [
              "         w0  w1  w2  w3  w4  w5  w6  w7  w8  w9  ...  w1423  w1424  w1425  \\\n",
              "id                                               ...                        \n",
              "31336     0   0   0   0   0   0   0   0   0   0  ...      0      0      0   \n",
              "1061127   0   0   0   0   0   0   0   0   0   0  ...      0      0      1   \n",
              "1106406   0   0   0   0   0   0   0   0   0   0  ...      0      0      0   \n",
              "13195     0   0   0   0   0   0   0   0   0   0  ...      0      0      0   \n",
              "37879     0   0   0   0   0   0   0   0   0   0  ...      0      0      0   \n",
              "...      ..  ..  ..  ..  ..  ..  ..  ..  ..  ..  ...    ...    ...    ...   \n",
              "1128975   0   0   0   0   0   0   0   0   0   0  ...      0      0      0   \n",
              "1128977   0   0   0   0   0   0   0   0   0   0  ...      0      0      0   \n",
              "1128978   0   0   0   0   0   0   0   0   0   0  ...      0      0      0   \n",
              "117328    0   0   0   0   1   0   0   0   0   0  ...      1      0      0   \n",
              "24043     0   0   0   0   0   0   0   0   0   0  ...      0      0      0   \n",
              "\n",
              "         w1426  w1427  w1428  w1429  w1430  w1431  w1432  \n",
              "id                                                        \n",
              "31336        1      0      0      0      0      0      0  \n",
              "1061127      0      0      0      0      0      0      0  \n",
              "1106406      0      0      0      0      0      0      0  \n",
              "13195        0      0      0      0      0      0      0  \n",
              "37879        0      0      0      0      0      0      0  \n",
              "...        ...    ...    ...    ...    ...    ...    ...  \n",
              "1128975      0      0      0      0      0      0      0  \n",
              "1128977      0      0      0      0      0      0      0  \n",
              "1128978      0      0      0      0      0      0      0  \n",
              "117328       0      0      0      0      0      0      0  \n",
              "24043        0      0      0      0      0      0      0  \n",
              "\n",
              "[2708 rows x 1433 columns]"
            ],
            "text/html": [
              "\n",
              "  <div id=\"df-a0523dab-67f7-4cb3-92bf-2de4a3b37660\">\n",
              "    <div class=\"colab-df-container\">\n",
              "      <div>\n",
              "<style scoped>\n",
              "    .dataframe tbody tr th:only-of-type {\n",
              "        vertical-align: middle;\n",
              "    }\n",
              "\n",
              "    .dataframe tbody tr th {\n",
              "        vertical-align: top;\n",
              "    }\n",
              "\n",
              "    .dataframe thead th {\n",
              "        text-align: right;\n",
              "    }\n",
              "</style>\n",
              "<table border=\"1\" class=\"dataframe\">\n",
              "  <thead>\n",
              "    <tr style=\"text-align: right;\">\n",
              "      <th></th>\n",
              "      <th>w0</th>\n",
              "      <th>w1</th>\n",
              "      <th>w2</th>\n",
              "      <th>w3</th>\n",
              "      <th>w4</th>\n",
              "      <th>w5</th>\n",
              "      <th>w6</th>\n",
              "      <th>w7</th>\n",
              "      <th>w8</th>\n",
              "      <th>w9</th>\n",
              "      <th>...</th>\n",
              "      <th>w1423</th>\n",
              "      <th>w1424</th>\n",
              "      <th>w1425</th>\n",
              "      <th>w1426</th>\n",
              "      <th>w1427</th>\n",
              "      <th>w1428</th>\n",
              "      <th>w1429</th>\n",
              "      <th>w1430</th>\n",
              "      <th>w1431</th>\n",
              "      <th>w1432</th>\n",
              "    </tr>\n",
              "    <tr>\n",
              "      <th>id</th>\n",
              "      <th></th>\n",
              "      <th></th>\n",
              "      <th></th>\n",
              "      <th></th>\n",
              "      <th></th>\n",
              "      <th></th>\n",
              "      <th></th>\n",
              "      <th></th>\n",
              "      <th></th>\n",
              "      <th></th>\n",
              "      <th></th>\n",
              "      <th></th>\n",
              "      <th></th>\n",
              "      <th></th>\n",
              "      <th></th>\n",
              "      <th></th>\n",
              "      <th></th>\n",
              "      <th></th>\n",
              "      <th></th>\n",
              "      <th></th>\n",
              "      <th></th>\n",
              "    </tr>\n",
              "  </thead>\n",
              "  <tbody>\n",
              "    <tr>\n",
              "      <th>31336</th>\n",
              "      <td>0</td>\n",
              "      <td>0</td>\n",
              "      <td>0</td>\n",
              "      <td>0</td>\n",
              "      <td>0</td>\n",
              "      <td>0</td>\n",
              "      <td>0</td>\n",
              "      <td>0</td>\n",
              "      <td>0</td>\n",
              "      <td>0</td>\n",
              "      <td>...</td>\n",
              "      <td>0</td>\n",
              "      <td>0</td>\n",
              "      <td>0</td>\n",
              "      <td>1</td>\n",
              "      <td>0</td>\n",
              "      <td>0</td>\n",
              "      <td>0</td>\n",
              "      <td>0</td>\n",
              "      <td>0</td>\n",
              "      <td>0</td>\n",
              "    </tr>\n",
              "    <tr>\n",
              "      <th>1061127</th>\n",
              "      <td>0</td>\n",
              "      <td>0</td>\n",
              "      <td>0</td>\n",
              "      <td>0</td>\n",
              "      <td>0</td>\n",
              "      <td>0</td>\n",
              "      <td>0</td>\n",
              "      <td>0</td>\n",
              "      <td>0</td>\n",
              "      <td>0</td>\n",
              "      <td>...</td>\n",
              "      <td>0</td>\n",
              "      <td>0</td>\n",
              "      <td>1</td>\n",
              "      <td>0</td>\n",
              "      <td>0</td>\n",
              "      <td>0</td>\n",
              "      <td>0</td>\n",
              "      <td>0</td>\n",
              "      <td>0</td>\n",
              "      <td>0</td>\n",
              "    </tr>\n",
              "    <tr>\n",
              "      <th>1106406</th>\n",
              "      <td>0</td>\n",
              "      <td>0</td>\n",
              "      <td>0</td>\n",
              "      <td>0</td>\n",
              "      <td>0</td>\n",
              "      <td>0</td>\n",
              "      <td>0</td>\n",
              "      <td>0</td>\n",
              "      <td>0</td>\n",
              "      <td>0</td>\n",
              "      <td>...</td>\n",
              "      <td>0</td>\n",
              "      <td>0</td>\n",
              "      <td>0</td>\n",
              "      <td>0</td>\n",
              "      <td>0</td>\n",
              "      <td>0</td>\n",
              "      <td>0</td>\n",
              "      <td>0</td>\n",
              "      <td>0</td>\n",
              "      <td>0</td>\n",
              "    </tr>\n",
              "    <tr>\n",
              "      <th>13195</th>\n",
              "      <td>0</td>\n",
              "      <td>0</td>\n",
              "      <td>0</td>\n",
              "      <td>0</td>\n",
              "      <td>0</td>\n",
              "      <td>0</td>\n",
              "      <td>0</td>\n",
              "      <td>0</td>\n",
              "      <td>0</td>\n",
              "      <td>0</td>\n",
              "      <td>...</td>\n",
              "      <td>0</td>\n",
              "      <td>0</td>\n",
              "      <td>0</td>\n",
              "      <td>0</td>\n",
              "      <td>0</td>\n",
              "      <td>0</td>\n",
              "      <td>0</td>\n",
              "      <td>0</td>\n",
              "      <td>0</td>\n",
              "      <td>0</td>\n",
              "    </tr>\n",
              "    <tr>\n",
              "      <th>37879</th>\n",
              "      <td>0</td>\n",
              "      <td>0</td>\n",
              "      <td>0</td>\n",
              "      <td>0</td>\n",
              "      <td>0</td>\n",
              "      <td>0</td>\n",
              "      <td>0</td>\n",
              "      <td>0</td>\n",
              "      <td>0</td>\n",
              "      <td>0</td>\n",
              "      <td>...</td>\n",
              "      <td>0</td>\n",
              "      <td>0</td>\n",
              "      <td>0</td>\n",
              "      <td>0</td>\n",
              "      <td>0</td>\n",
              "      <td>0</td>\n",
              "      <td>0</td>\n",
              "      <td>0</td>\n",
              "      <td>0</td>\n",
              "      <td>0</td>\n",
              "    </tr>\n",
              "    <tr>\n",
              "      <th>...</th>\n",
              "      <td>...</td>\n",
              "      <td>...</td>\n",
              "      <td>...</td>\n",
              "      <td>...</td>\n",
              "      <td>...</td>\n",
              "      <td>...</td>\n",
              "      <td>...</td>\n",
              "      <td>...</td>\n",
              "      <td>...</td>\n",
              "      <td>...</td>\n",
              "      <td>...</td>\n",
              "      <td>...</td>\n",
              "      <td>...</td>\n",
              "      <td>...</td>\n",
              "      <td>...</td>\n",
              "      <td>...</td>\n",
              "      <td>...</td>\n",
              "      <td>...</td>\n",
              "      <td>...</td>\n",
              "      <td>...</td>\n",
              "      <td>...</td>\n",
              "    </tr>\n",
              "    <tr>\n",
              "      <th>1128975</th>\n",
              "      <td>0</td>\n",
              "      <td>0</td>\n",
              "      <td>0</td>\n",
              "      <td>0</td>\n",
              "      <td>0</td>\n",
              "      <td>0</td>\n",
              "      <td>0</td>\n",
              "      <td>0</td>\n",
              "      <td>0</td>\n",
              "      <td>0</td>\n",
              "      <td>...</td>\n",
              "      <td>0</td>\n",
              "      <td>0</td>\n",
              "      <td>0</td>\n",
              "      <td>0</td>\n",
              "      <td>0</td>\n",
              "      <td>0</td>\n",
              "      <td>0</td>\n",
              "      <td>0</td>\n",
              "      <td>0</td>\n",
              "      <td>0</td>\n",
              "    </tr>\n",
              "    <tr>\n",
              "      <th>1128977</th>\n",
              "      <td>0</td>\n",
              "      <td>0</td>\n",
              "      <td>0</td>\n",
              "      <td>0</td>\n",
              "      <td>0</td>\n",
              "      <td>0</td>\n",
              "      <td>0</td>\n",
              "      <td>0</td>\n",
              "      <td>0</td>\n",
              "      <td>0</td>\n",
              "      <td>...</td>\n",
              "      <td>0</td>\n",
              "      <td>0</td>\n",
              "      <td>0</td>\n",
              "      <td>0</td>\n",
              "      <td>0</td>\n",
              "      <td>0</td>\n",
              "      <td>0</td>\n",
              "      <td>0</td>\n",
              "      <td>0</td>\n",
              "      <td>0</td>\n",
              "    </tr>\n",
              "    <tr>\n",
              "      <th>1128978</th>\n",
              "      <td>0</td>\n",
              "      <td>0</td>\n",
              "      <td>0</td>\n",
              "      <td>0</td>\n",
              "      <td>0</td>\n",
              "      <td>0</td>\n",
              "      <td>0</td>\n",
              "      <td>0</td>\n",
              "      <td>0</td>\n",
              "      <td>0</td>\n",
              "      <td>...</td>\n",
              "      <td>0</td>\n",
              "      <td>0</td>\n",
              "      <td>0</td>\n",
              "      <td>0</td>\n",
              "      <td>0</td>\n",
              "      <td>0</td>\n",
              "      <td>0</td>\n",
              "      <td>0</td>\n",
              "      <td>0</td>\n",
              "      <td>0</td>\n",
              "    </tr>\n",
              "    <tr>\n",
              "      <th>117328</th>\n",
              "      <td>0</td>\n",
              "      <td>0</td>\n",
              "      <td>0</td>\n",
              "      <td>0</td>\n",
              "      <td>1</td>\n",
              "      <td>0</td>\n",
              "      <td>0</td>\n",
              "      <td>0</td>\n",
              "      <td>0</td>\n",
              "      <td>0</td>\n",
              "      <td>...</td>\n",
              "      <td>1</td>\n",
              "      <td>0</td>\n",
              "      <td>0</td>\n",
              "      <td>0</td>\n",
              "      <td>0</td>\n",
              "      <td>0</td>\n",
              "      <td>0</td>\n",
              "      <td>0</td>\n",
              "      <td>0</td>\n",
              "      <td>0</td>\n",
              "    </tr>\n",
              "    <tr>\n",
              "      <th>24043</th>\n",
              "      <td>0</td>\n",
              "      <td>0</td>\n",
              "      <td>0</td>\n",
              "      <td>0</td>\n",
              "      <td>0</td>\n",
              "      <td>0</td>\n",
              "      <td>0</td>\n",
              "      <td>0</td>\n",
              "      <td>0</td>\n",
              "      <td>0</td>\n",
              "      <td>...</td>\n",
              "      <td>0</td>\n",
              "      <td>0</td>\n",
              "      <td>0</td>\n",
              "      <td>0</td>\n",
              "      <td>0</td>\n",
              "      <td>0</td>\n",
              "      <td>0</td>\n",
              "      <td>0</td>\n",
              "      <td>0</td>\n",
              "      <td>0</td>\n",
              "    </tr>\n",
              "  </tbody>\n",
              "</table>\n",
              "<p>2708 rows × 1433 columns</p>\n",
              "</div>\n",
              "      <button class=\"colab-df-convert\" onclick=\"convertToInteractive('df-a0523dab-67f7-4cb3-92bf-2de4a3b37660')\"\n",
              "              title=\"Convert this dataframe to an interactive table.\"\n",
              "              style=\"display:none;\">\n",
              "        \n",
              "  <svg xmlns=\"http://www.w3.org/2000/svg\" height=\"24px\"viewBox=\"0 0 24 24\"\n",
              "       width=\"24px\">\n",
              "    <path d=\"M0 0h24v24H0V0z\" fill=\"none\"/>\n",
              "    <path d=\"M18.56 5.44l.94 2.06.94-2.06 2.06-.94-2.06-.94-.94-2.06-.94 2.06-2.06.94zm-11 1L8.5 8.5l.94-2.06 2.06-.94-2.06-.94L8.5 2.5l-.94 2.06-2.06.94zm10 10l.94 2.06.94-2.06 2.06-.94-2.06-.94-.94-2.06-.94 2.06-2.06.94z\"/><path d=\"M17.41 7.96l-1.37-1.37c-.4-.4-.92-.59-1.43-.59-.52 0-1.04.2-1.43.59L10.3 9.45l-7.72 7.72c-.78.78-.78 2.05 0 2.83L4 21.41c.39.39.9.59 1.41.59.51 0 1.02-.2 1.41-.59l7.78-7.78 2.81-2.81c.8-.78.8-2.07 0-2.86zM5.41 20L4 18.59l7.72-7.72 1.47 1.35L5.41 20z\"/>\n",
              "  </svg>\n",
              "      </button>\n",
              "      \n",
              "  <style>\n",
              "    .colab-df-container {\n",
              "      display:flex;\n",
              "      flex-wrap:wrap;\n",
              "      gap: 12px;\n",
              "    }\n",
              "\n",
              "    .colab-df-convert {\n",
              "      background-color: #E8F0FE;\n",
              "      border: none;\n",
              "      border-radius: 50%;\n",
              "      cursor: pointer;\n",
              "      display: none;\n",
              "      fill: #1967D2;\n",
              "      height: 32px;\n",
              "      padding: 0 0 0 0;\n",
              "      width: 32px;\n",
              "    }\n",
              "\n",
              "    .colab-df-convert:hover {\n",
              "      background-color: #E2EBFA;\n",
              "      box-shadow: 0px 1px 2px rgba(60, 64, 67, 0.3), 0px 1px 3px 1px rgba(60, 64, 67, 0.15);\n",
              "      fill: #174EA6;\n",
              "    }\n",
              "\n",
              "    [theme=dark] .colab-df-convert {\n",
              "      background-color: #3B4455;\n",
              "      fill: #D2E3FC;\n",
              "    }\n",
              "\n",
              "    [theme=dark] .colab-df-convert:hover {\n",
              "      background-color: #434B5C;\n",
              "      box-shadow: 0px 1px 3px 1px rgba(0, 0, 0, 0.15);\n",
              "      filter: drop-shadow(0px 1px 2px rgba(0, 0, 0, 0.3));\n",
              "      fill: #FFFFFF;\n",
              "    }\n",
              "  </style>\n",
              "\n",
              "      <script>\n",
              "        const buttonEl =\n",
              "          document.querySelector('#df-a0523dab-67f7-4cb3-92bf-2de4a3b37660 button.colab-df-convert');\n",
              "        buttonEl.style.display =\n",
              "          google.colab.kernel.accessAllowed ? 'block' : 'none';\n",
              "\n",
              "        async function convertToInteractive(key) {\n",
              "          const element = document.querySelector('#df-a0523dab-67f7-4cb3-92bf-2de4a3b37660');\n",
              "          const dataTable =\n",
              "            await google.colab.kernel.invokeFunction('convertToInteractive',\n",
              "                                                     [key], {});\n",
              "          if (!dataTable) return;\n",
              "\n",
              "          const docLinkHtml = 'Like what you see? Visit the ' +\n",
              "            '<a target=\"_blank\" href=https://colab.research.google.com/notebooks/data_table.ipynb>data table notebook</a>'\n",
              "            + ' to learn more about interactive tables.';\n",
              "          element.innerHTML = '';\n",
              "          dataTable['output_type'] = 'display_data';\n",
              "          await google.colab.output.renderOutput(dataTable, element);\n",
              "          const docLink = document.createElement('div');\n",
              "          docLink.innerHTML = docLinkHtml;\n",
              "          element.appendChild(docLink);\n",
              "        }\n",
              "      </script>\n",
              "    </div>\n",
              "  </div>\n",
              "  "
            ]
          },
          "metadata": {},
          "execution_count": 9
        }
      ]
    },
    {
      "cell_type": "markdown",
      "metadata": {
        "id": "hboA8ZqDlZsq"
      },
      "source": [
        "We’ve got all the right node data, and the right edges, so now we can create a StellarGraph using the techniques we saw in the “homogeneous graph with features” section above."
      ]
    },
    {
      "cell_type": "code",
      "metadata": {
        "id": "6k-TaVVnlZsr",
        "colab": {
          "base_uri": "https://localhost:8080/"
        },
        "outputId": "e7e82fca-cf50-4b84-fc9b-3557f4c94e79"
      },
      "source": [
        "cora_no_subject = StellarGraph({\"paper\": cora_content_no_subject}, {\"cites\": cora_cites})\n",
        "print(cora_no_subject.info())"
      ],
      "execution_count": 10,
      "outputs": [
        {
          "output_type": "stream",
          "name": "stdout",
          "text": [
            "StellarGraph: Undirected multigraph\n",
            " Nodes: 2708, Edges: 5429\n",
            "\n",
            " Node types:\n",
            "  paper: [2708]\n",
            "    Features: float32 vector, length 1433\n",
            "    Edge types: paper-cites->paper\n",
            "\n",
            " Edge types:\n",
            "    paper-cites->paper: [5429]\n",
            "        Weights: all 1 (default)\n",
            "        Features: none\n"
          ]
        }
      ]
    },
    {
      "cell_type": "markdown",
      "metadata": {
        "id": "jk8T4GwFlZsr"
      },
      "source": [
        "If we’re trying to predict the subject, we’ll probably need to use the subject labels as ground-truth labels in a supervised or semi-supervised machine learning task. This can be extracted from the DataFrame and held separately, to be passed in as training, validation or test examples."
      ]
    },
    {
      "cell_type": "code",
      "metadata": {
        "id": "Q25T3dzrlZsr",
        "colab": {
          "base_uri": "https://localhost:8080/"
        },
        "outputId": "fae73b15-2815-470c-9335-1bccc3859fd8"
      },
      "source": [
        "cora_subject = cora_content_str_subject[\"subject\"]\n",
        "cora_subject"
      ],
      "execution_count": 11,
      "outputs": [
        {
          "output_type": "execute_result",
          "data": {
            "text/plain": [
              "id\n",
              "31336             Neural_Networks\n",
              "1061127             Rule_Learning\n",
              "1106406    Reinforcement_Learning\n",
              "13195      Reinforcement_Learning\n",
              "37879       Probabilistic_Methods\n",
              "                    ...          \n",
              "1128975        Genetic_Algorithms\n",
              "1128977        Genetic_Algorithms\n",
              "1128978        Genetic_Algorithms\n",
              "117328                 Case_Based\n",
              "24043             Neural_Networks\n",
              "Name: subject, Length: 2708, dtype: object"
            ]
          },
          "metadata": {},
          "execution_count": 11
        }
      ]
    },
    {
      "cell_type": "markdown",
      "metadata": {
        "id": "btuLXrd8lZss"
      },
      "source": [
        "**1.1.2 Splitting the data.  (0.5 point)**<br>\n",
        "<font color='red'>How you should answer the following questions: In the `#TODO` cell you have to write the code representing your solution.</font>\n"
      ]
    },
    {
      "cell_type": "markdown",
      "metadata": {
        "id": "fLiPGRUWlZss"
      },
      "source": [
        "For machine learning we want to take a subset of the nodes for training, and use the rest for validation and testing. Use scikit-learn’s train_test_split function to do this.\n",
        "\n",
        "Here we’re taking 200 node labels for training, 600 for validation, and the rest for testing."
      ]
    },
    {
      "cell_type": "code",
      "metadata": {
        "id": "65rmVUFslZss"
      },
      "source": [
        "train_subjects, test_and_val_subjects = model_selection.train_test_split(\n",
        "    cora_content_str_subject.index, train_size=200, test_size=None, stratify=cora_subject\n",
        ")\n",
        "val_subjects, test_subjects = model_selection.train_test_split(\n",
        "    test_and_val_subjects, train_size=600, test_size=None, stratify=cora_subject.loc[test_and_val_subjects]\n",
        ")"
      ],
      "execution_count": 12,
      "outputs": []
    },
    {
      "cell_type": "markdown",
      "metadata": {
        "id": "_iFRlXYflZss"
      },
      "source": [
        "Note using stratified sampling gives the following counts:"
      ]
    },
    {
      "cell_type": "code",
      "metadata": {
        "id": "78FD9myglZss",
        "colab": {
          "base_uri": "https://localhost:8080/",
          "height": 424
        },
        "outputId": "29d70a6f-2c47-4e02-8c44-c3f3598b98cb"
      },
      "source": [
        "train_subjects.value_counts().to_frame()"
      ],
      "execution_count": 13,
      "outputs": [
        {
          "output_type": "execute_result",
          "data": {
            "text/plain": [
              "         id\n",
              "37884     1\n",
              "63549     1\n",
              "1128997   1\n",
              "1103737   1\n",
              "642894    1\n",
              "...      ..\n",
              "1129442   1\n",
              "308003    1\n",
              "1131421   1\n",
              "140569    1\n",
              "1110546   1\n",
              "\n",
              "[200 rows x 1 columns]"
            ],
            "text/html": [
              "\n",
              "  <div id=\"df-30bd0b87-1ea8-4b60-b84e-66ce40eba03f\">\n",
              "    <div class=\"colab-df-container\">\n",
              "      <div>\n",
              "<style scoped>\n",
              "    .dataframe tbody tr th:only-of-type {\n",
              "        vertical-align: middle;\n",
              "    }\n",
              "\n",
              "    .dataframe tbody tr th {\n",
              "        vertical-align: top;\n",
              "    }\n",
              "\n",
              "    .dataframe thead th {\n",
              "        text-align: right;\n",
              "    }\n",
              "</style>\n",
              "<table border=\"1\" class=\"dataframe\">\n",
              "  <thead>\n",
              "    <tr style=\"text-align: right;\">\n",
              "      <th></th>\n",
              "      <th>id</th>\n",
              "    </tr>\n",
              "  </thead>\n",
              "  <tbody>\n",
              "    <tr>\n",
              "      <th>37884</th>\n",
              "      <td>1</td>\n",
              "    </tr>\n",
              "    <tr>\n",
              "      <th>63549</th>\n",
              "      <td>1</td>\n",
              "    </tr>\n",
              "    <tr>\n",
              "      <th>1128997</th>\n",
              "      <td>1</td>\n",
              "    </tr>\n",
              "    <tr>\n",
              "      <th>1103737</th>\n",
              "      <td>1</td>\n",
              "    </tr>\n",
              "    <tr>\n",
              "      <th>642894</th>\n",
              "      <td>1</td>\n",
              "    </tr>\n",
              "    <tr>\n",
              "      <th>...</th>\n",
              "      <td>...</td>\n",
              "    </tr>\n",
              "    <tr>\n",
              "      <th>1129442</th>\n",
              "      <td>1</td>\n",
              "    </tr>\n",
              "    <tr>\n",
              "      <th>308003</th>\n",
              "      <td>1</td>\n",
              "    </tr>\n",
              "    <tr>\n",
              "      <th>1131421</th>\n",
              "      <td>1</td>\n",
              "    </tr>\n",
              "    <tr>\n",
              "      <th>140569</th>\n",
              "      <td>1</td>\n",
              "    </tr>\n",
              "    <tr>\n",
              "      <th>1110546</th>\n",
              "      <td>1</td>\n",
              "    </tr>\n",
              "  </tbody>\n",
              "</table>\n",
              "<p>200 rows × 1 columns</p>\n",
              "</div>\n",
              "      <button class=\"colab-df-convert\" onclick=\"convertToInteractive('df-30bd0b87-1ea8-4b60-b84e-66ce40eba03f')\"\n",
              "              title=\"Convert this dataframe to an interactive table.\"\n",
              "              style=\"display:none;\">\n",
              "        \n",
              "  <svg xmlns=\"http://www.w3.org/2000/svg\" height=\"24px\"viewBox=\"0 0 24 24\"\n",
              "       width=\"24px\">\n",
              "    <path d=\"M0 0h24v24H0V0z\" fill=\"none\"/>\n",
              "    <path d=\"M18.56 5.44l.94 2.06.94-2.06 2.06-.94-2.06-.94-.94-2.06-.94 2.06-2.06.94zm-11 1L8.5 8.5l.94-2.06 2.06-.94-2.06-.94L8.5 2.5l-.94 2.06-2.06.94zm10 10l.94 2.06.94-2.06 2.06-.94-2.06-.94-.94-2.06-.94 2.06-2.06.94z\"/><path d=\"M17.41 7.96l-1.37-1.37c-.4-.4-.92-.59-1.43-.59-.52 0-1.04.2-1.43.59L10.3 9.45l-7.72 7.72c-.78.78-.78 2.05 0 2.83L4 21.41c.39.39.9.59 1.41.59.51 0 1.02-.2 1.41-.59l7.78-7.78 2.81-2.81c.8-.78.8-2.07 0-2.86zM5.41 20L4 18.59l7.72-7.72 1.47 1.35L5.41 20z\"/>\n",
              "  </svg>\n",
              "      </button>\n",
              "      \n",
              "  <style>\n",
              "    .colab-df-container {\n",
              "      display:flex;\n",
              "      flex-wrap:wrap;\n",
              "      gap: 12px;\n",
              "    }\n",
              "\n",
              "    .colab-df-convert {\n",
              "      background-color: #E8F0FE;\n",
              "      border: none;\n",
              "      border-radius: 50%;\n",
              "      cursor: pointer;\n",
              "      display: none;\n",
              "      fill: #1967D2;\n",
              "      height: 32px;\n",
              "      padding: 0 0 0 0;\n",
              "      width: 32px;\n",
              "    }\n",
              "\n",
              "    .colab-df-convert:hover {\n",
              "      background-color: #E2EBFA;\n",
              "      box-shadow: 0px 1px 2px rgba(60, 64, 67, 0.3), 0px 1px 3px 1px rgba(60, 64, 67, 0.15);\n",
              "      fill: #174EA6;\n",
              "    }\n",
              "\n",
              "    [theme=dark] .colab-df-convert {\n",
              "      background-color: #3B4455;\n",
              "      fill: #D2E3FC;\n",
              "    }\n",
              "\n",
              "    [theme=dark] .colab-df-convert:hover {\n",
              "      background-color: #434B5C;\n",
              "      box-shadow: 0px 1px 3px 1px rgba(0, 0, 0, 0.15);\n",
              "      filter: drop-shadow(0px 1px 2px rgba(0, 0, 0, 0.3));\n",
              "      fill: #FFFFFF;\n",
              "    }\n",
              "  </style>\n",
              "\n",
              "      <script>\n",
              "        const buttonEl =\n",
              "          document.querySelector('#df-30bd0b87-1ea8-4b60-b84e-66ce40eba03f button.colab-df-convert');\n",
              "        buttonEl.style.display =\n",
              "          google.colab.kernel.accessAllowed ? 'block' : 'none';\n",
              "\n",
              "        async function convertToInteractive(key) {\n",
              "          const element = document.querySelector('#df-30bd0b87-1ea8-4b60-b84e-66ce40eba03f');\n",
              "          const dataTable =\n",
              "            await google.colab.kernel.invokeFunction('convertToInteractive',\n",
              "                                                     [key], {});\n",
              "          if (!dataTable) return;\n",
              "\n",
              "          const docLinkHtml = 'Like what you see? Visit the ' +\n",
              "            '<a target=\"_blank\" href=https://colab.research.google.com/notebooks/data_table.ipynb>data table notebook</a>'\n",
              "            + ' to learn more about interactive tables.';\n",
              "          element.innerHTML = '';\n",
              "          dataTable['output_type'] = 'display_data';\n",
              "          await google.colab.output.renderOutput(dataTable, element);\n",
              "          const docLink = document.createElement('div');\n",
              "          docLink.innerHTML = docLinkHtml;\n",
              "          element.appendChild(docLink);\n",
              "        }\n",
              "      </script>\n",
              "    </div>\n",
              "  </div>\n",
              "  "
            ]
          },
          "metadata": {},
          "execution_count": 13
        }
      ]
    },
    {
      "cell_type": "markdown",
      "metadata": {
        "id": "lqWWTWe3lZst"
      },
      "source": [
        "The training set has class imbalance that might need to be compensated, e.g., via using a weighted cross-entropy loss in model training, with class weights inversely proportional to class support. However, we will ignore the class imbalance in this example, for simplicity."
      ]
    },
    {
      "cell_type": "markdown",
      "metadata": {
        "id": "paH7dW3jlZst"
      },
      "source": [
        "### Converting to numeric arrays\n",
        "For our categorical target, we will use one-hot vectors that will be compared against the model’s soft-max output. To do this conversion we can use the LabelBinarizer transform from scikit-learn. Another option would be the pandas.get_dummies function, but the scikit-learn transform allows us to do the inverse transform easily later in the notebook, to interpret the predictions."
      ]
    },
    {
      "cell_type": "code",
      "metadata": {
        "id": "XFKb3pzMlZst"
      },
      "source": [
        "target_encoding = preprocessing.LabelBinarizer()\n",
        "\n",
        "train_targets = target_encoding.fit_transform(train_subjects)\n",
        "val_targets = target_encoding.transform(val_subjects)\n",
        "test_targets = target_encoding.transform(test_subjects)"
      ],
      "execution_count": 14,
      "outputs": []
    },
    {
      "cell_type": "markdown",
      "metadata": {
        "id": "o6Qrv-jWlZst"
      },
      "source": [
        "## 1.2  GCN  (9 points)"
      ]
    },
    {
      "cell_type": "markdown",
      "metadata": {
        "id": "MKCUbKZMlZst"
      },
      "source": [
        "Create a generator instance by using grah object."
      ]
    },
    {
      "cell_type": "code",
      "metadata": {
        "scrolled": true,
        "id": "qwU8NV4YlZsu",
        "colab": {
          "base_uri": "https://localhost:8080/"
        },
        "outputId": "c6c2c1e6-1bf5-4e55-cc18-f601b6b57181"
      },
      "source": [
        "generator = FullBatchNodeGenerator(cora_no_subject, method=\"gcn\", sparse=False)"
      ],
      "execution_count": 32,
      "outputs": [
        {
          "output_type": "stream",
          "name": "stdout",
          "text": [
            "Using GCN (local pooling) filters...\n"
          ]
        }
      ]
    },
    {
      "cell_type": "code",
      "metadata": {
        "id": "EJjjHckrlZsu"
      },
      "source": [
        "train_gen = generator.flow(train_subjects, train_targets)"
      ],
      "execution_count": 33,
      "outputs": []
    },
    {
      "cell_type": "markdown",
      "metadata": {
        "id": "zJ59P3AQlZsu"
      },
      "source": [
        "**1.2.1 Define two GCN models here. In first, use 32 as hidden units in both the layers, keep activation function as relu, dropout layer as 40%. In second, use 32 as hidden units in both the layers, keep activation function as relu, dropout layer as 60%. (1 point)** <br>\n",
        "<font color='red'>How you should answer the following questions: In the `#TODO` cell you have to write the code representing your solution.</font>\n"
      ]
    },
    {
      "cell_type": "code",
      "metadata": {
        "id": "YOXTpS-9lZsu"
      },
      "source": [
        "gcn1 = GCN(\n",
        "    layer_sizes=[32, 32],\n",
        "    activations=[\"relu\", \"relu\"],\n",
        "    generator=generator,\n",
        "    dropout=0.4\n",
        ")"
      ],
      "execution_count": 34,
      "outputs": []
    },
    {
      "cell_type": "code",
      "metadata": {
        "id": "Yq_Pnd_clZsu"
      },
      "source": [
        "gcn2 = GCN(\n",
        "    layer_sizes=[32, 32],\n",
        "    activations=[\"relu\", \"relu\"],\n",
        "    generator=generator,\n",
        "    dropout=0.6\n",
        ")"
      ],
      "execution_count": 35,
      "outputs": []
    },
    {
      "cell_type": "markdown",
      "metadata": {
        "id": "iroXuBsTKHDu"
      },
      "source": [
        "**1.2.2 What you think what should happen by changing the parameters of GCN model here? Should performance of the test set increases or decreases? State your reasons. (1 point)** <br>\n",
        "<font color='red'>Write your observation in the `Your answer` cell.</font>"
      ]
    },
    {
      "cell_type": "markdown",
      "metadata": {
        "id": "Z9aigz95KHDu"
      },
      "source": [
        "**<font color='red'>Your answer:</font>** By changing the parameters of the GCN model, the test set's performance can either increase or decrease, depending on the specific changes made to the model.\n",
        "\n",
        "For example, increasing the number of hidden units in the GCN layers can increase the model's capacity to learn more complex relationships between the nodes. It can lead to better performance on the test set. Similarly, decreasing the dropout rate can reduce the regularization applied to the model, leading to better performance on the test set.\n",
        "\n",
        "On the other hand, decreasing the number of hidden units or increasing the dropout rate can reduce the model's capacity to learn complex relationships between the nodes, leading to worse performance on the test set.\n",
        "\n",
        "It is important to note that finding the optimal parameters for a machine learning model often involves a process of trial and error, and it is typically necessary to experiment with different configurations to find the best-performing model."
      ]
    },
    {
      "cell_type": "markdown",
      "metadata": {
        "id": "NrzgTXAolZsv"
      },
      "source": [
        "To create a Keras model we now expose the input and output tensors of the GCN model for node prediction, via the GCN.in_out_tensors method: <br>\n",
        "**Note: Use the first GCN model we created by the name of 'gcn1' instance for all the steps below.**"
      ]
    },
    {
      "cell_type": "code",
      "metadata": {
        "id": "Xg9LZTC6lZsv",
        "colab": {
          "base_uri": "https://localhost:8080/"
        },
        "outputId": "236d08f5-a087-43bf-a7cc-5e828f58f3ee"
      },
      "source": [
        "x_inp, x_out = gcn1.in_out_tensors()\n",
        "\n",
        "x_out"
      ],
      "execution_count": 37,
      "outputs": [
        {
          "output_type": "execute_result",
          "data": {
            "text/plain": [
              "<KerasTensor: shape=(1, None, 32) dtype=float32 (created by layer 'gather_indices_1')>"
            ]
          },
          "metadata": {},
          "execution_count": 37
        }
      ]
    },
    {
      "cell_type": "markdown",
      "metadata": {
        "id": "svlz0z2rlZsv"
      },
      "source": [
        "**1.2.3 Define the last layer, that is, softmax layer (1 point)** <br>\n",
        "<font color='red'>How you should answer the following questions: In the `#TODO` cell you have to write the code representing your solution.</font>\n"
      ]
    },
    {
      "cell_type": "code",
      "metadata": {
        "id": "NNvskcNKlZsv"
      },
      "source": [
        "from tensorflow.keras import layers\n",
        "\n",
        "predictions = layers.Dense(units=train_targets.shape[1], activation=\"softmax\")(x_out)"
      ],
      "execution_count": 38,
      "outputs": []
    },
    {
      "cell_type": "markdown",
      "metadata": {
        "id": "QP6ucmmvlZsw"
      },
      "source": [
        "**1.2.4 Compile the model. Keep the parameters same as was discussed in the lab (1 point)** <br>\n",
        "<font color='red'>How you should answer the following questions: In the `#TODO` cell you have to write the code representing your solution.</font>"
      ]
    },
    {
      "cell_type": "code",
      "metadata": {
        "id": "iE822MeilZsw"
      },
      "source": [
        "from tensorflow.keras import optimizers, losses\n",
        "\n",
        "model = Model(inputs=x_inp, outputs=predictions)\n",
        "model.compile(\n",
        "    optimizer=optimizers.Adam(learning_rate=0.01),\n",
        "    loss=losses.categorical_crossentropy,\n",
        "    metrics=[\"acc\"],\n",
        ")"
      ],
      "execution_count": 39,
      "outputs": []
    },
    {
      "cell_type": "code",
      "metadata": {
        "id": "4jFQ-sinlZsw"
      },
      "source": [
        "val_gen = generator.flow(val_subjects, val_targets)"
      ],
      "execution_count": 40,
      "outputs": []
    },
    {
      "cell_type": "code",
      "metadata": {
        "id": "20phqBXflZsw"
      },
      "source": [
        "es_callback = EarlyStopping(monitor=\"val_acc\", patience=50, restore_best_weights=True)"
      ],
      "execution_count": 41,
      "outputs": []
    },
    {
      "cell_type": "markdown",
      "metadata": {
        "id": "dyLQVl22lZsw"
      },
      "source": [
        "**1.2.5 Train the model. Keep the parameters same as was discussed in the lab (1 point)** <br>\n",
        "<font color='red'>How you should answer the following questions: In the `#TODO` cell you have to write the code representing your solution.</font>"
      ]
    },
    {
      "cell_type": "code",
      "metadata": {
        "id": "y8CXd-3XlZsw",
        "colab": {
          "base_uri": "https://localhost:8080/"
        },
        "outputId": "5a9886af-ae22-4818-b2fc-6b22906ee80b"
      },
      "source": [
        "history = model.fit(\n",
        "    train_gen,\n",
        "    validation_data=val_gen,\n",
        "    epochs=200,\n",
        "    verbose=2,\n",
        "    shuffle=False,  # this should be False, since shuffling data means shuffling the whole graph\n",
        "    callbacks=[es_callback],\n",
        ")"
      ],
      "execution_count": 42,
      "outputs": [
        {
          "output_type": "stream",
          "name": "stdout",
          "text": [
            "Epoch 1/200\n",
            "1/1 - 6s - loss: 5.2974 - acc: 0.0100 - val_loss: 0.0000e+00 - val_acc: 0.0000e+00 - 6s/epoch - 6s/step\n",
            "Epoch 2/200\n",
            "1/1 - 2s - loss: 5.2758 - acc: 0.0200 - val_loss: 0.0000e+00 - val_acc: 0.0000e+00 - 2s/epoch - 2s/step\n",
            "Epoch 3/200\n",
            "1/1 - 2s - loss: 5.2456 - acc: 0.0300 - val_loss: 0.0000e+00 - val_acc: 0.0000e+00 - 2s/epoch - 2s/step\n",
            "Epoch 4/200\n",
            "1/1 - 2s - loss: 5.2058 - acc: 0.0400 - val_loss: 0.0000e+00 - val_acc: 0.0000e+00 - 2s/epoch - 2s/step\n",
            "Epoch 5/200\n",
            "1/1 - 2s - loss: 5.1515 - acc: 0.0650 - val_loss: 0.0000e+00 - val_acc: 0.0000e+00 - 2s/epoch - 2s/step\n",
            "Epoch 6/200\n",
            "1/1 - 1s - loss: 5.0761 - acc: 0.0550 - val_loss: 0.0000e+00 - val_acc: 0.0000e+00 - 1s/epoch - 1s/step\n",
            "Epoch 7/200\n",
            "1/1 - 1s - loss: 4.9824 - acc: 0.0800 - val_loss: 0.0000e+00 - val_acc: 0.0000e+00 - 891ms/epoch - 891ms/step\n",
            "Epoch 8/200\n",
            "1/1 - 1s - loss: 4.8705 - acc: 0.1000 - val_loss: 0.0000e+00 - val_acc: 0.0000e+00 - 914ms/epoch - 914ms/step\n",
            "Epoch 9/200\n",
            "1/1 - 1s - loss: 4.7600 - acc: 0.1050 - val_loss: 0.0000e+00 - val_acc: 0.0000e+00 - 1s/epoch - 1s/step\n",
            "Epoch 10/200\n",
            "1/1 - 1s - loss: 4.6205 - acc: 0.1300 - val_loss: 0.0000e+00 - val_acc: 0.0000e+00 - 1s/epoch - 1s/step\n",
            "Epoch 11/200\n",
            "1/1 - 1s - loss: 4.4583 - acc: 0.1450 - val_loss: 0.0000e+00 - val_acc: 0.0000e+00 - 885ms/epoch - 885ms/step\n",
            "Epoch 12/200\n",
            "1/1 - 1s - loss: 4.3168 - acc: 0.1750 - val_loss: 0.0000e+00 - val_acc: 0.0000e+00 - 892ms/epoch - 892ms/step\n",
            "Epoch 13/200\n",
            "1/1 - 1s - loss: 4.1569 - acc: 0.2200 - val_loss: 0.0000e+00 - val_acc: 0.0000e+00 - 1s/epoch - 1s/step\n",
            "Epoch 14/200\n",
            "1/1 - 1s - loss: 3.9377 - acc: 0.2350 - val_loss: 0.0000e+00 - val_acc: 0.0000e+00 - 901ms/epoch - 901ms/step\n",
            "Epoch 15/200\n",
            "1/1 - 2s - loss: 3.7315 - acc: 0.2900 - val_loss: 0.0000e+00 - val_acc: 0.0000e+00 - 2s/epoch - 2s/step\n",
            "Epoch 16/200\n",
            "1/1 - 1s - loss: 3.4884 - acc: 0.3550 - val_loss: 0.0000e+00 - val_acc: 0.0000e+00 - 1s/epoch - 1s/step\n",
            "Epoch 17/200\n",
            "1/1 - 1s - loss: 3.2873 - acc: 0.4400 - val_loss: 0.0000e+00 - val_acc: 0.0017 - 1s/epoch - 1s/step\n",
            "Epoch 18/200\n",
            "1/1 - 1s - loss: 3.1097 - acc: 0.4800 - val_loss: 0.0000e+00 - val_acc: 0.0050 - 1s/epoch - 1s/step\n",
            "Epoch 19/200\n",
            "1/1 - 2s - loss: 2.8617 - acc: 0.5350 - val_loss: 0.0000e+00 - val_acc: 0.0000e+00 - 2s/epoch - 2s/step\n",
            "Epoch 20/200\n",
            "1/1 - 1s - loss: 2.6479 - acc: 0.5700 - val_loss: 0.0000e+00 - val_acc: 0.0000e+00 - 1s/epoch - 1s/step\n",
            "Epoch 21/200\n",
            "1/1 - 1s - loss: 2.4087 - acc: 0.6250 - val_loss: 0.0000e+00 - val_acc: 0.0000e+00 - 856ms/epoch - 856ms/step\n",
            "Epoch 22/200\n",
            "1/1 - 1s - loss: 2.1882 - acc: 0.6800 - val_loss: 0.0000e+00 - val_acc: 0.0000e+00 - 1s/epoch - 1s/step\n",
            "Epoch 23/200\n",
            "1/1 - 1s - loss: 1.9597 - acc: 0.7450 - val_loss: 0.0000e+00 - val_acc: 0.0050 - 1s/epoch - 1s/step\n",
            "Epoch 24/200\n",
            "1/1 - 1s - loss: 1.7964 - acc: 0.7200 - val_loss: 0.0000e+00 - val_acc: 0.0117 - 1s/epoch - 1s/step\n",
            "Epoch 25/200\n",
            "1/1 - 1s - loss: 1.6437 - acc: 0.7450 - val_loss: 0.0000e+00 - val_acc: 0.0183 - 863ms/epoch - 863ms/step\n",
            "Epoch 26/200\n",
            "1/1 - 1s - loss: 1.4995 - acc: 0.7350 - val_loss: 0.0000e+00 - val_acc: 0.0117 - 1s/epoch - 1s/step\n",
            "Epoch 27/200\n",
            "1/1 - 1s - loss: 1.3408 - acc: 0.7800 - val_loss: 0.0000e+00 - val_acc: 0.0100 - 1s/epoch - 1s/step\n",
            "Epoch 28/200\n",
            "1/1 - 1s - loss: 1.1908 - acc: 0.8200 - val_loss: 0.0000e+00 - val_acc: 0.0117 - 1s/epoch - 1s/step\n",
            "Epoch 29/200\n",
            "1/1 - 1s - loss: 1.1759 - acc: 0.7650 - val_loss: 0.0000e+00 - val_acc: 0.0033 - 1s/epoch - 1s/step\n",
            "Epoch 30/200\n",
            "1/1 - 1s - loss: 1.0633 - acc: 0.8000 - val_loss: 0.0000e+00 - val_acc: 0.0083 - 1s/epoch - 1s/step\n",
            "Epoch 31/200\n",
            "1/1 - 1s - loss: 0.9144 - acc: 0.8200 - val_loss: 0.0000e+00 - val_acc: 0.0117 - 1s/epoch - 1s/step\n",
            "Epoch 32/200\n",
            "1/1 - 1s - loss: 0.9357 - acc: 0.8100 - val_loss: 0.0000e+00 - val_acc: 0.0133 - 1s/epoch - 1s/step\n",
            "Epoch 33/200\n",
            "1/1 - 1s - loss: 0.9385 - acc: 0.8200 - val_loss: 0.0000e+00 - val_acc: 0.0133 - 1s/epoch - 1s/step\n",
            "Epoch 34/200\n",
            "1/1 - 1s - loss: 0.7758 - acc: 0.8300 - val_loss: 0.0000e+00 - val_acc: 0.0167 - 1s/epoch - 1s/step\n",
            "Epoch 35/200\n",
            "1/1 - 1s - loss: 0.6682 - acc: 0.8750 - val_loss: 0.0000e+00 - val_acc: 0.0200 - 1s/epoch - 1s/step\n",
            "Epoch 36/200\n",
            "1/1 - 1s - loss: 0.6654 - acc: 0.8400 - val_loss: 0.0000e+00 - val_acc: 0.0167 - 1s/epoch - 1s/step\n",
            "Epoch 37/200\n",
            "1/1 - 1s - loss: 0.6095 - acc: 0.8600 - val_loss: 0.0000e+00 - val_acc: 0.0050 - 828ms/epoch - 828ms/step\n",
            "Epoch 38/200\n",
            "1/1 - 1s - loss: 0.6125 - acc: 0.8550 - val_loss: 0.0000e+00 - val_acc: 0.0017 - 863ms/epoch - 863ms/step\n",
            "Epoch 39/200\n",
            "1/1 - 1s - loss: 0.5241 - acc: 0.8850 - val_loss: 0.0000e+00 - val_acc: 0.0000e+00 - 1s/epoch - 1s/step\n",
            "Epoch 40/200\n",
            "1/1 - 1s - loss: 0.4926 - acc: 0.8750 - val_loss: 0.0000e+00 - val_acc: 0.0050 - 1s/epoch - 1s/step\n",
            "Epoch 41/200\n",
            "1/1 - 1s - loss: 0.5175 - acc: 0.8500 - val_loss: 0.0000e+00 - val_acc: 0.0083 - 1s/epoch - 1s/step\n",
            "Epoch 42/200\n",
            "1/1 - 1s - loss: 0.5182 - acc: 0.9000 - val_loss: 0.0000e+00 - val_acc: 0.0033 - 1s/epoch - 1s/step\n",
            "Epoch 43/200\n",
            "1/1 - 1s - loss: 0.5207 - acc: 0.8650 - val_loss: 0.0000e+00 - val_acc: 0.0033 - 847ms/epoch - 847ms/step\n",
            "Epoch 44/200\n",
            "1/1 - 1s - loss: 0.4676 - acc: 0.8550 - val_loss: 0.0000e+00 - val_acc: 0.0000e+00 - 1s/epoch - 1s/step\n",
            "Epoch 45/200\n",
            "1/1 - 1s - loss: 0.4545 - acc: 0.8950 - val_loss: 0.0000e+00 - val_acc: 0.0000e+00 - 1s/epoch - 1s/step\n",
            "Epoch 46/200\n",
            "1/1 - 1s - loss: 0.4563 - acc: 0.8450 - val_loss: 0.0000e+00 - val_acc: 0.0000e+00 - 1s/epoch - 1s/step\n",
            "Epoch 47/200\n",
            "1/1 - 1s - loss: 0.3476 - acc: 0.8950 - val_loss: 0.0000e+00 - val_acc: 0.0000e+00 - 1s/epoch - 1s/step\n",
            "Epoch 48/200\n",
            "1/1 - 1s - loss: 0.4023 - acc: 0.8800 - val_loss: 0.0000e+00 - val_acc: 0.0000e+00 - 1s/epoch - 1s/step\n",
            "Epoch 49/200\n",
            "1/1 - 1s - loss: 0.4050 - acc: 0.8800 - val_loss: 0.0000e+00 - val_acc: 0.0017 - 1s/epoch - 1s/step\n",
            "Epoch 50/200\n",
            "1/1 - 1s - loss: 0.3469 - acc: 0.9050 - val_loss: 0.0000e+00 - val_acc: 0.0033 - 1s/epoch - 1s/step\n",
            "Epoch 51/200\n",
            "1/1 - 1s - loss: 0.4328 - acc: 0.8700 - val_loss: 0.0000e+00 - val_acc: 0.0083 - 854ms/epoch - 854ms/step\n",
            "Epoch 52/200\n",
            "1/1 - 1s - loss: 0.2688 - acc: 0.9400 - val_loss: 0.0000e+00 - val_acc: 0.0150 - 874ms/epoch - 874ms/step\n",
            "Epoch 53/200\n",
            "1/1 - 1s - loss: 0.3687 - acc: 0.8850 - val_loss: 0.0000e+00 - val_acc: 0.0167 - 815ms/epoch - 815ms/step\n",
            "Epoch 54/200\n",
            "1/1 - 1s - loss: 0.3265 - acc: 0.8900 - val_loss: 0.0000e+00 - val_acc: 0.0167 - 1s/epoch - 1s/step\n",
            "Epoch 55/200\n",
            "1/1 - 1s - loss: 0.3317 - acc: 0.9000 - val_loss: 0.0000e+00 - val_acc: 0.0100 - 834ms/epoch - 834ms/step\n",
            "Epoch 56/200\n",
            "1/1 - 1s - loss: 0.2658 - acc: 0.9200 - val_loss: 0.0000e+00 - val_acc: 0.0067 - 882ms/epoch - 882ms/step\n",
            "Epoch 57/200\n",
            "1/1 - 1s - loss: 0.2589 - acc: 0.9400 - val_loss: 0.0000e+00 - val_acc: 0.0000e+00 - 1s/epoch - 1s/step\n",
            "Epoch 58/200\n",
            "1/1 - 1s - loss: 0.2701 - acc: 0.9250 - val_loss: 0.0000e+00 - val_acc: 0.0000e+00 - 1s/epoch - 1s/step\n",
            "Epoch 59/200\n",
            "1/1 - 1s - loss: 0.2938 - acc: 0.8950 - val_loss: 0.0000e+00 - val_acc: 0.0000e+00 - 1s/epoch - 1s/step\n",
            "Epoch 60/200\n",
            "1/1 - 2s - loss: 0.2408 - acc: 0.9350 - val_loss: 0.0000e+00 - val_acc: 0.0000e+00 - 2s/epoch - 2s/step\n",
            "Epoch 61/200\n",
            "1/1 - 1s - loss: 0.2418 - acc: 0.9250 - val_loss: 0.0000e+00 - val_acc: 0.0000e+00 - 1s/epoch - 1s/step\n",
            "Epoch 62/200\n",
            "1/1 - 1s - loss: 0.2722 - acc: 0.9250 - val_loss: 0.0000e+00 - val_acc: 0.0000e+00 - 1s/epoch - 1s/step\n",
            "Epoch 63/200\n",
            "1/1 - 1s - loss: 0.2530 - acc: 0.9450 - val_loss: 0.0000e+00 - val_acc: 0.0000e+00 - 1s/epoch - 1s/step\n",
            "Epoch 64/200\n",
            "1/1 - 1s - loss: 0.2727 - acc: 0.8950 - val_loss: 0.0000e+00 - val_acc: 0.0000e+00 - 1s/epoch - 1s/step\n",
            "Epoch 65/200\n",
            "1/1 - 1s - loss: 0.2186 - acc: 0.9300 - val_loss: 0.0000e+00 - val_acc: 0.0000e+00 - 902ms/epoch - 902ms/step\n",
            "Epoch 66/200\n",
            "1/1 - 1s - loss: 0.2134 - acc: 0.9300 - val_loss: 0.0000e+00 - val_acc: 0.0000e+00 - 838ms/epoch - 838ms/step\n",
            "Epoch 67/200\n",
            "1/1 - 1s - loss: 0.2588 - acc: 0.9350 - val_loss: 0.0000e+00 - val_acc: 0.0000e+00 - 861ms/epoch - 861ms/step\n",
            "Epoch 68/200\n",
            "1/1 - 1s - loss: 0.2209 - acc: 0.9300 - val_loss: 0.0000e+00 - val_acc: 0.0000e+00 - 1s/epoch - 1s/step\n",
            "Epoch 69/200\n",
            "1/1 - 1s - loss: 0.2367 - acc: 0.9500 - val_loss: 0.0000e+00 - val_acc: 0.0000e+00 - 1s/epoch - 1s/step\n",
            "Epoch 70/200\n",
            "1/1 - 1s - loss: 0.2092 - acc: 0.9250 - val_loss: 0.0000e+00 - val_acc: 0.0000e+00 - 864ms/epoch - 864ms/step\n",
            "Epoch 71/200\n",
            "1/1 - 1s - loss: 0.2135 - acc: 0.9600 - val_loss: 0.0000e+00 - val_acc: 0.0000e+00 - 846ms/epoch - 846ms/step\n",
            "Epoch 72/200\n",
            "1/1 - 1s - loss: 0.2185 - acc: 0.9450 - val_loss: 0.0000e+00 - val_acc: 0.0000e+00 - 1s/epoch - 1s/step\n",
            "Epoch 73/200\n",
            "1/1 - 1s - loss: 0.1563 - acc: 0.9600 - val_loss: 0.0000e+00 - val_acc: 0.0017 - 844ms/epoch - 844ms/step\n",
            "Epoch 74/200\n",
            "1/1 - 1s - loss: 0.2004 - acc: 0.9550 - val_loss: 0.0000e+00 - val_acc: 0.0017 - 1s/epoch - 1s/step\n",
            "Epoch 75/200\n",
            "1/1 - 1s - loss: 0.2222 - acc: 0.9350 - val_loss: 0.0000e+00 - val_acc: 0.0017 - 1s/epoch - 1s/step\n",
            "Epoch 76/200\n",
            "1/1 - 1s - loss: 0.1494 - acc: 0.9650 - val_loss: 0.0000e+00 - val_acc: 0.0017 - 1s/epoch - 1s/step\n",
            "Epoch 77/200\n",
            "1/1 - 1s - loss: 0.1674 - acc: 0.9600 - val_loss: 0.0000e+00 - val_acc: 0.0017 - 1s/epoch - 1s/step\n",
            "Epoch 78/200\n",
            "1/1 - 2s - loss: 0.1548 - acc: 0.9650 - val_loss: 0.0000e+00 - val_acc: 0.0033 - 2s/epoch - 2s/step\n",
            "Epoch 79/200\n",
            "1/1 - 1s - loss: 0.1765 - acc: 0.9450 - val_loss: 0.0000e+00 - val_acc: 0.0050 - 1s/epoch - 1s/step\n",
            "Epoch 80/200\n",
            "1/1 - 1s - loss: 0.1615 - acc: 0.9550 - val_loss: 0.0000e+00 - val_acc: 0.0050 - 1s/epoch - 1s/step\n",
            "Epoch 81/200\n",
            "1/1 - 1s - loss: 0.1850 - acc: 0.9250 - val_loss: 0.0000e+00 - val_acc: 0.0050 - 1s/epoch - 1s/step\n",
            "Epoch 82/200\n",
            "1/1 - 1s - loss: 0.1874 - acc: 0.9450 - val_loss: 0.0000e+00 - val_acc: 0.0050 - 1s/epoch - 1s/step\n",
            "Epoch 83/200\n",
            "1/1 - 1s - loss: 0.1400 - acc: 0.9700 - val_loss: 0.0000e+00 - val_acc: 0.0017 - 846ms/epoch - 846ms/step\n",
            "Epoch 84/200\n",
            "1/1 - 1s - loss: 0.2361 - acc: 0.9300 - val_loss: 0.0000e+00 - val_acc: 0.0017 - 1s/epoch - 1s/step\n",
            "Epoch 85/200\n",
            "1/1 - 1s - loss: 0.1716 - acc: 0.9550 - val_loss: 0.0000e+00 - val_acc: 0.0017 - 826ms/epoch - 826ms/step\n"
          ]
        }
      ]
    },
    {
      "cell_type": "markdown",
      "metadata": {
        "id": "LEloCV2plZsx"
      },
      "source": [
        "**1.2.6 Plot the accuracy and loss of the train and validation set (1 point)** <br>\n",
        "<font color='red'>How you should answer the following questions: In the `#TODO` cell you have to write the code representing your solution.</font>"
      ]
    },
    {
      "cell_type": "code",
      "metadata": {
        "scrolled": true,
        "id": "g29n0gRPlZsx",
        "colab": {
          "base_uri": "https://localhost:8080/",
          "height": 927
        },
        "outputId": "fdfaf285-699d-42ca-bc0b-99cac84ffcc5"
      },
      "source": [
        "import matplotlib.pyplot as plt\n",
        "\n",
        "# Plot the training and validation loss and accuracy curves\n",
        "train_loss = history.history['loss']\n",
        "val_loss = history.history['val_loss']\n",
        "train_acc = history.history['acc']\n",
        "val_acc = history.history['val_acc']\n",
        "epochs = range(1, len(train_loss) + 1)\n",
        "\n",
        "# Plot the training and validation loss curves\n",
        "plt.figure()\n",
        "plt.plot(epochs, train_loss, 'bo', label='Training loss')\n",
        "plt.plot(epochs, val_loss, 'b', label='Validation loss')\n",
        "plt.title('Training and validation loss')\n",
        "plt.xlabel('Epochs')\n",
        "plt.ylabel('Loss')\n",
        "plt.legend()\n",
        "\n",
        "# Plot the training and validation accuracy curves\n",
        "plt.figure()\n",
        "plt.plot(epochs, train_acc, 'bo', label='Training acc')\n",
        "plt.plot(epochs, val_acc, 'b', label='Validation acc')\n",
        "plt.title('Training and validation accuracy')\n",
        "plt.xlabel('Epochs')\n",
        "plt.ylabel('Accuracy')\n",
        "plt.legend()\n",
        "\n",
        "plt.show()"
      ],
      "execution_count": 45,
      "outputs": [
        {
          "output_type": "display_data",
          "data": {
            "text/plain": [
              "<Figure size 640x480 with 1 Axes>"
            ],
            "image/png": "[encoded data removed]"
          },
          "metadata": {}
        },
        {
          "output_type": "display_data",
          "data": {
            "text/plain": [
              "<Figure size 640x480 with 1 Axes>"
            ],
            "image/png": "[encoded data removed]"
          },
          "metadata": {}
        }
      ]
    },
    {
      "cell_type": "markdown",
      "metadata": {
        "id": "RbWyWkHglZsx"
      },
      "source": [
        "**1.2.7 What do you observe in terms of performance of the model here? Explain in your own words. (1 point)** <br>\n",
        "<font color='red'>Write your observation in the `Your answer` cell.</font>"
      ]
    },
    {
      "cell_type": "markdown",
      "metadata": {
        "id": "J0VnJTNVlZsx"
      },
      "source": [
        "**<font color='red'>Your answer:</font>** During the training process, we can observe that the loss values decrease with each epoch. At the same time, the accuracy increases until it reaches a certain point, after which the accuracy stops improving. This can be seen as a sign of the model overfitting the training data. It can be observed that the validation accuracy and loss values are not improving with each epoch, which indicates that the model is not generalizing well to the unseen data. In summary, the model's performance seems acceptable on the training data, but it is not generalizing well to the validation data, and it might be overfitting to the training data."
      ]
    },
    {
      "cell_type": "markdown",
      "metadata": {
        "id": "wgU6qFFYlZsx"
      },
      "source": [
        "**1.2.8 Use the test set to predict the trained model. (1 point)** <br>\n",
        "<font color='red'>How you should answer the following questions: In the `#TODO` cell you have to write the code representing your solution.</font>"
      ]
    },
    {
      "cell_type": "code",
      "metadata": {
        "id": "CbJ6tkwzlZsx"
      },
      "source": [
        "test_gen = generator.flow(test_subjects, test_targets)"
      ],
      "execution_count": 49,
      "outputs": []
    },
    {
      "cell_type": "code",
      "metadata": {
        "id": "sexFKY2YlZsx",
        "colab": {
          "base_uri": "https://localhost:8080/"
        },
        "outputId": "00a504ef-04dd-473c-8b66-3073f94afa08"
      },
      "source": [
        "test_metrics = model.evaluate(test_gen)\n",
        "print(\"\\nTest Set Metrics:\")\n",
        "for name, val in zip(model.metrics_names, test_metrics):\n",
        "    print(\"\\t{}: {:0.4f}\".format(name, val))"
      ],
      "execution_count": 50,
      "outputs": [
        {
          "output_type": "stream",
          "name": "stdout",
          "text": [
            "1/1 [==============================] - 1s 920ms/step - loss: 0.0000e+00 - acc: 0.0173\n",
            "\n",
            "Test Set Metrics:\n",
            "\tloss: 0.0000\n",
            "\tacc: 0.0173\n"
          ]
        }
      ]
    },
    {
      "cell_type": "markdown",
      "metadata": {
        "id": "N8AHzYd8lZsy"
      },
      "source": [
        "**1.2.9 How can we improve the accuracy here? Write your suggestions. (1 point)** <br>\n",
        "<font color='red'>Write your observation in the `Your answer` cell.</font>"
      ]
    },
    {
      "cell_type": "markdown",
      "metadata": {
        "id": "i7uKsnj-lZsy"
      },
      "source": [
        "**<font color='red'>Your answer:</font>** The model's performance on the test set is relatively poor, with an accuracy of 0.0173. There are several ways to improve the accuracy of the model:\n",
        "1. **Increase the Size**: The model can learn more patterns and generalize better to unseen data if we have more data.\n",
        "2. **Adjust the Architecture**: We can add more layers, increase the number of filters, or use different activation functions to increase the model's complexity and learn more patterns.\n",
        "3. **Increase the Time**: Training the model for more epochs can improve accuracy by learning more from the data.\n",
        "4. **Regularization Techniques**: Regularization techniques such as dropout, L1 or L2 regularization can prevent overfitting and improve the model's generalization ability.\n",
        "5. **Hyperparameter Tuning**: The model's hyperparameters, such as learning rate, batch size, optimizer, etc., can improve its performance."
      ]
    },
    {
      "cell_type": "markdown",
      "metadata": {
        "id": "jEmfAHO4lZsy"
      },
      "source": [
        "# 2. Node classification with GraphSAGE (5 points)\n",
        "Reference: https://stellargraph.readthedocs.io/en/stable/demos/node-classification/graphsage-node-classification.html"
      ]
    },
    {
      "cell_type": "markdown",
      "metadata": {
        "id": "eTvK0qbglZsy"
      },
      "source": [
        "## Libraries"
      ]
    },
    {
      "cell_type": "code",
      "metadata": {
        "id": "1Mpx6S0clZsy"
      },
      "source": [
        "from stellargraph.mapper import GraphSAGENodeGenerator\n",
        "from stellargraph.layer import GraphSAGE"
      ],
      "execution_count": 51,
      "outputs": []
    },
    {
      "cell_type": "markdown",
      "metadata": {
        "id": "knQ4fjTYlZsy"
      },
      "source": [
        "**2.1 Use the same dataset as used in the 1.1. Define number of samples as 10, 5 for each of the layers (there are 2 layers) and set size of the batch as 50.(0.5 point)** <br>\n",
        "<font color='red'>How you should answer the following questions: In the `#TODO` cell you have to write the code representing your solution.</font>"
      ]
    },
    {
      "cell_type": "code",
      "metadata": {
        "id": "tIDKLw02lZsy"
      },
      "source": [
        "batch_size = 50\n",
        "num_samples = [10, 5]\n",
        "num_layers = len(num_samples)"
      ],
      "execution_count": 52,
      "outputs": []
    },
    {
      "cell_type": "markdown",
      "metadata": {
        "id": "n7G0rS5elZsz"
      },
      "source": [
        "**2.2 Use required parameters here for GraphSAGENodeGenerator.(0.5 point)** <br>\n",
        "<font color='red'>How you should answer the following questions: In the `#TODO` cell you have to write the code representing your solution.</font>"
      ]
    },
    {
      "cell_type": "code",
      "metadata": {
        "id": "uJTW1aAwlZsz"
      },
      "source": [
        "generator = GraphSAGENodeGenerator(cora_no_subject, batch_size, num_samples)"
      ],
      "execution_count": 55,
      "outputs": []
    },
    {
      "cell_type": "code",
      "metadata": {
        "id": "npAc5y3ilZsz"
      },
      "source": [
        "train_gen = generator.flow(train_subjects, train_targets, shuffle=True)"
      ],
      "execution_count": 56,
      "outputs": []
    },
    {
      "cell_type": "markdown",
      "metadata": {
        "id": "EMqOUR1IlZsz"
      },
      "source": [
        "**2.3 Here, try atleast three different values of hidden neurons here for both the layers. keep the number of neurons same for both the layers for each model. (1 point)** <br>\n",
        "<font color='red'>How you should answer the following questions: In the `#TODO` cell you have to write the code representing your solution.</font>"
      ]
    },
    {
      "cell_type": "code",
      "metadata": {
        "id": "YQ1TtC0BlZsz"
      },
      "source": [
        "graphsage_model1 = GraphSAGE(\n",
        "    layer_sizes=[16, 16], \n",
        "    generator=generator, bias=True, dropout=0.5,\n",
        ")"
      ],
      "execution_count": 57,
      "outputs": []
    },
    {
      "cell_type": "code",
      "metadata": {
        "id": "YbsiuceOlZsz"
      },
      "source": [
        "graphsage_model2 = GraphSAGE(\n",
        "    layer_sizes=[32, 32], \n",
        "    generator=generator, bias=True, dropout=0.5,\n",
        ")"
      ],
      "execution_count": 58,
      "outputs": []
    },
    {
      "cell_type": "code",
      "metadata": {
        "id": "8JpmozRDlZsz"
      },
      "source": [
        "graphsage_model3 = GraphSAGE(\n",
        "    layer_sizes=[64, 64], \n",
        "    generator=generator, bias=True, dropout=0.5,\n",
        ")"
      ],
      "execution_count": 59,
      "outputs": []
    },
    {
      "cell_type": "markdown",
      "metadata": {
        "id": "9UnXVUBVlZs0"
      },
      "source": [
        "**2.4 Now, use all these three models one by one and compute the test accuracy and loss. Add as many extra cells required. (2 points)** <br>\n",
        "<font color='red'>How you should answer the following questions: In the `#TODO` cell you have to write the code representing your solution.</font>"
      ]
    },
    {
      "cell_type": "code",
      "metadata": {
        "id": "fracJwBSlZs0",
        "colab": {
          "base_uri": "https://localhost:8080/"
        },
        "outputId": "0ee9599c-443a-48d6-9224-f9503d7c8a22"
      },
      "source": [
        "# For model 1\n",
        "x_inp, x_out = graphsage_model1.in_out_tensors()\n",
        "prediction = layers.Dense(units=train_targets.shape[1], activation=\"softmax\")(x_out)"
      ],
      "execution_count": 60,
      "outputs": [
        {
          "output_type": "stream",
          "name": "stderr",
          "text": [
            "/usr/local/lib/python3.9/dist-packages/keras/initializers/initializers.py:120: UserWarning: The initializer GlorotUniform is unseeded and being called multiple times, which will return identical values each time (even if the initializer is unseeded). Please update your code to provide a seed to the initializer, or avoid using the same initalizer instance more than once.\n",
            "  warnings.warn(\n"
          ]
        }
      ]
    },
    {
      "cell_type": "code",
      "metadata": {
        "id": "60d0pW57lZs0"
      },
      "source": [
        "# For model 2\n",
        "x_inp2, x_out2 = graphsage_model2.in_out_tensors()\n",
        "prediction2 = layers.Dense(units=train_targets.shape[1], activation=\"softmax\")(x_out2)"
      ],
      "execution_count": 61,
      "outputs": []
    },
    {
      "cell_type": "code",
      "metadata": {
        "id": "w6CYtNnKlZs0"
      },
      "source": [
        "# For model 3\n",
        "x_inp3, x_out3 = graphsage_model3.in_out_tensors()\n",
        "prediction3 = layers.Dense(units=train_targets.shape[1], activation=\"softmax\")(x_out3)"
      ],
      "execution_count": 62,
      "outputs": []
    },
    {
      "cell_type": "code",
      "metadata": {
        "id": "KB8lA3Y1lZs0"
      },
      "source": [
        "# For model 1\n",
        "model = Model(inputs=x_inp, outputs=prediction)\n",
        "model.compile(\n",
        "    optimizer=optimizers.Adam(learning_rate=0.01),\n",
        "    loss=losses.categorical_crossentropy,\n",
        "    metrics=[\"acc\"],\n",
        ")"
      ],
      "execution_count": 64,
      "outputs": []
    },
    {
      "cell_type": "code",
      "metadata": {
        "id": "b6tlrJuYlZs0"
      },
      "source": [
        "# For model 2\n",
        "model2 = Model(inputs=x_inp2, outputs=prediction2)\n",
        "model2.compile(\n",
        "    optimizer=optimizers.Adam(learning_rate=0.01),\n",
        "    loss=losses.categorical_crossentropy,\n",
        "    metrics=[\"acc\"],\n",
        ")"
      ],
      "execution_count": 65,
      "outputs": []
    },
    {
      "cell_type": "code",
      "metadata": {
        "id": "zBqY5IyNlZs0"
      },
      "source": [
        "# For model 3\n",
        "model3 = Model(inputs=x_inp3, outputs=prediction3)\n",
        "model3.compile(\n",
        "    optimizer=optimizers.Adam(learning_rate=0.01),\n",
        "    loss=losses.categorical_crossentropy,\n",
        "    metrics=[\"acc\"],\n",
        ")"
      ],
      "execution_count": 66,
      "outputs": []
    },
    {
      "cell_type": "code",
      "metadata": {
        "id": "xOnQQiOnlZs1"
      },
      "source": [
        "# For model 1\n",
        "test_gen = generator.flow(test_subjects, test_targets)"
      ],
      "execution_count": 67,
      "outputs": []
    },
    {
      "cell_type": "code",
      "metadata": {
        "id": "_7p8fniWlZs1"
      },
      "source": [
        "# For model 2\n",
        "test_gen2 = generator.flow(test_subjects, test_targets)"
      ],
      "execution_count": 68,
      "outputs": []
    },
    {
      "cell_type": "code",
      "metadata": {
        "id": "CqYu_UQWlZs1"
      },
      "source": [
        "# For model 3\n",
        "test_gen3 = generator.flow(test_subjects, test_targets)"
      ],
      "execution_count": 69,
      "outputs": []
    },
    {
      "cell_type": "code",
      "metadata": {
        "id": "2BsWlgF9lZs1",
        "colab": {
          "base_uri": "https://localhost:8080/"
        },
        "outputId": "e8e6c8b7-f046-4509-a97f-ae2394e716bc"
      },
      "source": [
        "# For model 1\n",
        "history = model.fit(\n",
        "    train_gen,\n",
        "    epochs=50,\n",
        "    validation_data=test_gen,\n",
        "    verbose=2,\n",
        "    shuffle=False,\n",
        ")"
      ],
      "execution_count": 70,
      "outputs": [
        {
          "output_type": "stream",
          "name": "stdout",
          "text": [
            "Epoch 1/50\n",
            "4/4 - 11s - loss: 5.3208 - acc: 0.0050 - val_loss: 0.0000e+00 - val_acc: 0.0021 - 11s/epoch - 3s/step\n",
            "Epoch 2/50\n",
            "4/4 - 3s - loss: 5.2345 - acc: 0.0250 - val_loss: 0.0000e+00 - val_acc: 0.0220 - 3s/epoch - 797ms/step\n",
            "Epoch 3/50\n",
            "4/4 - 2s - loss: 5.1866 - acc: 0.0300 - val_loss: 0.0000e+00 - val_acc: 0.0157 - 2s/epoch - 435ms/step\n",
            "Epoch 4/50\n",
            "4/4 - 3s - loss: 5.1537 - acc: 0.1250 - val_loss: 0.0000e+00 - val_acc: 0.0121 - 3s/epoch - 742ms/step\n",
            "Epoch 5/50\n",
            "4/4 - 3s - loss: 5.1036 - acc: 0.1300 - val_loss: 0.0000e+00 - val_acc: 0.0100 - 3s/epoch - 731ms/step\n",
            "Epoch 6/50\n",
            "4/4 - 3s - loss: 5.0544 - acc: 0.1750 - val_loss: 0.0000e+00 - val_acc: 0.0115 - 3s/epoch - 801ms/step\n",
            "Epoch 7/50\n",
            "4/4 - 4s - loss: 5.0286 - acc: 0.1800 - val_loss: 0.0000e+00 - val_acc: 0.0047 - 4s/epoch - 1s/step\n",
            "Epoch 8/50\n",
            "4/4 - 6s - loss: 4.9823 - acc: 0.2150 - val_loss: 0.0000e+00 - val_acc: 0.0047 - 6s/epoch - 1s/step\n",
            "Epoch 9/50\n",
            "4/4 - 2s - loss: 4.9494 - acc: 0.2250 - val_loss: 0.0000e+00 - val_acc: 0.0021 - 2s/epoch - 418ms/step\n",
            "Epoch 10/50\n",
            "4/4 - 3s - loss: 4.9032 - acc: 0.3000 - val_loss: 0.0000e+00 - val_acc: 0.0016 - 3s/epoch - 727ms/step\n",
            "Epoch 11/50\n",
            "4/4 - 3s - loss: 4.8504 - acc: 0.3050 - val_loss: 0.0000e+00 - val_acc: 0.0010 - 3s/epoch - 787ms/step\n",
            "Epoch 12/50\n",
            "4/4 - 3s - loss: 4.8178 - acc: 0.3050 - val_loss: 0.0000e+00 - val_acc: 0.0010 - 3s/epoch - 786ms/step\n",
            "Epoch 13/50\n",
            "4/4 - 3s - loss: 4.7753 - acc: 0.3100 - val_loss: 0.0000e+00 - val_acc: 5.2411e-04 - 3s/epoch - 815ms/step\n",
            "Epoch 14/50\n",
            "4/4 - 3s - loss: 4.7312 - acc: 0.3300 - val_loss: 0.0000e+00 - val_acc: 5.2411e-04 - 3s/epoch - 737ms/step\n",
            "Epoch 15/50\n",
            "4/4 - 3s - loss: 4.7042 - acc: 0.3700 - val_loss: 0.0000e+00 - val_acc: 0.0010 - 3s/epoch - 737ms/step\n",
            "Epoch 16/50\n",
            "4/4 - 3s - loss: 4.6523 - acc: 0.3550 - val_loss: 0.0000e+00 - val_acc: 5.2411e-04 - 3s/epoch - 729ms/step\n",
            "Epoch 17/50\n",
            "4/4 - 3s - loss: 4.6167 - acc: 0.3950 - val_loss: 0.0000e+00 - val_acc: 5.2411e-04 - 3s/epoch - 644ms/step\n",
            "Epoch 18/50\n",
            "4/4 - 3s - loss: 4.5702 - acc: 0.4350 - val_loss: 0.0000e+00 - val_acc: 0.0000e+00 - 3s/epoch - 640ms/step\n",
            "Epoch 19/50\n",
            "4/4 - 2s - loss: 4.5364 - acc: 0.3850 - val_loss: 0.0000e+00 - val_acc: 0.0010 - 2s/epoch - 419ms/step\n",
            "Epoch 20/50\n",
            "4/4 - 2s - loss: 4.4928 - acc: 0.4450 - val_loss: 0.0000e+00 - val_acc: 0.0000e+00 - 2s/epoch - 469ms/step\n",
            "Epoch 21/50\n",
            "4/4 - 3s - loss: 4.4630 - acc: 0.4450 - val_loss: 0.0000e+00 - val_acc: 0.0000e+00 - 3s/epoch - 729ms/step\n",
            "Epoch 22/50\n",
            "4/4 - 3s - loss: 4.4030 - acc: 0.5200 - val_loss: 0.0000e+00 - val_acc: 5.2411e-04 - 3s/epoch - 735ms/step\n",
            "Epoch 23/50\n",
            "4/4 - 3s - loss: 4.3932 - acc: 0.5050 - val_loss: 0.0000e+00 - val_acc: 0.0000e+00 - 3s/epoch - 786ms/step\n",
            "Epoch 24/50\n",
            "4/4 - 3s - loss: 4.3408 - acc: 0.4700 - val_loss: 0.0000e+00 - val_acc: 0.0000e+00 - 3s/epoch - 641ms/step\n",
            "Epoch 25/50\n",
            "4/4 - 2s - loss: 4.3242 - acc: 0.4200 - val_loss: 0.0000e+00 - val_acc: 0.0000e+00 - 2s/epoch - 562ms/step\n",
            "Epoch 26/50\n",
            "4/4 - 3s - loss: 4.2826 - acc: 0.4800 - val_loss: 0.0000e+00 - val_acc: 0.0000e+00 - 3s/epoch - 742ms/step\n",
            "Epoch 27/50\n",
            "4/4 - 3s - loss: 4.2500 - acc: 0.5350 - val_loss: 0.0000e+00 - val_acc: 0.0000e+00 - 3s/epoch - 740ms/step\n",
            "Epoch 28/50\n",
            "4/4 - 3s - loss: 4.2284 - acc: 0.4750 - val_loss: 0.0000e+00 - val_acc: 0.0000e+00 - 3s/epoch - 739ms/step\n",
            "Epoch 29/50\n",
            "4/4 - 3s - loss: 4.1955 - acc: 0.5100 - val_loss: 0.0000e+00 - val_acc: 0.0000e+00 - 3s/epoch - 776ms/step\n",
            "Epoch 30/50\n",
            "4/4 - 3s - loss: 4.1418 - acc: 0.5600 - val_loss: 0.0000e+00 - val_acc: 0.0000e+00 - 3s/epoch - 781ms/step\n",
            "Epoch 31/50\n",
            "4/4 - 2s - loss: 4.1044 - acc: 0.5550 - val_loss: 0.0000e+00 - val_acc: 0.0000e+00 - 2s/epoch - 445ms/step\n",
            "Epoch 32/50\n",
            "4/4 - 3s - loss: 4.0746 - acc: 0.5600 - val_loss: 0.0000e+00 - val_acc: 0.0000e+00 - 3s/epoch - 729ms/step\n",
            "Epoch 33/50\n",
            "4/4 - 3s - loss: 4.0659 - acc: 0.5400 - val_loss: 0.0000e+00 - val_acc: 0.0000e+00 - 3s/epoch - 730ms/step\n",
            "Epoch 34/50\n",
            "4/4 - 3s - loss: 4.0219 - acc: 0.5850 - val_loss: 0.0000e+00 - val_acc: 0.0000e+00 - 3s/epoch - 683ms/step\n",
            "Epoch 35/50\n",
            "4/4 - 2s - loss: 3.9797 - acc: 0.5700 - val_loss: 0.0000e+00 - val_acc: 0.0000e+00 - 2s/epoch - 615ms/step\n",
            "Epoch 36/50\n",
            "4/4 - 3s - loss: 3.9607 - acc: 0.5500 - val_loss: 0.0000e+00 - val_acc: 0.0000e+00 - 3s/epoch - 788ms/step\n",
            "Epoch 37/50\n",
            "4/4 - 3s - loss: 3.9523 - acc: 0.5500 - val_loss: 0.0000e+00 - val_acc: 0.0000e+00 - 3s/epoch - 781ms/step\n",
            "Epoch 38/50\n",
            "4/4 - 3s - loss: 3.8839 - acc: 0.6200 - val_loss: 0.0000e+00 - val_acc: 0.0000e+00 - 3s/epoch - 741ms/step\n",
            "Epoch 39/50\n",
            "4/4 - 3s - loss: 3.8519 - acc: 0.6550 - val_loss: 0.0000e+00 - val_acc: 0.0000e+00 - 3s/epoch - 737ms/step\n",
            "Epoch 40/50\n",
            "4/4 - 3s - loss: 3.8363 - acc: 0.5650 - val_loss: 0.0000e+00 - val_acc: 0.0000e+00 - 3s/epoch - 630ms/step\n",
            "Epoch 41/50\n",
            "4/4 - 3s - loss: 3.7968 - acc: 0.6100 - val_loss: 0.0000e+00 - val_acc: 0.0000e+00 - 3s/epoch - 787ms/step\n",
            "Epoch 42/50\n",
            "4/4 - 2s - loss: 3.7796 - acc: 0.5700 - val_loss: 0.0000e+00 - val_acc: 0.0000e+00 - 2s/epoch - 590ms/step\n",
            "Epoch 43/50\n",
            "4/4 - 2s - loss: 3.7412 - acc: 0.6350 - val_loss: 0.0000e+00 - val_acc: 0.0000e+00 - 2s/epoch - 409ms/step\n",
            "Epoch 44/50\n",
            "4/4 - 3s - loss: 3.7264 - acc: 0.5950 - val_loss: 0.0000e+00 - val_acc: 5.2411e-04 - 3s/epoch - 740ms/step\n",
            "Epoch 45/50\n",
            "4/4 - 2s - loss: 3.6754 - acc: 0.6350 - val_loss: 0.0000e+00 - val_acc: 0.0000e+00 - 2s/epoch - 412ms/step\n",
            "Epoch 46/50\n",
            "4/4 - 3s - loss: 3.6729 - acc: 0.6450 - val_loss: 0.0000e+00 - val_acc: 0.0000e+00 - 3s/epoch - 766ms/step\n",
            "Epoch 47/50\n",
            "4/4 - 3s - loss: 3.6192 - acc: 0.6800 - val_loss: 0.0000e+00 - val_acc: 5.2411e-04 - 3s/epoch - 791ms/step\n",
            "Epoch 48/50\n",
            "4/4 - 3s - loss: 3.5983 - acc: 0.6700 - val_loss: 0.0000e+00 - val_acc: 0.0000e+00 - 3s/epoch - 701ms/step\n",
            "Epoch 49/50\n",
            "4/4 - 3s - loss: 3.5816 - acc: 0.6600 - val_loss: 0.0000e+00 - val_acc: 0.0000e+00 - 3s/epoch - 805ms/step\n",
            "Epoch 50/50\n",
            "4/4 - 2s - loss: 3.5435 - acc: 0.7050 - val_loss: 0.0000e+00 - val_acc: 0.0010 - 2s/epoch - 459ms/step\n"
          ]
        }
      ]
    },
    {
      "cell_type": "code",
      "metadata": {
        "id": "btdlHKCQlZs1",
        "colab": {
          "base_uri": "https://localhost:8080/"
        },
        "outputId": "87c8f9dd-3f2c-4bc2-d420-0e9ef5f40f6e"
      },
      "source": [
        "# For model 2\n",
        "history2 = model2.fit(\n",
        "    train_gen,\n",
        "    epochs=50,\n",
        "    validation_data=test_gen2,\n",
        "    verbose=2,\n",
        "    shuffle=False,\n",
        ")"
      ],
      "execution_count": 71,
      "outputs": [
        {
          "output_type": "stream",
          "name": "stdout",
          "text": [
            "Epoch 1/50\n",
            "4/4 - 5s - loss: 5.3399 - acc: 0.0000e+00 - val_loss: 0.0000e+00 - val_acc: 0.0000e+00 - 5s/epoch - 1s/step\n",
            "Epoch 2/50\n",
            "4/4 - 3s - loss: 5.2255 - acc: 0.0400 - val_loss: 0.0000e+00 - val_acc: 0.0058 - 3s/epoch - 808ms/step\n",
            "Epoch 3/50\n",
            "4/4 - 3s - loss: 5.1518 - acc: 0.1500 - val_loss: 0.0000e+00 - val_acc: 0.0089 - 3s/epoch - 691ms/step\n",
            "Epoch 4/50\n",
            "4/4 - 3s - loss: 5.0748 - acc: 0.2650 - val_loss: 0.0000e+00 - val_acc: 0.0010 - 3s/epoch - 795ms/step\n",
            "Epoch 5/50\n",
            "4/4 - 3s - loss: 5.0084 - acc: 0.3600 - val_loss: 0.0000e+00 - val_acc: 0.0000e+00 - 3s/epoch - 728ms/step\n",
            "Epoch 6/50\n",
            "4/4 - 3s - loss: 4.9532 - acc: 0.4400 - val_loss: 0.0000e+00 - val_acc: 0.0010 - 3s/epoch - 733ms/step\n",
            "Epoch 7/50\n",
            "4/4 - 3s - loss: 4.8910 - acc: 0.5300 - val_loss: 0.0000e+00 - val_acc: 0.0016 - 3s/epoch - 797ms/step\n",
            "Epoch 8/50\n",
            "4/4 - 3s - loss: 4.8223 - acc: 0.5750 - val_loss: 0.0000e+00 - val_acc: 5.2411e-04 - 3s/epoch - 792ms/step\n",
            "Epoch 9/50\n",
            "4/4 - 3s - loss: 4.7674 - acc: 0.6300 - val_loss: 0.0000e+00 - val_acc: 0.0010 - 3s/epoch - 790ms/step\n",
            "Epoch 10/50\n",
            "4/4 - 3s - loss: 4.7249 - acc: 0.5650 - val_loss: 0.0000e+00 - val_acc: 0.0031 - 3s/epoch - 733ms/step\n",
            "Epoch 11/50\n",
            "4/4 - 3s - loss: 4.6495 - acc: 0.6950 - val_loss: 0.0000e+00 - val_acc: 0.0031 - 3s/epoch - 732ms/step\n",
            "Epoch 12/50\n",
            "4/4 - 3s - loss: 4.5784 - acc: 0.7600 - val_loss: 0.0000e+00 - val_acc: 0.0026 - 3s/epoch - 798ms/step\n",
            "Epoch 13/50\n",
            "4/4 - 3s - loss: 4.5346 - acc: 0.7350 - val_loss: 0.0000e+00 - val_acc: 0.0026 - 3s/epoch - 782ms/step\n",
            "Epoch 14/50\n",
            "4/4 - 3s - loss: 4.4579 - acc: 0.7500 - val_loss: 0.0000e+00 - val_acc: 0.0016 - 3s/epoch - 727ms/step\n",
            "Epoch 15/50\n",
            "4/4 - 3s - loss: 4.3971 - acc: 0.7550 - val_loss: 0.0000e+00 - val_acc: 0.0026 - 3s/epoch - 736ms/step\n",
            "Epoch 16/50\n",
            "4/4 - 3s - loss: 4.3492 - acc: 0.7550 - val_loss: 0.0000e+00 - val_acc: 0.0021 - 3s/epoch - 742ms/step\n",
            "Epoch 17/50\n",
            "4/4 - 3s - loss: 4.2936 - acc: 0.8050 - val_loss: 0.0000e+00 - val_acc: 0.0042 - 3s/epoch - 690ms/step\n",
            "Epoch 18/50\n",
            "4/4 - 3s - loss: 4.2320 - acc: 0.7900 - val_loss: 0.0000e+00 - val_acc: 0.0037 - 3s/epoch - 790ms/step\n",
            "Epoch 19/50\n",
            "4/4 - 3s - loss: 4.1620 - acc: 0.8650 - val_loss: 0.0000e+00 - val_acc: 0.0042 - 3s/epoch - 631ms/step\n",
            "Epoch 20/50\n",
            "4/4 - 3s - loss: 4.1296 - acc: 0.8150 - val_loss: 0.0000e+00 - val_acc: 0.0026 - 3s/epoch - 785ms/step\n",
            "Epoch 21/50\n",
            "4/4 - 3s - loss: 4.0660 - acc: 0.8350 - val_loss: 0.0000e+00 - val_acc: 0.0037 - 3s/epoch - 742ms/step\n",
            "Epoch 22/50\n",
            "4/4 - 3s - loss: 4.0055 - acc: 0.8550 - val_loss: 0.0000e+00 - val_acc: 0.0026 - 3s/epoch - 732ms/step\n",
            "Epoch 23/50\n",
            "4/4 - 3s - loss: 3.9585 - acc: 0.8300 - val_loss: 0.0000e+00 - val_acc: 0.0037 - 3s/epoch - 764ms/step\n",
            "Epoch 24/50\n",
            "4/4 - 3s - loss: 3.9085 - acc: 0.8250 - val_loss: 0.0000e+00 - val_acc: 0.0016 - 3s/epoch - 795ms/step\n",
            "Epoch 25/50\n",
            "4/4 - 3s - loss: 3.8502 - acc: 0.8750 - val_loss: 0.0000e+00 - val_acc: 0.0031 - 3s/epoch - 791ms/step\n",
            "Epoch 26/50\n",
            "4/4 - 3s - loss: 3.7813 - acc: 0.9050 - val_loss: 0.0000e+00 - val_acc: 0.0021 - 3s/epoch - 783ms/step\n",
            "Epoch 27/50\n",
            "4/4 - 3s - loss: 3.7395 - acc: 0.8850 - val_loss: 0.0000e+00 - val_acc: 0.0021 - 3s/epoch - 735ms/step\n",
            "Epoch 28/50\n",
            "4/4 - 3s - loss: 3.6856 - acc: 0.8850 - val_loss: 0.0000e+00 - val_acc: 0.0010 - 3s/epoch - 724ms/step\n",
            "Epoch 29/50\n",
            "4/4 - 3s - loss: 3.6527 - acc: 0.8550 - val_loss: 0.0000e+00 - val_acc: 0.0016 - 3s/epoch - 788ms/step\n",
            "Epoch 30/50\n",
            "4/4 - 3s - loss: 3.5624 - acc: 0.8700 - val_loss: 0.0000e+00 - val_acc: 5.2411e-04 - 3s/epoch - 792ms/step\n",
            "Epoch 31/50\n",
            "4/4 - 3s - loss: 3.5195 - acc: 0.8950 - val_loss: 0.0000e+00 - val_acc: 0.0021 - 3s/epoch - 790ms/step\n",
            "Epoch 32/50\n",
            "4/4 - 3s - loss: 3.4714 - acc: 0.8700 - val_loss: 0.0000e+00 - val_acc: 0.0026 - 3s/epoch - 742ms/step\n",
            "Epoch 33/50\n",
            "4/4 - 3s - loss: 3.4241 - acc: 0.8800 - val_loss: 0.0000e+00 - val_acc: 0.0010 - 3s/epoch - 732ms/step\n",
            "Epoch 34/50\n",
            "4/4 - 3s - loss: 3.3660 - acc: 0.9100 - val_loss: 0.0000e+00 - val_acc: 0.0016 - 3s/epoch - 750ms/step\n",
            "Epoch 35/50\n",
            "4/4 - 3s - loss: 3.3400 - acc: 0.8650 - val_loss: 0.0000e+00 - val_acc: 0.0016 - 3s/epoch - 803ms/step\n",
            "Epoch 36/50\n",
            "4/4 - 3s - loss: 3.2730 - acc: 0.9100 - val_loss: 0.0000e+00 - val_acc: 0.0016 - 3s/epoch - 791ms/step\n",
            "Epoch 37/50\n",
            "4/4 - 2s - loss: 3.2362 - acc: 0.8900 - val_loss: 0.0000e+00 - val_acc: 0.0016 - 2s/epoch - 520ms/step\n",
            "Epoch 38/50\n",
            "4/4 - 2s - loss: 3.1685 - acc: 0.9150 - val_loss: 0.0000e+00 - val_acc: 0.0026 - 2s/epoch - 410ms/step\n",
            "Epoch 39/50\n",
            "4/4 - 3s - loss: 3.1256 - acc: 0.9150 - val_loss: 0.0000e+00 - val_acc: 0.0021 - 3s/epoch - 731ms/step\n",
            "Epoch 40/50\n",
            "4/4 - 3s - loss: 3.0701 - acc: 0.9050 - val_loss: 0.0000e+00 - val_acc: 0.0031 - 3s/epoch - 728ms/step\n",
            "Epoch 41/50\n",
            "4/4 - 3s - loss: 3.0466 - acc: 0.9150 - val_loss: 0.0000e+00 - val_acc: 5.2411e-04 - 3s/epoch - 686ms/step\n",
            "Epoch 42/50\n",
            "4/4 - 3s - loss: 2.9934 - acc: 0.9150 - val_loss: 0.0000e+00 - val_acc: 0.0037 - 3s/epoch - 794ms/step\n",
            "Epoch 43/50\n",
            "4/4 - 3s - loss: 2.9876 - acc: 0.9050 - val_loss: 0.0000e+00 - val_acc: 0.0016 - 3s/epoch - 790ms/step\n",
            "Epoch 44/50\n",
            "4/4 - 3s - loss: 2.9277 - acc: 0.9150 - val_loss: 0.0000e+00 - val_acc: 0.0010 - 3s/epoch - 728ms/step\n",
            "Epoch 45/50\n",
            "4/4 - 3s - loss: 2.8811 - acc: 0.9350 - val_loss: 0.0000e+00 - val_acc: 0.0010 - 3s/epoch - 730ms/step\n",
            "Epoch 46/50\n",
            "4/4 - 3s - loss: 2.8220 - acc: 0.9400 - val_loss: 0.0000e+00 - val_acc: 0.0016 - 3s/epoch - 729ms/step\n",
            "Epoch 47/50\n",
            "4/4 - 3s - loss: 2.7906 - acc: 0.9100 - val_loss: 0.0000e+00 - val_acc: 0.0021 - 3s/epoch - 807ms/step\n",
            "Epoch 48/50\n",
            "4/4 - 3s - loss: 2.7363 - acc: 0.9250 - val_loss: 0.0000e+00 - val_acc: 0.0021 - 3s/epoch - 803ms/step\n",
            "Epoch 49/50\n",
            "4/4 - 2s - loss: 2.6947 - acc: 0.9100 - val_loss: 0.0000e+00 - val_acc: 0.0016 - 2s/epoch - 409ms/step\n",
            "Epoch 50/50\n",
            "4/4 - 3s - loss: 2.6439 - acc: 0.9450 - val_loss: 0.0000e+00 - val_acc: 0.0010 - 3s/epoch - 739ms/step\n"
          ]
        }
      ]
    },
    {
      "cell_type": "code",
      "metadata": {
        "id": "sTTsbFWelZs1",
        "colab": {
          "base_uri": "https://localhost:8080/"
        },
        "outputId": "49dc698d-3b4c-4407-a38c-3daef88e3ae8"
      },
      "source": [
        "# For model 3\n",
        "history3 = model3.fit(\n",
        "    train_gen,\n",
        "    epochs=50,\n",
        "    validation_data=test_gen3,\n",
        "    verbose=2,\n",
        "    shuffle=False,\n",
        ")"
      ],
      "execution_count": 72,
      "outputs": [
        {
          "output_type": "stream",
          "name": "stdout",
          "text": [
            "Epoch 1/50\n",
            "4/4 - 5s - loss: 5.3474 - acc: 0.0000e+00 - val_loss: 0.0000e+00 - val_acc: 0.0000e+00 - 5s/epoch - 1s/step\n",
            "Epoch 2/50\n",
            "4/4 - 3s - loss: 5.1826 - acc: 0.1300 - val_loss: 0.0000e+00 - val_acc: 0.0000e+00 - 3s/epoch - 796ms/step\n",
            "Epoch 3/50\n",
            "4/4 - 3s - loss: 5.0665 - acc: 0.3400 - val_loss: 0.0000e+00 - val_acc: 5.2411e-04 - 3s/epoch - 658ms/step\n",
            "Epoch 4/50\n",
            "4/4 - 3s - loss: 4.9686 - acc: 0.5650 - val_loss: 0.0000e+00 - val_acc: 0.0010 - 3s/epoch - 730ms/step\n",
            "Epoch 5/50\n",
            "4/4 - 3s - loss: 4.8762 - acc: 0.6700 - val_loss: 0.0000e+00 - val_acc: 5.2411e-04 - 3s/epoch - 735ms/step\n",
            "Epoch 6/50\n",
            "4/4 - 3s - loss: 4.7846 - acc: 0.7550 - val_loss: 0.0000e+00 - val_acc: 0.0010 - 3s/epoch - 728ms/step\n",
            "Epoch 7/50\n",
            "4/4 - 3s - loss: 4.7039 - acc: 0.8500 - val_loss: 0.0000e+00 - val_acc: 5.2411e-04 - 3s/epoch - 799ms/step\n",
            "Epoch 8/50\n",
            "4/4 - 3s - loss: 4.6148 - acc: 0.8400 - val_loss: 0.0000e+00 - val_acc: 0.0010 - 3s/epoch - 802ms/step\n",
            "Epoch 9/50\n",
            "4/4 - 3s - loss: 4.5323 - acc: 0.8750 - val_loss: 0.0000e+00 - val_acc: 5.2411e-04 - 3s/epoch - 797ms/step\n",
            "Epoch 10/50\n",
            "4/4 - 3s - loss: 4.4241 - acc: 0.9100 - val_loss: 0.0000e+00 - val_acc: 0.0000e+00 - 3s/epoch - 747ms/step\n",
            "Epoch 11/50\n",
            "4/4 - 3s - loss: 4.3441 - acc: 0.8900 - val_loss: 0.0000e+00 - val_acc: 0.0000e+00 - 3s/epoch - 732ms/step\n",
            "Epoch 12/50\n",
            "4/4 - 3s - loss: 4.2505 - acc: 0.9200 - val_loss: 0.0000e+00 - val_acc: 5.2411e-04 - 3s/epoch - 740ms/step\n",
            "Epoch 13/50\n",
            "4/4 - 3s - loss: 4.1519 - acc: 0.9350 - val_loss: 0.0000e+00 - val_acc: 5.2411e-04 - 3s/epoch - 795ms/step\n",
            "Epoch 14/50\n",
            "4/4 - 3s - loss: 4.0638 - acc: 0.9450 - val_loss: 0.0000e+00 - val_acc: 0.0010 - 3s/epoch - 811ms/step\n",
            "Epoch 15/50\n",
            "4/4 - 3s - loss: 3.9868 - acc: 0.9250 - val_loss: 0.0000e+00 - val_acc: 5.2411e-04 - 3s/epoch - 814ms/step\n",
            "Epoch 16/50\n",
            "4/4 - 3s - loss: 3.8973 - acc: 0.9300 - val_loss: 0.0000e+00 - val_acc: 0.0000e+00 - 3s/epoch - 729ms/step\n",
            "Epoch 17/50\n",
            "4/4 - 3s - loss: 3.8083 - acc: 0.9450 - val_loss: 0.0000e+00 - val_acc: 0.0016 - 3s/epoch - 740ms/step\n",
            "Epoch 18/50\n",
            "4/4 - 3s - loss: 3.7056 - acc: 0.9500 - val_loss: 0.0000e+00 - val_acc: 5.2411e-04 - 3s/epoch - 771ms/step\n",
            "Epoch 19/50\n",
            "4/4 - 3s - loss: 3.6281 - acc: 0.9550 - val_loss: 0.0000e+00 - val_acc: 0.0021 - 3s/epoch - 790ms/step\n",
            "Epoch 20/50\n",
            "4/4 - 3s - loss: 3.5552 - acc: 0.9600 - val_loss: 0.0000e+00 - val_acc: 0.0010 - 3s/epoch - 780ms/step\n",
            "Epoch 21/50\n",
            "4/4 - 2s - loss: 3.4814 - acc: 0.9550 - val_loss: 0.0000e+00 - val_acc: 0.0031 - 2s/epoch - 576ms/step\n",
            "Epoch 22/50\n",
            "4/4 - 3s - loss: 3.3957 - acc: 0.9600 - val_loss: 0.0000e+00 - val_acc: 0.0021 - 3s/epoch - 745ms/step\n",
            "Epoch 23/50\n",
            "4/4 - 3s - loss: 3.2940 - acc: 0.9600 - val_loss: 0.0000e+00 - val_acc: 0.0016 - 3s/epoch - 730ms/step\n",
            "Epoch 24/50\n",
            "4/4 - 3s - loss: 3.2355 - acc: 0.9500 - val_loss: 0.0000e+00 - val_acc: 0.0026 - 3s/epoch - 744ms/step\n",
            "Epoch 25/50\n",
            "4/4 - 3s - loss: 3.1235 - acc: 0.9700 - val_loss: 0.0000e+00 - val_acc: 0.0021 - 3s/epoch - 812ms/step\n",
            "Epoch 26/50\n",
            "4/4 - 3s - loss: 3.0533 - acc: 0.9500 - val_loss: 0.0000e+00 - val_acc: 0.0037 - 3s/epoch - 797ms/step\n",
            "Epoch 27/50\n",
            "4/4 - 3s - loss: 2.9841 - acc: 0.9700 - val_loss: 0.0000e+00 - val_acc: 0.0016 - 3s/epoch - 741ms/step\n",
            "Epoch 28/50\n",
            "4/4 - 3s - loss: 2.9099 - acc: 0.9600 - val_loss: 0.0000e+00 - val_acc: 0.0047 - 3s/epoch - 742ms/step\n",
            "Epoch 29/50\n",
            "4/4 - 3s - loss: 2.8427 - acc: 0.9750 - val_loss: 0.0000e+00 - val_acc: 0.0021 - 3s/epoch - 733ms/step\n",
            "Epoch 30/50\n",
            "4/4 - 3s - loss: 2.7530 - acc: 0.9750 - val_loss: 0.0000e+00 - val_acc: 0.0031 - 3s/epoch - 732ms/step\n",
            "Epoch 31/50\n",
            "4/4 - 3s - loss: 2.6775 - acc: 0.9850 - val_loss: 0.0000e+00 - val_acc: 0.0026 - 3s/epoch - 674ms/step\n",
            "Epoch 32/50\n",
            "4/4 - 3s - loss: 2.6223 - acc: 0.9550 - val_loss: 0.0000e+00 - val_acc: 0.0042 - 3s/epoch - 793ms/step\n",
            "Epoch 33/50\n",
            "4/4 - 3s - loss: 2.5272 - acc: 0.9800 - val_loss: 0.0000e+00 - val_acc: 0.0058 - 3s/epoch - 732ms/step\n",
            "Epoch 34/50\n",
            "4/4 - 3s - loss: 2.4869 - acc: 0.9650 - val_loss: 0.0000e+00 - val_acc: 0.0031 - 3s/epoch - 735ms/step\n",
            "Epoch 35/50\n",
            "4/4 - 3s - loss: 2.3856 - acc: 0.9700 - val_loss: 0.0000e+00 - val_acc: 0.0016 - 3s/epoch - 830ms/step\n",
            "Epoch 36/50\n",
            "4/4 - 3s - loss: 2.3384 - acc: 0.9500 - val_loss: 0.0000e+00 - val_acc: 0.0031 - 3s/epoch - 818ms/step\n",
            "Epoch 37/50\n",
            "4/4 - 3s - loss: 2.2730 - acc: 0.9750 - val_loss: 0.0000e+00 - val_acc: 0.0031 - 3s/epoch - 729ms/step\n",
            "Epoch 38/50\n",
            "4/4 - 3s - loss: 2.2158 - acc: 0.9800 - val_loss: 0.0000e+00 - val_acc: 0.0031 - 3s/epoch - 811ms/step\n",
            "Epoch 39/50\n",
            "4/4 - 2s - loss: 2.1333 - acc: 0.9800 - val_loss: 0.0000e+00 - val_acc: 0.0042 - 2s/epoch - 424ms/step\n",
            "Epoch 40/50\n",
            "4/4 - 3s - loss: 2.0808 - acc: 0.9850 - val_loss: 0.0000e+00 - val_acc: 0.0047 - 3s/epoch - 734ms/step\n",
            "Epoch 41/50\n",
            "4/4 - 3s - loss: 2.0128 - acc: 0.9700 - val_loss: 0.0000e+00 - val_acc: 0.0021 - 3s/epoch - 739ms/step\n",
            "Epoch 42/50\n",
            "4/4 - 3s - loss: 1.9533 - acc: 0.9800 - val_loss: 0.0000e+00 - val_acc: 0.0026 - 3s/epoch - 817ms/step\n",
            "Epoch 43/50\n",
            "4/4 - 3s - loss: 1.9059 - acc: 0.9650 - val_loss: 0.0000e+00 - val_acc: 0.0026 - 3s/epoch - 814ms/step\n",
            "Epoch 44/50\n",
            "4/4 - 3s - loss: 1.8505 - acc: 0.9850 - val_loss: 0.0000e+00 - val_acc: 0.0037 - 3s/epoch - 796ms/step\n",
            "Epoch 45/50\n",
            "4/4 - 3s - loss: 1.7892 - acc: 0.9750 - val_loss: 0.0000e+00 - val_acc: 0.0052 - 3s/epoch - 818ms/step\n",
            "Epoch 46/50\n",
            "4/4 - 3s - loss: 1.7161 - acc: 0.9800 - val_loss: 0.0000e+00 - val_acc: 0.0047 - 3s/epoch - 791ms/step\n",
            "Epoch 47/50\n",
            "4/4 - 3s - loss: 1.6753 - acc: 0.9850 - val_loss: 0.0000e+00 - val_acc: 0.0031 - 3s/epoch - 809ms/step\n",
            "Epoch 48/50\n",
            "4/4 - 6s - loss: 1.6252 - acc: 0.9500 - val_loss: 0.0000e+00 - val_acc: 0.0037 - 6s/epoch - 2s/step\n",
            "Epoch 49/50\n",
            "4/4 - 6s - loss: 1.5692 - acc: 0.9900 - val_loss: 0.0000e+00 - val_acc: 0.0031 - 6s/epoch - 1s/step\n",
            "Epoch 50/50\n",
            "4/4 - 3s - loss: 1.5052 - acc: 0.9800 - val_loss: 0.0000e+00 - val_acc: 0.0026 - 3s/epoch - 737ms/step\n"
          ]
        }
      ]
    },
    {
      "cell_type": "code",
      "metadata": {
        "id": "E1KH-8sxlZs1",
        "colab": {
          "base_uri": "https://localhost:8080/",
          "height": 806
        },
        "outputId": "21dc8796-b6f2-46c5-a300-ce519589f9f2"
      },
      "source": [
        "# For model 1\n",
        "sg.utils.plot_history(history)"
      ],
      "execution_count": 73,
      "outputs": [
        {
          "output_type": "display_data",
          "data": {
            "text/plain": [
              "<Figure size 700x800 with 2 Axes>"
            ],
            "image/png": "[encoded data removed]"
          },
          "metadata": {}
        }
      ]
    },
    {
      "cell_type": "code",
      "metadata": {
        "id": "C1-lt24ElZs2",
        "colab": {
          "base_uri": "https://localhost:8080/",
          "height": 806
        },
        "outputId": "fd027a12-0118-4b87-e73c-b23e3f9770c7"
      },
      "source": [
        "# For model 2\n",
        "sg.utils.plot_history(history2)"
      ],
      "execution_count": 74,
      "outputs": [
        {
          "output_type": "display_data",
          "data": {
            "text/plain": [
              "<Figure size 700x800 with 2 Axes>"
            ],
            "image/png": "[encoded data removed]"
          },
          "metadata": {}
        }
      ]
    },
    {
      "cell_type": "code",
      "metadata": {
        "id": "QsVjKlhslZs2",
        "colab": {
          "base_uri": "https://localhost:8080/",
          "height": 806
        },
        "outputId": "0342fa94-6182-4e47-fc14-92b2da43a0d0"
      },
      "source": [
        "# For model 3\n",
        "sg.utils.plot_history(history3)"
      ],
      "execution_count": 75,
      "outputs": [
        {
          "output_type": "display_data",
          "data": {
            "text/plain": [
              "<Figure size 700x800 with 2 Axes>"
            ],
            "image/png": "[encoded data removed]"
          },
          "metadata": {}
        }
      ]
    },
    {
      "cell_type": "code",
      "metadata": {
        "id": "OFfKqmgmlZs2",
        "colab": {
          "base_uri": "https://localhost:8080/"
        },
        "outputId": "dff8d50f-f8d3-4bdc-bf7d-250ed2205376"
      },
      "source": [
        "# For model 1\n",
        "test_metrics = model.evaluate(test_gen)\n",
        "print(\"\\nTest Set Metrics for model 1:\")\n",
        "for name, val in zip(model.metrics_names, test_metrics):\n",
        "    print(\"\\t{}: {:0.4f}\".format(name, val))"
      ],
      "execution_count": 76,
      "outputs": [
        {
          "output_type": "stream",
          "name": "stdout",
          "text": [
            "39/39 [==============================] - 4s 100ms/step - loss: 0.0000e+00 - acc: 0.0010\n",
            "\n",
            "Test Set Metrics for model 1:\n",
            "\tloss: 0.0000\n",
            "\tacc: 0.0010\n"
          ]
        }
      ]
    },
    {
      "cell_type": "code",
      "metadata": {
        "id": "An4U5QLblZs2",
        "colab": {
          "base_uri": "https://localhost:8080/"
        },
        "outputId": "9b9c4005-9d6d-452b-b3ba-044a2745dddb"
      },
      "source": [
        "# For model 2\n",
        "test_metrics2 = model2.evaluate(test_gen2)\n",
        "print(\"\\nTest Set Metrics for model 2:\")\n",
        "for name, val in zip(model2.metrics_names, test_metrics2):\n",
        "    print(\"\\t{}: {:0.4f}\".format(name, val))"
      ],
      "execution_count": 78,
      "outputs": [
        {
          "output_type": "stream",
          "name": "stdout",
          "text": [
            "39/39 [==============================] - 4s 89ms/step - loss: 0.0000e+00 - acc: 0.0021\n",
            "\n",
            "Test Set Metrics for model 2:\n",
            "\tloss: 0.0000\n",
            "\tacc: 0.0021\n"
          ]
        }
      ]
    },
    {
      "cell_type": "code",
      "metadata": {
        "id": "Y5czmx3ClZs2",
        "colab": {
          "base_uri": "https://localhost:8080/"
        },
        "outputId": "3260b6b8-3c10-4388-9668-6f1c7ca6d347"
      },
      "source": [
        "# For model 3\n",
        "test_metrics3 = model3.evaluate(test_gen3)\n",
        "print(\"\\nTest Set Metrics for model 3:\")\n",
        "for name, val in zip(model3.metrics_names, test_metrics3):\n",
        "    print(\"\\t{}: {:0.4f}\".format(name, val))"
      ],
      "execution_count": 79,
      "outputs": [
        {
          "output_type": "stream",
          "name": "stdout",
          "text": [
            "39/39 [==============================] - 2s 57ms/step - loss: 0.0000e+00 - acc: 0.0047\n",
            "\n",
            "Test Set Metrics for model 3:\n",
            "\tloss: 0.0000\n",
            "\tacc: 0.0047\n"
          ]
        }
      ]
    },
    {
      "cell_type": "markdown",
      "metadata": {
        "id": "An3372cNlZs2"
      },
      "source": [
        "**2.5 What are your observations on three different models you built and evaluated those three models on the test set. How the performance is affected? (1 point)** <br>\n",
        "<font color='red'>Write your observation in the `Your answer` cell.</font>"
      ]
    },
    {
      "cell_type": "markdown",
      "metadata": {
        "id": "20eyNNTvlZs2"
      },
      "source": [
        "**<font color='red'>Your answer:</font>** All three models have very low accuracy on the test set, indicating that they are not very effective at classifying the nodes in the graph. The models may not be complex enough to capture the patterns in the data, or the parameters not have been tuned effectively.\n",
        "\n",
        "Interestingly, the accuracy increases slightly as the number of hidden neurons in the layers increases, but the difference is minimal. Increasing the complexity of the model may not be the best approach for improving performance.\n",
        "\n",
        "More experimentation and tuning are needed to develop a more effective model."
      ]
    },
    {
      "cell_type": "markdown",
      "metadata": {
        "id": "5l4snnIvKHD5"
      },
      "source": [
        "## How long did it take you to solve the homework?\n",
        "\n",
        "* Please answer as precisely as you can. It does not affect your points or grade in any way. It is okay, if it took 0.5 hours or 24 hours. The collected information will be used to improve future homeworks. Please change X into your estimate.\n",
        "\n",
        "<font color='red'> **Answer:**</font> 7 hours "
      ]
    },
    {
      "cell_type": "markdown",
      "source": [
        "## What is the level of difficulty for this homework?\n",
        "Please put a number between $0:10$ ($0:$ easy, $10:$ difficult)\n",
        "\n",
        "<font color='red'> **Answer:**</font> 7"
      ],
      "metadata": {
        "id": "eZatLoKKh8ld"
      }
    },
    {
      "cell_type": "markdown",
      "source": [
        "## Do you have any suggestions on how to improve the homework?\n",
        "\n",
        "<font color='red'> **Answer:**</font> N/A :'("
      ],
      "metadata": {
        "id": "bEB2F-RVh5Cn"
      }
    }
  ]
}