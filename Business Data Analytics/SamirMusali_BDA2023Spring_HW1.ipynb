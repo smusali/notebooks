{
  "cells": [
    {
      "cell_type": "markdown",
      "metadata": {
        "id": "vrqBoJqvgyEg"
      },
      "source": [
        "### <div class=\"alert alert-block alert-info\"><b></b>\n",
        "<h1><center> <font color='black'> Homework 01  </font></center></h1>\n",
        "<h2><center> <font color='black'> Data Exploration and Customer Segmentation </font></center></h2>    \n",
        "<h2><center> <font color='black'> MTAT.03.319 - Business Data Analytics</font></center></h2>\n",
        "<h2><center> <font color='black'> University of Tartu - Spring 2023</font></center></h2>\n",
        "</div>"
      ]
    },
    {
      "cell_type": "markdown",
      "metadata": {
        "id": "DZq6fSwkTTtv"
      },
      "source": [
        "# Homework instructions\n",
        "\n",
        "- Please provide the names and student IDs of the team-members (Maximum 2 person) in the field \"Team mates\" below. If you are not working in a team please insert only your name and student ID.\n",
        "\n",
        "- Please provide code where ever applicable.\n",
        "\n",
        "- The accepted submission format is .ipynb file. Please make sure that the privacy settings for the file is public so we can access your code. \n",
        "\n",
        "- The submission will automatically close on <font color='red'>**5 March at 23:59**</font>, so please make sure to submit before the deadline. \n",
        "\n",
        "- ONLY one of the teammates should submit the homework and in the submission description the other person's Name and Student ID must be entered. We will grade the homework and the marks and feedback is applied for both the team members. So please communicate with your team member about marks and feedback if you are submit the homework.\n",
        "\n",
        "- If a question is not clear, please ask us in Moodle ONLY. \n",
        "\n",
        "- After you have finished solving the Homework, please restart the Kernel and run all the cells to check if there is any persisting issues. \n",
        "\n",
        "- Plagiarism is <font color='red'>**PROHIBITED**</font>. Any form of plagiarism will be dealt according to the university policy (https://ut.ee/en/content/academic-fraud).\n",
        "\n",
        "- <font color='red'>**DO NOT CHANGE THE TEMPLATE**</font>\n",
        "\n",
        "- <font color='red'>**Restart the Kernel and Run all the cells once again after you are done.**</font>\n",
        "This will ensure that all the cells run without error. You will find an option in the top menu bar under Kernel tab. "
      ]
    },
    {
      "cell_type": "markdown",
      "metadata": {
        "id": "-ms6ZgYPTTty"
      },
      "source": [
        "**<h2><font color='red'>Team mates:</font></h2>**\n",
        "\n",
        "<font color='red'>Name: Samir Musali</font>&emsp;   <font color='red'>Student ID: C29810</font>"
      ]
    },
    {
      "cell_type": "markdown",
      "metadata": {
        "id": "sCCZbDuZgyEj"
      },
      "source": [
        "# Introduction\n",
        "\n",
        "* In this homework you are going to use Python; specifically Pandas package which is a powerful and handy data analysis and manipulation tool, built on top of the Python programming language. In addition, there are questions related to clustering as well. The tasks are relevant to the tasks from the practice session. So, please make sure to go through the practise session carefully before you attempt to solve this homework.\n",
        "\n",
        "### The homework is divided into four sections and the points are distributed as below:\n",
        "<pre>\n",
        "- Python and Pandas    -> 1.5 points\n",
        "- Understanding data   -> 2.5 points\n",
        "- Data Preparation     -> 1.5 points\n",
        "- Exploring dataset    -> 2.0 points\n",
        "- Basic Clustering     -> 6.0 points\n",
        "_________________________________________\n",
        "Total                  -> 13.5 points\n",
        "</pre>"
      ]
    },
    {
      "cell_type": "markdown",
      "metadata": {
        "id": "wqOWh3hrgyEk"
      },
      "source": [
        "# 1. Python and Pandas (1.5 points)"
      ]
    },
    {
      "cell_type": "markdown",
      "metadata": {
        "id": "xOZOWT9xgyEl"
      },
      "source": [
        "First, let's import pandas package as pd and read data from the CSV file into a pandas DataFrame."
      ]
    },
    {
      "cell_type": "code",
      "execution_count": null,
      "metadata": {
        "id": "CuwdGoezgyEm"
      },
      "outputs": [],
      "source": [
        "import pandas as pd\n",
        " \n",
        "data = pd.read_csv('./abalone.csv')"
      ]
    },
    {
      "cell_type": "markdown",
      "metadata": {
        "id": "XLssOWbLgyEq"
      },
      "source": [
        "`Question 1.0` is an example of how you should answer the following questions. First, in the `#TODO` cell you have to write the code representing your solution. And in the answer cell write the answer with your own words. Please make sure your sentences should be clear enough. Try to avoid abbreviations and short sentences."
      ]
    },
    {
      "cell_type": "markdown",
      "metadata": {
        "id": "NiAAHDUUgyEr"
      },
      "source": [
        " **1.0. What is overall memory consumption of the data?** (EXAMPLE)"
      ]
    },
    {
      "cell_type": "code",
      "execution_count": null,
      "metadata": {
        "id": "IgejyfJXgyEs",
        "colab": {
          "base_uri": "https://localhost:8080/"
        },
        "outputId": "1e66990f-65b3-45ed-bed2-89c7a8c25628"
      },
      "outputs": [
        {
          "output_type": "execute_result",
          "data": {
            "text/plain": [
              "98128"
            ]
          },
          "metadata": {},
          "execution_count": 178
        }
      ],
      "source": [
        "# TODO - here you have to write the code.\n",
        "data.memory_usage(deep=True).sum()"
      ]
    },
    {
      "cell_type": "markdown",
      "metadata": {
        "id": "e4vjuR2_gyEu"
      },
      "source": [
        "* Provide description based on the outcome of the cell above. Please describe as much as possible and as little as required. If you are asked to display a dataframe, you can use the code cells and display the dataframe in the output. You can also use the answer cell (markdown type) for descriptive answers.\n",
        "\n"
      ]
    },
    {
      "cell_type": "markdown",
      "source": [
        "**<font color='red'>Answer:</font>**"
      ],
      "metadata": {
        "id": "3J7UcyB3hfzG"
      }
    },
    {
      "cell_type": "markdown",
      "metadata": {
        "id": "VvZjPHCegyEv"
      },
      "source": [
        " **1.1. How many variables (features) are in the dataset? State the feature names. (0.10 point)** <br>\n",
        " Hint: Variables or features are the number of columns in a dataset."
      ]
    },
    {
      "cell_type": "code",
      "execution_count": null,
      "metadata": {
        "id": "q4Aiwr-TgyEw",
        "colab": {
          "base_uri": "https://localhost:8080/"
        },
        "outputId": "ce243c7b-206d-47fe-b6fa-13c424a0fc1b"
      },
      "outputs": [
        {
          "output_type": "stream",
          "name": "stdout",
          "text": [
            "# of Variables in the Dataset: 6\n",
            "Variable Names: Gender, Length, Diameter, Height, Weight, Rings\n"
          ]
        }
      ],
      "source": [
        "variables = data.columns.tolist()\n",
        "print(\"# of Variables in the Dataset:\", len(variables))\n",
        "print(\"Variable Names:\", ', '.join(variables))"
      ]
    },
    {
      "cell_type": "markdown",
      "metadata": {
        "id": "ISRKVsizgyEy"
      },
      "source": [
        "**<font color='red'>Answer:</font>** "
      ]
    },
    {
      "cell_type": "markdown",
      "metadata": {
        "id": "B9QwvJRAgyEz"
      },
      "source": [
        "**1.2. How many observations (i.e. rows) are in this data frame?** **(0.10 point)**\n"
      ]
    },
    {
      "cell_type": "code",
      "execution_count": null,
      "metadata": {
        "id": "7Sf3o8PzgyE0",
        "colab": {
          "base_uri": "https://localhost:8080/"
        },
        "outputId": "2ff0a4fc-5482-479d-fb45-16bc8ca52c7f"
      },
      "outputs": [
        {
          "output_type": "stream",
          "name": "stdout",
          "text": [
            "# of Observations in the Dataset: 1000\n"
          ]
        }
      ],
      "source": [
        "num_obs = len(data.index)\n",
        "print(\"# of Observations in the Dataset:\", num_obs)"
      ]
    },
    {
      "cell_type": "markdown",
      "metadata": {
        "id": "gGNbN-ttgyE2"
      },
      "source": [
        "**<font color='red'>Answer:</font>** "
      ]
    },
    {
      "cell_type": "markdown",
      "metadata": {
        "id": "7bNY26vggyE4"
      },
      "source": [
        "**1.3. Print the first 5 lines from the dataset. What are the values of feature `Rings`?** **(0.10 point)**"
      ]
    },
    {
      "cell_type": "code",
      "execution_count": null,
      "metadata": {
        "id": "pozF0WCagyE5",
        "colab": {
          "base_uri": "https://localhost:8080/"
        },
        "outputId": "01d965be-caf5-40a2-dab9-37ac4eedb06a"
      },
      "outputs": [
        {
          "output_type": "stream",
          "name": "stdout",
          "text": [
            "The First 5 Observations from the Dataset:\n",
            "\n",
            "   Gender  Length  Diameter  Height  Weight  Rings\n",
            "0      F   0.505     0.385   0.135  0.6185     12\n",
            "1      F   0.650     0.475   0.165  1.3875      9\n",
            "2      I   0.520     0.380   0.135  0.5395      8\n",
            "3      F   0.550     0.425   0.140  0.9520      7\n",
            "4      M   0.640     0.525   0.180  1.3135     10\n",
            "\n",
            "\n",
            "The First 5 Rings values from the Dataset: [12  9  8  7 10]\n"
          ]
        }
      ],
      "source": [
        "firstfive = data.head()\n",
        "\n",
        "print(\"The First 5 Observations from the Dataset:\\n\\n\", firstfive)\n",
        "print(\"\\n\\nThe First 5 Rings values from the Dataset:\", firstfive['Rings'].values)"
      ]
    },
    {
      "cell_type": "markdown",
      "metadata": {
        "id": "i3S6mDeJgyE7"
      },
      "source": [
        "**<font color='red'>Answer:</font>** "
      ]
    },
    {
      "cell_type": "markdown",
      "metadata": {
        "id": "CKvqW0PYgyE8"
      },
      "source": [
        "**1.4. Extract the last 3 rows of the data frame. What are the values of feature `Weight`?** **(0.10 point)**"
      ]
    },
    {
      "cell_type": "code",
      "execution_count": null,
      "metadata": {
        "id": "yFQPHLnVgyE8",
        "colab": {
          "base_uri": "https://localhost:8080/"
        },
        "outputId": "e27a544e-9eb7-4bf3-bf63-82c126ef4312"
      },
      "outputs": [
        {
          "output_type": "stream",
          "name": "stdout",
          "text": [
            "The Last 3 Observations from the Dataset:\n",
            "\n",
            "     Gender  Length  Diameter  Height  Weight  Rings\n",
            "997      M   0.660     0.500   0.165  1.3195      9\n",
            "998      I   0.525     0.400   0.130  0.6455      8\n",
            "999      M   0.515     0.395   0.135  1.0070      8\n",
            "\n",
            "\n",
            "The Last 3 Weight values from the Dataset: [1.3195 0.6455 1.007 ]\n"
          ]
        }
      ],
      "source": [
        "lastthree = data.tail(3)\n",
        "\n",
        "print(\"The Last 3 Observations from the Dataset:\\n\\n\", lastthree)\n",
        "print(\"\\n\\nThe Last 3 Weight values from the Dataset:\", lastthree['Weight'].values)"
      ]
    },
    {
      "cell_type": "markdown",
      "metadata": {
        "id": "5e46xJ0WgyE-"
      },
      "source": [
        "**<font color='red'>Answer:</font>** "
      ]
    },
    {
      "cell_type": "markdown",
      "metadata": {
        "id": "IAG09Z2SgyE_"
      },
      "source": [
        "**1.5. What is the value of diameter in the row 575?** **(0.25 point)**"
      ]
    },
    {
      "cell_type": "code",
      "execution_count": null,
      "metadata": {
        "id": "e6p3_5BSgyFA",
        "colab": {
          "base_uri": "https://localhost:8080/"
        },
        "outputId": "3639b59c-e6a9-4c52-bd3f-610271888538"
      },
      "outputs": [
        {
          "output_type": "stream",
          "name": "stdout",
          "text": [
            "575th Diameter: 0.265\n"
          ]
        }
      ],
      "source": [
        "print(\"575th Diameter:\", data.loc[575, \"Diameter\"])"
      ]
    },
    {
      "cell_type": "markdown",
      "metadata": {
        "id": "aTPLVBRB6n2b"
      },
      "source": [
        "**<font color='red'>Answer:</font>** "
      ]
    },
    {
      "cell_type": "markdown",
      "metadata": {
        "id": "PbMP_QZigyFC"
      },
      "source": [
        "**1.6. What are the mean, median and third (75%) quartile value of the height column?** **(0.25 point)** <br>\n",
        "Hint: Use pandas describe() method"
      ]
    },
    {
      "cell_type": "code",
      "execution_count": null,
      "metadata": {
        "id": "Zsjdbu1MgyFD",
        "scrolled": true,
        "colab": {
          "base_uri": "https://localhost:8080/"
        },
        "outputId": "6ad8377b-4b89-4cb2-a44b-fade8b8fb534"
      },
      "outputs": [
        {
          "output_type": "stream",
          "name": "stdout",
          "text": [
            "The Required Description of Height Column:\n",
            "\n",
            "mean    0.1411\n",
            "50%     0.1450\n",
            "75%     0.1650\n",
            "Name: Height, dtype: float64\n"
          ]
        }
      ],
      "source": [
        "height_desc = data['Height'].describe()[['mean', '50%', '75%']]\n",
        "\n",
        "print(\"The Required Description of Height Column:\\n\")\n",
        "print(height_desc)"
      ]
    },
    {
      "cell_type": "markdown",
      "metadata": {
        "id": "MXUVEljWgyFF"
      },
      "source": [
        "**<font color='red'>Answer:</font>** "
      ]
    },
    {
      "cell_type": "markdown",
      "metadata": {
        "id": "rqK3C2AZgyFF"
      },
      "source": [
        "**1.7. Show the subset of rows from the data frame where `Gender` is F and `Weight` values are above 0.75. What is the mean of `Diameter` in this subset?** **(0.30 point)**"
      ]
    },
    {
      "cell_type": "code",
      "execution_count": null,
      "metadata": {
        "id": "0QpY4bo0gyFG",
        "colab": {
          "base_uri": "https://localhost:8080/"
        },
        "outputId": "df72575e-1a73-4e0b-81ae-24ee2209dcf5"
      },
      "outputs": [
        {
          "output_type": "stream",
          "name": "stdout",
          "text": [
            "The Required Subset:\n",
            "\n",
            "    Gender  Length  Diameter  Height  Weight  Rings\n",
            "1        F   0.650     0.475   0.165  1.3875      9\n",
            "3        F   0.550     0.425   0.140  0.9520      7\n",
            "10       F   0.585     0.455   0.130  0.8755      8\n",
            "14       F   0.660     0.530   0.185  1.3460     11\n",
            "27       F   0.580     0.475   0.165  1.0385     13\n",
            "..     ...     ...       ...     ...     ...    ...\n",
            "976      F   0.545     0.385   0.150  1.1185      9\n",
            "978      F   0.605     0.450   0.195  1.0980     13\n",
            "982      F   0.670     0.540   0.165  1.5015     14\n",
            "990      F   0.680     0.550   0.200  1.5960     21\n",
            "991      F   0.670     0.525   0.195  1.4200     10\n",
            "\n",
            "[225 rows x 6 columns]\n"
          ]
        }
      ],
      "source": [
        "print(\"The Required Subset:\\n\")\n",
        "print(data[(data['Gender'] == 'F') & (data['Weight'] > 0.75)])"
      ]
    },
    {
      "cell_type": "markdown",
      "metadata": {
        "id": "YaMEfs3ogyFJ"
      },
      "source": [
        "**<font color='red'>Answer:</font>**"
      ]
    },
    {
      "cell_type": "markdown",
      "metadata": {
        "id": "B7Yd8ZPSgyFK"
      },
      "source": [
        "**1.8. Show the subset of rows from the dataframe where `Rings` values are exactly 18? <br>\n",
        "Find the minimum value of `Length` of this subset** **(0.30 point)**"
      ]
    },
    {
      "cell_type": "code",
      "execution_count": null,
      "metadata": {
        "id": "_IeMWswJgyFK",
        "colab": {
          "base_uri": "https://localhost:8080/"
        },
        "outputId": "7f72507d-fb16-45fc-e802-81e0cd12eaee"
      },
      "outputs": [
        {
          "output_type": "stream",
          "name": "stdout",
          "text": [
            "The Required Subset:\n",
            "\n",
            "    Gender  Length  Diameter  Height  Weight  Rings\n",
            "84       F   0.725     0.560   0.210  2.1410     18\n",
            "122      F   0.500     0.405   0.140  0.6735     18\n",
            "249      M   0.525     0.425   0.120  0.8665     18\n",
            "260      M   0.520     0.435   0.195  0.9730     18\n",
            "322      F   0.660     0.525   0.205  1.3665     18\n",
            "336      F   0.465     0.350   0.130  0.4940     18\n",
            "500      F   0.635     0.500   0.180  1.3120     18\n",
            "589      F   0.545     0.405   0.175  0.9800     18\n",
            "629      M   0.570     0.475   0.195  1.0295     18\n",
            "725      F   0.600     0.475   0.180  1.1620     18\n",
            "798      I   0.525     0.410   0.175  0.8740     18\n",
            "855      F   0.575     0.450   0.170  1.0475     18\n",
            "\n",
            "The Minimum Length in the Required Subset: 0.465\n"
          ]
        }
      ],
      "source": [
        "subframe = data[data['Rings'] == 18]\n",
        "print(\"The Required Subset:\\n\")\n",
        "print(subframe)\n",
        "\n",
        "min_length = subframe['Length'].min()\n",
        "print(\"\\nThe Minimum Length in the Required Subset:\", min_length)"
      ]
    },
    {
      "cell_type": "markdown",
      "metadata": {
        "id": "8tbre7YtgyFM"
      },
      "source": [
        "**<font color='red'>Answer:</font>** "
      ]
    },
    {
      "cell_type": "markdown",
      "metadata": {
        "id": "sDL-xKNugyFN"
      },
      "source": [
        "# 2.  Understanding Data (2.5 point)"
      ]
    },
    {
      "cell_type": "markdown",
      "metadata": {
        "id": "hyESgblXgyFN"
      },
      "source": [
        "Data loading, describing, exploring, and verifying the quality of the data are <b>pivotal</b> to any data analysis task. <br>\n",
        "We will work with a new dataset, 'adult.csv',in this section. You will be asked to perform the mentioned tasks on this dataset.<br>"
      ]
    },
    {
      "cell_type": "markdown",
      "metadata": {
        "id": "qqaqaUAtgyFO"
      },
      "source": [
        "**2.0. Load data from the  `adult.csv` file.** <br>\n",
        "Hint 1: The extension of the filename may not always reflect the structure of data precisely. Are the values comma-separated (csv) or not? "
      ]
    },
    {
      "cell_type": "code",
      "execution_count": null,
      "metadata": {
        "id": "MiipOOJ0gyFP",
        "scrolled": false,
        "outputId": "764359fb-4b0e-4fe3-ae9d-cf4fce96cfa9",
        "colab": {
          "base_uri": "https://localhost:8080/",
          "height": 371
        }
      },
      "outputs": [
        {
          "output_type": "execute_result",
          "data": {
            "text/plain": [
              "  age          workclass   education          occupation  capital.gain  \\\n",
              "X                                                                        \n",
              "0  39          State-gov   Bachelors        Adm-clerical          2174   \n",
              "1  50   Self-emp-not-inc   Bachelors     Exec-managerial             0   \n",
              "2  38             privat     HS-grad   Handlers-cleaners             0   \n",
              "3  53             privat        11th   Handlers-cleaners             0   \n",
              "4  28             privat   Bachelors      Prof-specialty             0   \n",
              "\n",
              "   capital.loss  native.country  salaries jobsatisfaction  male  female  \n",
              "X                                                                        \n",
              "0             0   United-States   43136.0               0   1.0     NaN  \n",
              "1             0    UnitedStates   46209.0               7   1.0     NaN  \n",
              "2             0   United-States   28937.0               6   1.0     NaN  \n",
              "3             0   United-States   33658.0               6   1.0     NaN  \n",
              "4             0            Cuba   34372.0              12   NaN     1.0  "
            ],
            "text/html": [
              "\n",
              "  <div id=\"df-d87334cc-1078-4463-bdfa-dbb4714db2fb\">\n",
              "    <div class=\"colab-df-container\">\n",
              "      <div>\n",
              "<style scoped>\n",
              "    .dataframe tbody tr th:only-of-type {\n",
              "        vertical-align: middle;\n",
              "    }\n",
              "\n",
              "    .dataframe tbody tr th {\n",
              "        vertical-align: top;\n",
              "    }\n",
              "\n",
              "    .dataframe thead th {\n",
              "        text-align: right;\n",
              "    }\n",
              "</style>\n",
              "<table border=\"1\" class=\"dataframe\">\n",
              "  <thead>\n",
              "    <tr style=\"text-align: right;\">\n",
              "      <th></th>\n",
              "      <th>age</th>\n",
              "      <th>workclass</th>\n",
              "      <th>education</th>\n",
              "      <th>occupation</th>\n",
              "      <th>capital.gain</th>\n",
              "      <th>capital.loss</th>\n",
              "      <th>native.country</th>\n",
              "      <th>salaries</th>\n",
              "      <th>jobsatisfaction</th>\n",
              "      <th>male</th>\n",
              "      <th>female</th>\n",
              "    </tr>\n",
              "    <tr>\n",
              "      <th>X</th>\n",
              "      <th></th>\n",
              "      <th></th>\n",
              "      <th></th>\n",
              "      <th></th>\n",
              "      <th></th>\n",
              "      <th></th>\n",
              "      <th></th>\n",
              "      <th></th>\n",
              "      <th></th>\n",
              "      <th></th>\n",
              "      <th></th>\n",
              "    </tr>\n",
              "  </thead>\n",
              "  <tbody>\n",
              "    <tr>\n",
              "      <th>0</th>\n",
              "      <td>39</td>\n",
              "      <td>State-gov</td>\n",
              "      <td>Bachelors</td>\n",
              "      <td>Adm-clerical</td>\n",
              "      <td>2174</td>\n",
              "      <td>0</td>\n",
              "      <td>United-States</td>\n",
              "      <td>43136.0</td>\n",
              "      <td>0</td>\n",
              "      <td>1.0</td>\n",
              "      <td>NaN</td>\n",
              "    </tr>\n",
              "    <tr>\n",
              "      <th>1</th>\n",
              "      <td>50</td>\n",
              "      <td>Self-emp-not-inc</td>\n",
              "      <td>Bachelors</td>\n",
              "      <td>Exec-managerial</td>\n",
              "      <td>0</td>\n",
              "      <td>0</td>\n",
              "      <td>UnitedStates</td>\n",
              "      <td>46209.0</td>\n",
              "      <td>7</td>\n",
              "      <td>1.0</td>\n",
              "      <td>NaN</td>\n",
              "    </tr>\n",
              "    <tr>\n",
              "      <th>2</th>\n",
              "      <td>38</td>\n",
              "      <td>privat</td>\n",
              "      <td>HS-grad</td>\n",
              "      <td>Handlers-cleaners</td>\n",
              "      <td>0</td>\n",
              "      <td>0</td>\n",
              "      <td>United-States</td>\n",
              "      <td>28937.0</td>\n",
              "      <td>6</td>\n",
              "      <td>1.0</td>\n",
              "      <td>NaN</td>\n",
              "    </tr>\n",
              "    <tr>\n",
              "      <th>3</th>\n",
              "      <td>53</td>\n",
              "      <td>privat</td>\n",
              "      <td>11th</td>\n",
              "      <td>Handlers-cleaners</td>\n",
              "      <td>0</td>\n",
              "      <td>0</td>\n",
              "      <td>United-States</td>\n",
              "      <td>33658.0</td>\n",
              "      <td>6</td>\n",
              "      <td>1.0</td>\n",
              "      <td>NaN</td>\n",
              "    </tr>\n",
              "    <tr>\n",
              "      <th>4</th>\n",
              "      <td>28</td>\n",
              "      <td>privat</td>\n",
              "      <td>Bachelors</td>\n",
              "      <td>Prof-specialty</td>\n",
              "      <td>0</td>\n",
              "      <td>0</td>\n",
              "      <td>Cuba</td>\n",
              "      <td>34372.0</td>\n",
              "      <td>12</td>\n",
              "      <td>NaN</td>\n",
              "      <td>1.0</td>\n",
              "    </tr>\n",
              "  </tbody>\n",
              "</table>\n",
              "</div>\n",
              "      <button class=\"colab-df-convert\" onclick=\"convertToInteractive('df-d87334cc-1078-4463-bdfa-dbb4714db2fb')\"\n",
              "              title=\"Convert this dataframe to an interactive table.\"\n",
              "              style=\"display:none;\">\n",
              "        \n",
              "  <svg xmlns=\"http://www.w3.org/2000/svg\" height=\"24px\"viewBox=\"0 0 24 24\"\n",
              "       width=\"24px\">\n",
              "    <path d=\"M0 0h24v24H0V0z\" fill=\"none\"/>\n",
              "    <path d=\"M18.56 5.44l.94 2.06.94-2.06 2.06-.94-2.06-.94-.94-2.06-.94 2.06-2.06.94zm-11 1L8.5 8.5l.94-2.06 2.06-.94-2.06-.94L8.5 2.5l-.94 2.06-2.06.94zm10 10l.94 2.06.94-2.06 2.06-.94-2.06-.94-.94-2.06-.94 2.06-2.06.94z\"/><path d=\"M17.41 7.96l-1.37-1.37c-.4-.4-.92-.59-1.43-.59-.52 0-1.04.2-1.43.59L10.3 9.45l-7.72 7.72c-.78.78-.78 2.05 0 2.83L4 21.41c.39.39.9.59 1.41.59.51 0 1.02-.2 1.41-.59l7.78-7.78 2.81-2.81c.8-.78.8-2.07 0-2.86zM5.41 20L4 18.59l7.72-7.72 1.47 1.35L5.41 20z\"/>\n",
              "  </svg>\n",
              "      </button>\n",
              "      \n",
              "  <style>\n",
              "    .colab-df-container {\n",
              "      display:flex;\n",
              "      flex-wrap:wrap;\n",
              "      gap: 12px;\n",
              "    }\n",
              "\n",
              "    .colab-df-convert {\n",
              "      background-color: #E8F0FE;\n",
              "      border: none;\n",
              "      border-radius: 50%;\n",
              "      cursor: pointer;\n",
              "      display: none;\n",
              "      fill: #1967D2;\n",
              "      height: 32px;\n",
              "      padding: 0 0 0 0;\n",
              "      width: 32px;\n",
              "    }\n",
              "\n",
              "    .colab-df-convert:hover {\n",
              "      background-color: #E2EBFA;\n",
              "      box-shadow: 0px 1px 2px rgba(60, 64, 67, 0.3), 0px 1px 3px 1px rgba(60, 64, 67, 0.15);\n",
              "      fill: #174EA6;\n",
              "    }\n",
              "\n",
              "    [theme=dark] .colab-df-convert {\n",
              "      background-color: #3B4455;\n",
              "      fill: #D2E3FC;\n",
              "    }\n",
              "\n",
              "    [theme=dark] .colab-df-convert:hover {\n",
              "      background-color: #434B5C;\n",
              "      box-shadow: 0px 1px 3px 1px rgba(0, 0, 0, 0.15);\n",
              "      filter: drop-shadow(0px 1px 2px rgba(0, 0, 0, 0.3));\n",
              "      fill: #FFFFFF;\n",
              "    }\n",
              "  </style>\n",
              "\n",
              "      <script>\n",
              "        const buttonEl =\n",
              "          document.querySelector('#df-d87334cc-1078-4463-bdfa-dbb4714db2fb button.colab-df-convert');\n",
              "        buttonEl.style.display =\n",
              "          google.colab.kernel.accessAllowed ? 'block' : 'none';\n",
              "\n",
              "        async function convertToInteractive(key) {\n",
              "          const element = document.querySelector('#df-d87334cc-1078-4463-bdfa-dbb4714db2fb');\n",
              "          const dataTable =\n",
              "            await google.colab.kernel.invokeFunction('convertToInteractive',\n",
              "                                                     [key], {});\n",
              "          if (!dataTable) return;\n",
              "\n",
              "          const docLinkHtml = 'Like what you see? Visit the ' +\n",
              "            '<a target=\"_blank\" href=https://colab.research.google.com/notebooks/data_table.ipynb>data table notebook</a>'\n",
              "            + ' to learn more about interactive tables.';\n",
              "          element.innerHTML = '';\n",
              "          dataTable['output_type'] = 'display_data';\n",
              "          await google.colab.output.renderOutput(dataTable, element);\n",
              "          const docLink = document.createElement('div');\n",
              "          docLink.innerHTML = docLinkHtml;\n",
              "          element.appendChild(docLink);\n",
              "        }\n",
              "      </script>\n",
              "    </div>\n",
              "  </div>\n",
              "  "
            ]
          },
          "metadata": {},
          "execution_count": 187
        }
      ],
      "source": [
        "import numpy as np\n",
        "import pandas as pd\n",
        "\n",
        "\n",
        "data = pd.read_csv('adult.csv', sep='\\t', index_col=0)\n",
        "#data = data.dropna()\n",
        "data.head()"
      ]
    },
    {
      "cell_type": "markdown",
      "metadata": {
        "id": "kfVl2ZCYgyFR"
      },
      "source": [
        "**2.1. Name all the columns in this dataset and describe the meaning of each column in one sentence. (0.25 points)** <br>"
      ]
    },
    {
      "cell_type": "code",
      "source": [
        "print(\"Columns:\", ', '.join(data.columns.values))\n",
        "print(\"- age: the age of the individual\")\n",
        "print(\"- workclass: the employment type of the individual\")\n",
        "print(\"- education: the education level of the individual\")\n",
        "print(\"- occupation: the occupation of the individual\")\n",
        "print(\"- capital.gain: the capital gains of the individual\")\n",
        "print(\"- capital.loss: the capital losses of the individual\")\n",
        "print(\"- native.country: where the individual is originally from\")\n",
        "print(\"- salaries: the total salary of the individual\")\n",
        "print(\"- jobsatisfaction: the job satisfaction level of the individual\")\n",
        "print(\"- male: a binary indicator variable (1 or 0) representing whether the individual is male (1) or not (0).\")\n",
        "print(\"- female: a binary indicator variable (1 or 0) representing whether the individual is female (1) or not (0).\")"
      ],
      "metadata": {
        "id": "JKlElZ8EoXXf",
        "colab": {
          "base_uri": "https://localhost:8080/"
        },
        "outputId": "57ca4e4c-485f-4911-9bbd-548df08dee96"
      },
      "execution_count": null,
      "outputs": [
        {
          "output_type": "stream",
          "name": "stdout",
          "text": [
            "Columns: age, workclass, education, occupation, capital.gain, capital.loss, native.country, salaries, jobsatisfaction, male, female\n",
            "- age: the age of the individual\n",
            "- workclass: the employment type of the individual\n",
            "- education: the education level of the individual\n",
            "- occupation: the occupation of the individual\n",
            "- capital.gain: the capital gains of the individual\n",
            "- capital.loss: the capital losses of the individual\n",
            "- native.country: where the individual is originally from\n",
            "- salaries: the total salary of the individual\n",
            "- jobsatisfaction: the job satisfaction level of the individual\n",
            "- male: a binary indicator variable (1 or 0) representing whether the individual is male (1) or not (0).\n",
            "- female: a binary indicator variable (1 or 0) representing whether the individual is female (1) or not (0).\n"
          ]
        }
      ]
    },
    {
      "cell_type": "markdown",
      "metadata": {
        "id": "m7LD_44EgyFU"
      },
      "source": [
        "**<font color='red'>Answer:</font>**"
      ]
    },
    {
      "cell_type": "markdown",
      "metadata": {
        "id": "3qgkWuAQgyFU"
      },
      "source": [
        "####  2.1.1.Visualization is one of the easiest ways to get a good overview of the data, notice any peculiarity, or outliers. <br>In the following subtasks, you will have to visualize the distribution of the values for different features using appropriate diagrams. "
      ]
    },
    {
      "cell_type": "code",
      "execution_count": null,
      "metadata": {
        "id": "seKrq_6pgyFV"
      },
      "outputs": [],
      "source": [
        "# Matplotlib is a Python 2D plotting library which produces publication quality figures in a variety of hardcopy formats \n",
        "# and interactive environments across platforms. Matplotlib can be used in Python scripts, the Python and IPython shells, \n",
        "# Jupyter notebook, web application servers, and for graphical user interface toolkits.\n",
        "import matplotlib.pyplot as plt\n",
        "\n",
        "# allows to output plots in the notebook\n",
        "%matplotlib inline \n",
        "\n",
        "# Set the default style\n",
        "plt.style.use('ggplot') "
      ]
    },
    {
      "cell_type": "markdown",
      "metadata": {
        "id": "nGn22mj5gyFX"
      },
      "source": [
        "As an example, here is the frequency histogram of \"age\" column, where age is an attribute of type **numeric**:"
      ]
    },
    {
      "cell_type": "code",
      "execution_count": null,
      "metadata": {
        "id": "70TQxyBkgyFX",
        "colab": {
          "base_uri": "https://localhost:8080/",
          "height": 265
        },
        "outputId": "ffbd7fe2-d39c-4bd8-98fa-e74a0f922b15"
      },
      "outputs": [
        {
          "output_type": "display_data",
          "data": {
            "text/plain": [
              "<Figure size 432x288 with 1 Axes>"
            ],
            "image/png": "[encoded data removed]"
          },
          "metadata": {}
        }
      ],
      "source": [
        "# Columns may contain non-numeric values, errors or missing values. Therefore, non-numeric values must be dealt with.\n",
        "if data is not ...:\n",
        "    pd.to_numeric(data['age'], errors='coerce').hist(bins=30) # ‘coerce’ -> invalid parsing will be set as NaN\n",
        "else:\n",
        "    print('Please define `data` in earlier subtasks')"
      ]
    },
    {
      "cell_type": "markdown",
      "metadata": {
        "id": "7sHWWIhygyFZ"
      },
      "source": [
        "**2.2. Specify the type of `workclass` attribute (nominal / ordinal / numeric). Choose an appropriate chart to visualise the frequency distribution for the values of `workclass`. (0.25 points)** <br>\n",
        "Hint: Do not forget the data preprocessing part. First look for any unusual value in the specific column and deal with it appropriately. You do not necessarily need to eyeball each of the rows. But you can think of other ways perhaps. The original dataset uses '?' for missing values"
      ]
    },
    {
      "cell_type": "markdown",
      "metadata": {
        "id": "fn8nRBz8gyFa"
      },
      "source": [
        "**<font color='red'>Attribute type :</font>** "
      ]
    },
    {
      "cell_type": "code",
      "execution_count": null,
      "metadata": {
        "id": "ZykR2zwMgyFa",
        "colab": {
          "base_uri": "https://localhost:8080/",
          "height": 539
        },
        "outputId": "61190000-14fd-4f35-bef2-7a8e1cb8cff7"
      },
      "outputs": [
        {
          "output_type": "stream",
          "name": "stdout",
          "text": [
            "The workclass attribute is Nominal, as the categories do not have a natural ordering.\n",
            "\n",
            "The Counter Map of the Frequency among workclass Values:\n",
            "Private             24532\n",
            "Self-emp-not-inc     2541\n",
            "Local-gov            2093\n",
            "State-gov            1298\n",
            "Self-emp-inc         1116\n",
            "Federal-gov           960\n",
            "Without-pay            14\n",
            "Never-worked            7\n",
            "Name: workclass, dtype: int64\n",
            "\n",
            "\n"
          ]
        },
        {
          "output_type": "display_data",
          "data": {
            "text/plain": [
              "<Figure size 1800x432 with 1 Axes>"
            ],
            "image/png": "[encoded data removed]"
          },
          "metadata": {}
        }
      ],
      "source": [
        "print(\"The workclass attribute is Nominal, as the categories do not have a natural ordering.\\n\")\n",
        "\n",
        "# Let's clean the data first:\n",
        "data['workclass'] = data['workclass'].str.strip()\n",
        "\n",
        "# Workclass-specific case handling:\n",
        "data['workclass'].replace('privat', 'Private', inplace=True)\n",
        "\n",
        "# Replace missing values with the most frequent value\n",
        "mostfreq_workclass = data['workclass'].mode()[0]\n",
        "data['workclass'].replace('?', mostfreq_workclass, inplace=True)\n",
        "\n",
        "# Create a bar chart to visualize the frequency distribution\n",
        "workclass_counter = data['workclass'].value_counts()\n",
        "print(\"The Counter Map of the Frequency among workclass Values:\")\n",
        "print(workclass_counter)\n",
        "print('\\n')\n",
        "\n",
        "plt.figure(figsize=(25, 6))\n",
        "plt.bar(workclass_counter.index, workclass_counter.values)\n",
        "plt.title('Frequency Distribution of workclass')\n",
        "plt.xlabel('Workclass')\n",
        "plt.ylabel('Count')\n",
        "plt.show()"
      ]
    },
    {
      "cell_type": "markdown",
      "metadata": {
        "id": "ic6lq5ergyFc"
      },
      "source": [
        "**2.3. Specify the type of `education` attribute (nominal / ordinal / numeric). Choose an appropriate chart to visualise the frequency distribution for the values of `education`. (0.25 points)** <br>"
      ]
    },
    {
      "cell_type": "markdown",
      "metadata": {
        "id": "C1zSn4tygyFd"
      },
      "source": [
        "**<font color='red'>Attribute type :</font>** "
      ]
    },
    {
      "cell_type": "code",
      "execution_count": null,
      "metadata": {
        "id": "YxFaVtnCgyFd",
        "colab": {
          "base_uri": "https://localhost:8080/",
          "height": 682
        },
        "outputId": "c320f5c4-adb7-4cb0-9488-8d7b1cc442ea"
      },
      "outputs": [
        {
          "output_type": "stream",
          "name": "stdout",
          "text": [
            "The education attribute is Ordinal; unlike the workclass attribute, its values have specific ordering.\n",
            "\n",
            "The Counter Map of the Frequency among education Values:\n",
            "HS-grad         10501\n",
            "Some-college     7291\n",
            "Bachelors        5355\n",
            "Masters          1723\n",
            "Assoc-voc        1382\n",
            "11th             1175\n",
            "Assoc-acdm       1067\n",
            "10th              933\n",
            "7th-8th           646\n",
            "Prof-school       576\n",
            "9th               514\n",
            "12th              433\n",
            "Doctorate         413\n",
            "5th-6th           333\n",
            "1st-4th           168\n",
            "Preschool          51\n",
            "Name: education, dtype: int64\n",
            "\n",
            "\n"
          ]
        },
        {
          "output_type": "display_data",
          "data": {
            "text/plain": [
              "<Figure size 1800x432 with 1 Axes>"
            ],
            "image/png": "[encoded data removed]"
          },
          "metadata": {}
        }
      ],
      "source": [
        "print(\"The education attribute is Ordinal; unlike the workclass attribute, its values have specific ordering.\\n\")\n",
        "\n",
        "# Let's clean the data first:\n",
        "data['education'] = data['education'].str.strip()\n",
        "\n",
        "# Replace missing values with the most frequent value\n",
        "mostfreq_education = data['education'].mode()[0]\n",
        "data['education'].replace('?', mostfreq_education, inplace=True)\n",
        "\n",
        "# Create a bar chart to visualize the frequency distribution\n",
        "education_counter = data['education'].value_counts()\n",
        "print(\"The Counter Map of the Frequency among education Values:\")\n",
        "print(education_counter)\n",
        "print('\\n')\n",
        "\n",
        "plt.figure(figsize=(25, 6))\n",
        "plt.bar(education_counter.index, education_counter.values)\n",
        "plt.title('Frequency Distribution of education')\n",
        "plt.xlabel('Education')\n",
        "plt.ylabel('Count')\n",
        "plt.show()"
      ]
    },
    {
      "cell_type": "markdown",
      "metadata": {
        "id": "fDoBsgchgyFf"
      },
      "source": [
        "**2.4. Specify the type of `occupation` attribute (nominal / ordinal / numeric). Choose an appropriate chart to visualise the frequency distribution for the values of `occupation`. (0.25 points)**"
      ]
    },
    {
      "cell_type": "markdown",
      "metadata": {
        "id": "mX0UIBsSgyFf"
      },
      "source": [
        "**<font color='red'>Attribute type :</font>** "
      ]
    },
    {
      "cell_type": "code",
      "execution_count": null,
      "metadata": {
        "id": "FtrZuF9XgyFg",
        "scrolled": false,
        "colab": {
          "base_uri": "https://localhost:8080/",
          "height": 647
        },
        "outputId": "ba4619c8-4b95-4930-8ac1-5a825c8a90f5"
      },
      "outputs": [
        {
          "output_type": "stream",
          "name": "stdout",
          "text": [
            "Similar to the workclass attribute, the occupation attribute is also Nominal.\n",
            "\n",
            "The Counter Map of the Frequency among occupation Values:\n",
            "Prof-specialty       5983\n",
            "Craft-repair         4099\n",
            "Exec-managerial      4066\n",
            "Adm-clerical         3770\n",
            "Sales                3650\n",
            "Other-service        3295\n",
            "Machine-op-inspct    2002\n",
            "Transport-moving     1597\n",
            "Handlers-cleaners    1370\n",
            "Farming-fishing       994\n",
            "Tech-support          928\n",
            "Protective-serv       649\n",
            "Priv-house-serv       149\n",
            "Armed-Forces            9\n",
            "Name: occupation, dtype: int64\n",
            "\n",
            "\n"
          ]
        },
        {
          "output_type": "display_data",
          "data": {
            "text/plain": [
              "<Figure size 1800x432 with 1 Axes>"
            ],
            "image/png": "[encoded data removed]"
          },
          "metadata": {}
        }
      ],
      "source": [
        "print(\"Similar to the workclass attribute, the occupation attribute is also Nominal.\\n\")\n",
        "\n",
        "# Let's clean the data first:\n",
        "data['occupation'] = data['occupation'].str.strip()\n",
        "\n",
        "# Replace missing values with the most frequent value\n",
        "mostfreq_occupation = data['occupation'].mode()[0]\n",
        "data['occupation'].replace('?', mostfreq_occupation, inplace=True)\n",
        "\n",
        "# Create a bar chart to visualize the frequency distribution\n",
        "occupation_counter = data['occupation'].value_counts()\n",
        "print(\"The Counter Map of the Frequency among occupation Values:\")\n",
        "print(occupation_counter)\n",
        "print('\\n')\n",
        "\n",
        "plt.figure(figsize=(25, 6))\n",
        "plt.bar(occupation_counter.index, occupation_counter.values)\n",
        "plt.title('Frequency Distribution of occupation')\n",
        "plt.xlabel('Occupation')\n",
        "plt.ylabel('Count')\n",
        "plt.show()"
      ]
    },
    {
      "cell_type": "markdown",
      "metadata": {
        "id": "OUykwd4-gyFi"
      },
      "source": [
        "**2.5. Specify the type of `native.country` attribute (nominal / ordinal / numeric). Choose an appropriate chart to visualise the frequency distribution for the values of `native.country`. (0.25 points)**"
      ]
    },
    {
      "cell_type": "markdown",
      "metadata": {
        "id": "b40iyT1ggyFi"
      },
      "source": [
        "**<font color='red'>Attribute type :</font>** "
      ]
    },
    {
      "cell_type": "code",
      "execution_count": null,
      "metadata": {
        "id": "6jwSal9ogyFj",
        "scrolled": false,
        "colab": {
          "base_uri": "https://localhost:8080/",
          "height": 1000
        },
        "outputId": "2a0579bf-1210-4785-8394-4a9c63660f2b"
      },
      "outputs": [
        {
          "output_type": "stream",
          "name": "stdout",
          "text": [
            "Similar to the workclass attribute, the native.country attribute is also Nominal.\n",
            "\n",
            "The Counter Map of the Frequency among native.country Values:\n",
            "United-States                 29753\n",
            "Mexico                          643\n",
            "Philippines                     198\n",
            "Germany                         137\n",
            "Canada                          121\n",
            "Puerto-Rico                     114\n",
            "El-Salvador                     106\n",
            "India                           100\n",
            "Cuba                             95\n",
            "England                          90\n",
            "Jamaica                          81\n",
            "South                            80\n",
            "China                            75\n",
            "Italy                            73\n",
            "Dominican-Republic               70\n",
            "Vietnam                          67\n",
            "Guatemala                        64\n",
            "Japan                            62\n",
            "Poland                           60\n",
            "Columbia                         59\n",
            "Taiwan                           51\n",
            "Haiti                            44\n",
            "Iran                             43\n",
            "Portugal                         37\n",
            "Nicaragua                        34\n",
            "Peru                             31\n",
            "France                           29\n",
            "Greece                           29\n",
            "Ecuador                          28\n",
            "Ireland                          24\n",
            "Hong                             20\n",
            "Cambodia                         19\n",
            "Trinadad&Tobago                  19\n",
            "Laos                             18\n",
            "Thailand                         18\n",
            "Yugoslavia                       16\n",
            "Outlying-US(Guam-USVI-etc)       14\n",
            "Honduras                         13\n",
            "Hungary                          13\n",
            "Scotland                         12\n",
            "Holand-Netherlands                1\n",
            "Name: native.country, dtype: int64\n",
            "\n",
            "\n"
          ]
        },
        {
          "output_type": "display_data",
          "data": {
            "text/plain": [
              "<Figure size 1800x432 with 1 Axes>"
            ],
            "image/png": "[encoded data removed]"
          },
          "metadata": {}
        }
      ],
      "source": [
        "print(\"Similar to the workclass attribute, the native.country attribute is also Nominal.\\n\")\n",
        "\n",
        "# Let's clean the data first:\n",
        "data['native.country'] = data['native.country'].str.strip()\n",
        "\n",
        "# We have US-specific case to handle\n",
        "data['native.country'].replace(['Unitedstates', 'UnitedStates'], 'United-States', inplace=True)\n",
        "\n",
        "# Replace missing values with the most frequent value\n",
        "mostfreq_native_country = data['native.country'].mode()[0]\n",
        "data['native.country'].replace('?', mostfreq_native_country, inplace=True)\n",
        "\n",
        "# Create a bar chart to visualize the frequency distribution\n",
        "native_country_counter = data['native.country'].value_counts()\n",
        "print(\"The Counter Map of the Frequency among native.country Values:\")\n",
        "print(native_country_counter)\n",
        "print('\\n')\n",
        "\n",
        "plt.figure(figsize=(25, 6))\n",
        "plt.bar(native_country_counter.index, native_country_counter.values)\n",
        "plt.title('Frequency Distribution of native.country')\n",
        "plt.xlabel('Native Country')\n",
        "plt.ylabel('Count')\n",
        "plt.show()"
      ]
    },
    {
      "cell_type": "markdown",
      "metadata": {
        "id": "9noaPZsHgyFl"
      },
      "source": [
        "**2.6. Specify the type of `salaries` attribute (nominal / ordinal / numeric). Choose an appropriate chart to visualise the frequency distribution for the values of `salaries`. (0.25 points)**"
      ]
    },
    {
      "cell_type": "markdown",
      "metadata": {
        "id": "N4sTxrttgyFl"
      },
      "source": [
        "**<font color='red'>Attribute type :</font>** "
      ]
    },
    {
      "cell_type": "code",
      "execution_count": null,
      "metadata": {
        "id": "7tg9bjOzgyFm",
        "scrolled": false,
        "colab": {
          "base_uri": "https://localhost:8080/",
          "height": 325
        },
        "outputId": "095c0752-2ce0-4e27-c034-b0a4018615fe"
      },
      "outputs": [
        {
          "output_type": "stream",
          "name": "stdout",
          "text": [
            "Unlike the previous ones, the values of the salaries attribute is numeric.\n",
            "\n"
          ]
        },
        {
          "output_type": "display_data",
          "data": {
            "text/plain": [
              "<Figure size 1800x432 with 1 Axes>"
            ],
            "image/png": "[encoded data removed]"
          },
          "metadata": {}
        }
      ],
      "source": [
        "print(\"Unlike the previous ones, the values of the salaries attribute is numeric.\\n\")\n",
        "\n",
        "mean_salaries = data['salaries'].mean()\n",
        "data['salaries'].fillna(mean_salaries, inplace=True)\n",
        "\n",
        "plt.figure(figsize=(25, 6))\n",
        "plt.hist(data['salaries'], bins=20)\n",
        "plt.title('Frequency Distribution of Salaries')\n",
        "plt.xlabel('Salaries')\n",
        "plt.ylabel('Count')\n",
        "plt.show()"
      ]
    },
    {
      "cell_type": "markdown",
      "metadata": {
        "id": "HzDSxjzsgyFo"
      },
      "source": [
        "**2.7. Attributes `male` and `female`. Specify the types of these attributes (nominal / ordinal / numeric). Choose an appropriate chart type to visualise the relative frequency of positive values in attribute `male` and positive values in attribute `female` (relative frequency of males and females). (0.25 points)**"
      ]
    },
    {
      "cell_type": "markdown",
      "metadata": {
        "id": "gpNd1Z7XgyFo"
      },
      "source": [
        "**<font color='red'>Attribute type :</font>**"
      ]
    },
    {
      "cell_type": "code",
      "execution_count": null,
      "metadata": {
        "id": "VokObsU2gyFp",
        "scrolled": false,
        "colab": {
          "base_uri": "https://localhost:8080/",
          "height": 301
        },
        "outputId": "eb9af22e-fbff-4531-bc1b-d3a9b3a347df"
      },
      "outputs": [
        {
          "output_type": "stream",
          "name": "stdout",
          "text": [
            "Even though they are binary, the value type of the male and female attributes are Numeric.\n",
            "\n"
          ]
        },
        {
          "output_type": "display_data",
          "data": {
            "text/plain": [
              "<Figure size 432x288 with 1 Axes>"
            ],
            "image/png": "[encoded data removed]"
          },
          "metadata": {}
        }
      ],
      "source": [
        "print(\"Even though they are binary, the value type of the male and female attributes are Numeric.\\n\")\n",
        "\n",
        "# Find the Frequencies\n",
        "num_males = data['male'].notna().sum()\n",
        "num_females = data['female'].notna().sum()\n",
        "total_count = num_males + num_females\n",
        "male_freq = num_males / total_count\n",
        "female_freq = num_females / total_count\n",
        "\n",
        "fig, (ax1) = plt.subplots()\n",
        "\n",
        "ax1.pie([male_freq, 1-male_freq], labels=['Male', 'Female'], autopct='%1.1f%%')\n",
        "ax1.set_title('Relative Frequency of Males over Females')\n",
        "\n",
        "plt.show()"
      ]
    },
    {
      "cell_type": "markdown",
      "metadata": {
        "id": "-TqRzwEZgyFr"
      },
      "source": [
        "**2.8. Count the number of missing values in each attribute in the dataset and report the percentage of missing values of each attribute (the original file uses '?' for missing values). (0.25 points)**"
      ]
    },
    {
      "cell_type": "code",
      "execution_count": null,
      "metadata": {
        "id": "8OCwVGZ7gyFr",
        "scrolled": false,
        "colab": {
          "base_uri": "https://localhost:8080/"
        },
        "outputId": "ac07f43b-8809-4792-8269-4130c9015a0c"
      },
      "outputs": [
        {
          "output_type": "stream",
          "name": "stdout",
          "text": [
            "Percentage of missing values in each attribute:\n",
            "\n",
            "age                0.297902\n",
            "workclass          5.638647\n",
            "education          0.000000\n",
            "occupation         5.660146\n",
            "capital.gain       0.000000\n",
            "capital.loss       0.000000\n",
            "native.country     1.790486\n",
            "salaries           0.000000\n",
            "jobsatisfaction    0.000000\n",
            "male               0.000000\n",
            "female             0.000000\n",
            "dtype: float64\n"
          ]
        }
      ],
      "source": [
        "data = pd.read_csv('adult.csv', sep='\\t', index_col=0)\n",
        "\n",
        "# No need for trailing spaces\n",
        "data[data.select_dtypes(['object']).columns] = data.select_dtypes(['object']).apply(lambda value: value.str.strip())\n",
        "\n",
        "# Count the number of missing values in each attribute\n",
        "missing_values_count = data.isin(['?']).sum()\n",
        "\n",
        "# Calculate the percentage of missing values in each attribute\n",
        "percentage_missing_values = (missing_values_count / len(data)) * 100\n",
        "\n",
        "# Print the results\n",
        "print(\"Percentage of missing values in each attribute:\\n\")\n",
        "print(percentage_missing_values)"
      ]
    },
    {
      "cell_type": "markdown",
      "source": [
        "**<font color='red'>Answer:</font>**"
      ],
      "metadata": {
        "id": "LTm9goO0odqy"
      }
    },
    {
      "cell_type": "markdown",
      "metadata": {
        "id": "JW2LQpVLTTuI"
      },
      "source": [
        "<strong>2.9. Please provide a descriptive statistics for the people who work(`workclass`) in private sector. <br>Separately answer the following questions, <br> What are their mean and median salaries (`salaries`), job satisfaction (`jobsatisfaction`)? <br> What are their highest and lowest level of education (`education`)? <br> Provide the percentage of `male` and `female` employee distribution of these people.  (0.5 points)<strong>"
      ]
    },
    {
      "cell_type": "code",
      "execution_count": null,
      "metadata": {
        "id": "IuYok_tiTTuI",
        "colab": {
          "base_uri": "https://localhost:8080/"
        },
        "outputId": "0a7f53f4-8fa0-40d7-b8a4-c686cec847b1"
      },
      "outputs": [
        {
          "output_type": "stream",
          "name": "stdout",
          "text": [
            "Descriptive Statistics for Those Working in Private Sector:\n",
            "\n",
            "       capital.gain  capital.loss       salaries     male  female\n",
            "count  22696.000000  22696.000000   22696.000000  14944.0  7752.0\n",
            "mean     889.217792     80.008724   38533.175185      1.0     1.0\n",
            "std     6424.267599    384.157003   16904.733529      0.0     0.0\n",
            "min        0.000000      0.000000     126.000000      1.0     1.0\n",
            "25%        0.000000      0.000000   26799.750000      1.0     1.0\n",
            "50%        0.000000      0.000000   33556.000000      1.0     1.0\n",
            "75%        0.000000      0.000000   44610.000000      1.0     1.0\n",
            "max    99999.000000   4356.000000  140000.000000      1.0     1.0\n",
            "\n",
            "The Mean and Median of Their Salaries:\n",
            "\n",
            "mean    38533.175185\n",
            "50%     33556.000000\n",
            "Name: salaries, dtype: float64\n",
            "\n",
            "Descriptive Statistics for the Job Satisfaction Level of Those Working in Private Sector:\n",
            "\n",
            "count     22696\n",
            "unique       16\n",
            "top          15\n",
            "freq       1798\n",
            "Name: jobsatisfaction, dtype: object\n",
            "\n",
            "NOTE: We haven't defined which education level is the highest but which one is the lowest here!\n",
            "\n",
            "Descriptive Statistics for the Education Level of Those Working in Private Sector:\n",
            "\n",
            "count       22696\n",
            "unique         16\n",
            "top       HS-grad\n",
            "freq         7780\n",
            "Name: education, dtype: object\n",
            "\n",
            "NOTE: We haven't defined which education level is the highest but which one is the lowest here!\n",
            "\n",
            "The Frequency of the Males Working in Private Sector: 0.6584420162143109\n",
            "The Frequency of the Females Working in Private Sector: 0.34155798378568913\n",
            "\n",
            "WARNINGS:\n",
            "\n"
          ]
        },
        {
          "output_type": "stream",
          "name": "stderr",
          "text": [
            "/usr/local/lib/python3.8/dist-packages/pandas/core/generic.py:6392: SettingWithCopyWarning: \n",
            "A value is trying to be set on a copy of a slice from a DataFrame\n",
            "\n",
            "See the caveats in the documentation: https://pandas.pydata.org/pandas-docs/stable/user_guide/indexing.html#returning-a-view-versus-a-copy\n",
            "  return self._update_inplace(result)\n",
            "/usr/local/lib/python3.8/dist-packages/pandas/core/generic.py:6619: SettingWithCopyWarning: \n",
            "A value is trying to be set on a copy of a slice from a DataFrame\n",
            "\n",
            "See the caveats in the documentation: https://pandas.pydata.org/pandas-docs/stable/user_guide/indexing.html#returning-a-view-versus-a-copy\n",
            "  return self._update_inplace(result)\n"
          ]
        }
      ],
      "source": [
        "# Workclass-specific case handling:\n",
        "data['workclass'] = data['workclass'].replace('privat', 'Private')\n",
        "\n",
        "private_workers = data[data['workclass'] == 'Private']\n",
        "\n",
        "print(\"Descriptive Statistics for Those Working in Private Sector:\\n\")\n",
        "print(private_workers.describe())\n",
        "\n",
        "print(\"\\nThe Mean and Median of Their Salaries:\\n\")\n",
        "mean_salaries = private_workers['salaries'].mean()\n",
        "private_workers['salaries'].fillna(mean_salaries, inplace=True)\n",
        "print(private_workers.describe()['salaries'][['mean', '50%']])\n",
        "\n",
        "print(\"\\nDescriptive Statistics for the Job Satisfaction Level of Those Working in Private Sector:\\n\")\n",
        "private_workers['jobsatisfaction'].apply(lambda value: value.strip())\n",
        "mostfreq_jobsatisfaction = private_workers['jobsatisfaction'].mode()[0]\n",
        "private_workers['jobsatisfaction'].replace('?', mostfreq_education, inplace = True)\n",
        "print(private_workers['jobsatisfaction'].describe())\n",
        "\n",
        "print(\"\\nNOTE: We haven't defined which education level is the highest but which one is the lowest here!\")\n",
        "print(\"\\nDescriptive Statistics for the Education Level of Those Working in Private Sector:\\n\")\n",
        "private_workers['education'].apply(lambda value: value.strip())\n",
        "mostfreq_education = private_workers['education'].mode()[0]\n",
        "private_workers['education'].replace('?', mostfreq_education, inplace = True)\n",
        "print(private_workers['education'].describe())\n",
        "print(\"\\nNOTE: We haven't defined which education level is the highest but which one is the lowest here!\")\n",
        "\n",
        "num_males = private_workers['male'].notna().sum()\n",
        "num_females = private_workers['female'].notna().sum()\n",
        "total_count = num_males + num_females\n",
        "male_freq = num_males / total_count\n",
        "female_freq = num_females / total_count\n",
        "print(\"\\nThe Frequency of the Males Working in Private Sector:\", male_freq)\n",
        "print(\"The Frequency of the Females Working in Private Sector:\", female_freq)\n",
        "print(\"\\nWARNINGS:\\n\")"
      ]
    },
    {
      "cell_type": "markdown",
      "source": [
        "**<font color='red'>Answer:</font>**"
      ],
      "metadata": {
        "id": "t2gV7tCPoedO"
      }
    },
    {
      "cell_type": "markdown",
      "metadata": {
        "id": "zA0tQqQ-gyFu"
      },
      "source": [
        "# 3.  Data preparation (1.5 points)"
      ]
    },
    {
      "cell_type": "markdown",
      "metadata": {
        "id": "5oLOS7LWgyFu"
      },
      "source": [
        "Preparing the data for analysis is the most crucial part of data analysis. In this exercise, we will clean up the dataset 'adult.csv'. The dataset was purposefully made untidy so that you can practice cleaning it up.<br>"
      ]
    },
    {
      "cell_type": "markdown",
      "metadata": {
        "id": "H_S7GNXCgyFv"
      },
      "source": [
        "First, let's make a deep copy of the original DataFrame. Later we will compare it to the cleaned/modified DataFrame."
      ]
    },
    {
      "cell_type": "code",
      "execution_count": null,
      "metadata": {
        "id": "oTT78CZtgyFv",
        "scrolled": false
      },
      "outputs": [],
      "source": [
        "if data is not ...:\n",
        "    original_data = data.copy(deep=True) # Make a deep copy, including a copy of the data and the indices"
      ]
    },
    {
      "cell_type": "markdown",
      "metadata": {
        "id": "XPjMB5BfgyFx"
      },
      "source": [
        "**3.1. Sometimes values include leading and/or trailing spaces. Remove leading and trailing whitespace from strings. Count the number of rows that were changed in the dataset. (0.30 points)** <br>"
      ]
    },
    {
      "cell_type": "code",
      "execution_count": null,
      "metadata": {
        "id": "nLDSg2s0gyFx"
      },
      "outputs": [],
      "source": [
        "#Perform manipulations in the 'data' dataframe. So that later you can use the code block below to compare\n"
      ]
    },
    {
      "cell_type": "markdown",
      "metadata": {
        "id": "ypKQ7rHDgyFz"
      },
      "source": [
        "Use code below to count how many rows were affected."
      ]
    },
    {
      "cell_type": "code",
      "execution_count": null,
      "metadata": {
        "id": "p1GVNw05gyF1"
      },
      "outputs": [],
      "source": [
        "# Count differences\n",
        "if data is not ...:\n",
        "    data_all = pd.concat([original_data, data]).drop_duplicates()\n",
        "    diff = data_all.shape[0] - data.shape[0]\n",
        "    print ('Difference: ' + str(diff))"
      ]
    },
    {
      "cell_type": "markdown",
      "metadata": {
        "id": "_rfkpGsJgyF3"
      },
      "source": [
        "**<font color='red'>Answer:</font>** "
      ]
    },
    {
      "cell_type": "markdown",
      "metadata": {
        "id": "BBT286CHgyF3"
      },
      "source": [
        "**3.2. Replace all non-sensical values in `data` with np.nan from numpy package to denote missing values (Original file uses '?' for missing values). Fix the typos in the dataset. Justify all the changes that you do, explaining why you are sure that this is a correct change and what you think the cause for such error. (0.60 points)**  <br>"
      ]
    },
    {
      "cell_type": "code",
      "execution_count": null,
      "metadata": {
        "id": "IETuPnl6gyF4"
      },
      "outputs": [],
      "source": []
    },
    {
      "cell_type": "markdown",
      "metadata": {
        "id": "rsO6f0E3gyF6"
      },
      "source": [
        "**<font color='red'>Answer:</font>** "
      ]
    },
    {
      "cell_type": "markdown",
      "metadata": {
        "id": "BRZ8piLMgyF6"
      },
      "source": [
        "**3.3. Count the rows which were changed in the subtask 3.2 (0.30 points)** <br>"
      ]
    },
    {
      "cell_type": "code",
      "execution_count": null,
      "metadata": {
        "id": "MeyNTYLegyF8",
        "scrolled": true
      },
      "outputs": [],
      "source": [
        "data_all = #TODO\n",
        "diff = data_all.shape[0] - data.shape[0]\n",
        "print ('Difference: ' + str(diff))"
      ]
    },
    {
      "cell_type": "markdown",
      "metadata": {
        "id": "FLjQtWwygyF-"
      },
      "source": [
        "**<font color='red'>Answer:</font>** "
      ]
    },
    {
      "cell_type": "markdown",
      "metadata": {
        "id": "SMz9X0figyF_"
      },
      "source": [
        "**3.4. Report values that look suspicious. By suspicious we mean that you are not sure if those values are wrong or right. This is an open-ended question, use your rational judgement. (0.30 points)** <br> "
      ]
    },
    {
      "cell_type": "code",
      "source": [],
      "metadata": {
        "id": "S7zIDygLojA9"
      },
      "execution_count": null,
      "outputs": []
    },
    {
      "cell_type": "markdown",
      "metadata": {
        "id": "_07BDDEJgyF_"
      },
      "source": [
        "**<font color='red'>Answer:</font>** "
      ]
    },
    {
      "cell_type": "markdown",
      "metadata": {
        "id": "W9KyP9U8gyGB"
      },
      "source": [
        "# 4.  Exploring dataset (2 points)"
      ]
    },
    {
      "cell_type": "markdown",
      "metadata": {
        "id": "srZFaEN4gyGB"
      },
      "source": [
        "Gathering interesting facts about the `adult.csv` through visualization without complex data analysis."
      ]
    },
    {
      "cell_type": "markdown",
      "metadata": {
        "id": "pRkB8hD3gyGB"
      },
      "source": [
        "**4.1. Convert the attribute `Education` into type `category` and introduce the order for this attribute based on the education level (e.g. Masters is higher education than Bachelors; use your best guess in ordering those levels for which the order is not obvious). Create a bar chart visualising the relative frequencies of values. (0.5 Points)**"
      ]
    },
    {
      "cell_type": "code",
      "execution_count": null,
      "metadata": {
        "id": "jOk7vRjXgyGC"
      },
      "outputs": [],
      "source": []
    },
    {
      "cell_type": "markdown",
      "source": [
        "**<font color='red'>Answer:</font>**"
      ],
      "metadata": {
        "id": "CLMy9_Ttoj4K"
      }
    },
    {
      "cell_type": "markdown",
      "metadata": {
        "id": "xqfN3JGdgyGE"
      },
      "source": [
        "**4.2.  Create and print a Pandas data frame where each row stands for an occupation, each column stands for a level of education, and the cells in the table contain the average salary of people with the corresponding occupation and education level.(0.5 Points)** <br> \n",
        "Hint 1: You can use crosstab, see also aggfunc from the pandas documentation."
      ]
    },
    {
      "cell_type": "code",
      "execution_count": null,
      "metadata": {
        "id": "ZP9FpDmQgyGE",
        "scrolled": false
      },
      "outputs": [],
      "source": []
    },
    {
      "cell_type": "markdown",
      "source": [
        "**<font color='red'>Answer:</font>**"
      ],
      "metadata": {
        "id": "-YaCof8_okid"
      }
    },
    {
      "cell_type": "markdown",
      "metadata": {
        "id": "SkfgCZwdgyGG"
      },
      "source": [
        "**4.3. Make a separate plot for each row (occupation) of the table created in subtask 4.2. Choose the type of the plot to convey the information as good as you can.(0.5 Points)** <br>"
      ]
    },
    {
      "cell_type": "code",
      "execution_count": null,
      "metadata": {
        "id": "CgInKfXBgyGG",
        "scrolled": false
      },
      "outputs": [],
      "source": []
    },
    {
      "cell_type": "markdown",
      "source": [
        "**<font color='red'>Answer:</font>**"
      ],
      "metadata": {
        "id": "aHwphx_rolW6"
      }
    },
    {
      "cell_type": "markdown",
      "metadata": {
        "id": "F16HJ-fagyGH"
      },
      "source": [
        "**4.4. List 3 interesting facts that you can read out of these plots from subtask 4.3. (0.5 points)** <br>"
      ]
    },
    {
      "cell_type": "markdown",
      "metadata": {
        "id": "9oApcs-OgyGI"
      },
      "source": [
        "**<font color='red'>Fact 1:</font>** "
      ]
    },
    {
      "cell_type": "markdown",
      "metadata": {
        "id": "v5CG6OpdgyGI"
      },
      "source": [
        "**<font color='red'>Fact 2:</font>** "
      ]
    },
    {
      "cell_type": "markdown",
      "metadata": {
        "id": "KkRuEv5DgyGJ"
      },
      "source": [
        "**<font color='red'>Fact 3:</font>** "
      ]
    },
    {
      "cell_type": "markdown",
      "metadata": {
        "id": "hxttFXvDTTuS"
      },
      "source": [
        "# 5. Basic Clustering (6 points)\n",
        "We will learn RFM (Recency, Frequency, Monetary value) technique and basic clustering algorithms: K-means, DBSCAN, and Hierarchical clustering in this section. \n",
        "\n"
      ]
    },
    {
      "cell_type": "markdown",
      "metadata": {
        "id": "KIWlyfPHUv7q"
      },
      "source": [
        "## 5.1 RFM (1.5 points)\n",
        "We will apply the RFM technique in this section similar to the practice session. The dataset for this task belongs to http://donorschoose.org/. \n",
        "\n",
        "The web platform http://donorschoose.org helps projects in collecting donations. The donators have the option to give 15% of what they donate to this webplatform. The dataset contains the following fields:\n",
        "\n",
        "- Donor ID - Unique identifier of donors\n",
        "- Donation Included Optional Donation - The donor has agreed(Yes/No) to give 15% of donation amount to Donoschoose.org\n",
        "- Donation Amount - Total amount donated\n",
        "- Donor Cart Sequence - The ranking of the donaton project in the donors list\n",
        "- Donation Received Date - Date of online payment\n"
      ]
    },
    {
      "cell_type": "markdown",
      "metadata": {
        "id": "EzHz71HBTTuS"
      },
      "source": [
        "**5.1.1**\n",
        "**Please load the dataset Donations.csv. <br>The field ```Donation Included Optional Donation``` shows if the donor agreed (Yes/No) to give 15% of donation amount to Donoschoose.org. <br>Update the field \"Donation Amount\" so that it represents the correct amount of donation; which means if `Donation Included Optional Donation`=yes, calculate the `Donation Amount`. (0.25 points)** "
      ]
    },
    {
      "cell_type": "code",
      "execution_count": null,
      "metadata": {
        "id": "njF6zluVTTuS"
      },
      "outputs": [],
      "source": []
    },
    {
      "cell_type": "markdown",
      "source": [
        "**<font color='red'>Answer:</font>**"
      ],
      "metadata": {
        "id": "B1UlyR7XonEW"
      }
    },
    {
      "cell_type": "markdown",
      "metadata": {
        "id": "YiAqRFfoTTuT"
      },
      "source": [
        "**5.1.2 For understanding `Recency`, consider 2018-05-31 23:00:00 as the reference date\n",
        "(we assume this is report date).<br> Calculate the number of days between this date and the date of last purchase  for each customer. How long the donor with ID equal to e0fe4d9b8def8a71635e65ba4ff5ef40 has been inactive ? (0.25 points)**"
      ]
    },
    {
      "cell_type": "code",
      "execution_count": null,
      "metadata": {
        "id": "0Y6ue9XaTTuT"
      },
      "outputs": [],
      "source": []
    },
    {
      "cell_type": "markdown",
      "source": [
        "**<font color='red'>Answer:</font>**"
      ],
      "metadata": {
        "id": "IjIOWKQQonnd"
      }
    },
    {
      "cell_type": "markdown",
      "metadata": {
        "id": "5UU7gBDVTTuT"
      },
      "source": [
        "**5.1.3 For understanding `Frequency`, calculate how frequently (how many times) a user has made donations.<br> Assume that we want to recognize the person with the highest frequency by displaying her/ his name on the webpage, please find the donor ID for the highest frequency available. (0.25 points)**"
      ]
    },
    {
      "cell_type": "code",
      "execution_count": null,
      "metadata": {
        "id": "8CvdrcUSTTuT"
      },
      "outputs": [],
      "source": []
    },
    {
      "cell_type": "markdown",
      "source": [
        "**<font color='red'>Answer:</font>**"
      ],
      "metadata": {
        "id": "ctYZ02-HooKX"
      }
    },
    {
      "cell_type": "markdown",
      "metadata": {
        "id": "s2ZG95vmTTuT"
      },
      "source": [
        "**5.1.4 For understanding `Monetary Value`, calculate the amount of donation. <br> What is the highest donation amount and what is the donor ID of that donation? <br> Is donor ID from from this the same with donor ID from the highest frequency? (0.25 points)**"
      ]
    },
    {
      "cell_type": "code",
      "execution_count": null,
      "metadata": {
        "id": "ojHx71yETTuU"
      },
      "outputs": [],
      "source": []
    },
    {
      "cell_type": "markdown",
      "source": [
        "**<font color='red'>Answer:</font>**"
      ],
      "metadata": {
        "id": "q_VWLhkGoorM"
      }
    },
    {
      "cell_type": "markdown",
      "metadata": {
        "id": "YhQ4oh2pTTuU"
      },
      "source": [
        "**5.1.5 Create a column `RFM_Score` with the quantiles of Recency, Frequency, Monetary value. Interpret the value of `RFM_Score`. (0.50 points)**"
      ]
    },
    {
      "cell_type": "code",
      "execution_count": null,
      "metadata": {
        "id": "FqrOG6-UTTuU"
      },
      "outputs": [],
      "source": []
    },
    {
      "cell_type": "markdown",
      "source": [
        "**<font color='red'>Answer:</font>**"
      ],
      "metadata": {
        "id": "YKREQsmiopMk"
      }
    },
    {
      "cell_type": "markdown",
      "metadata": {
        "id": "DxVq6XBUTTuU"
      },
      "source": [
        "## 5.2 K-means Clustering (1.5 points)\n",
        "We will learn to apply K-means clustering algorithm in this section. "
      ]
    },
    {
      "cell_type": "markdown",
      "metadata": {
        "id": "6YaoYBLxTTuV"
      },
      "source": [
        "**5.2.1 Plese load the `customers.csv` dataset and provide a descriptives of the dataset. (0.05 points)** <br>\n",
        "*Make sure to pass `encoding = \"ISO-8859-1\"` in the pandas read_csv() function*"
      ]
    },
    {
      "cell_type": "code",
      "execution_count": null,
      "metadata": {
        "id": "CXnBReqnTTuV"
      },
      "outputs": [],
      "source": []
    },
    {
      "cell_type": "markdown",
      "source": [
        "**<font color='red'>Answer:</font>**"
      ],
      "metadata": {
        "id": "-BdqbrrOopxY"
      }
    },
    {
      "cell_type": "markdown",
      "metadata": {
        "id": "oIbOA9lvTTuV"
      },
      "source": [
        "**5.2.2 Visualize the relation of `Age` and `Annual Income (k$)` of customers in the dataset. You can use your perefered plotting method to show the result. Could you explain the result if there is any relation among the variables? (0.10 points)**"
      ]
    },
    {
      "cell_type": "code",
      "execution_count": null,
      "metadata": {
        "id": "YfRqVfdjTTuV"
      },
      "outputs": [],
      "source": []
    },
    {
      "cell_type": "markdown",
      "source": [
        "**<font color='red'>Answer:</font>**"
      ],
      "metadata": {
        "id": "VwXvc1RhoqPM"
      }
    },
    {
      "cell_type": "markdown",
      "metadata": {
        "id": "-KT0rjbVTTuW"
      },
      "source": [
        "**5.2.3 Visualize the relation of `Age` and `Spending Score (1-100)` of customers in the dataset. You can use your perefered plotting method to show the result. Could you explain the result if there is anything interesting going on? (0.10 points)**"
      ]
    },
    {
      "cell_type": "code",
      "execution_count": null,
      "metadata": {
        "id": "JVXB_gS-TTuW"
      },
      "outputs": [],
      "source": []
    },
    {
      "cell_type": "markdown",
      "source": [
        "**<font color='red'>Answer:</font>**"
      ],
      "metadata": {
        "id": "feFcyAg3oqug"
      }
    },
    {
      "cell_type": "markdown",
      "metadata": {
        "id": "lilm8rLVTTuX"
      },
      "source": [
        "**5.2.4 Visualize the relation of `Annual Income (k$)` and `Spending Score (1-100)` of customers in the dataset. (0.10 points)**"
      ]
    },
    {
      "cell_type": "code",
      "execution_count": null,
      "metadata": {
        "id": "8czjAtb5TTuX"
      },
      "outputs": [],
      "source": []
    },
    {
      "cell_type": "markdown",
      "source": [
        "**<font color='red'>Answer:</font>**"
      ],
      "metadata": {
        "id": "3j8AMXylorPQ"
      }
    },
    {
      "cell_type": "markdown",
      "metadata": {
        "id": "j6bsJJ6aTTuX"
      },
      "source": [
        "If you successfully plotted the diagram of 5.2.4, you should be able to see how the instances(points) are dispersed; clearly there are some groups where the instances are close to each other. Unfortunately computers cannot just look at the plot, guess on the clusters and their boundaries. <br>In order to make machine understand the clusters, we will apply K-means, a very popular and easy algorithm. <br><br>\n",
        "But before applying K-means we have to know on which columns we will apply the K-means algorithm. For that, we have to perform data preprocessing. Since the above plot shows a relation between `Anunual Income (k$)` and `Spending Score (1-100)`, it is wise just to pick those two and proceed. <br><br>\n",
        "\n",
        "However, there are drawbacks of K-means algorithm. It does not inherently know how many possible clusters are available in the dataset. So, we have to set the parameter manually before we run the algorithm. One of the ways to know number clusters is to apply elbow method. The elbow method has been discussed in the lecture. Now it is your turn to apply elbow method on our dataset. "
      ]
    },
    {
      "cell_type": "markdown",
      "metadata": {
        "id": "IHKz2nCRTTuX"
      },
      "source": [
        "**5.2.5 Select `Anunual Income (k$)` and `Spending Score (1-100)` to create a new dataset for the purpose of elbow method and K-means. Apply elbow method on the new dataset and plot the result. (0.5 points)**"
      ]
    },
    {
      "cell_type": "code",
      "execution_count": null,
      "metadata": {
        "id": "CJgdr2PhTTuY",
        "outputId": "941bff57-3296-4674-bc90-cd1537e2fa48"
      },
      "outputs": [
        {
          "name": "stdout",
          "output_type": "stream",
          "text": [
            "\u001b[91mTODO: Oops! There is some error, implement the elbow method correctly!\u001b[0m\n"
          ]
        }
      ],
      "source": [
        "CRED = '\\033[91m'\n",
        "CEND = '\\033[0m'\n",
        "\n",
        "#packages you need to do the tasks\n",
        "import pandas as pd\n",
        "import numpy as np\n",
        "import matplotlib.pyplot as plt\n",
        "%matplotlib inline \n",
        "from sklearn.cluster import KMeans\n",
        "\n",
        "#funtion to plot elbow method\n",
        "def plot_elbow(x,y):\n",
        "    if len(y)!=0:\n",
        "        \n",
        "        plt.figure(figsize=(16,8))\n",
        "        plt.plot(K, dist, 'bx-')\n",
        "        plt.xlabel('Number of K')\n",
        "        plt.ylabel('Distortion')\n",
        "        plt.title('Elbow Method')\n",
        "        plt.show()\n",
        "    else:\n",
        "        raise NotImplementedError(\"Oops! There is some error, implement the elbow method correctly!\")\n",
        "    \n",
        "\n",
        "#data preprocessing\n",
        "\n",
        "\n",
        "\n",
        "##### YOUR DATA PREPROCESSING CODE STARTS ##### (please do not delete this line)\n",
        "\n",
        "##### YOUR DATA PREPROCESSING CODE ENDS ##### (please do not delete this line)\n",
        "\n",
        "\n",
        "\n",
        "\n",
        " \n",
        "dist = []            #Store the distortion in dist variable.\n",
        "K = range(1,10)      #we can check upto 10 clusters, you can change the value if you want to experiment.\n",
        "\n",
        "\n",
        "\n",
        "\n",
        "##### YOUR ELBOW METHOD CODE STARTS ##### (please do not delete this line)\n",
        "\n",
        "##### YOUR ELBOW METHOD CODE ENDS ##### (please do not delete this line)\n",
        "\n",
        "\n",
        "\n",
        "\n",
        "#plot of elbow method\n",
        "try:\n",
        "    plot_elbow(K, dist) \n",
        "except NotImplementedError as e:\n",
        "    print(CRED + \"TODO: \" + str(e) + CEND)"
      ]
    },
    {
      "cell_type": "markdown",
      "source": [
        "**<font color='red'>Answer:</font>**"
      ],
      "metadata": {
        "id": "5-wgxd4Potp_"
      }
    },
    {
      "cell_type": "markdown",
      "metadata": {
        "id": "rI9A95HPTTuc"
      },
      "source": [
        "**5.2.6 If you could successfully apply elbow method, pick the optimal value of K and pass the value to the k-means algoithm you are about to apply.\n",
        "<br> Please apply the K-means algorithm with `max_iter=1`. Pass the argument to the K-means function. \n",
        "<br>Do not forget to visualize the clustering result. <br>Report the cluster centroids(0.5 points)**"
      ]
    },
    {
      "cell_type": "code",
      "execution_count": null,
      "metadata": {
        "id": "HquMlx7ZTTud"
      },
      "outputs": [],
      "source": [
        "##### YOUR K-MEANS CODE STARTS ##### (please do not delete this line)\n",
        "\n",
        "##### YOUR K-MEANS CODE ENDS ##### (please do not delete this line)"
      ]
    },
    {
      "cell_type": "markdown",
      "source": [
        "**<font color='red'>Answer:</font>**"
      ],
      "metadata": {
        "id": "OMVy8u_mouhc"
      }
    },
    {
      "cell_type": "markdown",
      "metadata": {
        "id": "YI9ppZdfTTue"
      },
      "source": [
        "**5.2.7 Please apply the K-means algorithm again with `max_iter=10`. \n",
        "<br>Do not forget to visualize the clustering result. <br>Report the cluster centroids(0.05 points)**"
      ]
    },
    {
      "cell_type": "code",
      "execution_count": null,
      "metadata": {
        "id": "H1zTmOO6TTue"
      },
      "outputs": [],
      "source": []
    },
    {
      "cell_type": "markdown",
      "source": [
        "**<font color='red'>Answer:</font>**"
      ],
      "metadata": {
        "id": "wBPc27Jnou6s"
      }
    },
    {
      "cell_type": "markdown",
      "metadata": {
        "id": "aI6t6drnTTue"
      },
      "source": [
        "**5.2.8 Is there a difference between the centroids with different max_iter value? Justify your answer. (0.1 points)**"
      ]
    },
    {
      "cell_type": "code",
      "execution_count": null,
      "metadata": {
        "id": "sLmTL3vTTTue"
      },
      "outputs": [],
      "source": []
    },
    {
      "cell_type": "markdown",
      "source": [
        "**<font color='red'>Answer:</font>**"
      ],
      "metadata": {
        "id": "CdHwBCpvovbf"
      }
    },
    {
      "cell_type": "markdown",
      "metadata": {
        "id": "Sob_gKeDTTue"
      },
      "source": [
        "## 5.3 DBSCAN (1.5 points)\n",
        "We will apply DBSCAN on the same dataset used for K-means in this section. "
      ]
    },
    {
      "cell_type": "markdown",
      "metadata": {
        "id": "k0letld6TTue"
      },
      "source": [
        "**5.3.1 Apply DBSCAN on the same dataset you used to train K-means. Play with the parameter, especially `eps`, and get the best clustering result based on the visualitation which means you have to train and visualize multiple times with a range of values of `eps`. You do not have to check an infinite list of values, pick 4 values and check the visualization after clustering with them. Report the one you find to be the best. (1 points)**"
      ]
    },
    {
      "cell_type": "code",
      "execution_count": null,
      "metadata": {
        "id": "4cabuegXTTuf"
      },
      "outputs": [],
      "source": []
    },
    {
      "cell_type": "markdown",
      "source": [
        "**<font color='red'>Answer:</font>**"
      ],
      "metadata": {
        "id": "_Gyojz2fov4G"
      }
    },
    {
      "cell_type": "markdown",
      "metadata": {
        "id": "mL0rzReVTTuf"
      },
      "source": [
        "**5.3.2 Is the result better than K-means? Justify your answer. Make sure you clearly address the reason why it performed better or worse than K-means. Please answer the advantage and disadvantage of both DBSCAN and K-means. (0.5 points)**"
      ]
    },
    {
      "cell_type": "code",
      "execution_count": null,
      "metadata": {
        "id": "T9wFaG8UTTuf"
      },
      "outputs": [],
      "source": []
    },
    {
      "cell_type": "markdown",
      "source": [
        "**<font color='red'>Answer:</font>**"
      ],
      "metadata": {
        "id": "S5nV9WBSowcU"
      }
    },
    {
      "cell_type": "markdown",
      "metadata": {
        "id": "ECRpjPqCTTug"
      },
      "source": [
        "## 5.4 Hierarchical clustering (1.5 points)\n",
        "We will apply Hierarchical clustering in this section on the same dataset of K-means. The reason we are repeating the task with different clustering algorithm is to ensure that you understand the nuances of different clustering algorithms and know when to use what."
      ]
    },
    {
      "cell_type": "markdown",
      "metadata": {
        "id": "wWkgF_piTTuh"
      },
      "source": [
        "**5.4.1 Like K-means, we have to know the number of clusters required for performing hierarchical clustering. One such way is through plotting dendograms. Please plot a dendogram on the same dataset you used for k-means and DBSCAN. (0.5 points)**"
      ]
    },
    {
      "cell_type": "code",
      "execution_count": null,
      "metadata": {
        "id": "lUyCqPHgTTuh"
      },
      "outputs": [],
      "source": []
    },
    {
      "cell_type": "markdown",
      "source": [
        "**<font color='red'>Answer:</font>**"
      ],
      "metadata": {
        "id": "rrCbU-cFoz-H"
      }
    },
    {
      "cell_type": "markdown",
      "metadata": {
        "id": "kY8IClpxTTui"
      },
      "source": [
        "**5.4.2 Explain how you got the optimum number of clusters in the answer section. (0.25 points)**"
      ]
    },
    {
      "cell_type": "code",
      "source": [],
      "metadata": {
        "id": "B4FJrnvho0gE"
      },
      "execution_count": null,
      "outputs": []
    },
    {
      "cell_type": "markdown",
      "metadata": {
        "id": "4s5YD5l8TTui"
      },
      "source": [
        "<font color='red'>**Answer:**</font>"
      ]
    },
    {
      "cell_type": "markdown",
      "metadata": {
        "id": "TJeza6YkTTui"
      },
      "source": [
        "**5.4.3 Apply hierarchical clustering on the dataset using the optimum number of clusters you got from previous task and visualize the result. (0.5 points)**"
      ]
    },
    {
      "cell_type": "code",
      "execution_count": null,
      "metadata": {
        "id": "L-epxtOqTTui"
      },
      "outputs": [],
      "source": []
    },
    {
      "cell_type": "markdown",
      "source": [
        "**<font color='red'>Answer:</font>**"
      ],
      "metadata": {
        "id": "dDqRmu_Fo1Mf"
      }
    },
    {
      "cell_type": "markdown",
      "metadata": {
        "id": "lPZMickBTTui"
      },
      "source": [
        "**5.4.4 Based on all three clustering, take the best result and explain. \n",
        "In the explanation address how you would describe the customer behavior, are they miser or spendthrift or something else? (0.25 points)**"
      ]
    },
    {
      "cell_type": "code",
      "source": [],
      "metadata": {
        "id": "5VNMQSerozMH"
      },
      "execution_count": null,
      "outputs": []
    },
    {
      "cell_type": "markdown",
      "metadata": {
        "id": "YuEXyyBZYqKp"
      },
      "source": [
        "<font color='red'>**Answer:**</font>"
      ]
    },
    {
      "cell_type": "markdown",
      "metadata": {
        "id": "apsnb8pugyGJ"
      },
      "source": [
        "## How long(in hours) did it take you to solve the homework?\n",
        "\n",
        "* Please answer as precisely as you can. It does not affect your points or grade. It is okay, if it took 0.5 hours or 24 hours or more. The collected information will be used to improve future homeworks.\n",
        "\n",
        "<font color='red'> **Answer:**</font>\n",
        "\n",
        "\n",
        "## How difficult is the homework?\n",
        "you can put only number between $0:10$ ($0:$ easy, $10:$ difficult)\n",
        "\n",
        "<font color='red'> **Answer:**</font>\n",
        "\n",
        "\n"
      ]
    }
  ],
  "metadata": {
    "colab": {
      "provenance": []
    },
    "kernelspec": {
      "display_name": "Python 3 (ipykernel)",
      "language": "python",
      "name": "python3"
    },
    "language_info": {
      "codemirror_mode": {
        "name": "ipython",
        "version": 3
      },
      "file_extension": ".py",
      "mimetype": "text/x-python",
      "name": "python",
      "nbconvert_exporter": "python",
      "pygments_lexer": "ipython3",
      "version": "3.9.7"
    }
  },
  "nbformat": 4,
  "nbformat_minor": 0
}