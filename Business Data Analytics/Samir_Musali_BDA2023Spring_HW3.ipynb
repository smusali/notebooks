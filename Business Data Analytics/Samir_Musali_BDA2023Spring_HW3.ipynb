{
  "nbformat": 4,
  "nbformat_minor": 0,
  "metadata": {
    "colab": {
      "provenance": []
    },
    "kernelspec": {
      "display_name": "Python 3",
      "language": "python",
      "name": "python3"
    },
    "language_info": {
      "codemirror_mode": {
        "name": "ipython",
        "version": 3
      },
      "file_extension": ".py",
      "mimetype": "text/x-python",
      "name": "python",
      "nbconvert_exporter": "python",
      "pygments_lexer": "ipython3",
      "version": "3.6.9"
    }
  },
  "cells": [
    {
      "cell_type": "markdown",
      "metadata": {
        "id": "NR3tA_mpMLTq"
      },
      "source": [
        "<div class=\"alert alert-block alert-info\"><b></b>\n",
        "<h1><center> <font color='black'> Homework 03</font></center></h1>\n",
        "<h2><center> <font color='black'> Regression & Regularization</font></center></h2>    \n",
        "<h2><center> <font color='black'> MTAT.03.319 - Business Data Analytics</font></center></h2>\n",
        "<h2><center> <font color='black'> University of Tartu - Spring 2023</font></center></h2>\n",
        "</div>"
      ]
    },
    {
      "cell_type": "markdown",
      "metadata": {
        "id": "AVDAIuJlMLUI"
      },
      "source": [
        "# Homework instructions\n",
        "\n",
        "- Please provide the names and student IDs of the team-members (Maximum 2 person) in the field \"Team mates\" below. If you are not working in a team please insert only your name and student ID.\n",
        "\n",
        "- Please provide code where ever applicable.\n",
        "\n",
        "- The accepted submission format is .ipynb file. If you are sharing Colab link, make sure that the privacy settings for the file is public so we can access your code. \n",
        "\n",
        "- The submission will automatically close on <font color='red'>**2 April at 23:59**</font>, so please make sure to submit before the deadline. \n",
        "\n",
        "- ONLY one of the teammates should submit the homework and in the submission description the other person's Name and Student ID must be entered. We will grade the homework and the marks and feedback is applied for both the team members. So please communicate with your team member about marks and feedback if you are submit the homework.\n",
        "\n",
        "- If a question is not clear, please ask us in Moodle ONLY. \n",
        "\n",
        "- After you have finished solving the Homework, please restart the Kernel and run all the cells to check if there is any persisting issues. \n",
        "\n",
        "- Plagiarism is <font color='red'>**PROHIBITED**</font>. Any form of plagiarism will be dealt according to the university policy (https://ut.ee/en/content/academic-fraud).\n",
        "\n",
        "- <font color='red'>**DO NOT CHANGE THE TEMPLATE**</font>\n",
        "\n",
        "- <font color='red'>**Restart the Kernel and Run all the cells once again after you are done.**</font>\n",
        "This will ensure that all the cells run without error. You will find an option in the top menu bar under Kernel tab. "
      ]
    },
    {
      "cell_type": "markdown",
      "metadata": {
        "id": "Ajm9qYjsMLUU"
      },
      "source": [
        "**<h2><font color='red'>Team mates:</font></h2>**\n",
        "\n",
        "\n",
        "<font color='red'>Name: Samir Musali</font>&emsp;   <font color='red'>Student ID: C29810</font>\n"
      ]
    },
    {
      "cell_type": "markdown",
      "metadata": {
        "id": "OSA889NUZs_U"
      },
      "source": [
        "### The homework is divided into four sections and the points are distributed as below:\n",
        "<pre>\n",
        "- Classification tasks       -> 9.5 points\n",
        "- Improving classification   -> 2.5 points\n",
        "__________________________________________\n",
        "Total                        -> 12 points\n",
        "</pre>"
      ]
    },
    {
      "cell_type": "markdown",
      "metadata": {
        "id": "e3vqLGBCMLUh"
      },
      "source": [
        "# 1. Classification tasks (9.5 points)"
      ]
    },
    {
      "cell_type": "markdown",
      "metadata": {
        "id": "Sq8fuNbAMLUs"
      },
      "source": [
        "We are going to use the dataset from the file HR_Employee_Attrition.csv which contains data about the employees of a company and the fact if they have left the company due to reasons like retirement, resignation, elimination of a position, personal health, etc. It is important for companies to predict if their employees are going to leave because the hiring process is costly and requires planification. The data has the following columns:\n",
        "\n",
        "\n",
        "Age – self descriptive\n",
        "\n",
        "BusinessTravel – how frequent employee travels\n",
        "\n",
        "DailyRate – daily rate on terms of salary\n",
        "\n",
        "Department – self descriptive\n",
        "\n",
        "DistanceFromHome – distance between employee home and work\n",
        "\n",
        "Education – education level of employee\n",
        "\n",
        "EducationField – self descriptive\n",
        "\n",
        "EnvironmentSatisfaction – level of satisfaction with working environment\n",
        "\n",
        "Gender – self descriptive\n",
        "\n",
        "HourlyRate – self descriptive\n",
        "\n",
        "JobRole – self descriptive\n",
        "\n",
        "JobInvolvement – level of interest of the job\n",
        "\n",
        "JobSatisfaction – level of satisfaction with current job\n",
        "\n",
        "MaritalStatus – self descriptive\n",
        "\n",
        "MonthlyIncome – self descriptive\n",
        "\n",
        "MonthlyRate – self descriptive\n",
        "\n",
        "NumCompaniesWorked – self descriptive\n",
        "\n",
        "Over18 – whether customer age is more than 18\n",
        "\n",
        "OverTime – whether customer works overtime or not\n",
        "\n",
        "PerformanceRating – performance level of employee\n",
        "\n",
        "RelationshipSatisfaction – level of satisfaction with working community\n",
        "\n",
        "StandardHours – standard amount of hours that employee works\n",
        "\n",
        "TotalWorkingYears – whether customer age is more than 18\n",
        "\n",
        "TrainingTimesLastYear – whether customer age is more than 18"
      ]
    },
    {
      "cell_type": "code",
      "metadata": {
        "id": "Zjr3pwZCMLU6"
      },
      "source": [
        "import numpy as np \n",
        "import pandas as pd \n",
        "import matplotlib.pyplot as plt"
      ],
      "execution_count": 54,
      "outputs": []
    },
    {
      "cell_type": "code",
      "metadata": {
        "id": "sUsbyScxMLVd",
        "colab": {
          "base_uri": "https://localhost:8080/",
          "height": 369
        },
        "outputId": "88f1ddd9-d5a0-4ff3-a716-5ffc34f2835b"
      },
      "source": [
        "hr_data = pd.read_csv('HR_Employee_Attrition.csv', header=0)\n",
        "hr_data.head()"
      ],
      "execution_count": 55,
      "outputs": [
        {
          "output_type": "execute_result",
          "data": {
            "text/plain": [
              "   Age Attrition     BusinessTravel  DailyRate              Department  \\\n",
              "0   41       Yes      Travel_Rarely       1102                   Sales   \n",
              "1   49        No  Travel_Frequently        279  Research & Development   \n",
              "2   37       Yes      Travel_Rarely       1373  Research & Development   \n",
              "3   33        No  Travel_Frequently       1392  Research & Development   \n",
              "4   27        No      Travel_Rarely        591  Research & Development   \n",
              "\n",
              "   DistanceFromHome  Education EducationField  EnvironmentSatisfaction  \\\n",
              "0                 1          2  Life Sciences                        2   \n",
              "1                 8          1  Life Sciences                        3   \n",
              "2                 2          2          Other                        4   \n",
              "3                 3          4  Life Sciences                        4   \n",
              "4                 2          1        Medical                        1   \n",
              "\n",
              "   Gender  ...  PerformanceRating  RelationshipSatisfaction StandardHours  \\\n",
              "0  Female  ...                  3                         1            80   \n",
              "1    Male  ...                  4                         4            80   \n",
              "2    Male  ...                  3                         2            80   \n",
              "3  Female  ...                  3                         3            80   \n",
              "4    Male  ...                  3                         4            80   \n",
              "\n",
              "   TotalWorkingYears TrainingTimesLastYear  WorkLifeBalance  YearsAtCompany  \\\n",
              "0                  8                     0                1               6   \n",
              "1                 10                     3                3              10   \n",
              "2                  7                     3                3               0   \n",
              "3                  8                     3                3               8   \n",
              "4                  6                     3                3               2   \n",
              "\n",
              "   YearsInCurrentRole YearsSinceLastPromotion YearsWithCurrManager  \n",
              "0                   4                       0                    5  \n",
              "1                   7                       1                    7  \n",
              "2                   0                       0                    0  \n",
              "3                   7                       3                    0  \n",
              "4                   2                       2                    2  \n",
              "\n",
              "[5 rows x 30 columns]"
            ],
            "text/html": [
              "\n",
              "  <div id=\"df-5455ff14-9496-4f40-8db2-c1b68f47e989\">\n",
              "    <div class=\"colab-df-container\">\n",
              "      <div>\n",
              "<style scoped>\n",
              "    .dataframe tbody tr th:only-of-type {\n",
              "        vertical-align: middle;\n",
              "    }\n",
              "\n",
              "    .dataframe tbody tr th {\n",
              "        vertical-align: top;\n",
              "    }\n",
              "\n",
              "    .dataframe thead th {\n",
              "        text-align: right;\n",
              "    }\n",
              "</style>\n",
              "<table border=\"1\" class=\"dataframe\">\n",
              "  <thead>\n",
              "    <tr style=\"text-align: right;\">\n",
              "      <th></th>\n",
              "      <th>Age</th>\n",
              "      <th>Attrition</th>\n",
              "      <th>BusinessTravel</th>\n",
              "      <th>DailyRate</th>\n",
              "      <th>Department</th>\n",
              "      <th>DistanceFromHome</th>\n",
              "      <th>Education</th>\n",
              "      <th>EducationField</th>\n",
              "      <th>EnvironmentSatisfaction</th>\n",
              "      <th>Gender</th>\n",
              "      <th>...</th>\n",
              "      <th>PerformanceRating</th>\n",
              "      <th>RelationshipSatisfaction</th>\n",
              "      <th>StandardHours</th>\n",
              "      <th>TotalWorkingYears</th>\n",
              "      <th>TrainingTimesLastYear</th>\n",
              "      <th>WorkLifeBalance</th>\n",
              "      <th>YearsAtCompany</th>\n",
              "      <th>YearsInCurrentRole</th>\n",
              "      <th>YearsSinceLastPromotion</th>\n",
              "      <th>YearsWithCurrManager</th>\n",
              "    </tr>\n",
              "  </thead>\n",
              "  <tbody>\n",
              "    <tr>\n",
              "      <th>0</th>\n",
              "      <td>41</td>\n",
              "      <td>Yes</td>\n",
              "      <td>Travel_Rarely</td>\n",
              "      <td>1102</td>\n",
              "      <td>Sales</td>\n",
              "      <td>1</td>\n",
              "      <td>2</td>\n",
              "      <td>Life Sciences</td>\n",
              "      <td>2</td>\n",
              "      <td>Female</td>\n",
              "      <td>...</td>\n",
              "      <td>3</td>\n",
              "      <td>1</td>\n",
              "      <td>80</td>\n",
              "      <td>8</td>\n",
              "      <td>0</td>\n",
              "      <td>1</td>\n",
              "      <td>6</td>\n",
              "      <td>4</td>\n",
              "      <td>0</td>\n",
              "      <td>5</td>\n",
              "    </tr>\n",
              "    <tr>\n",
              "      <th>1</th>\n",
              "      <td>49</td>\n",
              "      <td>No</td>\n",
              "      <td>Travel_Frequently</td>\n",
              "      <td>279</td>\n",
              "      <td>Research &amp; Development</td>\n",
              "      <td>8</td>\n",
              "      <td>1</td>\n",
              "      <td>Life Sciences</td>\n",
              "      <td>3</td>\n",
              "      <td>Male</td>\n",
              "      <td>...</td>\n",
              "      <td>4</td>\n",
              "      <td>4</td>\n",
              "      <td>80</td>\n",
              "      <td>10</td>\n",
              "      <td>3</td>\n",
              "      <td>3</td>\n",
              "      <td>10</td>\n",
              "      <td>7</td>\n",
              "      <td>1</td>\n",
              "      <td>7</td>\n",
              "    </tr>\n",
              "    <tr>\n",
              "      <th>2</th>\n",
              "      <td>37</td>\n",
              "      <td>Yes</td>\n",
              "      <td>Travel_Rarely</td>\n",
              "      <td>1373</td>\n",
              "      <td>Research &amp; Development</td>\n",
              "      <td>2</td>\n",
              "      <td>2</td>\n",
              "      <td>Other</td>\n",
              "      <td>4</td>\n",
              "      <td>Male</td>\n",
              "      <td>...</td>\n",
              "      <td>3</td>\n",
              "      <td>2</td>\n",
              "      <td>80</td>\n",
              "      <td>7</td>\n",
              "      <td>3</td>\n",
              "      <td>3</td>\n",
              "      <td>0</td>\n",
              "      <td>0</td>\n",
              "      <td>0</td>\n",
              "      <td>0</td>\n",
              "    </tr>\n",
              "    <tr>\n",
              "      <th>3</th>\n",
              "      <td>33</td>\n",
              "      <td>No</td>\n",
              "      <td>Travel_Frequently</td>\n",
              "      <td>1392</td>\n",
              "      <td>Research &amp; Development</td>\n",
              "      <td>3</td>\n",
              "      <td>4</td>\n",
              "      <td>Life Sciences</td>\n",
              "      <td>4</td>\n",
              "      <td>Female</td>\n",
              "      <td>...</td>\n",
              "      <td>3</td>\n",
              "      <td>3</td>\n",
              "      <td>80</td>\n",
              "      <td>8</td>\n",
              "      <td>3</td>\n",
              "      <td>3</td>\n",
              "      <td>8</td>\n",
              "      <td>7</td>\n",
              "      <td>3</td>\n",
              "      <td>0</td>\n",
              "    </tr>\n",
              "    <tr>\n",
              "      <th>4</th>\n",
              "      <td>27</td>\n",
              "      <td>No</td>\n",
              "      <td>Travel_Rarely</td>\n",
              "      <td>591</td>\n",
              "      <td>Research &amp; Development</td>\n",
              "      <td>2</td>\n",
              "      <td>1</td>\n",
              "      <td>Medical</td>\n",
              "      <td>1</td>\n",
              "      <td>Male</td>\n",
              "      <td>...</td>\n",
              "      <td>3</td>\n",
              "      <td>4</td>\n",
              "      <td>80</td>\n",
              "      <td>6</td>\n",
              "      <td>3</td>\n",
              "      <td>3</td>\n",
              "      <td>2</td>\n",
              "      <td>2</td>\n",
              "      <td>2</td>\n",
              "      <td>2</td>\n",
              "    </tr>\n",
              "  </tbody>\n",
              "</table>\n",
              "<p>5 rows × 30 columns</p>\n",
              "</div>\n",
              "      <button class=\"colab-df-convert\" onclick=\"convertToInteractive('df-5455ff14-9496-4f40-8db2-c1b68f47e989')\"\n",
              "              title=\"Convert this dataframe to an interactive table.\"\n",
              "              style=\"display:none;\">\n",
              "        \n",
              "  <svg xmlns=\"http://www.w3.org/2000/svg\" height=\"24px\"viewBox=\"0 0 24 24\"\n",
              "       width=\"24px\">\n",
              "    <path d=\"M0 0h24v24H0V0z\" fill=\"none\"/>\n",
              "    <path d=\"M18.56 5.44l.94 2.06.94-2.06 2.06-.94-2.06-.94-.94-2.06-.94 2.06-2.06.94zm-11 1L8.5 8.5l.94-2.06 2.06-.94-2.06-.94L8.5 2.5l-.94 2.06-2.06.94zm10 10l.94 2.06.94-2.06 2.06-.94-2.06-.94-.94-2.06-.94 2.06-2.06.94z\"/><path d=\"M17.41 7.96l-1.37-1.37c-.4-.4-.92-.59-1.43-.59-.52 0-1.04.2-1.43.59L10.3 9.45l-7.72 7.72c-.78.78-.78 2.05 0 2.83L4 21.41c.39.39.9.59 1.41.59.51 0 1.02-.2 1.41-.59l7.78-7.78 2.81-2.81c.8-.78.8-2.07 0-2.86zM5.41 20L4 18.59l7.72-7.72 1.47 1.35L5.41 20z\"/>\n",
              "  </svg>\n",
              "      </button>\n",
              "      \n",
              "  <style>\n",
              "    .colab-df-container {\n",
              "      display:flex;\n",
              "      flex-wrap:wrap;\n",
              "      gap: 12px;\n",
              "    }\n",
              "\n",
              "    .colab-df-convert {\n",
              "      background-color: #E8F0FE;\n",
              "      border: none;\n",
              "      border-radius: 50%;\n",
              "      cursor: pointer;\n",
              "      display: none;\n",
              "      fill: #1967D2;\n",
              "      height: 32px;\n",
              "      padding: 0 0 0 0;\n",
              "      width: 32px;\n",
              "    }\n",
              "\n",
              "    .colab-df-convert:hover {\n",
              "      background-color: #E2EBFA;\n",
              "      box-shadow: 0px 1px 2px rgba(60, 64, 67, 0.3), 0px 1px 3px 1px rgba(60, 64, 67, 0.15);\n",
              "      fill: #174EA6;\n",
              "    }\n",
              "\n",
              "    [theme=dark] .colab-df-convert {\n",
              "      background-color: #3B4455;\n",
              "      fill: #D2E3FC;\n",
              "    }\n",
              "\n",
              "    [theme=dark] .colab-df-convert:hover {\n",
              "      background-color: #434B5C;\n",
              "      box-shadow: 0px 1px 3px 1px rgba(0, 0, 0, 0.15);\n",
              "      filter: drop-shadow(0px 1px 2px rgba(0, 0, 0, 0.3));\n",
              "      fill: #FFFFFF;\n",
              "    }\n",
              "  </style>\n",
              "\n",
              "      <script>\n",
              "        const buttonEl =\n",
              "          document.querySelector('#df-5455ff14-9496-4f40-8db2-c1b68f47e989 button.colab-df-convert');\n",
              "        buttonEl.style.display =\n",
              "          google.colab.kernel.accessAllowed ? 'block' : 'none';\n",
              "\n",
              "        async function convertToInteractive(key) {\n",
              "          const element = document.querySelector('#df-5455ff14-9496-4f40-8db2-c1b68f47e989');\n",
              "          const dataTable =\n",
              "            await google.colab.kernel.invokeFunction('convertToInteractive',\n",
              "                                                     [key], {});\n",
              "          if (!dataTable) return;\n",
              "\n",
              "          const docLinkHtml = 'Like what you see? Visit the ' +\n",
              "            '<a target=\"_blank\" href=https://colab.research.google.com/notebooks/data_table.ipynb>data table notebook</a>'\n",
              "            + ' to learn more about interactive tables.';\n",
              "          element.innerHTML = '';\n",
              "          dataTable['output_type'] = 'display_data';\n",
              "          await google.colab.output.renderOutput(dataTable, element);\n",
              "          const docLink = document.createElement('div');\n",
              "          docLink.innerHTML = docLinkHtml;\n",
              "          element.appendChild(docLink);\n",
              "        }\n",
              "      </script>\n",
              "    </div>\n",
              "  </div>\n",
              "  "
            ]
          },
          "metadata": {},
          "execution_count": 55
        }
      ]
    },
    {
      "cell_type": "markdown",
      "metadata": {
        "id": "Is8x9Ju4MLWJ"
      },
      "source": [
        "## 1.1 Dataset exploration (1.7 points)"
      ]
    },
    {
      "cell_type": "markdown",
      "metadata": {
        "id": "dJiBjvKEMLWV"
      },
      "source": [
        "**1.1.0.\n",
        "Plot the correlation of the variables against ```Attrition```. (0.5 points)<br>Make sure you perform necessary preprocessing required for the plot.** "
      ]
    },
    {
      "cell_type": "code",
      "metadata": {
        "id": "6S0dw0W7MLWd",
        "scrolled": false,
        "colab": {
          "base_uri": "https://localhost:8080/",
          "height": 686
        },
        "outputId": "96ad2d16-6ed9-49ff-e1cf-a0fe9d0206b5"
      },
      "source": [
        "import seaborn as sns\n",
        "\n",
        "# Convert Attrition to numerical variable\n",
        "attrition_values = hr_data['Attrition'].unique()\n",
        "attrition_map = {attrition: i for i, attrition in enumerate(attrition_values)}\n",
        "print('Attrition Map: ', attrition_map)\n",
        "hr_data['Attrition'] = hr_data['Attrition'].map(attrition_map)\n",
        "\n",
        "# Convert BusinessTravel to numerical variable\n",
        "travel_values = hr_data['BusinessTravel'].unique()\n",
        "travel_map = {travel: i for i, travel in enumerate(travel_values)}\n",
        "print('BusinessTravel Map: ', travel_map)\n",
        "hr_data['BusinessTravel'] = hr_data['BusinessTravel'].map(travel_map)\n",
        "\n",
        "# Convert Department to numerical variable\n",
        "department_values = hr_data['Department'].unique()\n",
        "department_map = {department: i for i, department in enumerate(department_values)}\n",
        "print('Department Map: ', department_map)\n",
        "hr_data['Department'] = hr_data['Department'].map(department_map)\n",
        "\n",
        "# Convert EducationField to numerical variable\n",
        "education_field_values = hr_data['EducationField'].unique()\n",
        "education_field_map = {education_field: i for i, education_field in enumerate(education_field_values)}\n",
        "print('EducationField Map: ', education_field_map)\n",
        "hr_data['EducationField'] = hr_data['EducationField'].map(education_field_map)\n",
        "\n",
        "# Convert Gender to numerical variable\n",
        "gender_values = hr_data['Gender'].unique()\n",
        "gender_map = {gender: i for i, gender in enumerate(gender_values)}\n",
        "print('Gender Map: ', gender_map)\n",
        "hr_data['Gender'] = hr_data['Gender'].map(gender_map)\n",
        "print('\\n')\n",
        "\n",
        "# Calculate the correlation of variables with Attrition\n",
        "corr = hr_data.corr()['Attrition'].sort_values(ascending=False)[1:]\n",
        "\n",
        "# Plot the correlation values as a bar chart\n",
        "plt.figure(figsize=(18,6))\n",
        "sns.barplot(x=corr.values, y=corr.index, palette='coolwarm')\n",
        "plt.title('Correlation of Variables with Attrition')\n",
        "plt.xlabel('Correlation')\n",
        "plt.show()"
      ],
      "execution_count": 56,
      "outputs": [
        {
          "output_type": "stream",
          "name": "stdout",
          "text": [
            "Attrition Map:  {'Yes': 0, 'No': 1}\n",
            "BusinessTravel Map:  {'Travel_Rarely': 0, 'Travel_Frequently': 1, 'Non-Travel': 2}\n",
            "Department Map:  {'Sales': 0, 'Research & Development': 1, 'Human Resources': 2}\n",
            "EducationField Map:  {'Life Sciences': 0, 'Other': 1, 'Medical': 2, 'Marketing': 3, 'Technical Degree': 4, 'Human Resources': 5}\n",
            "Gender Map:  {'Female': 0, 'Male': 1}\n",
            "\n",
            "\n"
          ]
        },
        {
          "output_type": "display_data",
          "data": {
            "text/plain": [
              "<Figure size 1800x600 with 1 Axes>"
            ],
            "image/png": "[encoded data removed]"
          },
          "metadata": {}
        }
      ]
    },
    {
      "cell_type": "markdown",
      "source": [
        "<font color='red'> **Answer:**</font>"
      ],
      "metadata": {
        "id": "d4rv0AJiSvmA"
      }
    },
    {
      "cell_type": "markdown",
      "metadata": {
        "id": "pdQNOhknMLWv"
      },
      "source": [
        "**1.1.1. Write three interesting observation that you notice. (0.5 points)**"
      ]
    },
    {
      "cell_type": "code",
      "source": [],
      "metadata": {
        "id": "bAR1gdyRSvE2"
      },
      "execution_count": 49,
      "outputs": []
    },
    {
      "cell_type": "markdown",
      "metadata": {
        "id": "yIubn6J7MLW6"
      },
      "source": [
        "**<font color='red'>Answer 1: Total Working Years (`TotalWorkingYears`) have the highest positive correlation with attrition, which indicates that employees who have worked for a longer period of time are less likely to leave the company. This observation is in line with the common notion that experienced employees tend to stay longer with a company.</font>** "
      ]
    },
    {
      "cell_type": "markdown",
      "metadata": {
        "id": "S1qgfB9UbbvC"
      },
      "source": [
        "**<font color='red'>Answer 2: Distance from Home (`DistanceFromHome`) has the highest negative correlation with attrition, which suggests that employees who live closer to their workplace are less likely to leave the company. This observation is interesting because it indicates that the daily commute can be a significant factor in an employee's decision to leave a company.</font>** "
      ]
    },
    {
      "cell_type": "markdown",
      "metadata": {
        "id": "AQfSuYJGbdL0"
      },
      "source": [
        "**<font color='red'>Answer 3: Business Travel (`BusinessTravel`) and Standard Hours (`StandardHours`) have no correlation with attrition, which suggests that they are not significant factors in an employee's decision to leave the company. This observation is interesting because it challenges the assumption that factors such as frequent travel or long working hours can contribute to employee attrition.</font>** "
      ]
    },
    {
      "cell_type": "markdown",
      "metadata": {
        "id": "O-Hxf9mdMLXZ"
      },
      "source": [
        "**1.1.2 Plot a boxplot for ```TotalWorkingYears``` for both Attrition categories. Explain the result. (0.4 points)**"
      ]
    },
    {
      "cell_type": "code",
      "metadata": {
        "id": "PDoUwZs4MLXk",
        "colab": {
          "base_uri": "https://localhost:8080/",
          "height": 564
        },
        "outputId": "be29d311-b9f4-45c1-c019-247e1de4fa69"
      },
      "source": [
        "plt.figure(figsize=(8,6))\n",
        "sns.boxplot(x='Attrition', y='TotalWorkingYears', data=hr_data, palette='coolwarm')\n",
        "plt.title('Boxplot of TotalWorkingYears for Attrition Categories')\n",
        "plt.xlabel('Attrition')\n",
        "plt.ylabel('Total Working Years')\n",
        "plt.show()"
      ],
      "execution_count": 57,
      "outputs": [
        {
          "output_type": "display_data",
          "data": {
            "text/plain": [
              "<Figure size 800x600 with 1 Axes>"
            ],
            "image/png": "[encoded data removed]"
          },
          "metadata": {}
        }
      ]
    },
    {
      "cell_type": "markdown",
      "metadata": {
        "id": "CRG9mu7EZs_Y"
      },
      "source": [
        "**<font color='red'>Answer: From the boxplot, we can see that the median total working years for employees who left the company (`Attrition = 0` or `Attrition = \"Yes\"`) is lower than the median for employees who stayed (`Attrition = 1` or `Attrition = \"No\"`). In addition, the range of total working years for employees who left the company is wider than the range for employees who stayed. This suggests that employees who leave the company tend to have fewer total working years on average than employees who stay. However, there is a significant overlap in the interquartile range (IQR) of the two categories, which suggests that there is no clear-cut difference between the two categories based solely on total working years.</font>** "
      ]
    },
    {
      "cell_type": "markdown",
      "metadata": {
        "id": "1jFZYAmkMLX3"
      },
      "source": [
        "**1.1.3. Plot the relative frequency of Attrition values (Yes/No)  (0.3 points)**"
      ]
    },
    {
      "cell_type": "code",
      "metadata": {
        "id": "Aj7FAx2oMLYA",
        "colab": {
          "base_uri": "https://localhost:8080/",
          "height": 480
        },
        "outputId": "dd0346c1-a3b7-439c-921e-69cde4ff8ae2"
      },
      "source": [
        "# Map numerical values of Attrition back to original strings\n",
        "attrition_map_back = {v: k for k, v in attrition_map.items()}\n",
        "hr_data['Attrition'] = hr_data['Attrition'].replace(attrition_map_back)\n",
        "\n",
        "# Plot relative frequency of Attrition values\n",
        "attrition_count = hr_data['Attrition'].value_counts(normalize=True)\n",
        "attrition_count.plot.bar()\n",
        "plt.title('Relative Frequency of Attrition')\n",
        "plt.xlabel('Attrition')\n",
        "plt.ylabel('Relative Frequency')\n",
        "plt.show()"
      ],
      "execution_count": 58,
      "outputs": [
        {
          "output_type": "display_data",
          "data": {
            "text/plain": [
              "<Figure size 640x480 with 1 Axes>"
            ],
            "image/png": "[encoded data removed]"
          },
          "metadata": {}
        }
      ]
    },
    {
      "cell_type": "markdown",
      "source": [
        "<font color='red'> **Answer:**</font>"
      ],
      "metadata": {
        "id": "ZbC19Q5sSuMf"
      }
    },
    {
      "cell_type": "markdown",
      "metadata": {
        "id": "CeHvmFAvMLYk"
      },
      "source": [
        "## 1.2 Classification  (7.8 points)"
      ]
    },
    {
      "cell_type": "markdown",
      "metadata": {
        "id": "ZYU-BjCIMLYv"
      },
      "source": [
        "**1.2.1 We will predict the variable ```Attrition``` by applying different classification algorithms and compare them. But before that we have to split the data into training and test set. And before splitting the dataset, please perform the following preprocessing. (0.5 points)**\n",
        "* One hot encoding (You probably performed this in ```1.1.0```, in case if you have not)\n",
        "* Drop three columns with least correlation values. (Use the plot from ```1.1.0```)\n",
        "* Be a vigilante, and look for columns that has suspicious values. Drop those columns (at least 2 columns), it will not be much of a help in classification.\n",
        "* Finally normalize the training variables, use the following Z-Score normalizing equation for normalization; <br>\n",
        "\n",
        "$$x_{norm}= \\frac{x -\\mu}{\\sigma}.$$ <br>\n",
        "\n",
        "Here, $\\mu$ = mean of the training variables, $\\sigma$ = standard deviation of the training variables. <br>\n",
        "\n",
        "What is **Z-score**: It is a a scaling method that represents the number of standard deviations away from the mean. You would use z-score to ensure your feature distributions have mean = 0 and std = 1. It’s useful when there are a few outliers, but not so extreme that you need clipping. Clipping is another technique when you clip off (remove) outliers by visualizing the distribution of your dataset [1]. the following figure shows how Z-score impacts the values, notice the x-axis for both the figures.\n",
        "<img src=\"https://developers.google.com/static/machine-learning/data-prep/images/norm-z-score.svg\" alt=\"img\" border=\"0\"></a><br />\n",
        "Ref: https://developers.google.com/machine-learning/data-prep/transform/normalization"
      ]
    },
    {
      "cell_type": "code",
      "metadata": {
        "id": "7sjN8R1YMLY8"
      },
      "source": [
        "from sklearn.model_selection import train_test_split\n",
        "\n",
        "# Drop unnecessary columns\n",
        "hr_data.drop(['BusinessTravel', 'StandardHours', 'PerformanceRating'], axis=1, inplace=True)\n",
        "hr_data.drop(['RelationshipSatisfaction', 'TrainingTimesLastYear'], axis=1, inplace=True)\n",
        "\n",
        "# Drop attrition and save it as labels\n",
        "hr_labels = hr_data['Attrition']\n",
        "hr_data = hr_data.drop(['Attrition'], axis=1)\n",
        "\n",
        "# Normalize the data\n",
        "train_data, test_data, train_labels, test_labels = train_test_split(hr_data, hr_labels, test_size=0.2, random_state=42)\n",
        "\n",
        "train_mean = train_data.select_dtypes(include=np.number).mean()\n",
        "train_std = train_data.select_dtypes(include=np.number).std()\n",
        "\n",
        "train_data_norm = (train_data - train_mean) / train_std\n",
        "test_data_norm = (test_data - train_mean) / train_std\n",
        "\n",
        "# Replace NaN values with corresponding mean values\n",
        "train_data_norm.fillna(train_mean, inplace=True)\n",
        "test_data_norm.fillna(train_mean, inplace=True)"
      ],
      "execution_count": 59,
      "outputs": []
    },
    {
      "cell_type": "markdown",
      "source": [
        "<font color='red'> **Answer:**</font>"
      ],
      "metadata": {
        "id": "KzsSkNQjStIt"
      }
    },
    {
      "cell_type": "markdown",
      "metadata": {
        "id": "hFrtucYjMLZy"
      },
      "source": [
        "**1.2.2 Use the scikit-learn DecisionTreeClassifier with default parameters to predict the attrition value for the test set. Set the random seed to 0. Calculate the accuracy score and print it. (0.5 points)**"
      ]
    },
    {
      "cell_type": "code",
      "metadata": {
        "id": "l5ytUenLMLZ5",
        "colab": {
          "base_uri": "https://localhost:8080/",
          "height": 433
        },
        "outputId": "fecee82a-08a3-48ed-fcdb-5adcdb2fbe65"
      },
      "source": [
        "from sklearn.tree import DecisionTreeClassifier as DT\n",
        "from sklearn import metrics\n",
        "\n",
        "# Train the decision tree classifier\n",
        "model = DT(random_state=0)\n",
        "model.fit(train_data_norm, train_labels)\n",
        "\n",
        "# Predict and calculate accuracy\n",
        "test_preds = model.predict(test_data_norm)\n",
        "accuracy = metrics.accuracy_score(test_labels, test_preds)\n",
        "\n",
        "# Print the Accuracy:\n",
        "print(f\"Accuracy: {accuracy:.2f}\")"
      ],
      "execution_count": 60,
      "outputs": [
        {
          "output_type": "error",
          "ename": "ValueError",
          "evalue": "ignored",
          "traceback": [
            "\u001b[0;31m---------------------------------------------------------------------------\u001b[0m",
            "\u001b[0;31mValueError\u001b[0m                                Traceback (most recent call last)",
            "\u001b[0;32m<ipython-input-60-99ec11375eac>\u001b[0m in \u001b[0;36m<cell line: 6>\u001b[0;34m()\u001b[0m\n\u001b[1;32m      4\u001b[0m \u001b[0;31m# Train the decision tree classifier\u001b[0m\u001b[0;34m\u001b[0m\u001b[0;34m\u001b[0m\u001b[0m\n\u001b[1;32m      5\u001b[0m \u001b[0mmodel\u001b[0m \u001b[0;34m=\u001b[0m \u001b[0mDT\u001b[0m\u001b[0;34m(\u001b[0m\u001b[0mrandom_state\u001b[0m\u001b[0;34m=\u001b[0m\u001b[0;36m0\u001b[0m\u001b[0;34m)\u001b[0m\u001b[0;34m\u001b[0m\u001b[0;34m\u001b[0m\u001b[0m\n\u001b[0;32m----> 6\u001b[0;31m \u001b[0mmodel\u001b[0m\u001b[0;34m.\u001b[0m\u001b[0mfit\u001b[0m\u001b[0;34m(\u001b[0m\u001b[0mtrain_data_norm\u001b[0m\u001b[0;34m,\u001b[0m \u001b[0mtrain_labels\u001b[0m\u001b[0;34m)\u001b[0m\u001b[0;34m\u001b[0m\u001b[0;34m\u001b[0m\u001b[0m\n\u001b[0m\u001b[1;32m      7\u001b[0m \u001b[0;34m\u001b[0m\u001b[0m\n\u001b[1;32m      8\u001b[0m \u001b[0;31m# Predict and calculate accuracy\u001b[0m\u001b[0;34m\u001b[0m\u001b[0;34m\u001b[0m\u001b[0m\n",
            "\u001b[0;32m/usr/local/lib/python3.9/dist-packages/sklearn/tree/_classes.py\u001b[0m in \u001b[0;36mfit\u001b[0;34m(self, X, y, sample_weight, check_input)\u001b[0m\n\u001b[1;32m    887\u001b[0m         \"\"\"\n\u001b[1;32m    888\u001b[0m \u001b[0;34m\u001b[0m\u001b[0m\n\u001b[0;32m--> 889\u001b[0;31m         super().fit(\n\u001b[0m\u001b[1;32m    890\u001b[0m             \u001b[0mX\u001b[0m\u001b[0;34m,\u001b[0m\u001b[0;34m\u001b[0m\u001b[0;34m\u001b[0m\u001b[0m\n\u001b[1;32m    891\u001b[0m             \u001b[0my\u001b[0m\u001b[0;34m,\u001b[0m\u001b[0;34m\u001b[0m\u001b[0;34m\u001b[0m\u001b[0m\n",
            "\u001b[0;32m/usr/local/lib/python3.9/dist-packages/sklearn/tree/_classes.py\u001b[0m in \u001b[0;36mfit\u001b[0;34m(self, X, y, sample_weight, check_input)\u001b[0m\n\u001b[1;32m    184\u001b[0m             \u001b[0mcheck_X_params\u001b[0m \u001b[0;34m=\u001b[0m \u001b[0mdict\u001b[0m\u001b[0;34m(\u001b[0m\u001b[0mdtype\u001b[0m\u001b[0;34m=\u001b[0m\u001b[0mDTYPE\u001b[0m\u001b[0;34m,\u001b[0m \u001b[0maccept_sparse\u001b[0m\u001b[0;34m=\u001b[0m\u001b[0;34m\"csc\"\u001b[0m\u001b[0;34m)\u001b[0m\u001b[0;34m\u001b[0m\u001b[0;34m\u001b[0m\u001b[0m\n\u001b[1;32m    185\u001b[0m             \u001b[0mcheck_y_params\u001b[0m \u001b[0;34m=\u001b[0m \u001b[0mdict\u001b[0m\u001b[0;34m(\u001b[0m\u001b[0mensure_2d\u001b[0m\u001b[0;34m=\u001b[0m\u001b[0;32mFalse\u001b[0m\u001b[0;34m,\u001b[0m \u001b[0mdtype\u001b[0m\u001b[0;34m=\u001b[0m\u001b[0;32mNone\u001b[0m\u001b[0;34m)\u001b[0m\u001b[0;34m\u001b[0m\u001b[0;34m\u001b[0m\u001b[0m\n\u001b[0;32m--> 186\u001b[0;31m             X, y = self._validate_data(\n\u001b[0m\u001b[1;32m    187\u001b[0m                 \u001b[0mX\u001b[0m\u001b[0;34m,\u001b[0m \u001b[0my\u001b[0m\u001b[0;34m,\u001b[0m \u001b[0mvalidate_separately\u001b[0m\u001b[0;34m=\u001b[0m\u001b[0;34m(\u001b[0m\u001b[0mcheck_X_params\u001b[0m\u001b[0;34m,\u001b[0m \u001b[0mcheck_y_params\u001b[0m\u001b[0;34m)\u001b[0m\u001b[0;34m\u001b[0m\u001b[0;34m\u001b[0m\u001b[0m\n\u001b[1;32m    188\u001b[0m             )\n",
            "\u001b[0;32m/usr/local/lib/python3.9/dist-packages/sklearn/base.py\u001b[0m in \u001b[0;36m_validate_data\u001b[0;34m(self, X, y, reset, validate_separately, **check_params)\u001b[0m\n\u001b[1;32m    577\u001b[0m                 \u001b[0;32mif\u001b[0m \u001b[0;34m\"estimator\"\u001b[0m \u001b[0;32mnot\u001b[0m \u001b[0;32min\u001b[0m \u001b[0mcheck_X_params\u001b[0m\u001b[0;34m:\u001b[0m\u001b[0;34m\u001b[0m\u001b[0;34m\u001b[0m\u001b[0m\n\u001b[1;32m    578\u001b[0m                     \u001b[0mcheck_X_params\u001b[0m \u001b[0;34m=\u001b[0m \u001b[0;34m{\u001b[0m\u001b[0;34m**\u001b[0m\u001b[0mdefault_check_params\u001b[0m\u001b[0;34m,\u001b[0m \u001b[0;34m**\u001b[0m\u001b[0mcheck_X_params\u001b[0m\u001b[0;34m}\u001b[0m\u001b[0;34m\u001b[0m\u001b[0;34m\u001b[0m\u001b[0m\n\u001b[0;32m--> 579\u001b[0;31m                 \u001b[0mX\u001b[0m \u001b[0;34m=\u001b[0m \u001b[0mcheck_array\u001b[0m\u001b[0;34m(\u001b[0m\u001b[0mX\u001b[0m\u001b[0;34m,\u001b[0m \u001b[0minput_name\u001b[0m\u001b[0;34m=\u001b[0m\u001b[0;34m\"X\"\u001b[0m\u001b[0;34m,\u001b[0m \u001b[0;34m**\u001b[0m\u001b[0mcheck_X_params\u001b[0m\u001b[0;34m)\u001b[0m\u001b[0;34m\u001b[0m\u001b[0;34m\u001b[0m\u001b[0m\n\u001b[0m\u001b[1;32m    580\u001b[0m                 \u001b[0;32mif\u001b[0m \u001b[0;34m\"estimator\"\u001b[0m \u001b[0;32mnot\u001b[0m \u001b[0;32min\u001b[0m \u001b[0mcheck_y_params\u001b[0m\u001b[0;34m:\u001b[0m\u001b[0;34m\u001b[0m\u001b[0;34m\u001b[0m\u001b[0m\n\u001b[1;32m    581\u001b[0m                     \u001b[0mcheck_y_params\u001b[0m \u001b[0;34m=\u001b[0m \u001b[0;34m{\u001b[0m\u001b[0;34m**\u001b[0m\u001b[0mdefault_check_params\u001b[0m\u001b[0;34m,\u001b[0m \u001b[0;34m**\u001b[0m\u001b[0mcheck_y_params\u001b[0m\u001b[0;34m}\u001b[0m\u001b[0;34m\u001b[0m\u001b[0;34m\u001b[0m\u001b[0m\n",
            "\u001b[0;32m/usr/local/lib/python3.9/dist-packages/sklearn/utils/validation.py\u001b[0m in \u001b[0;36mcheck_array\u001b[0;34m(array, accept_sparse, accept_large_sparse, dtype, order, copy, force_all_finite, ensure_2d, allow_nd, ensure_min_samples, ensure_min_features, estimator, input_name)\u001b[0m\n\u001b[1;32m    919\u001b[0m \u001b[0;34m\u001b[0m\u001b[0m\n\u001b[1;32m    920\u001b[0m         \u001b[0;32mif\u001b[0m \u001b[0mforce_all_finite\u001b[0m\u001b[0;34m:\u001b[0m\u001b[0;34m\u001b[0m\u001b[0;34m\u001b[0m\u001b[0m\n\u001b[0;32m--> 921\u001b[0;31m             _assert_all_finite(\n\u001b[0m\u001b[1;32m    922\u001b[0m                 \u001b[0marray\u001b[0m\u001b[0;34m,\u001b[0m\u001b[0;34m\u001b[0m\u001b[0;34m\u001b[0m\u001b[0m\n\u001b[1;32m    923\u001b[0m                 \u001b[0minput_name\u001b[0m\u001b[0;34m=\u001b[0m\u001b[0minput_name\u001b[0m\u001b[0;34m,\u001b[0m\u001b[0;34m\u001b[0m\u001b[0;34m\u001b[0m\u001b[0m\n",
            "\u001b[0;32m/usr/local/lib/python3.9/dist-packages/sklearn/utils/validation.py\u001b[0m in \u001b[0;36m_assert_all_finite\u001b[0;34m(X, allow_nan, msg_dtype, estimator_name, input_name)\u001b[0m\n\u001b[1;32m    159\u001b[0m                 \u001b[0;34m\"#estimators-that-handle-nan-values\"\u001b[0m\u001b[0;34m\u001b[0m\u001b[0;34m\u001b[0m\u001b[0m\n\u001b[1;32m    160\u001b[0m             )\n\u001b[0;32m--> 161\u001b[0;31m         \u001b[0;32mraise\u001b[0m \u001b[0mValueError\u001b[0m\u001b[0;34m(\u001b[0m\u001b[0mmsg_err\u001b[0m\u001b[0;34m)\u001b[0m\u001b[0;34m\u001b[0m\u001b[0;34m\u001b[0m\u001b[0m\n\u001b[0m\u001b[1;32m    162\u001b[0m \u001b[0;34m\u001b[0m\u001b[0m\n\u001b[1;32m    163\u001b[0m \u001b[0;34m\u001b[0m\u001b[0m\n",
            "\u001b[0;31mValueError\u001b[0m: Input X contains NaN.\nDecisionTreeClassifier does not accept missing values encoded as NaN natively. For supervised learning, you might want to consider sklearn.ensemble.HistGradientBoostingClassifier and Regressor which accept missing values encoded as NaNs natively. Alternatively, it is possible to preprocess the data, for instance by using an imputer transformer in a pipeline or drop samples with missing values. See https://scikit-learn.org/stable/modules/impute.html You can find a list of all estimators that handle NaN values at the following page: https://scikit-learn.org/stable/modules/impute.html#estimators-that-handle-nan-values"
          ]
        }
      ]
    },
    {
      "cell_type": "markdown",
      "source": [
        "<font color='red'> **Answer: Can't continue because of (1) the lack of enough time & (2) being unable to fix the issue!**</font>"
      ],
      "metadata": {
        "id": "6fUcNpAfSsTU"
      }
    },
    {
      "cell_type": "markdown",
      "metadata": {
        "id": "KFj7-9m-MLaF"
      },
      "source": [
        "**1.2.3 Plot the confusion matrix for the predicted values. Why accuracy is not a good metric to use in this case ? (0.4 points)**"
      ]
    },
    {
      "cell_type": "code",
      "metadata": {
        "id": "UJOLZ7JJMLaN"
      },
      "source": [],
      "execution_count": null,
      "outputs": []
    },
    {
      "cell_type": "markdown",
      "metadata": {
        "id": "O3nN1_M3Zs_d"
      },
      "source": [
        "**<font color='red'>Answer:</font>**"
      ]
    },
    {
      "cell_type": "markdown",
      "metadata": {
        "id": "l_DZJ_vlMLap"
      },
      "source": [
        "**1.2.4 Formulate a dumy model (not a machine learning approach) to get 83.88% accuracy. Considering the label ratios how this model would look like? Be creative. You do not require to code for this, just a simple assumption and mathematical proof is necessary. (0.5 points)** <br>\n",
        "Hint: There are two labels (yes, no) in your data."
      ]
    },
    {
      "cell_type": "code",
      "source": [],
      "metadata": {
        "id": "f2tvAbXFSqDj"
      },
      "execution_count": null,
      "outputs": []
    },
    {
      "cell_type": "markdown",
      "metadata": {
        "id": "ov12wEZWMLat"
      },
      "source": [
        "**<font color='red'>Answer:</font>**"
      ]
    },
    {
      "cell_type": "markdown",
      "metadata": {
        "id": "aCogwmH-MLay"
      },
      "source": [
        "**1.2.5 Use export_graphviz from sklearn.tree to visualize the trained decision tree of ```1.2.2```. (0.4 points)**"
      ]
    },
    {
      "cell_type": "code",
      "metadata": {
        "id": "q0rwCCqDMLa7",
        "scrolled": false
      },
      "source": [
        "#!pip3 install graphviz"
      ],
      "execution_count": null,
      "outputs": []
    },
    {
      "cell_type": "markdown",
      "source": [
        "<font color='red'> **Answer:**</font>"
      ],
      "metadata": {
        "id": "ATq4AODBSq0R"
      }
    },
    {
      "cell_type": "markdown",
      "metadata": {
        "id": "nWX-1InxMLbU"
      },
      "source": [
        "**1.2.6 Look at the visualization, what is the most important factor to decide if an employee is going to leave or not? (0.4 points)**"
      ]
    },
    {
      "cell_type": "code",
      "metadata": {
        "id": "9mwt0Sc4MLbc"
      },
      "source": [],
      "execution_count": null,
      "outputs": []
    },
    {
      "cell_type": "markdown",
      "metadata": {
        "id": "zEFpbEYHMLb2"
      },
      "source": [
        "**<font color='red'>Answer:</font>**"
      ]
    },
    {
      "cell_type": "markdown",
      "metadata": {
        "id": "Puw9lIlbMLb9"
      },
      "source": [
        "\n",
        "**1.2.7 Plot the classification report for the same decision tree. Which evaluation metrics out of precision and recall, would you consider for this specific case-study? Please elaborate your answer. (0.5 points)**"
      ]
    },
    {
      "cell_type": "code",
      "metadata": {
        "id": "TfQz4VSNMLcH"
      },
      "source": [],
      "execution_count": null,
      "outputs": []
    },
    {
      "cell_type": "markdown",
      "metadata": {
        "id": "z4QrRGORMLci"
      },
      "source": [
        "**<font color='red'>Answer:</font>** \n"
      ]
    },
    {
      "cell_type": "markdown",
      "metadata": {
        "id": "3cyKqrkDMLcs"
      },
      "source": [
        "**1.2.8 Calculate the F1 score of the model in training data and compare it with the F1 score in test  data. What is the phenomenon known as? (0.4 points)**"
      ]
    },
    {
      "cell_type": "code",
      "metadata": {
        "id": "Cnx2h53qMLc1"
      },
      "source": [],
      "execution_count": null,
      "outputs": []
    },
    {
      "cell_type": "markdown",
      "metadata": {
        "id": "I2WYaL4kMLdU"
      },
      "source": [
        "**<font color='red'>Answer:</font>**"
      ]
    },
    {
      "cell_type": "markdown",
      "metadata": {
        "id": "iRsrRj76CjjB"
      },
      "source": [
        "**1.2.9 Use cross validation score to ensure that our model is generalizing well. Try different combinations of maximum depth parameters for the decision tree and choose the best while using cross validation. Please complete the code below and report the best maximum depth. (0.5 points)**"
      ]
    },
    {
      "cell_type": "code",
      "metadata": {
        "id": "d8jBr23zDzMn"
      },
      "source": [
        "from sklearn.model_selection import cross_val_score\n",
        "best_score = 0\n",
        "best_depth = 0\n",
        "\n",
        "for i in range(#Low_range,#high_range):\n",
        "    clf = DT(max_depth=i, random_state = 0)\n",
        "    #TODO: Perform 5-fold cross validation. \n",
        "    #set scoring metrics to f1\n",
        "    scores = #TODO: initialization\n",
        "    \n",
        "    #TODO: calculate the mean score (f1)\n",
        "    \n",
        "    #TODO: compare the mea scores to find the best depth\n",
        "    print('Mean score', mean_score)\n",
        "\n",
        "print('\\n The best tree depth is: ', best_depth )"
      ],
      "execution_count": null,
      "outputs": []
    },
    {
      "cell_type": "markdown",
      "source": [
        "<font color='red'> **Answer:**</font>"
      ],
      "metadata": {
        "id": "rZEZOAoASm-c"
      }
    },
    {
      "cell_type": "markdown",
      "metadata": {
        "id": "zFTtDD7GMLda"
      },
      "source": [
        "**1.2.10 Use SVM with default parameters to classify test data and report accuracy, recall, precision, f1-score and AUC. Set the random_state equal to 0. (0.5 points)**"
      ]
    },
    {
      "cell_type": "code",
      "metadata": {
        "id": "w23rLdVpMLd7"
      },
      "source": [
        "from sklearn.svm import SVC\n",
        "svm_model = SVC(random_state=0)\n",
        "\n",
        "#TODO: train the model\n",
        "#TODO: predict on test set\n",
        "#TODO: calculate the metrics\n",
        "\n",
        "print('Accuracy: ', acc)\n",
        "print('Recall: ', rec)\n",
        "print('Precision: ', prec)\n",
        "print('F1_score: ', f1_score)\n",
        "print('AUC: ', auc)\n"
      ],
      "execution_count": null,
      "outputs": []
    },
    {
      "cell_type": "markdown",
      "source": [
        "<font color='red'> **Answer:**</font>"
      ],
      "metadata": {
        "id": "yIiM3c0hSmgY"
      }
    },
    {
      "cell_type": "markdown",
      "metadata": {
        "id": "Y3NxlOM0MLeL"
      },
      "source": [
        "**1.2.11 Use Logistic Regression with default parameters to classify test data and report accuracy, recall, precision, f1-score, AUC. Set the random_state equal to 0 (0.5 points)**"
      ]
    },
    {
      "cell_type": "code",
      "metadata": {
        "id": "tg2_nAivMLeT"
      },
      "source": [
        "from sklearn.linear_model import LogisticRegression\n",
        "lr = LogisticRegression(random_state=0)\n",
        "\n",
        "#TODO: train the model\n",
        "#TODO: predict on test set\n",
        "#TODO: calculate the metrics\n",
        "\n",
        "print('Accuracy: ', acc)\n",
        "print('Recall: ', rec)\n",
        "print('Precision: ', prec)\n",
        "print('F1_score: ', f1_score)\n",
        "print('AUC: ', auc)"
      ],
      "execution_count": null,
      "outputs": []
    },
    {
      "cell_type": "markdown",
      "source": [
        "<font color='red'> **Answer:**</font>"
      ],
      "metadata": {
        "id": "CiJOvkBySl6G"
      }
    },
    {
      "cell_type": "markdown",
      "metadata": {
        "id": "ouBtSaYTJBcL"
      },
      "source": [
        "**1.2.12 One of the parameters for the Logistic regression is tol which sets the tolerance for the stopping criteria. We are going to calculate the log loss metric for different values of tol. Please fill in the code below and plot the log loss values. Which one of tol values is better for our model based on log loss? (0.5 points)**\n"
      ]
    },
    {
      "cell_type": "code",
      "metadata": {
        "id": "CQpm6s2SJxJG"
      },
      "source": [
        "from sklearn.linear_model import LogisticRegression as LR\n",
        "import matplotlib.pyplot as plt\n",
        "\n",
        "log_loss = []\n",
        "for tol in [0.9, 0.5, 0.1,  0.001, 0.0001, 0.000001, 0.000001]:\n",
        "    \n",
        "    #TODO: initialize the model\n",
        "    #TODO: train the models\n",
        "    #TODO: predict on test set\n",
        "    #TODO: calculate logloss\n",
        "    #TODO: use log_loss list to store the different logloss for different tol\n",
        "    \n",
        "tol = [0.9, 0.5, 0.1,  0.001, 0.0001, 0.000001, 0.000001]\n",
        "plt.plot(tol, log_loss)\n",
        "plt.ylabel(\"Log Loss\")\n",
        "plt.xlabel(\"tol\")\n",
        "plt.show()\n",
        "\n",
        "\n",
        "#Findidng out the best tolerance value\n",
        "min_index=(log_loss.index(min(log_loss)))\n",
        "print(\"Best Tolerance, tol, Value: \", tol[min_index])"
      ],
      "execution_count": null,
      "outputs": []
    },
    {
      "cell_type": "markdown",
      "source": [
        "<font color='red'> **Answer:**</font>"
      ],
      "metadata": {
        "id": "F98OPIlNSlSZ"
      }
    },
    {
      "cell_type": "markdown",
      "metadata": {
        "id": "E2z05iMlMLep"
      },
      "source": [
        "**1.2.13 Use Random Forest with default parameters to classify test data and report accuracy, recall, precision and f1-score and AUC. Set the random_state equal to 0. Please build as well a classification report separately which shows the metrics for each class. (0.5 points)**"
      ]
    },
    {
      "cell_type": "code",
      "metadata": {
        "id": "EWibHlLAMLew"
      },
      "source": [
        "from sklearn.ensemble import RandomForestClassifier\n",
        "\n",
        "rf_model = RandomForestClassifier(random_state=0)\n",
        "\n",
        "#TODO: train the model\n",
        "#TODO: predict on test set\n",
        "#TODO: classification report"
      ],
      "execution_count": null,
      "outputs": []
    },
    {
      "cell_type": "markdown",
      "source": [
        "<font color='red'> **Answer:**</font>"
      ],
      "metadata": {
        "id": "3-LVRuesSksI"
      }
    },
    {
      "cell_type": "markdown",
      "metadata": {
        "id": "UJrqNiijMfjW"
      },
      "source": [
        "**1.2.14 Use the model from ```1.2.13```, calculate the predicted probability on test set. Threshold the probabilities such that it will output the class 'No'  only if the probability is 70% or higher. Otherwise, it will predict 'Yes'. (0.3 points)**\n"
      ]
    },
    {
      "cell_type": "code",
      "metadata": {
        "id": "9GpWHAWvNWZL"
      },
      "source": [
        "#TODO: predict probability on test set\n",
        "#TODO: threshold probability\n",
        "\n",
        "y_pred_threshold = ... #use this variable to store value\n",
        "\n",
        "print(y_pred_threshold)"
      ],
      "execution_count": null,
      "outputs": []
    },
    {
      "cell_type": "markdown",
      "source": [
        "<font color='red'> **Answer:**</font>"
      ],
      "metadata": {
        "id": "Isb-bVMYSkCN"
      }
    },
    {
      "cell_type": "markdown",
      "metadata": {
        "id": "zk80i4XKNX6W"
      },
      "source": [
        "**1.2.15 Print the classification report agian. Do you think there were some improvements regarding the classification for class Yes? Explain your answer briefly. (0.4 points)**"
      ]
    },
    {
      "cell_type": "code",
      "metadata": {
        "id": "4C48fb3jNW4d"
      },
      "source": [
        "#TODO: Print classification report"
      ],
      "execution_count": null,
      "outputs": []
    },
    {
      "cell_type": "markdown",
      "metadata": {
        "id": "Am9hDnA5OMX6"
      },
      "source": [
        "**<font color='red'>Answer:</font>** "
      ]
    },
    {
      "cell_type": "markdown",
      "metadata": {
        "id": "Nge1WamEMLfJ"
      },
      "source": [
        "**1.2.16 Use XGBoost with default parameters to classify test data and report accuracy, recall, precision, f1-score and AUC. (0.5 points)**"
      ]
    },
    {
      "cell_type": "code",
      "metadata": {
        "id": "MO5l5l03MLfO"
      },
      "source": [
        "from xgboost import XGBClassifier\n",
        "\n",
        "xgb_model = XGBClassifier()\n",
        "\n",
        "#TODO: train the model\n",
        "#TODO: predict on test set\n",
        "#TODO: calculate the metrics\n",
        "\n",
        "print('Accuracy: ', acc)\n",
        "print('Recall: ', rec)\n",
        "print('Precision: ', prec)\n",
        "print('F1_score: ', f1_score)\n",
        "print('AUC: ', auc)"
      ],
      "execution_count": null,
      "outputs": []
    },
    {
      "cell_type": "markdown",
      "source": [
        "<font color='red'> **Answer:**</font>"
      ],
      "metadata": {
        "id": "GFZCB3I2Siv2"
      }
    },
    {
      "cell_type": "markdown",
      "metadata": {
        "id": "W41zIM_iMLfo"
      },
      "source": [
        "**1.2.17 For unbalanced datasets, choose the best classifier (based on evaluation metrics that seems good for this case-study) and plot its feature importances in decreasing order. Were the 3 most important features as you expected, you can use ```1.2.5``` as reference? Please explain why. (0.5 points)**"
      ]
    },
    {
      "cell_type": "code",
      "metadata": {
        "id": "TNhXkEyhZs_j"
      },
      "source": [
        "#TODO: choose a model\n",
        "#TODO: train the model\n",
        "\n",
        "#TODO: predict on test set\n",
        "#TODO: calculate the metrics\n",
        "\n",
        "#TODO: feature importance calculation\n",
        "\n",
        "#TODO: plot the feature importance\n"
      ],
      "execution_count": null,
      "outputs": []
    },
    {
      "cell_type": "markdown",
      "metadata": {
        "id": "khLM_PzmMLfv"
      },
      "source": [
        "**<font color='red'>Answer:</font>**"
      ]
    },
    {
      "cell_type": "markdown",
      "metadata": {
        "id": "0GBmXXe8MLf2"
      },
      "source": [
        "# 2. Improving classification (2.5 points)"
      ]
    },
    {
      "cell_type": "markdown",
      "metadata": {
        "id": "jjqzAyR4MLgM"
      },
      "source": [
        "**2.1 Do you think it is better to try oversampling or downsampling in this case study and why ? (0.4 points)** "
      ]
    },
    {
      "cell_type": "code",
      "source": [],
      "metadata": {
        "id": "4zCiGsxCShFf"
      },
      "execution_count": null,
      "outputs": []
    },
    {
      "cell_type": "markdown",
      "metadata": {
        "id": "CDkfyTzhMLgR"
      },
      "source": [
        "**<font color='red'>Answer:</font>** "
      ]
    },
    {
      "cell_type": "markdown",
      "metadata": {
        "id": "YaYBgnPLMLgY"
      },
      "source": [
        "**2.2 Apply oversampling to the data while keeping random_state equal to 0. (0.4 points)**"
      ]
    },
    {
      "cell_type": "code",
      "metadata": {
        "id": "Aj2QLJR8MLgn"
      },
      "source": [
        "from imblearn.over_sampling import RandomOverSampler\n",
        "#TODO: apply oversampling"
      ],
      "execution_count": null,
      "outputs": []
    },
    {
      "cell_type": "markdown",
      "source": [
        "<font color='red'> **Answer:**</font>"
      ],
      "metadata": {
        "id": "LElR-jcVSfsC"
      }
    },
    {
      "cell_type": "markdown",
      "metadata": {
        "id": "Kx-bFmqpMLhP"
      },
      "source": [
        "**2.3 Split the data into train/test set with a ratio 80/20. Keep a random_state equal to 0. Train a random forest model, test it and report accuracy, precision, recall, f1-score and AUC. (0.5 points)** "
      ]
    },
    {
      "cell_type": "code",
      "metadata": {
        "id": "zQVlRIJvMLhX"
      },
      "source": [
        "#TODO: split dataset in 80/20 ratio. set random_state=0, use randomforest model from \n",
        "#TODO: train a rf model on oversampled data\n",
        "#TODO: predict on test set\n",
        "#TODO: calculate metrics\n",
        "\n",
        "print('Accuracy: ', acc)\n",
        "print('Recall: ', rec)\n",
        "print('Precision: ', prec)\n",
        "print('F1_score: ', f1_score)\n",
        "print('AUC: ', auc)\n"
      ],
      "execution_count": null,
      "outputs": []
    },
    {
      "cell_type": "markdown",
      "source": [
        "<font color='red'> **Answer:**</font>"
      ],
      "metadata": {
        "id": "Ip-KeNvqSex2"
      }
    },
    {
      "cell_type": "markdown",
      "metadata": {
        "id": "cWxZ0WobMLhm"
      },
      "source": [
        "**2.4 Apply undersampling to the data while keeping random_state equal to 0. (0.4 points)**"
      ]
    },
    {
      "cell_type": "code",
      "metadata": {
        "id": "rPIbRaRIMLhp"
      },
      "source": [
        "from imblearn.under_sampling import RandomUnderSampler\n",
        "#TODO: apply undersampling"
      ],
      "execution_count": null,
      "outputs": []
    },
    {
      "cell_type": "markdown",
      "source": [
        "<font color='red'> **Answer:**</font>"
      ],
      "metadata": {
        "id": "CT72QsUWSeDZ"
      }
    },
    {
      "cell_type": "markdown",
      "metadata": {
        "id": "TsQzm2JmMLiC"
      },
      "source": [
        "**2.5 Split the data into train/test set with a ratio 80/20. Keep a random_state equal to 0. Use the algorithm chosen in 1.2.12 to classify the test data and report accuracy, precision, recall, f1-score and AUC. (0.5 points)** "
      ]
    },
    {
      "cell_type": "code",
      "metadata": {
        "id": "RKi4p2MVMLiK"
      },
      "source": [
        "#TODO: split dataset in 80/20 ratio. set random_state=0, use randomforest model from \n",
        "#TODO: train a rf model on undersampled data\n",
        "#TODO: predict on test set\n",
        "#TODO: calculate metrics\n",
        "\n",
        "print('Accuracy: ', acc)\n",
        "print('Recall: ', rec)\n",
        "print('Precision: ', prec)\n",
        "print('F1_score: ', f1_score)\n",
        "print('AUC: ', auc)\n",
        "\n"
      ],
      "execution_count": null,
      "outputs": []
    },
    {
      "cell_type": "markdown",
      "source": [
        "<font color='red'> **Answer:**</font>"
      ],
      "metadata": {
        "id": "EuGyVTnLSdDr"
      }
    },
    {
      "cell_type": "markdown",
      "metadata": {
        "id": "pUys5JOCZs_l"
      },
      "source": [
        "**2.6 Which one performed better between over and under sampling (0.3 points)** "
      ]
    },
    {
      "cell_type": "code",
      "source": [],
      "metadata": {
        "id": "RUz0sWNVSaN5"
      },
      "execution_count": null,
      "outputs": []
    },
    {
      "cell_type": "markdown",
      "metadata": {
        "id": "cn0V-iHeZs_l"
      },
      "source": [
        "<font color='red'> **Answer:**</font>"
      ]
    },
    {
      "cell_type": "markdown",
      "metadata": {
        "id": "on8nnIjpMLjE"
      },
      "source": [
        "## How long did it take you to solve the homework?\n",
        "\n",
        "* Please answer as precisely as you can. It does not affect your points or grade in any way. It is okay, if it took 0.5 hours or 24 hours. The collected information will be used to improve future homeworks.\n",
        "\n",
        "<font color='red'> **Answer:**</font>\n",
        "\n",
        "\n",
        "\n",
        "## What is the level of difficulty for this homework?\n",
        "you can put only number between $0:10$ ($0:$ easy, $10:$ difficult)\n",
        "\n",
        "<font color='red'> **Answer:** </font>"
      ]
    }
  ]
}