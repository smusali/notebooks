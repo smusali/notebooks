{
  "nbformat": 4,
  "nbformat_minor": 0,
  "metadata": {
    "kernelspec": {
      "display_name": "Python 3",
      "language": "python",
      "name": "python3"
    },
    "language_info": {
      "codemirror_mode": {
        "name": "ipython",
        "version": 3
      },
      "file_extension": ".py",
      "mimetype": "text/x-python",
      "name": "python",
      "nbconvert_exporter": "python",
      "pygments_lexer": "ipython3",
      "version": "3.6.8"
    },
    "colab": {
      "provenance": []
    }
  },
  "cells": [
    {
      "cell_type": "markdown",
      "metadata": {
        "id": "cedtXySEYb28"
      },
      "source": [
        "<div class=\"alert alert-block alert-info\"><b></b>\n",
        "<h1><center> <font color='black'> Homework 04</font></center></h1>\n",
        "<h2><center> <font color='black'> Cross-sell / Up-sell using Recommendations</font></center></h2>    \n",
        "<h2><center> <font color='black'> MTAT.03.319 - Business Data Analytics</font></center></h2>\n",
        "<h2><center> <font color='black'> University of Tartu - Spring 2023</font></center></h2>\n",
        "</div>"
      ]
    },
    {
      "cell_type": "markdown",
      "metadata": {
        "id": "B-pvZUeIYb3G"
      },
      "source": [
        "# Homework instructions\n",
        "\n",
        "- Please provide the names and student IDs of the team-members (Maximum 2 person) in the field \"Team mates\" below. If you are not working in a team please insert only your name and student ID.\n",
        "\n",
        "- Please provide code where ever applicable.\n",
        "\n",
        "- The accepted submission format is .ipynb file. If you are sharing Colab link, make sure that the privacy settings for the file is public so we can access your code. \n",
        "\n",
        "- The submission will automatically close on <font color='red'>**16 April at 23:59**</font>, so please make sure to submit before the deadline. \n",
        "\n",
        "- ONLY one of the teammates should submit the homework and in the submission description the other person's Name and Student ID must be entered. We will grade the homework and the marks and feedback is applied for both the team members. So please communicate with your team member about marks and feedback if you are submit the homework.\n",
        "\n",
        "- If a question is not clear, please ask us in Moodle ONLY. \n",
        "\n",
        "- After you have finished solving the Homework, please restart the Kernel and run all the cells to check if there is any persisting issues. \n",
        "\n",
        "- Plagiarism is <font color='red'>**PROHIBITED**</font>. Any form of plagiarism will be dealt according to the university policy (https://ut.ee/en/content/academic-fraud).\n",
        "\n",
        "- <font color='red'>**DO NOT CHANGE THE TEMPLATE**</font>\n",
        "\n",
        "- <font color='red'>**Restart the Kernel and Run all the cells once again after you are done.**</font>\n",
        "This will ensure that all the cells run without error. You will find an option in the top menu bar under Kernel tab. "
      ]
    },
    {
      "cell_type": "markdown",
      "metadata": {
        "id": "9OWlFadiYb3I"
      },
      "source": [
        "**<h2><font color='red'>Team mates:</font></h2>**\n",
        "\n",
        "\n",
        "<font color='red'>Name Surname: Samir Musali</font>&emsp;   <font color='red'>Student ID: C29810</font>"
      ]
    },
    {
      "cell_type": "markdown",
      "source": [
        "### The homework is divided into four sections and the points are distributed as below:\n",
        "<pre>\n",
        "- Market Basket Analysis    -> 3 points\n",
        "- Collaborative Filtering   -> 3.5 points\n",
        "- Recommendor Systems       -> 1.5 points\n",
        "- Neural Networks           -> 3 points\n",
        "__________________________________________\n",
        "Total                       -> 11 points\n",
        "</pre>"
      ],
      "metadata": {
        "id": "BL5Bm0Qk_d3X"
      }
    },
    {
      "cell_type": "markdown",
      "metadata": {
        "id": "boFT1CkoYb3K"
      },
      "source": [
        "# 1.  Market Basket Analysis (3 points)"
      ]
    },
    {
      "cell_type": "markdown",
      "metadata": {
        "id": "a3hBebgbYb3M"
      },
      "source": [
        "**1.1 Consider the following businesses and think about one case of cross selling and one case of up selling techniques they could use. This question is not restricted to only traditional, standard examples. If you wish you can provide something that you would like these businesses to do. (2 points)**"
      ]
    },
    {
      "cell_type": "markdown",
      "metadata": {
        "id": "HxMUA01DYb3P"
      },
      "source": [
        "a. An OnlineTravel Agency like Booking.com or AirBnB"
      ]
    },
    {
      "cell_type": "markdown",
      "metadata": {
        "id": "RODzp7BPYb3T"
      },
      "source": [
        "<font color='red'> **Cross selling:**</font> The travel agency can offer customers additional services like travel insurance, car rentals, tours, and activities to complement their trip. They could also offer discounts on these services when bundled with a customer's booking.\n",
        "\n",
        "<font color='red'> **Up selling:**</font> The travel agency could offer customers an upgrade to a better room or a higher class of transportation, such as first-class or business-class flight seats. This could be done by highlighting the benefits of the upgrade, such as additional space, better amenities, or more comfortable seating arrangements.\n"
      ]
    },
    {
      "cell_type": "markdown",
      "metadata": {
        "id": "Qbw_w9p1Yb3U"
      },
      "source": [
        "b. A software company which produces products related to cyber security like Norton, Kaspersky, Avast and similar ones. "
      ]
    },
    {
      "cell_type": "markdown",
      "metadata": {
        "id": "j0SyXnB6Yb3W"
      },
      "source": [
        "<font color='red'> **Cross selling:**</font> The software company could offer customers additional products such as password managers, VPNs, and cloud storage services. These could be provided as a package deal with their primary cybersecurity product.\n",
        "\n",
        "<font color='red'> **Up selling:**</font> The software company could offer customers a premium product version with additional features, such as more comprehensive malware protection or advanced encryption options. The upsell could be presented as a way to increase security and peace of mind."
      ]
    },
    {
      "cell_type": "markdown",
      "metadata": {
        "id": "7EUCv8TtYb3X"
      },
      "source": [
        "c. A company that sells cell phones "
      ]
    },
    {
      "cell_type": "markdown",
      "metadata": {
        "id": "NFHO-dI6Yb3Y"
      },
      "source": [
        "<font color='red'> **Cross selling:**</font> The cell phone company could offer customers accessories such as phone cases, screen protectors, and headphones. They could also provide customers with deals on smartwatches or fitness trackers that can be used with their phones.\n",
        "\n",
        "<font color='red'> **Up selling:**</font> The cell phone company could offer customers an upgrade to a newer model of the same phone or a higher-end model with additional features, such as better camera quality or more storage capacity. The upsell could be presented as a way to keep up with the latest technology trends and stay ahead of the curve."
      ]
    },
    {
      "cell_type": "markdown",
      "metadata": {
        "id": "_wnH4-lrYb3a"
      },
      "source": [
        "d. A supermarket like Konsum, Rimi, Maxima etc. "
      ]
    },
    {
      "cell_type": "markdown",
      "metadata": {
        "id": "I4CNtNYBYb3b"
      },
      "source": [
        "<font color='red'> **Cross selling:**</font> The supermarket could offer customers additional items that complement their purchase, such as recipe books or cooking utensils. They could also offer discounts when purchased with a customer's regular groceries.\n",
        "\n",
        "<font color='red'> **Up selling:**</font> The supermarket could offer customers a premium version of a product they regularly purchase, such as a higher quality brand of coffee or a more expensive cut of meat. The upsell could be presented as a way to treat oneself and indulge in a higher-end product."
      ]
    },
    {
      "cell_type": "markdown",
      "metadata": {
        "id": "DLp7o0cdYb3c"
      },
      "source": [
        "**1.2.0 One of the techniques which we discussed in the theory lecture for recommendater systems is Market Basket Analysis. The aim is to study the products bought frequently together and to recommend product in bunndles. Let's suppose that our client is a retail company that has an online shop. They have given to us the OnlineRetail.csv dataset (we have previously used this dataset in our practice sessions 03). It contains data about the online sales of several products. The client or  wants to know which product bundles to promote. Let us find the 5 association rules with the highest lift.**"
      ]
    },
    {
      "cell_type": "code",
      "metadata": {
        "id": "b7HLlQ30Yb3e"
      },
      "source": [
        "import pandas as pd\n",
        "\n",
        "df = pd.read_csv('OnlineRetailPurchase.csv', header=0)"
      ],
      "execution_count": 53,
      "outputs": []
    },
    {
      "cell_type": "code",
      "metadata": {
        "id": "VWBRFwuUYb3l",
        "outputId": "9516704f-bf50-4808-9274-f004a8bd05bd",
        "colab": {
          "base_uri": "https://localhost:8080/",
          "height": 250
        }
      },
      "source": [
        "df.head()"
      ],
      "execution_count": 55,
      "outputs": [
        {
          "output_type": "execute_result",
          "data": {
            "text/plain": [
              "  InvoiceNo StockCode                          Description  Quantity  \\\n",
              "0    536365    85123A   WHITE HANGING HEART T-LIGHT HOLDER         6   \n",
              "1    536365     71053                  WHITE METAL LANTERN         6   \n",
              "2    536365    84406B       CREAM CUPID HEARTS COAT HANGER         8   \n",
              "3    536365    84029G  KNITTED UNION FLAG HOT WATER BOTTLE         6   \n",
              "4    536365    84029E       RED WOOLLY HOTTIE WHITE HEART.         6   \n",
              "\n",
              "      InvoiceDate  UnitPrice  CustomerID         Country  \n",
              "0  12/1/2010 8:26       2.55     17850.0  United Kingdom  \n",
              "1  12/1/2010 8:26       3.39     17850.0  United Kingdom  \n",
              "2  12/1/2010 8:26       2.75     17850.0  United Kingdom  \n",
              "3  12/1/2010 8:26       3.39     17850.0  United Kingdom  \n",
              "4  12/1/2010 8:26       3.39     17850.0  United Kingdom  "
            ],
            "text/html": [
              "\n",
              "  <div id=\"df-0541378a-f282-4f1b-91b5-ca3e3af9de94\">\n",
              "    <div class=\"colab-df-container\">\n",
              "      <div>\n",
              "<style scoped>\n",
              "    .dataframe tbody tr th:only-of-type {\n",
              "        vertical-align: middle;\n",
              "    }\n",
              "\n",
              "    .dataframe tbody tr th {\n",
              "        vertical-align: top;\n",
              "    }\n",
              "\n",
              "    .dataframe thead th {\n",
              "        text-align: right;\n",
              "    }\n",
              "</style>\n",
              "<table border=\"1\" class=\"dataframe\">\n",
              "  <thead>\n",
              "    <tr style=\"text-align: right;\">\n",
              "      <th></th>\n",
              "      <th>InvoiceNo</th>\n",
              "      <th>StockCode</th>\n",
              "      <th>Description</th>\n",
              "      <th>Quantity</th>\n",
              "      <th>InvoiceDate</th>\n",
              "      <th>UnitPrice</th>\n",
              "      <th>CustomerID</th>\n",
              "      <th>Country</th>\n",
              "    </tr>\n",
              "  </thead>\n",
              "  <tbody>\n",
              "    <tr>\n",
              "      <th>0</th>\n",
              "      <td>536365</td>\n",
              "      <td>85123A</td>\n",
              "      <td>WHITE HANGING HEART T-LIGHT HOLDER</td>\n",
              "      <td>6</td>\n",
              "      <td>12/1/2010 8:26</td>\n",
              "      <td>2.55</td>\n",
              "      <td>17850.0</td>\n",
              "      <td>United Kingdom</td>\n",
              "    </tr>\n",
              "    <tr>\n",
              "      <th>1</th>\n",
              "      <td>536365</td>\n",
              "      <td>71053</td>\n",
              "      <td>WHITE METAL LANTERN</td>\n",
              "      <td>6</td>\n",
              "      <td>12/1/2010 8:26</td>\n",
              "      <td>3.39</td>\n",
              "      <td>17850.0</td>\n",
              "      <td>United Kingdom</td>\n",
              "    </tr>\n",
              "    <tr>\n",
              "      <th>2</th>\n",
              "      <td>536365</td>\n",
              "      <td>84406B</td>\n",
              "      <td>CREAM CUPID HEARTS COAT HANGER</td>\n",
              "      <td>8</td>\n",
              "      <td>12/1/2010 8:26</td>\n",
              "      <td>2.75</td>\n",
              "      <td>17850.0</td>\n",
              "      <td>United Kingdom</td>\n",
              "    </tr>\n",
              "    <tr>\n",
              "      <th>3</th>\n",
              "      <td>536365</td>\n",
              "      <td>84029G</td>\n",
              "      <td>KNITTED UNION FLAG HOT WATER BOTTLE</td>\n",
              "      <td>6</td>\n",
              "      <td>12/1/2010 8:26</td>\n",
              "      <td>3.39</td>\n",
              "      <td>17850.0</td>\n",
              "      <td>United Kingdom</td>\n",
              "    </tr>\n",
              "    <tr>\n",
              "      <th>4</th>\n",
              "      <td>536365</td>\n",
              "      <td>84029E</td>\n",
              "      <td>RED WOOLLY HOTTIE WHITE HEART.</td>\n",
              "      <td>6</td>\n",
              "      <td>12/1/2010 8:26</td>\n",
              "      <td>3.39</td>\n",
              "      <td>17850.0</td>\n",
              "      <td>United Kingdom</td>\n",
              "    </tr>\n",
              "  </tbody>\n",
              "</table>\n",
              "</div>\n",
              "      <button class=\"colab-df-convert\" onclick=\"convertToInteractive('df-0541378a-f282-4f1b-91b5-ca3e3af9de94')\"\n",
              "              title=\"Convert this dataframe to an interactive table.\"\n",
              "              style=\"display:none;\">\n",
              "        \n",
              "  <svg xmlns=\"http://www.w3.org/2000/svg\" height=\"24px\"viewBox=\"0 0 24 24\"\n",
              "       width=\"24px\">\n",
              "    <path d=\"M0 0h24v24H0V0z\" fill=\"none\"/>\n",
              "    <path d=\"M18.56 5.44l.94 2.06.94-2.06 2.06-.94-2.06-.94-.94-2.06-.94 2.06-2.06.94zm-11 1L8.5 8.5l.94-2.06 2.06-.94-2.06-.94L8.5 2.5l-.94 2.06-2.06.94zm10 10l.94 2.06.94-2.06 2.06-.94-2.06-.94-.94-2.06-.94 2.06-2.06.94z\"/><path d=\"M17.41 7.96l-1.37-1.37c-.4-.4-.92-.59-1.43-.59-.52 0-1.04.2-1.43.59L10.3 9.45l-7.72 7.72c-.78.78-.78 2.05 0 2.83L4 21.41c.39.39.9.59 1.41.59.51 0 1.02-.2 1.41-.59l7.78-7.78 2.81-2.81c.8-.78.8-2.07 0-2.86zM5.41 20L4 18.59l7.72-7.72 1.47 1.35L5.41 20z\"/>\n",
              "  </svg>\n",
              "      </button>\n",
              "      \n",
              "  <style>\n",
              "    .colab-df-container {\n",
              "      display:flex;\n",
              "      flex-wrap:wrap;\n",
              "      gap: 12px;\n",
              "    }\n",
              "\n",
              "    .colab-df-convert {\n",
              "      background-color: #E8F0FE;\n",
              "      border: none;\n",
              "      border-radius: 50%;\n",
              "      cursor: pointer;\n",
              "      display: none;\n",
              "      fill: #1967D2;\n",
              "      height: 32px;\n",
              "      padding: 0 0 0 0;\n",
              "      width: 32px;\n",
              "    }\n",
              "\n",
              "    .colab-df-convert:hover {\n",
              "      background-color: #E2EBFA;\n",
              "      box-shadow: 0px 1px 2px rgba(60, 64, 67, 0.3), 0px 1px 3px 1px rgba(60, 64, 67, 0.15);\n",
              "      fill: #174EA6;\n",
              "    }\n",
              "\n",
              "    [theme=dark] .colab-df-convert {\n",
              "      background-color: #3B4455;\n",
              "      fill: #D2E3FC;\n",
              "    }\n",
              "\n",
              "    [theme=dark] .colab-df-convert:hover {\n",
              "      background-color: #434B5C;\n",
              "      box-shadow: 0px 1px 3px 1px rgba(0, 0, 0, 0.15);\n",
              "      filter: drop-shadow(0px 1px 2px rgba(0, 0, 0, 0.3));\n",
              "      fill: #FFFFFF;\n",
              "    }\n",
              "  </style>\n",
              "\n",
              "      <script>\n",
              "        const buttonEl =\n",
              "          document.querySelector('#df-0541378a-f282-4f1b-91b5-ca3e3af9de94 button.colab-df-convert');\n",
              "        buttonEl.style.display =\n",
              "          google.colab.kernel.accessAllowed ? 'block' : 'none';\n",
              "\n",
              "        async function convertToInteractive(key) {\n",
              "          const element = document.querySelector('#df-0541378a-f282-4f1b-91b5-ca3e3af9de94');\n",
              "          const dataTable =\n",
              "            await google.colab.kernel.invokeFunction('convertToInteractive',\n",
              "                                                     [key], {});\n",
              "          if (!dataTable) return;\n",
              "\n",
              "          const docLinkHtml = 'Like what you see? Visit the ' +\n",
              "            '<a target=\"_blank\" href=https://colab.research.google.com/notebooks/data_table.ipynb>data table notebook</a>'\n",
              "            + ' to learn more about interactive tables.';\n",
              "          element.innerHTML = '';\n",
              "          dataTable['output_type'] = 'display_data';\n",
              "          await google.colab.output.renderOutput(dataTable, element);\n",
              "          const docLink = document.createElement('div');\n",
              "          docLink.innerHTML = docLinkHtml;\n",
              "          element.appendChild(docLink);\n",
              "        }\n",
              "      </script>\n",
              "    </div>\n",
              "  </div>\n",
              "  "
            ]
          },
          "metadata": {},
          "execution_count": 55
        }
      ]
    },
    {
      "cell_type": "markdown",
      "metadata": {
        "id": "kcjIimkHYb35"
      },
      "source": [
        "**1.2 Use describe function from pandas to get statistical information about the values in the dataframe. Do you notice something which might not be correct? If so please perform the necessary operations. (Hint: Remember what we did in the practice session 03)(0.25 points)**"
      ]
    },
    {
      "cell_type": "code",
      "metadata": {
        "id": "RakInjZBY4Wu",
        "colab": {
          "base_uri": "https://localhost:8080/"
        },
        "outputId": "8310c13c-ce14-4a75-c084-b2b7391d0796"
      },
      "source": [
        "print(df.describe())\n",
        "print('\\n')\n",
        "df.info()\n",
        "df.dropna(subset=['CustomerID'], inplace=True)\n",
        "df = df.loc[df['Quantity'] >= 0]\n",
        "print('\\n')\n",
        "df.info()\n",
        "print('\\n')\n",
        "print(df.describe())"
      ],
      "execution_count": 56,
      "outputs": [
        {
          "output_type": "stream",
          "name": "stdout",
          "text": [
            "           Quantity     UnitPrice    CustomerID\n",
            "count  10000.000000  10000.000000   7709.000000\n",
            "mean       7.828600      3.837412  15615.462576\n",
            "std      104.322417     14.310148   1756.540802\n",
            "min    -9360.000000      0.000000  12395.000000\n",
            "25%        1.000000      1.250000  14388.000000\n",
            "50%        2.000000      2.510000  15605.000000\n",
            "75%        8.000000      4.210000  17228.000000\n",
            "max     2880.000000    887.520000  18239.000000\n",
            "\n",
            "\n",
            "<class 'pandas.core.frame.DataFrame'>\n",
            "RangeIndex: 10000 entries, 0 to 9999\n",
            "Data columns (total 8 columns):\n",
            " #   Column       Non-Null Count  Dtype  \n",
            "---  ------       --------------  -----  \n",
            " 0   InvoiceNo    10000 non-null  object \n",
            " 1   StockCode    10000 non-null  object \n",
            " 2   Description  9958 non-null   object \n",
            " 3   Quantity     10000 non-null  int64  \n",
            " 4   InvoiceDate  10000 non-null  object \n",
            " 5   UnitPrice    10000 non-null  float64\n",
            " 6   CustomerID   7709 non-null   float64\n",
            " 7   Country      10000 non-null  object \n",
            "dtypes: float64(2), int64(1), object(5)\n",
            "memory usage: 625.1+ KB\n",
            "\n",
            "\n",
            "<class 'pandas.core.frame.DataFrame'>\n",
            "Int64Index: 7609 entries, 0 to 9999\n",
            "Data columns (total 8 columns):\n",
            " #   Column       Non-Null Count  Dtype  \n",
            "---  ------       --------------  -----  \n",
            " 0   InvoiceNo    7609 non-null   object \n",
            " 1   StockCode    7609 non-null   object \n",
            " 2   Description  7609 non-null   object \n",
            " 3   Quantity     7609 non-null   int64  \n",
            " 4   InvoiceDate  7609 non-null   object \n",
            " 5   UnitPrice    7609 non-null   float64\n",
            " 6   CustomerID   7609 non-null   float64\n",
            " 7   Country      7609 non-null   object \n",
            "dtypes: float64(2), int64(1), object(5)\n",
            "memory usage: 535.0+ KB\n",
            "\n",
            "\n",
            "          Quantity    UnitPrice    CustomerID\n",
            "count  7609.000000  7609.000000   7609.000000\n",
            "mean     10.891050     3.101698  15620.763832\n",
            "std      51.822983     5.077270   1755.451331\n",
            "min       1.000000     0.000000  12395.000000\n",
            "25%       1.000000     1.250000  14388.000000\n",
            "50%       4.000000     2.100000  15640.000000\n",
            "75%      12.000000     3.750000  17228.000000\n",
            "max    2880.000000   295.000000  18239.000000\n"
          ]
        }
      ]
    },
    {
      "cell_type": "markdown",
      "metadata": {
        "id": "J5a0X9dtYb4K"
      },
      "source": [
        "**1.3 Create a dataframe name as \"Basket\", where each row has an distintive value of InvoiceNo and each column has a distinctive Description. The cells in the table contain the count of each item (Description) mentioned in one invoice. For example basket.loc['536365','WHITE HANGING HEART T-LIGHT HOLDER'] has a value of 1 because the product with WHITE HANGING HEART T-LIGHT HOLDER was entered  only once in the invoice 536365. Hint: Remember the function you used in Homework 1 for a similar task or in practice session no.07 (0.25 points)**"
      ]
    },
    {
      "cell_type": "code",
      "metadata": {
        "id": "D4lUPlKAYb4L"
      },
      "source": [
        "basket = pd.pivot_table(df, index='InvoiceNo', columns='Description', values='Quantity', aggfunc='sum')\n",
        "basket.fillna(0, inplace=True)\n",
        "basket = basket.astype(int)\n",
        "basket.rename_axis(None, inplace=True)"
      ],
      "execution_count": 57,
      "outputs": []
    },
    {
      "cell_type": "markdown",
      "metadata": {
        "id": "3rwKSVg3Yb4d"
      },
      "source": [
        "**1.4 Some products are mentioned more than once in one invoice. You can check the maximum number for each column to verify. Modify your dataframe such that every cell which has a value higher than one will be replaced with 1. If the cell has the value 0 it will remain the same. (0.25 points)**"
      ]
    },
    {
      "cell_type": "code",
      "metadata": {
        "id": "9BO17Wy1Yb4e"
      },
      "source": [
        "basket[basket > 1] = 1"
      ],
      "execution_count": 58,
      "outputs": []
    },
    {
      "cell_type": "markdown",
      "metadata": {
        "id": "KfWgocGTYb4k"
      },
      "source": [
        "**1.5 We do not need to spend time on calculating the association rules by ourselves as there already exists a package for python to do so, called mlxtend. We are going to use the mlxtend package to find frequent items bought together and then create some rules on what to recomend to a user based on what he/she/they have bought. We have given you the first part of the code which calculates the frequent items bought together.**"
      ]
    },
    {
      "cell_type": "code",
      "metadata": {
        "id": "rCw4ii7tYb4l"
      },
      "source": [
        "#!pip install mlxtend\n",
        "from mlxtend.frequent_patterns import apriori\n",
        "from mlxtend.frequent_patterns import association_rules\n",
        "import mlxtend as ml\n",
        "import math"
      ],
      "execution_count": 59,
      "outputs": []
    },
    {
      "cell_type": "code",
      "metadata": {
        "id": "nQBjILk5Yb4p",
        "colab": {
          "base_uri": "https://localhost:8080/",
          "height": 424
        },
        "outputId": "c62f641b-0fb3-460a-fc98-755ea31267de"
      },
      "source": [
        "# Mlxtend has implemented Apriori, a popular algorithm for extracting frequent itemsets \n",
        "# We can change the value of minimum support but it will \n",
        "# But as well we get less useful results for the next step. \n",
        "# Setting use_colnames=True to convert the returned integer indices into item names\n",
        "frequent_itemsets = apriori(basket, min_support=0.03, use_colnames=True)\n",
        "frequent_itemsets"
      ],
      "execution_count": 60,
      "outputs": [
        {
          "output_type": "execute_result",
          "data": {
            "text/plain": [
              "        support                                           itemsets\n",
              "0      0.032419                 ( SET 2 TEA TOWELS I LOVE LONDON )\n",
              "1      0.042394                           (6 RIBBONS RUSTIC CHARM)\n",
              "2      0.047382                  (60 CAKE CASES VINTAGE CHRISTMAS)\n",
              "3      0.032419                      (60 TEATIME FAIRY CAKE CASES)\n",
              "4      0.054863                       (ALARM CLOCK BAKELIKE GREEN)\n",
              "...         ...                                                ...\n",
              "13519  0.032419  (VINTAGE BILLBOARD LOVE/HATE MUG, WHITE HANGIN...\n",
              "13520  0.032419  (VINTAGE BILLBOARD LOVE/HATE MUG, WHITE HANGIN...\n",
              "13521  0.032419  (VINTAGE BILLBOARD LOVE/HATE MUG, WHITE HANGIN...\n",
              "13522  0.032419  (VINTAGE BILLBOARD LOVE/HATE MUG, WHITE HANGIN...\n",
              "13523  0.032419  (VINTAGE BILLBOARD LOVE/HATE MUG, WHITE HANGIN...\n",
              "\n",
              "[13524 rows x 2 columns]"
            ],
            "text/html": [
              "\n",
              "  <div id=\"df-8ffeb5d7-1038-4c40-8b6a-55291b85dd94\">\n",
              "    <div class=\"colab-df-container\">\n",
              "      <div>\n",
              "<style scoped>\n",
              "    .dataframe tbody tr th:only-of-type {\n",
              "        vertical-align: middle;\n",
              "    }\n",
              "\n",
              "    .dataframe tbody tr th {\n",
              "        vertical-align: top;\n",
              "    }\n",
              "\n",
              "    .dataframe thead th {\n",
              "        text-align: right;\n",
              "    }\n",
              "</style>\n",
              "<table border=\"1\" class=\"dataframe\">\n",
              "  <thead>\n",
              "    <tr style=\"text-align: right;\">\n",
              "      <th></th>\n",
              "      <th>support</th>\n",
              "      <th>itemsets</th>\n",
              "    </tr>\n",
              "  </thead>\n",
              "  <tbody>\n",
              "    <tr>\n",
              "      <th>0</th>\n",
              "      <td>0.032419</td>\n",
              "      <td>( SET 2 TEA TOWELS I LOVE LONDON )</td>\n",
              "    </tr>\n",
              "    <tr>\n",
              "      <th>1</th>\n",
              "      <td>0.042394</td>\n",
              "      <td>(6 RIBBONS RUSTIC CHARM)</td>\n",
              "    </tr>\n",
              "    <tr>\n",
              "      <th>2</th>\n",
              "      <td>0.047382</td>\n",
              "      <td>(60 CAKE CASES VINTAGE CHRISTMAS)</td>\n",
              "    </tr>\n",
              "    <tr>\n",
              "      <th>3</th>\n",
              "      <td>0.032419</td>\n",
              "      <td>(60 TEATIME FAIRY CAKE CASES)</td>\n",
              "    </tr>\n",
              "    <tr>\n",
              "      <th>4</th>\n",
              "      <td>0.054863</td>\n",
              "      <td>(ALARM CLOCK BAKELIKE GREEN)</td>\n",
              "    </tr>\n",
              "    <tr>\n",
              "      <th>...</th>\n",
              "      <td>...</td>\n",
              "      <td>...</td>\n",
              "    </tr>\n",
              "    <tr>\n",
              "      <th>13519</th>\n",
              "      <td>0.032419</td>\n",
              "      <td>(VINTAGE BILLBOARD LOVE/HATE MUG, WHITE HANGIN...</td>\n",
              "    </tr>\n",
              "    <tr>\n",
              "      <th>13520</th>\n",
              "      <td>0.032419</td>\n",
              "      <td>(VINTAGE BILLBOARD LOVE/HATE MUG, WHITE HANGIN...</td>\n",
              "    </tr>\n",
              "    <tr>\n",
              "      <th>13521</th>\n",
              "      <td>0.032419</td>\n",
              "      <td>(VINTAGE BILLBOARD LOVE/HATE MUG, WHITE HANGIN...</td>\n",
              "    </tr>\n",
              "    <tr>\n",
              "      <th>13522</th>\n",
              "      <td>0.032419</td>\n",
              "      <td>(VINTAGE BILLBOARD LOVE/HATE MUG, WHITE HANGIN...</td>\n",
              "    </tr>\n",
              "    <tr>\n",
              "      <th>13523</th>\n",
              "      <td>0.032419</td>\n",
              "      <td>(VINTAGE BILLBOARD LOVE/HATE MUG, WHITE HANGIN...</td>\n",
              "    </tr>\n",
              "  </tbody>\n",
              "</table>\n",
              "<p>13524 rows × 2 columns</p>\n",
              "</div>\n",
              "      <button class=\"colab-df-convert\" onclick=\"convertToInteractive('df-8ffeb5d7-1038-4c40-8b6a-55291b85dd94')\"\n",
              "              title=\"Convert this dataframe to an interactive table.\"\n",
              "              style=\"display:none;\">\n",
              "        \n",
              "  <svg xmlns=\"http://www.w3.org/2000/svg\" height=\"24px\"viewBox=\"0 0 24 24\"\n",
              "       width=\"24px\">\n",
              "    <path d=\"M0 0h24v24H0V0z\" fill=\"none\"/>\n",
              "    <path d=\"M18.56 5.44l.94 2.06.94-2.06 2.06-.94-2.06-.94-.94-2.06-.94 2.06-2.06.94zm-11 1L8.5 8.5l.94-2.06 2.06-.94-2.06-.94L8.5 2.5l-.94 2.06-2.06.94zm10 10l.94 2.06.94-2.06 2.06-.94-2.06-.94-.94-2.06-.94 2.06-2.06.94z\"/><path d=\"M17.41 7.96l-1.37-1.37c-.4-.4-.92-.59-1.43-.59-.52 0-1.04.2-1.43.59L10.3 9.45l-7.72 7.72c-.78.78-.78 2.05 0 2.83L4 21.41c.39.39.9.59 1.41.59.51 0 1.02-.2 1.41-.59l7.78-7.78 2.81-2.81c.8-.78.8-2.07 0-2.86zM5.41 20L4 18.59l7.72-7.72 1.47 1.35L5.41 20z\"/>\n",
              "  </svg>\n",
              "      </button>\n",
              "      \n",
              "  <style>\n",
              "    .colab-df-container {\n",
              "      display:flex;\n",
              "      flex-wrap:wrap;\n",
              "      gap: 12px;\n",
              "    }\n",
              "\n",
              "    .colab-df-convert {\n",
              "      background-color: #E8F0FE;\n",
              "      border: none;\n",
              "      border-radius: 50%;\n",
              "      cursor: pointer;\n",
              "      display: none;\n",
              "      fill: #1967D2;\n",
              "      height: 32px;\n",
              "      padding: 0 0 0 0;\n",
              "      width: 32px;\n",
              "    }\n",
              "\n",
              "    .colab-df-convert:hover {\n",
              "      background-color: #E2EBFA;\n",
              "      box-shadow: 0px 1px 2px rgba(60, 64, 67, 0.3), 0px 1px 3px 1px rgba(60, 64, 67, 0.15);\n",
              "      fill: #174EA6;\n",
              "    }\n",
              "\n",
              "    [theme=dark] .colab-df-convert {\n",
              "      background-color: #3B4455;\n",
              "      fill: #D2E3FC;\n",
              "    }\n",
              "\n",
              "    [theme=dark] .colab-df-convert:hover {\n",
              "      background-color: #434B5C;\n",
              "      box-shadow: 0px 1px 3px 1px rgba(0, 0, 0, 0.15);\n",
              "      filter: drop-shadow(0px 1px 2px rgba(0, 0, 0, 0.3));\n",
              "      fill: #FFFFFF;\n",
              "    }\n",
              "  </style>\n",
              "\n",
              "      <script>\n",
              "        const buttonEl =\n",
              "          document.querySelector('#df-8ffeb5d7-1038-4c40-8b6a-55291b85dd94 button.colab-df-convert');\n",
              "        buttonEl.style.display =\n",
              "          google.colab.kernel.accessAllowed ? 'block' : 'none';\n",
              "\n",
              "        async function convertToInteractive(key) {\n",
              "          const element = document.querySelector('#df-8ffeb5d7-1038-4c40-8b6a-55291b85dd94');\n",
              "          const dataTable =\n",
              "            await google.colab.kernel.invokeFunction('convertToInteractive',\n",
              "                                                     [key], {});\n",
              "          if (!dataTable) return;\n",
              "\n",
              "          const docLinkHtml = 'Like what you see? Visit the ' +\n",
              "            '<a target=\"_blank\" href=https://colab.research.google.com/notebooks/data_table.ipynb>data table notebook</a>'\n",
              "            + ' to learn more about interactive tables.';\n",
              "          element.innerHTML = '';\n",
              "          dataTable['output_type'] = 'display_data';\n",
              "          await google.colab.output.renderOutput(dataTable, element);\n",
              "          const docLink = document.createElement('div');\n",
              "          docLink.innerHTML = docLinkHtml;\n",
              "          element.appendChild(docLink);\n",
              "        }\n",
              "      </script>\n",
              "    </div>\n",
              "  </div>\n",
              "  "
            ]
          },
          "metadata": {},
          "execution_count": 60
        }
      ]
    },
    {
      "cell_type": "markdown",
      "metadata": {
        "id": "GcF5RyYRYb4y"
      },
      "source": [
        "**Please read the documentation of the associaton rules function in mlextend [here](http://rasbt.github.io/mlxtend/user_guide/frequent_patterns/association_rules/) and then complete the code so we get the 5 rules with the highest lift. Print those rules.  In the output antecedents represent if .... clause and consequents represent else... clause. For example if user bought product basket A then  the algorithm recommends product basket B. (0.25 points)**"
      ]
    },
    {
      "cell_type": "code",
      "metadata": {
        "id": "FLpV1FkKYb41",
        "colab": {
          "base_uri": "https://localhost:8080/"
        },
        "outputId": "34d1ff80-77ee-44cc-afce-0566e0b58083"
      },
      "source": [
        "rules = association_rules(frequent_itemsets, metric=\"lift\", min_threshold=1)\n",
        "top_5_rules = rules.sort_values(by=['lift'], ascending=False).head(5)\n",
        "print(top_5_rules[['antecedents', 'consequents', 'lift']])"
      ],
      "execution_count": 61,
      "outputs": [
        {
          "output_type": "stream",
          "name": "stdout",
          "text": [
            "                                               antecedents  \\\n",
            "1299092  (WOODEN FRAME ANTIQUE WHITE , WOOD S/3 CABINET...   \n",
            "2309563  (WOODEN FRAME ANTIQUE WHITE , GLASS STAR FROST...   \n",
            "2350995  (WOODEN FRAME ANTIQUE WHITE , GLASS STAR FROST...   \n",
            "2350994  (WOODEN FRAME ANTIQUE WHITE , GLASS STAR FROST...   \n",
            "2350990  (WOODEN FRAME ANTIQUE WHITE , GLASS STAR FROST...   \n",
            "\n",
            "                                               consequents       lift  \n",
            "1299092  (WOODEN PICTURE FRAME WHITE FINISH, RETRO COFF...  30.846154  \n",
            "2309563  (WOOD S/3 CABINET ANT WHITE FINISH, VINTAGE BI...  30.846154  \n",
            "2350995  (VINTAGE BILLBOARD LOVE/HATE MUG, WHITE METAL ...  30.846154  \n",
            "2350994  (VINTAGE BILLBOARD LOVE/HATE MUG, WHITE METAL ...  30.846154  \n",
            "2350990  (VINTAGE BILLBOARD LOVE/HATE MUG, WHITE METAL ...  30.846154  \n"
          ]
        }
      ]
    },
    {
      "cell_type": "markdown",
      "metadata": {
        "id": "kRqo0ek4Yb47"
      },
      "source": [
        "# 2. Collaborative filtering (3.5 points )"
      ]
    },
    {
      "cell_type": "markdown",
      "metadata": {
        "id": "_U1OvsCJYb48"
      },
      "source": [
        "We are going to use Books.csv dataset which contains  ratings from Amazon website and the data has the following features:\n",
        "\n",
        "UserID: The ID of the users who read the books\n",
        "\n",
        "BookTitle: The title of the book\n",
        "\n",
        "Book-Rating: A rating given to the book in a scale from 0 to 10\n",
        "\n",
        "Below we are going to perform the same steps we did with movies dataset in the practice session"
      ]
    },
    {
      "cell_type": "markdown",
      "metadata": {
        "id": "_-wOm7yLYb49"
      },
      "source": [
        "**2.0 Load the dataset and take a look at the books titles. Please pick one of them which you like (or think that you would like) the most.(0.1 points)**"
      ]
    },
    {
      "cell_type": "code",
      "metadata": {
        "id": "Z_2CgjU6Yb4-",
        "colab": {
          "base_uri": "https://localhost:8080/"
        },
        "outputId": "b4e79c0c-6147-4d02-c305-57bfd96ad3a9"
      },
      "source": [
        "import pandas as pd\n",
        "\n",
        "# Load the dataset\n",
        "books = pd.read_csv('Books.csv')\n",
        "print(books)\n",
        "\n",
        "# Display the book titles\n",
        "print(books['BookTitle'].unique())"
      ],
      "execution_count": 63,
      "outputs": [
        {
          "output_type": "stream",
          "name": "stdout",
          "text": [
            "      UserID  Book-Rating             BookTitle\n",
            "0       6181            0  Flesh Tones: A Novel\n",
            "1         62            5  Flesh Tones: A Novel\n",
            "2        163            0  Flesh Tones: A Novel\n",
            "3        212            5  Flesh Tones: A Novel\n",
            "4        250            9  Flesh Tones: A Novel\n",
            "...      ...          ...                   ...\n",
            "9995    3663            0           Wild Animus\n",
            "9996    3665            0           Wild Animus\n",
            "9997    3666            3           Wild Animus\n",
            "9998    3668            9           Wild Animus\n",
            "9999    3670            0           Wild Animus\n",
            "\n",
            "[10000 rows x 3 columns]\n",
            "['Flesh Tones: A Novel' 'Rites of Passage' 'The Notebook' 'Help!: Level 1'\n",
            " 'The Amsterdam Connection : Level 4 (Cambridge English Readers)'\n",
            " 'Les Particules Elementaires' 'A Painted House' 'Lightning'\n",
            " 'Manhattan Hunt Club' 'Dark Paradise' 'Night Sins' 'At the Edge'\n",
            " 'Make Them Cry' 'Little Altars Everywhere'\n",
            " 'How Stella Got Her Groove Back' 'The Law of Love' 'Waiting to Exhale'\n",
            " 'Birdsong: A Novel of Love and War' 'How to Deal With Difficult People'\n",
            " 'Change Your Job, Change Your Life: High Impact Strategies for Finding Great Jobs in the Decade Ahead (Change Your Job Change Your Life, 7th ed)'\n",
            " 'The Golden Rule of Schmoozing'\n",
            " 'Apricots on the Nile: A Memoir with Recipes'\n",
            " 'Reise nach Ixtlan. Die Lehre des Don Juan.'\n",
            " 'The Girl Who Loved Tom Gordon : A Novel' 'The Pillars of the Earth'\n",
            " 'Southampton Row (Charlotte &amp' 'CLOUT' 'See Jane Run' 'The Dark Half'\n",
            " 'House of the Sun (Shadowrun)' 'God Game' 'Vater Himmel, Mutter Erde.'\n",
            " 'Besiegt vom Sturm der Leidenschaft.' 'Sturm der Liebe.'\n",
            " 'Ich, Prinzessin aus dem Hause Al Saud. Ein Leben hinter tausend Schleiern.'\n",
            " 'Der Bronzeh�?¤ndler.' 'Die zweite Haut.' 'Der Spion und die Zauberin.'\n",
            " 'Prinz der Kelche.'\n",
            " 'Live aus Bagdad. Das Tagebuch einer Kriegs-Reporterin.'\n",
            " 'Durch Teebaum�?¶l gesund und sch�?¶n.' 'Briefe der Liebe.'\n",
            " 'Saving Private Ryan' 'Pay Dirt (Mrs. Murphy Mysteries (Paperback))'\n",
            " 'Waiting for Godot' 'Adressat unbekannt.' 'Henry der Held.' 'East, West'\n",
            " 'Im Schatten der Lilie. Die Erinnerungen der Eleonore von Aquitanien.'\n",
            " 'Die Teufelin. Roman.' 'Endlich Nichtraucher.'\n",
            " 'Ein Liebhaber zuviel ist noch zu wenig.'\n",
            " 'Escarabajos Vuelan Al Atardecer, Los' 'Vieja Nueva York'\n",
            " 'Invitacion a la Etica' 'Anna Karenina' 'Cuentos Inconclusos'\n",
            " 'Isabelle Eberhardt' 'El Elogio de La Sombra'\n",
            " 'Blackwood Farm (Rice, Anne, Vampire Chronicles.)'\n",
            " 'Harry Potter and the Order of the Phoenix (Book 5)' 'False Memory'\n",
            " \"Bridget Jones's Diary\" 'My \\\\\"Star Trek\\\\\" Memories'\n",
            " 'Der Englishche Patient'\n",
            " 'Ein Fall f�?¼r Kay Scarpetta / Ein Mord f�?¼r Kay Scarpetta. Zwei Romane in einem Band.'\n",
            " 'Der Geschichtenverk�?¤ufer.'\n",
            " 'Die Scheibenwelt. Zwei Romane in einem Band. Das Licht der Phantasie / Das Erbe des Zauberers.'\n",
            " \"Tom Clancy's Op- Center. Spiegelbild.\" 'Rabbit in Ruhe.'\n",
            " 'Hasenherz. Roman.' 'Artemis Fowl.' 'Nomadentochter.'\n",
            " 'Moby Dick. ( Ab 12 J.).' 'The X-Files: Goblins'\n",
            " 'Whirlwind (The X-Files)' 'The X-Files: Ground Zero'\n",
            " 'Blooded (Buffy the Vampire Slayer, Book 5)' 'Speaking in Tongues'\n",
            " 'Storm Surge: A Quin St. James and Mike McCleary Mystery'\n",
            " 'Walk Two Moons' 'Bloomability' 'A Wrinkle In Time'\n",
            " 'Richard Brautigan : A Confederate General from Big Sur, Dreaming of Babylon, and the Hawkline Monster (Three Books in the Manner of Their Original ed)'\n",
            " 'The Watsons Go to Birmingham - 1963 (Yearling Newbery)' 'Por los pelos'\n",
            " '007 El Mundo Nunca Es Suficiente'\n",
            " 'Cinco Semanas En Globo (Espasa Bolsillo)' 'La hija del Caníbal'\n",
            " 'Los Calusari/the Calusari (Coleccion \\\\\"Expediente X\\\\\"/the X Files Series)'\n",
            " 'El Diaro De Bridget Jones' 'Bridget Jones:Sobreviviré'\n",
            " 'La Fiesta De Ralph' 'Nadie Es Perfecto (Narrativa Actual)' 'Katie.com'\n",
            " 'The Circle And The Cross 1: Playing Of' 'Uther (Camulod Chronicles)'\n",
            " 'PERFUME : PERFUME' 'The Rebel Angels' 'The Boy Next Door'\n",
            " 'Skin and Other Stories (Now in Speak!)' 'Growing Wings'\n",
            " 'The Riddle of Scheherazade: And Other Amazing Puzzles'\n",
            " 'Hoot (Newbery Honor Book)'\n",
            " \"A Kid's Guide to How to Save the Planet (Camelot world)\"\n",
            " 'The Last Book in the Universe' 'The Contest' 'A String in the Harp'\n",
            " 'The Sandy Bottom Orchestra' 'Artemis Fowl (Artemis Fowl, Book 1)'\n",
            " 'The Number Devil: A Mathematical Adventure' 'Surviving Sam'\n",
            " 'Random Acts of Kindness'\n",
            " 'Round about Midnight: A Portrait of Miles Davis' 'Ubu Roi*'\n",
            " 'Des bateaux dans la nuit' \"Contes De Ma Mere L'Oye\"\n",
            " 'Les Confessions: Livres I �?\\xa0 IV' 'Jean-Edern Hallier'\n",
            " \"Les derniers po�?¨mes d'amour\" \"Le Parfum : Histoire d'un meurtrier\"\n",
            " 'Stupeur Et Tremblements' \"L'Orage\" 'Maudit Manege'\n",
            " 'Le chateau des carpathes' 'La petite �?©cuy�?¨re a caft�?©'\n",
            " 'Move to Strike' 'The Last Time They Met : A Novel'\n",
            " \"Back When We Were Grownups : A Novel (Ballantine Reader's Circle)\"\n",
            " 'Field of Dishonor (Honor Harrington Series, Book 4)'\n",
            " 'Of Mice and Men. Text and Study Aids. (Lernmaterialien)'\n",
            " 'Go Ask Alice (Avon/Flare Book)' 'The Picture of Dorian Gray'\n",
            " 'The Second Summer of the Sisterhood'\n",
            " 'Along Came a Spider (Alex Cross Novels)' 'Schlafes Bruder'\n",
            " 'Der Stein der Kelten.' 'Nordermoor' 'Nur der Tod ist ohne Makel.'\n",
            " 'Der Kleine Hobbit'\n",
            " 'Die Benachteiligung erfolgt durch die Post. Stilbl�?¼ten aus Inseraten und Pressenotizen.'\n",
            " 'Lieber Sport als Mord.' 'Gratsch.' 'Das geheime ABC der Toten.'\n",
            " 'Hitlers Kinder.' 'Auf Ehre und Gewissen. Roman.'\n",
            " 'Keiner werfe den ersten Stein. Roman.' 'Denn keiner ist ohne Schuld.'\n",
            " 'Asche zu Asche.' 'Im Angesicht des Feindes.'\n",
            " 'Reif f�?¼r die Insel. England f�?¼r Anf�?¤nger und Fortgeschrittene.'\n",
            " 'Denn sie betr�?¼gt man nicht.' 'Mit dem K�?¼hlschrank durch Irland.'\n",
            " 'Die Hirnk�?¶nigin.' 'Undank ist der V�?¤ter Lohn.'\n",
            " 'Der Goldene Kompass / The Golden Compass' 'Auf d�?¼nnem Eis.'\n",
            " 'Die Welle' 'Der Unterh�?¤ndler.'\n",
            " 'Inspektor Jury k�?¼�?�?t die Muse. Roman.' 'Im Keller.'\n",
            " 'Alte Freunde, neue Feinde. Ein Fall f�?¼r Bernhard Gunther.'\n",
            " 'Der Tag X.' 'Tod im wei�?�?en H�?¤ubchen.'\n",
            " 'Inspektor Jury bricht das Eis. Roman.' 'Goldmann: Feuer in Berlin'\n",
            " 'Le Petit Prince. (Franz�?¶sische Ausgabe). (Lernmaterialien)' 'Rand.'\n",
            " 'Harry Potter und der Stein der Weisen'\n",
            " 'Harry Potter und die Kammer des Schreckens'\n",
            " 'Harry Potter und der Gefangene von Azkaban'\n",
            " 'Harry Potter Und Der Feuerkelch' 'Saemtliche Erzaehlungen'\n",
            " 'Der Herr der Ringe. Anh�?¤nge und Register.' 'Die Gefahrten I'\n",
            " 'Die Zwei Turme II' 'Die Wiederkehr Des Konigs III'\n",
            " 'Der Sterne Tennisb�?¤lle.' 'Ungarn.' 'Die Chirurgin.'\n",
            " 'Das bizarre Sexualleben der Tiere. Ein popul�?¤res Lexikon von Aal bis Zebra.'\n",
            " 'Die siebte Gei�?�?el.' 'Gevatter Tod. Roman. ( Fantasy).'\n",
            " 'Die Jury. Roman.' 'Die Firma. Roman.' 'Der Regenmacher.' 'Kaltgestellt.'\n",
            " 'Das Superwieb' 'Ich liebe Dich!: Ein Eisenbahnroman mit 66 Intermezzos'\n",
            " 'Alaska' 'O Pioneers! (Bantam Classic)'\n",
            " 'Los Trapos Sucios - Manolito Gafotas'\n",
            " 'Mycroft Holmes Contra La Hermandad' 'Soul Survivor'\n",
            " 'Alone with the Dead (Joe Keough Mysteries (Paperback))'\n",
            " 'La Citadelle Du Vertige' 'Les Six Compagnons �?\\xa0 Scotland Yard'\n",
            " 'Mon bel oranger' \"L'Appel de la for�?ªt\" 'Un Bon Petit Diable'\n",
            " 'Les derniers g�?©ants' \"Iznogoud, tome 2 : Les complots d'Iznogoud\"\n",
            " 'Le Grand Meaulnes (Classiques De Poche)'\n",
            " \"Percevan, tome 1 : Les Trois Etoiles d'Ingaar\"\n",
            " \"Les Tuniques bleues, tome 1 : un chariot dans l'ouest\"\n",
            " \"BD Pirate : Cupidon, tome 2 : Philtre d'amour\"\n",
            " 'BD Pirate : Cupidon, tome 3 : Baiser de feu'\n",
            " 'L�?©onard, tome 1 : L�?©onard est un g�?©nie'\n",
            " \"What's That Pig Outdoors: A Memoir of Deafness\"\n",
            " 'The Power to Harm: Mind, Medicine, and Murder on Trial'\n",
            " 'The Wonderful Story of Henry Sugar and Six More'\n",
            " 'Tales of the Greek Heroes: Retold from the Ancient Authors (Puffin Classics)'\n",
            " 'Kim (Puffin Classics-the Essential Collection)'\n",
            " 'How to Deal With Your Parents: When They Still Treat You Like a Child'\n",
            " 'French Cuisine for All'\n",
            " 'Journey Through Nature (Journey Through Series)'\n",
            " \"Going Inside: A Couple's Journey of Renewal into the North\"\n",
            " \"The Complete Idiot's Guide to the Microsoft Network\"\n",
            " 'Attack Of The Deranged Mutant Killer Snow Goons' 'Calvin and Hobbes'\n",
            " \"The Best of Bombeck: At Wit's End, Just Wait Until You Have Children of Your Own, I Lost Everything in the Post-Natal Depression\"\n",
            " 'Dear Children of the Earth: A Letter from Home'\n",
            " 'The Complete Idiots Guide to Getting the Job You Want (W/2 Discs)'\n",
            " 'Deux Grands Ducs Dans La Famille (Collection Des Deux Solitudes: Jeunesse)'\n",
            " 'Die H�?¤upter meiner Lieben.' 'Die rote Antilope.'\n",
            " 'Die Weiss Lowin / Contemporary German Lit'\n",
            " 'Der Unsichtbare. ( Ab 13 J.).' 'Die M�?¤dchen mit den dunklen Augen.'\n",
            " 'Die Kunst des Verschwindens.'\n",
            " 'Was Mir Wichtig War: Letzte Aufzeichnungen Und Gesprache'\n",
            " 'A Kiss of Shadows (Meredith Gentry Novels (Paperback))'\n",
            " 'Battle Angel Alita - Fallen Angel (Battle Angel Alita , No.8)'\n",
            " 'Ice Blade: Snow Country (Ice Blade)' 'Verraten und verkauft. Roman.'\n",
            " 'Die Krone der Welt.' 'Nachtschicht.'\n",
            " 'Das Lacheln der Fortuna: Historischer Roman' 'Die Dinge des Lebens.'\n",
            " 'C�?¤sar und Kleopatra. Die letzten Tage der R�?¶mischen Republik.'\n",
            " 'Auf der Suche nach dem verlorenen Gl�?¼ck.'\n",
            " 'Im Fr�?¼hling singt zum letztenmal die Lerche.'\n",
            " 'Die Tochter der W�?¤lder.' 'Im Eishaus.'\n",
            " 'Die St�?¶renfrieds. Geschichten von Leo und Paulina.'\n",
            " 'Die Zauberin von Ruwenda.' 'Das Haus auf den Klippen.'\n",
            " 'Das Schwarze Auge. Aus dunkler Tiefe.' 'Im Netz der Spinnen. Videokill.'\n",
            " 'Die Wolfsfrau. Die Kraft der weiblichen Urinstinkte.' 'Die Zauberfrau.'\n",
            " 'Beim Naechsten Mann Wird Alles (Frau in Der Gesellschaft)'\n",
            " 'Ein Mann f�?¼r jede Tonart. Roman. ( Die Frau in der Gesellschaft).'\n",
            " '4000 Vornamen aus aller Welt. Von Alexander bis Zoe.' \"Childhood's End\"\n",
            " 'One' 'Toxin' 'Whispers' 'Shadowland' 'Estação Carandiru'\n",
            " 'Desert Flower : The Extraordinary Journey Of A Desert Nomad'\n",
            " 'Canone inverso: Romanzo (Scrittori italiani)' \"Un Giorno Dopo L'altro\"\n",
            " 'Garzanti - Gli Elefanti: Altre Inquisizioni'\n",
            " 'Piccoli Equivoci Senza Importanza: Piccoli Equivoci Senza Importanza'\n",
            " 'Oceano Mare' 'La Testa Fra Le Nuvole' 'Codice: Racconto (Varianti)'\n",
            " 'Il birraio di Preston (La memoria)' 'Crows' 'The Name of the Rose'\n",
            " 'Harold and the Purple Crayon 50th Anniversary Edition (Purple Crayon Books)'\n",
            " 'How To Win Friends And Influence People'\n",
            " \"Ender's Game (Ender Wiggins Saga (Paperback))\"\n",
            " \"Un Amore Dell'altro Mondo\" 'Siddharta Romanzo Versione Di M Mila'\n",
            " 'The Jester' 'Flight of Eagles' 'The King of Torts'\n",
            " 'Girl Coming in for a Landing'\n",
            " 'Forbidden Forest: The Story of Little John and Robin Hood'\n",
            " 'Demon in My View (Laurel-Leaf Books)' 'The MouseDriver Chronicles'\n",
            " 'Moon Handbooks: Hawaii' 'The Holiday Present' 'Benedict Canyon'\n",
            " 'Roan (Blake, Jennifer, Louisiana Gentlemen Series.)' 'Buzon De Tiempo'\n",
            " 'El Principito'\n",
            " 'El Perfume: Historia De UN Asesino/Perfume : The Story of a Murderer'\n",
            " 'One Thousand Chestnut Trees' 'Close to the Knives' 'Close to the Bone'\n",
            " 'The Tower at Stony Wood'\n",
            " 'Politically Correct Bedtime Stories: Modern Tales for Our Life and Times'\n",
            " 'Sushi for Beginners : A Novel (Keyes, Marian)'\n",
            " 'Wasted : A Memoir of Anorexia and Bulimia' 'La casa de los espíritus'\n",
            " 'The Music of Chance' 'Matilda' 'The Coral Island (Puffin Classics)'\n",
            " \"One Flew over the Cuckoo's Nest (Penguin Classics)\" 'Q'\n",
            " \"The Strange Case of Dr. Jekyll and Mr. Hyde and Weir of Hermiston: And, Weir of Hermiston (Oxford World's Classics)\"\n",
            " 'The Year of Sharing (Oxford Bookworms)'\n",
            " 'Advanced Photography, Sixth Edition' 'The Lovely Bones: A Novel'\n",
            " \"The Restaurant at the End of the Universe (Hitchhiker's Trilogy (Paperback))\"\n",
            " \"Love in the Time of Cholera (Everyman's Library (Cloth))\"\n",
            " 'The Da Vinci Code'\n",
            " 'Harry Potter Schoolbooks: Quidditch Through the Ages and Fantastic Beasts and Where to Find Them'\n",
            " \"Harry Potter and the Sorcerer's Stone Movie Poster Book\" 'High Stakes'\n",
            " \"Alice's Adventures in Wonderland and Through the Looking Glass\"\n",
            " 'Frankenstein (Dover Thrift Editions)'\n",
            " 'Jane Eyre (Dover Thrift Editions)' 'Love Story'\n",
            " 'Great British Ghosts (Longman Structural Readers: Background)'\n",
            " '¡No bajes al sótano! (Escalofríos No. 2)' 'Moby Dick (Coleccion)'\n",
            " 'Quidditch Through the Ages'\n",
            " \"Bridget Jones's Diary: Music from the Motion Picture\"\n",
            " 'Dark Angel (Casteel)' 'Gates of Paradise (Casteel)'\n",
            " 'Overnight (Fear Street) : Overnight (Fear Street Series)'\n",
            " 'Black Box (Vintage International)'\n",
            " 'In Cold Blood (Vintage International)' 'Murder at the Margin'\n",
            " 'Harry Potter and the Prisoner of Azkaban' \"Big Girls Don't Cry\"\n",
            " 'The Keys to the Street' 'The Joy Luck Club'\n",
            " \"King Solomon's Mines (Tor Classics)\" \"Comp Murphy's Law\"\n",
            " 'Wilt: Tom Sharpe' 'Wild Animus']\n"
          ]
        }
      ]
    },
    {
      "cell_type": "markdown",
      "metadata": {
        "id": "Q_f2ywpLYb5J"
      },
      "source": [
        "**2.1 Our next step will be to perform user based collaborative filtering using KNN algorithm. As KNN algorithm does not accept strings, use a Label Encoder for BookTitle column.After that reshape the books matrix using pivot so every column will be a UserID and every row a BookTitle. (0.45 points)**"
      ]
    },
    {
      "cell_type": "code",
      "metadata": {
        "id": "-Gs_CAGKYb5K"
      },
      "source": [
        "from sklearn.neighbors import NearestNeighbors\n",
        "from sklearn.preprocessing import LabelEncoder\n",
        "import numpy as np\n",
        "\n",
        "# Label encode the BookTitle column\n",
        "le = LabelEncoder()\n",
        "books[\"BookTitleEncoded\"] = le.fit_transform(books[\"BookTitle\"])\n",
        "\n",
        "# Pivot the dataframe\n",
        "book_matrix = books.pivot_table(index=\"BookTitle\", columns=\"UserID\", values=\"Book-Rating\", aggfunc=max).fillna(0)\n",
        "\n",
        "# Fit the NearestNeighbors model\n",
        "model_knn = NearestNeighbors(metric='cosine', algorithm='brute')\n",
        "model_knn.fit(book_matrix)\n",
        "\n",
        "# Find the k nearest neighbors for a given book\n",
        "query_index = np.random.choice(book_matrix.shape[0])\n",
        "distances, indices = model_knn.kneighbors(book_matrix.iloc[query_index, :].values.reshape(1, -1), n_neighbors=6)"
      ],
      "execution_count": 64,
      "outputs": []
    },
    {
      "cell_type": "markdown",
      "metadata": {
        "id": "4RwLx90KYb5R"
      },
      "source": [
        "**2.2 Build a sparse matrix for books data and show it. (0.45 points)**"
      ]
    },
    {
      "cell_type": "code",
      "metadata": {
        "id": "uwVtesasYb5U",
        "colab": {
          "base_uri": "https://localhost:8080/"
        },
        "outputId": "259c70e4-9a1b-4345-bf08-c755971b176c"
      },
      "source": [
        "from scipy.sparse import csr_matrix\n",
        "\n",
        "# Create a sparse matrix for the books data\n",
        "book_sparse_matrix = csr_matrix(book_matrix.values)\n",
        "\n",
        "# Show the sparse matrix\n",
        "print(book_sparse_matrix)"
      ],
      "execution_count": 65,
      "outputs": [
        {
          "output_type": "stream",
          "name": "stdout",
          "text": [
            "  (1, 6228)\t5.0\n",
            "  (2, 365)\t7.0\n",
            "  (2, 5110)\t9.0\n",
            "  (2, 5226)\t10.0\n",
            "  (2, 6209)\t10.0\n",
            "  (3, 91)\t7.0\n",
            "  (3, 135)\t8.0\n",
            "  (3, 139)\t10.0\n",
            "  (3, 258)\t9.0\n",
            "  (3, 429)\t6.0\n",
            "  (3, 760)\t5.0\n",
            "  (3, 821)\t6.0\n",
            "  (3, 869)\t9.0\n",
            "  (3, 984)\t10.0\n",
            "  (3, 1328)\t5.0\n",
            "  (3, 1425)\t10.0\n",
            "  (3, 1781)\t2.0\n",
            "  (3, 1815)\t9.0\n",
            "  (3, 1820)\t9.0\n",
            "  (3, 1951)\t8.0\n",
            "  (3, 2360)\t8.0\n",
            "  (3, 2384)\t8.0\n",
            "  (3, 2449)\t9.0\n",
            "  (3, 2468)\t7.0\n",
            "  (3, 2956)\t5.0\n",
            "  :\t:\n",
            "  (333, 3411)\t4.0\n",
            "  (333, 3416)\t1.0\n",
            "  (333, 3433)\t8.0\n",
            "  (333, 3445)\t5.0\n",
            "  (333, 3450)\t2.0\n",
            "  (333, 3456)\t4.0\n",
            "  (333, 3461)\t8.0\n",
            "  (333, 3491)\t2.0\n",
            "  (333, 3497)\t1.0\n",
            "  (333, 3501)\t4.0\n",
            "  (333, 3518)\t8.0\n",
            "  (333, 3519)\t3.0\n",
            "  (333, 3527)\t7.0\n",
            "  (333, 3543)\t7.0\n",
            "  (333, 3546)\t9.0\n",
            "  (333, 3547)\t7.0\n",
            "  (333, 3573)\t5.0\n",
            "  (333, 3575)\t1.0\n",
            "  (333, 3581)\t7.0\n",
            "  (333, 3597)\t3.0\n",
            "  (333, 3602)\t6.0\n",
            "  (333, 3666)\t3.0\n",
            "  (333, 3668)\t9.0\n",
            "  (333, 6250)\t2.0\n",
            "  (333, 6277)\t9.0\n"
          ]
        }
      ]
    },
    {
      "cell_type": "markdown",
      "metadata": {
        "id": "PrKKbiRJYb5g"
      },
      "source": [
        "**2.3 Build and train two different KNN models (use cosine metric for similarity for both) but with different n_neighbours, that is 2 and 10. Recommend top 5 books based on your favourite one from 2.0 in both cases (1 points)**"
      ]
    },
    {
      "cell_type": "code",
      "metadata": {
        "id": "bHN1hcjOYb5h",
        "colab": {
          "base_uri": "https://localhost:8080/"
        },
        "outputId": "34d463e2-89f4-407c-8f5e-7be7b0d78467"
      },
      "source": [
        "# Fit the NearestNeighbors model with 2 neighbors\n",
        "model_knn_2 = NearestNeighbors(metric='cosine', algorithm='brute', n_neighbors=2)\n",
        "model_knn_2.fit(book_sparse_matrix)\n",
        "\n",
        "# Fit the NearestNeighbors model with 10 neighbors\n",
        "model_knn_10 = NearestNeighbors(metric='cosine', algorithm='brute', n_neighbors=10)\n",
        "model_knn_10.fit(book_sparse_matrix)\n",
        "\n",
        "# Find the index of \"Flesh Tones: A Novel\"\n",
        "book_title = \"Flesh Tones: A Novel\"\n",
        "book_index = np.where(book_matrix.index == book_title)[0][0]\n",
        "\n",
        "# Use model_knn_2 to find the 2 nearest neighbors\n",
        "distances_2, indices_2 = model_knn_2.kneighbors(book_sparse_matrix[book_index], n_neighbors=3)\n",
        "indices_2 = indices_2.flatten()\n",
        "\n",
        "# Use model_knn_10 to find the 10 nearest neighbors\n",
        "distances_10, indices_10 = model_knn_10.kneighbors(book_sparse_matrix[book_index], n_neighbors=11)\n",
        "indices_10 = indices_10.flatten()\n",
        "\n",
        "# Get the titles of the recommended books\n",
        "recommended_books_2 = le.inverse_transform(indices_2)\n",
        "recommended_books_10 = le.inverse_transform(indices_10)\n",
        "\n",
        "# Print the recommended books\n",
        "print(\"Top 5 recommended books using model_knn_2:\")\n",
        "for i in range(1, len(recommended_books_2)):\n",
        "    print(f\"{i}. {recommended_books_2[i]}\")\n",
        "\n",
        "print(\"\\nTop 5 recommended books using model_knn_10:\")\n",
        "for i in range(1, len(recommended_books_10)):\n",
        "    print(f\"{i}. {recommended_books_10[i]}\")"
      ],
      "execution_count": 66,
      "outputs": [
        {
          "output_type": "stream",
          "name": "stdout",
          "text": [
            "Top 5 recommended books using model_knn_2:\n",
            "1. At the Edge\n",
            "2. Southampton Row (Charlotte &amp\n",
            "\n",
            "Top 5 recommended books using model_knn_10:\n",
            "1. At the Edge\n",
            "2. Southampton Row (Charlotte &amp\n",
            "3. Ender's Game (Ender Wiggins Saga (Paperback))\n",
            "4. In Cold Blood (Vintage International)\n",
            "5. Wild Animus\n",
            "6. Harry Potter and the Order of the Phoenix (Book 5)\n",
            "7. The Lovely Bones: A Novel\n",
            "8. The Last Time They Met : A Novel\n",
            "9. A Painted House\n",
            "10. The Da Vinci Code\n"
          ]
        }
      ]
    },
    {
      "cell_type": "markdown",
      "metadata": {
        "id": "WCJz_Do9Yb5q"
      },
      "source": [
        "**2.4 Discuss the results you received in both cases. Would you like to read some of the recommended books? Out of 2 or 10 neighbors, which one worked better? (There is no right or wrong answer in this question) (0.25 points)**"
      ]
    },
    {
      "cell_type": "markdown",
      "metadata": {
        "id": "2CdPc75QYb5r"
      },
      "source": [
        "<font color='red'> **Answer:**</font> Considering top 2 might not be something I'd love to read, having more options is always better.\n"
      ]
    },
    {
      "cell_type": "markdown",
      "metadata": {
        "id": "G6T3K3VFYb5s"
      },
      "source": [
        "**2.5 Add a new user (with user “UserID” = 6293) in your data. Using the two trained models in task 2.3 suggest which books should this user read if his ratings are:**\n",
        "\n",
        "French Cuisine for All: 4\n",
        "\n",
        "\n",
        "Harry Potter and the Sorcerer's Stone Movie Poster Book: 5\n",
        "\n",
        "\n",
        "El Perfume: Historia De UN Asesino/Perfume : The Story of a Murderer: 1\n",
        "\n",
        "**(1. 25 points)**\n",
        "\n"
      ]
    },
    {
      "cell_type": "code",
      "metadata": {
        "id": "o-EJOEy1Yb5t",
        "colab": {
          "base_uri": "https://localhost:8080/",
          "height": 389
        },
        "outputId": "9d72b0f2-993e-4e8e-b272-375e1b92934c"
      },
      "source": [
        "new_user_ratings = {'French Cuisine for All': 4, \n",
        "                    \"Harry Potter and the Sorcerer's Stone Movie Poster Book\": 5,\n",
        "                    'El Perfume: Historia De UN Asesino/Perfume : The Story of a Murderer': 1}\n",
        "\n",
        "# Add the new user's ratings to the books dataframe\n",
        "for book_title, rating in new_user_ratings.items():\n",
        "    new_row = pd.DataFrame({'UserID': 6293, 'BookTitle': book_title, 'Book-Rating': rating}, index=[books.index[-1]+1])\n",
        "    books = pd.concat([books, new_row])\n",
        "\n",
        "# Create the book_matrix\n",
        "book_matrix = books.pivot_table(index=\"BookTitle\", columns=\"UserID\", values=\"Book-Rating\", aggfunc=max).fillna(0)\n",
        "\n",
        "# Create the book_sparse_matrix\n",
        "book_sparse_matrix = csr_matrix(book_matrix.values)\n",
        "\n",
        "# Find the index of the new user in the sparse matrix\n",
        "new_user_index = book_matrix.columns.get_loc(6293)\n",
        "\n",
        "# Get the k nearest neighbors for the new user using model_knn_2\n",
        "distances_2, indices_2 = model_knn_2.kneighbors(book_sparse_matrix[6293], n_neighbors=3)\n",
        "\n",
        "# Get the titles of the recommended books\n",
        "recommended_books_2 = []\n",
        "for i in indices_2.flatten():\n",
        "    recommended_books_2.append(book_matrix.index[i])\n",
        "\n",
        "# Get the k nearest neighbors for the new user using model_knn_10\n",
        "distances_10, indices_10 = model_knn_10.kneighbors(book_sparse_matrix[new_user_index], n_neighbors=3)\n",
        "\n",
        "# Get the titles of the recommended books\n",
        "recommended_books_10 = []\n",
        "for i in indices_10.flatten():\n",
        "    recommended_books_10.append(book_matrix.index[i])\n",
        "\n",
        "print(\"Recommended books using model_knn_2:\", recommended_books_2)\n",
        "print(\"Recommended books using model_knn_10:\", recommended_books_10)\n",
        "\n",
        "print(\"COULDN'T FINISH SINCE COULDN'T FIX THIS ISSUE! :'(\")"
      ],
      "execution_count": 115,
      "outputs": [
        {
          "output_type": "error",
          "ename": "IndexError",
          "evalue": "ignored",
          "traceback": [
            "\u001b[0;31m---------------------------------------------------------------------------\u001b[0m",
            "\u001b[0;31mIndexError\u001b[0m                                Traceback (most recent call last)",
            "\u001b[0;32m<ipython-input-115-b9aa5b31d764>\u001b[0m in \u001b[0;36m<cell line: 20>\u001b[0;34m()\u001b[0m\n\u001b[1;32m     18\u001b[0m \u001b[0;34m\u001b[0m\u001b[0m\n\u001b[1;32m     19\u001b[0m \u001b[0;31m# Get the k nearest neighbors for the new user using model_knn_2\u001b[0m\u001b[0;34m\u001b[0m\u001b[0;34m\u001b[0m\u001b[0m\n\u001b[0;32m---> 20\u001b[0;31m \u001b[0mdistances_2\u001b[0m\u001b[0;34m,\u001b[0m \u001b[0mindices_2\u001b[0m \u001b[0;34m=\u001b[0m \u001b[0mmodel_knn_2\u001b[0m\u001b[0;34m.\u001b[0m\u001b[0mkneighbors\u001b[0m\u001b[0;34m(\u001b[0m\u001b[0mbook_sparse_matrix\u001b[0m\u001b[0;34m[\u001b[0m\u001b[0;36m6293\u001b[0m\u001b[0;34m]\u001b[0m\u001b[0;34m,\u001b[0m \u001b[0mn_neighbors\u001b[0m\u001b[0;34m=\u001b[0m\u001b[0;36m3\u001b[0m\u001b[0;34m)\u001b[0m\u001b[0;34m\u001b[0m\u001b[0;34m\u001b[0m\u001b[0m\n\u001b[0m\u001b[1;32m     21\u001b[0m \u001b[0;34m\u001b[0m\u001b[0m\n\u001b[1;32m     22\u001b[0m \u001b[0;31m# Get the titles of the recommended books\u001b[0m\u001b[0;34m\u001b[0m\u001b[0;34m\u001b[0m\u001b[0m\n",
            "\u001b[0;32m/usr/local/lib/python3.9/dist-packages/scipy/sparse/_index.py\u001b[0m in \u001b[0;36m__getitem__\u001b[0;34m(self, key)\u001b[0m\n\u001b[1;32m     45\u001b[0m \u001b[0;34m\u001b[0m\u001b[0m\n\u001b[1;32m     46\u001b[0m     \u001b[0;32mdef\u001b[0m \u001b[0m__getitem__\u001b[0m\u001b[0;34m(\u001b[0m\u001b[0mself\u001b[0m\u001b[0;34m,\u001b[0m \u001b[0mkey\u001b[0m\u001b[0;34m)\u001b[0m\u001b[0;34m:\u001b[0m\u001b[0;34m\u001b[0m\u001b[0;34m\u001b[0m\u001b[0m\n\u001b[0;32m---> 47\u001b[0;31m         \u001b[0mrow\u001b[0m\u001b[0;34m,\u001b[0m \u001b[0mcol\u001b[0m \u001b[0;34m=\u001b[0m \u001b[0mself\u001b[0m\u001b[0;34m.\u001b[0m\u001b[0m_validate_indices\u001b[0m\u001b[0;34m(\u001b[0m\u001b[0mkey\u001b[0m\u001b[0;34m)\u001b[0m\u001b[0;34m\u001b[0m\u001b[0;34m\u001b[0m\u001b[0m\n\u001b[0m\u001b[1;32m     48\u001b[0m \u001b[0;34m\u001b[0m\u001b[0m\n\u001b[1;32m     49\u001b[0m         \u001b[0;31m# Dispatch to specialized methods.\u001b[0m\u001b[0;34m\u001b[0m\u001b[0;34m\u001b[0m\u001b[0m\n",
            "\u001b[0;32m/usr/local/lib/python3.9/dist-packages/scipy/sparse/_index.py\u001b[0m in \u001b[0;36m_validate_indices\u001b[0;34m(self, key)\u001b[0m\n\u001b[1;32m    153\u001b[0m             \u001b[0mrow\u001b[0m \u001b[0;34m=\u001b[0m \u001b[0mint\u001b[0m\u001b[0;34m(\u001b[0m\u001b[0mrow\u001b[0m\u001b[0;34m)\u001b[0m\u001b[0;34m\u001b[0m\u001b[0;34m\u001b[0m\u001b[0m\n\u001b[1;32m    154\u001b[0m             \u001b[0;32mif\u001b[0m \u001b[0mrow\u001b[0m \u001b[0;34m<\u001b[0m \u001b[0;34m-\u001b[0m\u001b[0mM\u001b[0m \u001b[0;32mor\u001b[0m \u001b[0mrow\u001b[0m \u001b[0;34m>=\u001b[0m \u001b[0mM\u001b[0m\u001b[0;34m:\u001b[0m\u001b[0;34m\u001b[0m\u001b[0;34m\u001b[0m\u001b[0m\n\u001b[0;32m--> 155\u001b[0;31m                 \u001b[0;32mraise\u001b[0m \u001b[0mIndexError\u001b[0m\u001b[0;34m(\u001b[0m\u001b[0;34m'row index (%d) out of range'\u001b[0m \u001b[0;34m%\u001b[0m \u001b[0mrow\u001b[0m\u001b[0;34m)\u001b[0m\u001b[0;34m\u001b[0m\u001b[0;34m\u001b[0m\u001b[0m\n\u001b[0m\u001b[1;32m    156\u001b[0m             \u001b[0;32mif\u001b[0m \u001b[0mrow\u001b[0m \u001b[0;34m<\u001b[0m \u001b[0;36m0\u001b[0m\u001b[0;34m:\u001b[0m\u001b[0;34m\u001b[0m\u001b[0;34m\u001b[0m\u001b[0m\n\u001b[1;32m    157\u001b[0m                 \u001b[0mrow\u001b[0m \u001b[0;34m+=\u001b[0m \u001b[0mM\u001b[0m\u001b[0;34m\u001b[0m\u001b[0;34m\u001b[0m\u001b[0m\n",
            "\u001b[0;31mIndexError\u001b[0m: row index (6293) out of range"
          ]
        }
      ]
    },
    {
      "cell_type": "markdown",
      "metadata": {
        "id": "VMyW4UlbYb5x"
      },
      "source": [
        "# 3. Recommender systems evaluation (1.5 points)"
      ]
    },
    {
      "cell_type": "markdown",
      "metadata": {
        "id": "EINSDAbXYb5y"
      },
      "source": [
        "We are going to compare different methods of recommender systems by their RMSE score. One useful package that has several recommender algorithms for Python is [Surprise](https://surprise.readthedocs.io/en/stable/getting_started.html). Below we have split the books dataset into training and test and used the KNNBasic algorithm to predict the ratings for the test set using surprise. "
      ]
    },
    {
      "cell_type": "code",
      "source": [
        "!pip install scikit-surprise"
      ],
      "metadata": {
        "id": "LVLTZpmRwQv5",
        "colab": {
          "base_uri": "https://localhost:8080/"
        },
        "outputId": "5437c743-020f-496a-eed4-695673e093c7"
      },
      "execution_count": 87,
      "outputs": [
        {
          "output_type": "stream",
          "name": "stdout",
          "text": [
            "Looking in indexes: https://pypi.org/simple, https://us-python.pkg.dev/colab-wheels/public/simple/\n",
            "Requirement already satisfied: scikit-surprise in /usr/local/lib/python3.9/dist-packages (1.1.3)\n",
            "Requirement already satisfied: numpy>=1.17.3 in /usr/local/lib/python3.9/dist-packages (from scikit-surprise) (1.22.4)\n",
            "Requirement already satisfied: scipy>=1.3.2 in /usr/local/lib/python3.9/dist-packages (from scikit-surprise) (1.10.1)\n",
            "Requirement already satisfied: joblib>=1.0.0 in /usr/local/lib/python3.9/dist-packages (from scikit-surprise) (1.2.0)\n"
          ]
        }
      ]
    },
    {
      "cell_type": "code",
      "metadata": {
        "id": "OoLm-EC1Yb5z",
        "colab": {
          "base_uri": "https://localhost:8080/"
        },
        "outputId": "77d93986-d718-4a5e-ad1e-4954958d0483"
      },
      "source": [
        "from surprise import accuracy\n",
        "from surprise.model_selection import train_test_split\n",
        "from surprise import Reader\n",
        "from surprise import Dataset\n",
        "from surprise import SVD\n",
        "from surprise import NormalPredictor\n",
        "from surprise import KNNBasic\n",
        "\n",
        "# The reader is necessary for surprise to interpret the ratings\n",
        "reader = Reader(rating_scale=(0, 10))\n",
        "\n",
        "# Load the dataset\n",
        "books = pd.read_csv('Books.csv')\n",
        "\n",
        "# This function loads data from a pandas dataframe into surprise dataset structure\n",
        "# The columns should always be ordered like this\n",
        "data = Dataset.load_from_df(books[['UserID', 'BookTitle', 'Book-Rating']], reader)\n",
        "\n",
        "# Split in trainset and testset\n",
        "# No need to define the label y because for surprise the last column is always the rating\n",
        "trainset, testset = train_test_split(data, test_size=.25, random_state=0 )\n",
        "\n",
        "knn = KNNBasic()\n",
        "knn.fit(trainset)\n",
        "predictions = knn.test(testset)\n",
        "print('KNN RMSE', accuracy.rmse(predictions))"
      ],
      "execution_count": 90,
      "outputs": [
        {
          "output_type": "stream",
          "name": "stdout",
          "text": [
            "Computing the msd similarity matrix...\n",
            "Done computing similarity matrix.\n",
            "RMSE: 4.1033\n",
            "KNN RMSE 4.10333158257073\n"
          ]
        }
      ]
    },
    {
      "cell_type": "markdown",
      "metadata": {
        "id": "sdIaAghiYb53"
      },
      "source": [
        "**3.1 After taking a look at surprise documentation and the code above, follow the same steps as with KNN, and predict the ratings in test set using the NormalPredictor which predicts a random rating based on the distribution of the training set. Do the same for SVD which  is a matrix factorization technique. For both of them report RMSE. (We already have imported the functions for you)** **(1.5 points)**"
      ]
    },
    {
      "cell_type": "code",
      "metadata": {
        "id": "VWcalcl4Yb56",
        "colab": {
          "base_uri": "https://localhost:8080/"
        },
        "outputId": "d5db6fdb-8200-41fc-a0a8-bbcf2788d7c9"
      },
      "source": [
        "# Train and test with SVD\n",
        "svd = SVD()\n",
        "svd.fit(trainset)\n",
        "predictions_svd = svd.test(testset)\n",
        "print('SVD RMSE', accuracy.rmse(predictions_svd))"
      ],
      "execution_count": 91,
      "outputs": [
        {
          "output_type": "stream",
          "name": "stdout",
          "text": [
            "RMSE: 3.8581\n",
            "SVD RMSE 3.858078712227365\n"
          ]
        }
      ]
    },
    {
      "cell_type": "markdown",
      "metadata": {
        "id": "OjJgAOSRYb6A"
      },
      "source": [
        "# 4. Neural Networks (3 Points)"
      ]
    },
    {
      "cell_type": "markdown",
      "metadata": {
        "id": "h5TF1ePBYb6L"
      },
      "source": [
        "**4.1 We are now going to build a recommender system using Neural Networks. Being this dataset is really small in terms of features you might not see great improvements but it is a good starting point to learn. Please build  one of the neural network architechtures as we did in practice session part 3. You can for example choose the one which had the following layers:**\n",
        "- 2 Embedding\n",
        "- 2 Reshape\n",
        "- 1 Concatenation \n",
        "- 1 Dense\n",
        "\n",
        "**Use the Neural Network you built to learn from the train data of part 3 of this homework.  The column UserID should be used as input to your NN for the user embedding layer. For the books embedding layer we will use BookTitle column. Lastly, the ratings will be your target variable. Regarding the evaluation metric for the training phase use RMSE. To make your training fast you can use a batch size of 200 or above. (1.75 points)**"
      ]
    },
    {
      "cell_type": "code",
      "metadata": {
        "id": "PbuvaC1eYb6Q"
      },
      "source": [
        "import numpy as np\n",
        "import pandas as pd\n",
        "import matplotlib.pyplot as plt\n",
        "import os\n",
        "import warnings\n",
        "\n",
        "from keras.layers import Input, Embedding, Flatten, Dot, Dense,multiply, concatenate, Reshape, Dropout\n",
        "from keras.models import Model, Sequential\n",
        "from sklearn.model_selection import train_test_split\n",
        "from keras.optimizers import Adam"
      ],
      "execution_count": 94,
      "outputs": []
    },
    {
      "cell_type": "code",
      "metadata": {
        "id": "C-WFjd9PaVvp",
        "colab": {
          "base_uri": "https://localhost:8080/",
          "height": 1000
        },
        "outputId": "92dbed61-9675-4b76-b8b2-ce1c1d76bd55"
      },
      "source": [
        "# Load the data\n",
        "books = pd.read_csv('Books.csv')\n",
        "\n",
        "# Create a dictionary to map the book titles to unique integer ids\n",
        "book_ids = {}\n",
        "book_id = 0\n",
        "for title in books['BookTitle'].unique():\n",
        "    book_ids[title] = book_id\n",
        "    book_id += 1\n",
        "\n",
        "# Create a dictionary to map the user ids to unique integer ids\n",
        "user_ids = {}\n",
        "user_id = 0\n",
        "for user in books['UserID'].unique():\n",
        "    user_ids[user] = user_id\n",
        "    user_id += 1\n",
        "\n",
        "# Add the book and user ids to the DataFrame\n",
        "books['book_id'] = books['BookTitle'].apply(lambda x: book_ids[x])\n",
        "books['user_id'] = books['UserID'].apply(lambda x: user_ids[x])\n",
        "\n",
        "# Split the data into train and test sets\n",
        "train_data, test_data = train_test_split(books[['user_id', 'book_id', 'Book-Rating']], test_size=0.2, random_state=42)\n",
        "\n",
        "# Define the embedding dimensions for books and users\n",
        "n_users = len(user_ids)\n",
        "n_books = len(book_ids)\n",
        "embedding_dim = 50\n",
        "\n",
        "# Define the neural network architecture\n",
        "book_input = Input(shape=[1], name=\"Book-Input\")\n",
        "book_embedding = Embedding(n_books, embedding_dim, name=\"Book-Embedding\")(book_input)\n",
        "book_vec = Reshape([embedding_dim])(book_embedding)\n",
        "\n",
        "user_input = Input(shape=[1], name=\"User-Input\")\n",
        "user_embedding = Embedding(n_users, embedding_dim, name=\"User-Embedding\")(user_input)\n",
        "user_vec = Reshape([embedding_dim])(user_embedding)\n",
        "\n",
        "concat = concatenate([book_vec, user_vec])\n",
        "dense_1 = Dense(128, activation='relu')(concat)\n",
        "dense_2 = Dense(64, activation='relu')(dense_1)\n",
        "dropout = Dropout(0.2)(dense_2)\n",
        "output = Dense(1, activation='linear')(dropout)\n",
        "\n",
        "model = Model([user_input, book_input], output)\n",
        "\n",
        "model.compile(loss='mean_squared_error', optimizer=Adam(lr=0.001))\n",
        "\n",
        "# Train the model\n",
        "history = model.fit([train_data['user_id'], train_data['book_id']], train_data['Book-Rating'], \n",
        "                    batch_size=200, epochs=20, \n",
        "                    validation_data=([test_data['user_id'], test_data['book_id']], test_data['Book-Rating']))\n",
        "\n",
        "# Plot the training and validation loss\n",
        "plt.plot(history.history['loss'])\n",
        "plt.plot(history.history['val_loss'])\n",
        "plt.title('Model loss')\n",
        "plt.ylabel('Loss')\n",
        "plt.xlabel('Epoch')\n",
        "plt.legend(['Train', 'Validation'], loc='upper right')\n",
        "plt.show()"
      ],
      "execution_count": 95,
      "outputs": [
        {
          "output_type": "stream",
          "name": "stdout",
          "text": [
            "Epoch 1/20\n"
          ]
        },
        {
          "output_type": "stream",
          "name": "stderr",
          "text": [
            "/usr/local/lib/python3.9/dist-packages/keras/optimizers/legacy/adam.py:117: UserWarning: The `lr` argument is deprecated, use `learning_rate` instead.\n",
            "  super().__init__(name, **kwargs)\n"
          ]
        },
        {
          "output_type": "stream",
          "name": "stdout",
          "text": [
            "40/40 [==============================] - 2s 15ms/step - loss: 23.7173 - val_loss: 16.8077\n",
            "Epoch 2/20\n",
            "40/40 [==============================] - 0s 8ms/step - loss: 14.4600 - val_loss: 14.7320\n",
            "Epoch 3/20\n",
            "40/40 [==============================] - 0s 8ms/step - loss: 8.6719 - val_loss: 16.4150\n",
            "Epoch 4/20\n",
            "40/40 [==============================] - 0s 9ms/step - loss: 5.4645 - val_loss: 16.4992\n",
            "Epoch 5/20\n",
            "40/40 [==============================] - 0s 8ms/step - loss: 4.7200 - val_loss: 16.7550\n",
            "Epoch 6/20\n",
            "40/40 [==============================] - 0s 7ms/step - loss: 4.4243 - val_loss: 16.6954\n",
            "Epoch 7/20\n",
            "40/40 [==============================] - 0s 8ms/step - loss: 4.2831 - val_loss: 16.9186\n",
            "Epoch 8/20\n",
            "40/40 [==============================] - 0s 9ms/step - loss: 4.1300 - val_loss: 16.8412\n",
            "Epoch 9/20\n",
            "40/40 [==============================] - 0s 8ms/step - loss: 4.0720 - val_loss: 17.1299\n",
            "Epoch 10/20\n",
            "40/40 [==============================] - 0s 8ms/step - loss: 4.0360 - val_loss: 16.9297\n",
            "Epoch 11/20\n",
            "40/40 [==============================] - 0s 9ms/step - loss: 3.9706 - val_loss: 17.2757\n",
            "Epoch 12/20\n",
            "40/40 [==============================] - 0s 7ms/step - loss: 3.9385 - val_loss: 17.1492\n",
            "Epoch 13/20\n",
            "40/40 [==============================] - 0s 8ms/step - loss: 3.8513 - val_loss: 17.2049\n",
            "Epoch 14/20\n",
            "40/40 [==============================] - 0s 12ms/step - loss: 3.8122 - val_loss: 17.1145\n",
            "Epoch 15/20\n",
            "40/40 [==============================] - 0s 12ms/step - loss: 3.7325 - val_loss: 17.3558\n",
            "Epoch 16/20\n",
            "40/40 [==============================] - 0s 12ms/step - loss: 3.6289 - val_loss: 17.1680\n",
            "Epoch 17/20\n",
            "40/40 [==============================] - 1s 13ms/step - loss: 3.5374 - val_loss: 17.3397\n",
            "Epoch 18/20\n",
            "40/40 [==============================] - 1s 13ms/step - loss: 3.4107 - val_loss: 17.4165\n",
            "Epoch 19/20\n",
            "40/40 [==============================] - 1s 13ms/step - loss: 3.2568 - val_loss: 17.4191\n",
            "Epoch 20/20\n",
            "40/40 [==============================] - 0s 8ms/step - loss: 3.0767 - val_loss: 17.5444\n"
          ]
        },
        {
          "output_type": "display_data",
          "data": {
            "text/plain": [
              "<Figure size 640x480 with 1 Axes>"
            ],
            "image/png": "[encoded data removed]"
          },
          "metadata": {}
        }
      ]
    },
    {
      "cell_type": "markdown",
      "metadata": {
        "id": "HsmPj7Wq1cyS"
      },
      "source": [
        "**4.2 Plot the RMSE values during the training phase, as well as the model loss. Report the best RMSE. Is it better than the RMSE from the models we built in Section 2 and 3 ? (0.75 points)**"
      ]
    },
    {
      "cell_type": "code",
      "metadata": {
        "id": "JCJFqfDm1-HA",
        "colab": {
          "base_uri": "https://localhost:8080/",
          "height": 1000
        },
        "outputId": "72c5bd2f-0d7d-4cd7-a1d8-b66760f7a313"
      },
      "source": [
        "# Set up the embedding size\n",
        "n_users = len(user_ids)\n",
        "n_books = len(book_ids)\n",
        "n_factors = 50\n",
        "\n",
        "# Create user embedding path\n",
        "user = Input(shape=(1,))\n",
        "u = Embedding(n_users, n_factors)(user)\n",
        "u = Reshape((n_factors,))(u)\n",
        "\n",
        "# Create book embedding path\n",
        "book = Input(shape=(1,))\n",
        "b = Embedding(n_books, n_factors)(book)\n",
        "b = Reshape((n_factors,))(b)\n",
        "\n",
        "# Concatenate the two layers\n",
        "x = concatenate([u, b])\n",
        "\n",
        "# Add a dense layer with ReLU activation\n",
        "x = Dense(128, activation='relu')(x)\n",
        "\n",
        "# Add a dense layer with ReLU activation\n",
        "x = Dense(32, activation='relu')(x)\n",
        "\n",
        "# Add a dense layer with ReLU activation\n",
        "x = Dense(8, activation='relu')(x)\n",
        "\n",
        "# Add the output layer\n",
        "x = Dense(1)(x)\n",
        "\n",
        "# Create the model\n",
        "model_nn = Model(inputs=[user, book], outputs=x)\n",
        "\n",
        "# Compile the model\n",
        "model_nn.compile(optimizer=Adam(lr=0.001), loss='mean_squared_error')\n",
        "\n",
        "# Print the model summary\n",
        "print(model_nn.summary())\n",
        "\n",
        "# Train the model\n",
        "history = model_nn.fit([train_data['user_id'], train_data['book_id']], train_data['Book-Rating'], batch_size=200, epochs=10, validation_data=([test_data['user_id'], test_data['book_id']], test_data['Book-Rating']))\n",
        "\n",
        "# Get the RMSE\n",
        "rmse_nn = np.sqrt(history.history['val_loss'][-1])\n",
        "\n",
        "# Plot the RMSE during training\n",
        "plt.plot(history.history['val_loss'])\n",
        "plt.title('Model RMSE')\n",
        "plt.ylabel('RMSE')\n",
        "plt.xlabel('Epoch')\n",
        "plt.show()\n",
        "\n",
        "# Plot the loss during training\n",
        "plt.plot(history.history['loss'])\n",
        "plt.title('Model Loss')\n",
        "plt.ylabel('Loss')\n",
        "plt.xlabel('Epoch')\n",
        "plt.show()\n",
        "\n",
        "# Report the best RMSE\n",
        "print(\"\\n\\tNN RMSE:\", rmse_nn)\n",
        "print(\"\\n\\tKNN RMSE:\", 4.10333158257073)\n",
        "print(\"\\n\\tSVD RMSE:\", 3.858078712227365)"
      ],
      "execution_count": 100,
      "outputs": [
        {
          "output_type": "stream",
          "name": "stdout",
          "text": [
            "Model: \"model_4\"\n",
            "__________________________________________________________________________________________________\n",
            " Layer (type)                   Output Shape         Param #     Connected to                     \n",
            "==================================================================================================\n",
            " input_7 (InputLayer)           [(None, 1)]          0           []                               \n",
            "                                                                                                  \n",
            " input_8 (InputLayer)           [(None, 1)]          0           []                               \n",
            "                                                                                                  \n",
            " embedding_6 (Embedding)        (None, 1, 50)        314600      ['input_7[0][0]']                \n",
            "                                                                                                  \n",
            " embedding_7 (Embedding)        (None, 1, 50)        16800       ['input_8[0][0]']                \n",
            "                                                                                                  \n",
            " reshape_8 (Reshape)            (None, 50)           0           ['embedding_6[0][0]']            \n",
            "                                                                                                  \n",
            " reshape_9 (Reshape)            (None, 50)           0           ['embedding_7[0][0]']            \n",
            "                                                                                                  \n",
            " concatenate_4 (Concatenate)    (None, 100)          0           ['reshape_8[0][0]',              \n",
            "                                                                  'reshape_9[0][0]']              \n",
            "                                                                                                  \n",
            " dense_15 (Dense)               (None, 128)          12928       ['concatenate_4[0][0]']          \n",
            "                                                                                                  \n",
            " dense_16 (Dense)               (None, 32)           4128        ['dense_15[0][0]']               \n",
            "                                                                                                  \n",
            " dense_17 (Dense)               (None, 8)            264         ['dense_16[0][0]']               \n",
            "                                                                                                  \n",
            " dense_18 (Dense)               (None, 1)            9           ['dense_17[0][0]']               \n",
            "                                                                                                  \n",
            "==================================================================================================\n",
            "Total params: 348,729\n",
            "Trainable params: 348,729\n",
            "Non-trainable params: 0\n",
            "__________________________________________________________________________________________________\n"
          ]
        },
        {
          "output_type": "stream",
          "name": "stderr",
          "text": [
            "/usr/local/lib/python3.9/dist-packages/keras/optimizers/legacy/adam.py:117: UserWarning: The `lr` argument is deprecated, use `learning_rate` instead.\n",
            "  super().__init__(name, **kwargs)\n"
          ]
        },
        {
          "output_type": "stream",
          "name": "stdout",
          "text": [
            "None\n",
            "Epoch 1/10\n",
            "40/40 [==============================] - 1s 11ms/step - loss: 22.7729 - val_loss: 16.2308\n",
            "Epoch 2/10\n",
            "40/40 [==============================] - 0s 7ms/step - loss: 13.7495 - val_loss: 14.8959\n",
            "Epoch 3/10\n",
            "40/40 [==============================] - 0s 8ms/step - loss: 7.9608 - val_loss: 17.1835\n",
            "Epoch 4/10\n",
            "40/40 [==============================] - 0s 8ms/step - loss: 5.0777 - val_loss: 16.8445\n",
            "Epoch 5/10\n",
            "40/40 [==============================] - 0s 7ms/step - loss: 4.3989 - val_loss: 17.1187\n",
            "Epoch 6/10\n",
            "40/40 [==============================] - 0s 8ms/step - loss: 4.1313 - val_loss: 17.1097\n",
            "Epoch 7/10\n",
            "40/40 [==============================] - 0s 8ms/step - loss: 3.9718 - val_loss: 17.1919\n",
            "Epoch 8/10\n",
            "40/40 [==============================] - 0s 8ms/step - loss: 3.8516 - val_loss: 17.3766\n",
            "Epoch 9/10\n",
            "40/40 [==============================] - 0s 8ms/step - loss: 3.7842 - val_loss: 17.4252\n",
            "Epoch 10/10\n",
            "40/40 [==============================] - 0s 8ms/step - loss: 3.7086 - val_loss: 17.6114\n"
          ]
        },
        {
          "output_type": "display_data",
          "data": {
            "text/plain": [
              "<Figure size 640x480 with 1 Axes>"
            ],
            "image/png": "[encoded data removed]"
          },
          "metadata": {}
        },
        {
          "output_type": "display_data",
          "data": {
            "text/plain": [
              "<Figure size 640x480 with 1 Axes>"
            ],
            "image/png": "[encoded data removed]"
          },
          "metadata": {}
        },
        {
          "output_type": "stream",
          "name": "stdout",
          "text": [
            "\n",
            "\tNN RMSE: 4.196595065167857\n",
            "\n",
            "\tKNN RMSE: 4.10333158257073\n",
            "\n",
            "\tSVD RMSE: 3.858078712227365\n"
          ]
        }
      ]
    },
    {
      "cell_type": "markdown",
      "metadata": {
        "id": "LVLaC5K11-fN"
      },
      "source": [
        "**4.3 Use your trained model to recommend books for user with ID 6293. (0.5 points)**"
      ]
    },
    {
      "cell_type": "code",
      "metadata": {
        "id": "NHQrNa35Jmjo",
        "colab": {
          "base_uri": "https://localhost:8080/"
        },
        "outputId": "4dabc0bd-e049-496f-df65-4c1082c9e166"
      },
      "source": [
        "# Load the data\n",
        "books = pd.read_csv('Books.csv')\n",
        "\n",
        "# Create a dictionary to map the book titles to unique integer ids\n",
        "book_ids = {}\n",
        "book_id = 0\n",
        "for title in books['BookTitle'].unique():\n",
        "    book_ids[title] = book_id\n",
        "    book_id += 1\n",
        "\n",
        "# Create a dictionary to map the user ids to unique integer ids\n",
        "user_ids = {}\n",
        "user_id = 0\n",
        "for user in books['UserID'].unique():\n",
        "    user_ids[user] = user_id\n",
        "    user_id += 1\n",
        "\n",
        "# Add the book and user ids to the books DataFrame\n",
        "books['book_id'] = books['BookTitle'].apply(lambda x: book_ids.get(x, -1))\n",
        "books['user_id'] = books['UserID'].apply(lambda x: user_ids.get(x, -1))\n",
        "\n",
        "# Remove any rows with invalid book or user IDs (-1)\n",
        "books = books[(books['book_id'] != -1) & (books['user_id'] != -1)]\n",
        "\n",
        "# Get the user ID for user 5978\n",
        "user_id = user_ids[5978]\n",
        "\n",
        "# Get the book IDs and ratings for the new user\n",
        "book_ids = books['book_id'].values\n",
        "ratings = books['Book-Rating'].values\n",
        "\n",
        "# Predict the book ratings for the new user\n",
        "predictions = model_nn.predict([np.array([user_id]*len(book_ids)), book_ids])\n",
        "\n",
        "# Add the predicted ratings to the books DataFrame\n",
        "books['predicted_rating'] = predictions\n",
        "\n",
        "# Sort the books DataFrame by predicted rating in descending order\n",
        "books = books.sort_values(by='predicted_rating', ascending=False)\n",
        "\n",
        "# Print the top 10 recommended books\n",
        "top_books = books[['BookTitle', 'predicted_rating']].drop_duplicates().head(10)\n",
        "print(top_books)\n",
        "\n",
        "print(\"\\nI COULD DO IT ANYTHING OTHER THAN THE USER 6293 :'(\")"
      ],
      "execution_count": 110,
      "outputs": [
        {
          "output_type": "stream",
          "name": "stdout",
          "text": [
            "313/313 [==============================] - 1s 3ms/step\n",
            "                                              BookTitle  predicted_rating\n",
            "2551  Storm Surge: A Quin St. James and Mike McClear...         14.885015\n",
            "8164  Great British Ghosts (Longman Structural Reade...         14.457404\n",
            "4363                   Gevatter Tod. Roman. ( Fantasy).         13.931734\n",
            "4851                                Die Krone der Welt.         13.849272\n",
            "3171         The Number Devil: A Mathematical Adventure         13.766882\n",
            "8188  Bridget Jones's Diary: Music from the Motion P...         13.710999\n",
            "5322                          Un Amore Dell'altro Mondo         13.573935\n",
            "1682                                   Die zweite Haut.         13.537374\n",
            "5734                            The Tower at Stony Wood         13.333840\n",
            "4917                          Das Haus auf den Klippen.         13.326522\n",
            "\n",
            "I COULD DO IT ANYTHING OTHER THAN THE USER 6293 :'(\n"
          ]
        }
      ]
    },
    {
      "cell_type": "markdown",
      "metadata": {
        "id": "zwpOi51caTUp"
      },
      "source": [
        "## How long did it take you to solve the homework?\n",
        "\n",
        "* Please answer as precisely as you can. It does not affect your points or grade in any way. It is okay, if it took 0.5 hours or 24 hours. The collected information will be used to improve future homeworks.\n",
        "\n",
        "<font color='red'> **Answer:**</font> 7 hours, in total!\n",
        "\n",
        "\n",
        "## What is the level of difficulty for this homework?\n",
        "you can put only number between $0:10$ ($0:$ easy, $10:$ difficult)\n",
        "\n",
        "<font color='red'> **Answer:**</font> 7"
      ]
    }
  ]
}