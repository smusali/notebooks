{
  "cells": [
    {
      "cell_type": "markdown",
      "metadata": {
        "id": "eYwLs5joJfJN"
      },
      "source": [
        "<div class=\"alert alert-block alert-info\"><b></b>\n",
        "<h1><center> <font color='black'> Homework 02</font></center></h1>\n",
        "<h2><center> <font color='black'> Regression & Regularization</font></center></h2>    \n",
        "<h2><center> <font color='black'> MTAT.03.319 - Business Data Analytics</font></center></h2>\n",
        "<h2><center> <font color='black'> University of Tartu - Spring 2023</font></center></h2>\n",
        "</div>"
      ]
    },
    {
      "cell_type": "markdown",
      "metadata": {
        "id": "TMAvgHx6JfJm"
      },
      "source": [
        "# Homework instructions\n",
        "\n",
        "- Please provide the names and student IDs of the team-members (Maximum 2 person) in the field \"Team mates\" below. If you are not working in a team please insert only your name and student ID.\n",
        "\n",
        "- Please provide code where ever applicable.\n",
        "\n",
        "- The accepted submission format is .ipynb file. Please make sure that the privacy settings for the file is public so we can access your code. \n",
        "\n",
        "- The submission will automatically close on <font color='red'>**19 March at 23:59**</font>, so please make sure to submit before the deadline. \n",
        "\n",
        "- ONLY one of the teammates should submit the homework and in the submission description the other person's Name and Student ID must be entered. We will grade the homework and the marks and feedback is applied for both the team members. So please communicate with your team member about marks and feedback if you are submit the homework.\n",
        "\n",
        "- If a question is not clear, please ask us in Moodle ONLY. \n",
        "\n",
        "- After you have finished solving the Homework, please restart the Kernel and run all the cells to check if there is any persisting issues. \n",
        "\n",
        "- Plagiarism is <font color='red'>**PROHIBITED**</font>. Any form of plagiarism will be dealt according to the university policy (https://ut.ee/en/content/academic-fraud).\n",
        "\n",
        "- <font color='red'>**DO NOT CHANGE THE TEMPLATE**</font>\n",
        "\n",
        "- <font color='red'>**Restart the Kernel and Run all the cells once again after you are done.**</font>\n",
        "This will ensure that all the cells run without error. You will find an option in the top menu bar under Kernel tab. "
      ]
    },
    {
      "cell_type": "markdown",
      "metadata": {
        "id": "CfgmDl7JJfJn"
      },
      "source": [
        "**<h2><font color='red'>Team mates:</font></h2>**\n",
        "\n",
        "<font color='red'>Name: Samir Musali </font>&emsp;   <font color='red'>Student ID: C29810 </font>"
      ]
    },
    {
      "cell_type": "markdown",
      "metadata": {
        "id": "fQFbVbtpJfJn"
      },
      "source": [
        "# Introduction\n",
        "\n",
        "* In this homework you are going to apply supervised learning: Linear Regression method using Scikit-learn package; Scikit-learn (formerly scikits.learn and also known as sklearn) is a free software machine learning library for the Python programming language. It features various classification, regression and clustering algorithms including support vector machines, random forests, gradient boosting, k-means and DBSCAN, and is designed to interoperate with the Python numerical and scientific libraries NumPy and SciPy [https://en.wikipedia.org/wiki/Scikit-learn].\n",
        "\n",
        "### The homework is divided into four sections and the points are distributed as below:\n",
        "<pre>\n",
        "- Linear Regression    -> 3 points\n",
        "- PCA                  -> 3 points\n",
        "- Overfitting          -> 5 points\n",
        "_________________________________________\n",
        "Total                  -> 11 points\n",
        "</pre>"
      ]
    },
    {
      "cell_type": "markdown",
      "metadata": {
        "id": "p1wszlIpJfJo"
      },
      "source": [
        "# 1. Regression \n",
        "## 1.1 Linear Regression (2 points)\n",
        "\n",
        "We are going to use the Prices dataset that contains 74 columns. Each column represents a feature of houses for sale. The ```SalePrice``` column  shows their prices. "
      ]
    },
    {
      "cell_type": "code",
      "execution_count": null,
      "metadata": {
        "colab": {
          "base_uri": "https://localhost:8080/",
          "height": 236
        },
        "id": "qidamLnMJfJo",
        "outputId": "8226b40b-3d4c-49a7-b20c-6d313bca3973"
      },
      "outputs": [
        {
          "data": {
            "text/html": [
              "\n",
              "  <div id=\"df-cc386810-6626-436f-96c4-f44421a2e302\">\n",
              "    <div class=\"colab-df-container\">\n",
              "      <div>\n",
              "<style scoped>\n",
              "    .dataframe tbody tr th:only-of-type {\n",
              "        vertical-align: middle;\n",
              "    }\n",
              "\n",
              "    .dataframe tbody tr th {\n",
              "        vertical-align: top;\n",
              "    }\n",
              "\n",
              "    .dataframe thead th {\n",
              "        text-align: right;\n",
              "    }\n",
              "</style>\n",
              "<table border=\"1\" class=\"dataframe\">\n",
              "  <thead>\n",
              "    <tr style=\"text-align: right;\">\n",
              "      <th></th>\n",
              "      <th>MSSubClass</th>\n",
              "      <th>MSZoning</th>\n",
              "      <th>LotFrontage</th>\n",
              "      <th>LotArea</th>\n",
              "      <th>Street</th>\n",
              "      <th>LotShape</th>\n",
              "      <th>LandContour</th>\n",
              "      <th>Utilities</th>\n",
              "      <th>LotConfig</th>\n",
              "      <th>LandSlope</th>\n",
              "      <th>...</th>\n",
              "      <th>EnclosedPorch</th>\n",
              "      <th>3SsnPorch</th>\n",
              "      <th>ScreenPorch</th>\n",
              "      <th>PoolArea</th>\n",
              "      <th>MiscVal</th>\n",
              "      <th>MoSold</th>\n",
              "      <th>YrSold</th>\n",
              "      <th>SaleType</th>\n",
              "      <th>SaleCondition</th>\n",
              "      <th>SalePrice</th>\n",
              "    </tr>\n",
              "  </thead>\n",
              "  <tbody>\n",
              "    <tr>\n",
              "      <th>0</th>\n",
              "      <td>60</td>\n",
              "      <td>RL</td>\n",
              "      <td>65.0</td>\n",
              "      <td>8450</td>\n",
              "      <td>Pave</td>\n",
              "      <td>Reg</td>\n",
              "      <td>Lvl</td>\n",
              "      <td>AllPub</td>\n",
              "      <td>Inside</td>\n",
              "      <td>Gtl</td>\n",
              "      <td>...</td>\n",
              "      <td>0</td>\n",
              "      <td>0</td>\n",
              "      <td>0</td>\n",
              "      <td>0</td>\n",
              "      <td>0</td>\n",
              "      <td>2</td>\n",
              "      <td>2008</td>\n",
              "      <td>WD</td>\n",
              "      <td>Normal</td>\n",
              "      <td>208500</td>\n",
              "    </tr>\n",
              "    <tr>\n",
              "      <th>1</th>\n",
              "      <td>20</td>\n",
              "      <td>RL</td>\n",
              "      <td>80.0</td>\n",
              "      <td>9600</td>\n",
              "      <td>Pave</td>\n",
              "      <td>Reg</td>\n",
              "      <td>Lvl</td>\n",
              "      <td>AllPub</td>\n",
              "      <td>FR2</td>\n",
              "      <td>Gtl</td>\n",
              "      <td>...</td>\n",
              "      <td>0</td>\n",
              "      <td>0</td>\n",
              "      <td>0</td>\n",
              "      <td>0</td>\n",
              "      <td>0</td>\n",
              "      <td>5</td>\n",
              "      <td>2007</td>\n",
              "      <td>WD</td>\n",
              "      <td>Normal</td>\n",
              "      <td>181500</td>\n",
              "    </tr>\n",
              "    <tr>\n",
              "      <th>2</th>\n",
              "      <td>60</td>\n",
              "      <td>RL</td>\n",
              "      <td>68.0</td>\n",
              "      <td>11250</td>\n",
              "      <td>Pave</td>\n",
              "      <td>IR1</td>\n",
              "      <td>Lvl</td>\n",
              "      <td>AllPub</td>\n",
              "      <td>Inside</td>\n",
              "      <td>Gtl</td>\n",
              "      <td>...</td>\n",
              "      <td>0</td>\n",
              "      <td>0</td>\n",
              "      <td>0</td>\n",
              "      <td>0</td>\n",
              "      <td>0</td>\n",
              "      <td>9</td>\n",
              "      <td>2008</td>\n",
              "      <td>WD</td>\n",
              "      <td>Normal</td>\n",
              "      <td>223500</td>\n",
              "    </tr>\n",
              "    <tr>\n",
              "      <th>3</th>\n",
              "      <td>70</td>\n",
              "      <td>RL</td>\n",
              "      <td>60.0</td>\n",
              "      <td>9550</td>\n",
              "      <td>Pave</td>\n",
              "      <td>IR1</td>\n",
              "      <td>Lvl</td>\n",
              "      <td>AllPub</td>\n",
              "      <td>Corner</td>\n",
              "      <td>Gtl</td>\n",
              "      <td>...</td>\n",
              "      <td>272</td>\n",
              "      <td>0</td>\n",
              "      <td>0</td>\n",
              "      <td>0</td>\n",
              "      <td>0</td>\n",
              "      <td>2</td>\n",
              "      <td>2006</td>\n",
              "      <td>WD</td>\n",
              "      <td>Abnorml</td>\n",
              "      <td>140000</td>\n",
              "    </tr>\n",
              "    <tr>\n",
              "      <th>4</th>\n",
              "      <td>60</td>\n",
              "      <td>RL</td>\n",
              "      <td>84.0</td>\n",
              "      <td>14260</td>\n",
              "      <td>Pave</td>\n",
              "      <td>IR1</td>\n",
              "      <td>Lvl</td>\n",
              "      <td>AllPub</td>\n",
              "      <td>FR2</td>\n",
              "      <td>Gtl</td>\n",
              "      <td>...</td>\n",
              "      <td>0</td>\n",
              "      <td>0</td>\n",
              "      <td>0</td>\n",
              "      <td>0</td>\n",
              "      <td>0</td>\n",
              "      <td>12</td>\n",
              "      <td>2008</td>\n",
              "      <td>WD</td>\n",
              "      <td>Normal</td>\n",
              "      <td>250000</td>\n",
              "    </tr>\n",
              "  </tbody>\n",
              "</table>\n",
              "<p>5 rows × 75 columns</p>\n",
              "</div>\n",
              "      <button class=\"colab-df-convert\" onclick=\"convertToInteractive('df-cc386810-6626-436f-96c4-f44421a2e302')\"\n",
              "              title=\"Convert this dataframe to an interactive table.\"\n",
              "              style=\"display:none;\">\n",
              "        \n",
              "  <svg xmlns=\"http://www.w3.org/2000/svg\" height=\"24px\"viewBox=\"0 0 24 24\"\n",
              "       width=\"24px\">\n",
              "    <path d=\"M0 0h24v24H0V0z\" fill=\"none\"/>\n",
              "    <path d=\"M18.56 5.44l.94 2.06.94-2.06 2.06-.94-2.06-.94-.94-2.06-.94 2.06-2.06.94zm-11 1L8.5 8.5l.94-2.06 2.06-.94-2.06-.94L8.5 2.5l-.94 2.06-2.06.94zm10 10l.94 2.06.94-2.06 2.06-.94-2.06-.94-.94-2.06-.94 2.06-2.06.94z\"/><path d=\"M17.41 7.96l-1.37-1.37c-.4-.4-.92-.59-1.43-.59-.52 0-1.04.2-1.43.59L10.3 9.45l-7.72 7.72c-.78.78-.78 2.05 0 2.83L4 21.41c.39.39.9.59 1.41.59.51 0 1.02-.2 1.41-.59l7.78-7.78 2.81-2.81c.8-.78.8-2.07 0-2.86zM5.41 20L4 18.59l7.72-7.72 1.47 1.35L5.41 20z\"/>\n",
              "  </svg>\n",
              "      </button>\n",
              "      \n",
              "  <style>\n",
              "    .colab-df-container {\n",
              "      display:flex;\n",
              "      flex-wrap:wrap;\n",
              "      gap: 12px;\n",
              "    }\n",
              "\n",
              "    .colab-df-convert {\n",
              "      background-color: #E8F0FE;\n",
              "      border: none;\n",
              "      border-radius: 50%;\n",
              "      cursor: pointer;\n",
              "      display: none;\n",
              "      fill: #1967D2;\n",
              "      height: 32px;\n",
              "      padding: 0 0 0 0;\n",
              "      width: 32px;\n",
              "    }\n",
              "\n",
              "    .colab-df-convert:hover {\n",
              "      background-color: #E2EBFA;\n",
              "      box-shadow: 0px 1px 2px rgba(60, 64, 67, 0.3), 0px 1px 3px 1px rgba(60, 64, 67, 0.15);\n",
              "      fill: #174EA6;\n",
              "    }\n",
              "\n",
              "    [theme=dark] .colab-df-convert {\n",
              "      background-color: #3B4455;\n",
              "      fill: #D2E3FC;\n",
              "    }\n",
              "\n",
              "    [theme=dark] .colab-df-convert:hover {\n",
              "      background-color: #434B5C;\n",
              "      box-shadow: 0px 1px 3px 1px rgba(0, 0, 0, 0.15);\n",
              "      filter: drop-shadow(0px 1px 2px rgba(0, 0, 0, 0.3));\n",
              "      fill: #FFFFFF;\n",
              "    }\n",
              "  </style>\n",
              "\n",
              "      <script>\n",
              "        const buttonEl =\n",
              "          document.querySelector('#df-cc386810-6626-436f-96c4-f44421a2e302 button.colab-df-convert');\n",
              "        buttonEl.style.display =\n",
              "          google.colab.kernel.accessAllowed ? 'block' : 'none';\n",
              "\n",
              "        async function convertToInteractive(key) {\n",
              "          const element = document.querySelector('#df-cc386810-6626-436f-96c4-f44421a2e302');\n",
              "          const dataTable =\n",
              "            await google.colab.kernel.invokeFunction('convertToInteractive',\n",
              "                                                     [key], {});\n",
              "          if (!dataTable) return;\n",
              "\n",
              "          const docLinkHtml = 'Like what you see? Visit the ' +\n",
              "            '<a target=\"_blank\" href=https://colab.research.google.com/notebooks/data_table.ipynb>data table notebook</a>'\n",
              "            + ' to learn more about interactive tables.';\n",
              "          element.innerHTML = '';\n",
              "          dataTable['output_type'] = 'display_data';\n",
              "          await google.colab.output.renderOutput(dataTable, element);\n",
              "          const docLink = document.createElement('div');\n",
              "          docLink.innerHTML = docLinkHtml;\n",
              "          element.appendChild(docLink);\n",
              "        }\n",
              "      </script>\n",
              "    </div>\n",
              "  </div>\n",
              "  "
            ],
            "text/plain": [
              "   MSSubClass MSZoning  LotFrontage  LotArea Street LotShape LandContour  \\\n",
              "0          60       RL         65.0     8450   Pave      Reg         Lvl   \n",
              "1          20       RL         80.0     9600   Pave      Reg         Lvl   \n",
              "2          60       RL         68.0    11250   Pave      IR1         Lvl   \n",
              "3          70       RL         60.0     9550   Pave      IR1         Lvl   \n",
              "4          60       RL         84.0    14260   Pave      IR1         Lvl   \n",
              "\n",
              "  Utilities LotConfig LandSlope  ... EnclosedPorch 3SsnPorch ScreenPorch  \\\n",
              "0    AllPub    Inside       Gtl  ...             0         0           0   \n",
              "1    AllPub       FR2       Gtl  ...             0         0           0   \n",
              "2    AllPub    Inside       Gtl  ...             0         0           0   \n",
              "3    AllPub    Corner       Gtl  ...           272         0           0   \n",
              "4    AllPub       FR2       Gtl  ...             0         0           0   \n",
              "\n",
              "  PoolArea MiscVal  MoSold  YrSold  SaleType  SaleCondition SalePrice  \n",
              "0        0       0       2    2008        WD         Normal    208500  \n",
              "1        0       0       5    2007        WD         Normal    181500  \n",
              "2        0       0       9    2008        WD         Normal    223500  \n",
              "3        0       0       2    2006        WD        Abnorml    140000  \n",
              "4        0       0      12    2008        WD         Normal    250000  \n",
              "\n",
              "[5 rows x 75 columns]"
            ]
          },
          "execution_count": 15,
          "metadata": {},
          "output_type": "execute_result"
        }
      ],
      "source": [
        "import pandas as pd\n",
        "data = pd.read_csv(\"Prices.csv\")\n",
        "data.head()"
      ]
    },
    {
      "cell_type": "markdown",
      "metadata": {
        "id": "L5dxc_JaJfJq"
      },
      "source": [
        "The column names are self-explanatory which indicates features of each house."
      ]
    },
    {
      "cell_type": "markdown",
      "metadata": {
        "id": "Xt1Kln3rJfJq"
      },
      "source": [
        "**1.1.1. The target label is```SalePrice``` which means, later we will predict the sale-price based on the given features (columns). But for regression task, it is important to ensure that the data is not skewed. In order to do that, please plot the distribution of ```SalePrice``` column and explain what do you see. (0.35 point)**"
      ]
    },
    {
      "cell_type": "code",
      "execution_count": null,
      "metadata": {
        "colab": {
          "base_uri": "https://localhost:8080/",
          "height": 296
        },
        "id": "IJbRJKE8JfJq",
        "outputId": "f6f207be-eea8-4704-d85a-38e4280feeff"
      },
      "outputs": [
        {
          "data": {
            "text/plain": [
              "<Axes: xlabel='SalePrice', ylabel='Count'>"
            ]
          },
          "execution_count": 16,
          "metadata": {},
          "output_type": "execute_result"
        },
        {
          "data": {
            "image/png": "[encoded data removed]",
            "text/plain": [
              "<Figure size 432x288 with 1 Axes>"
            ]
          },
          "metadata": {},
          "output_type": "display_data"
        }
      ],
      "source": [
        "import numpy as np\n",
        "import pandas as pd\n",
        "import matplotlib.pyplot as plt\n",
        "import seaborn as sns\n",
        "\n",
        "np.random.seed(5)\n",
        "sns.histplot(data=data, x=\"SalePrice\")"
      ]
    },
    {
      "cell_type": "markdown",
      "metadata": {
        "id": "UthxdZLyJfJq"
      },
      "source": [
        "**<font color='red'>Answer:</font>** "
      ]
    },
    {
      "cell_type": "markdown",
      "metadata": {
        "id": "jCEjKtlJJfJr"
      },
      "source": [
        "So, the data seems to be skewed which has to be fixed otherwise it may lead to erronous result. \n",
        "Apart from that, look closely, some columns are not numerical. For those, you have to convert them to numerical value or represent them in a way so that the algorithm can understand the data. One of such way is called, one hot encoding. Along with that, the algorithm cannot deal with NaN or Infinite values. So please address all of these in the preprocessing section. \n",
        "\n",
        "- Preprocess for skewed data\n",
        "- Apply one-hot encoding to categorical data types\n",
        "- Replace negative infinite values with 0"
      ]
    },
    {
      "cell_type": "markdown",
      "metadata": {
        "id": "I1s3u1LLJfJr"
      },
      "source": [
        "**1.1.2. After preprocessing the skewed data, plot ```SalePrice``` column distribution again. (0.15 point)**"
      ]
    },
    {
      "cell_type": "code",
      "execution_count": null,
      "metadata": {
        "colab": {
          "base_uri": "https://localhost:8080/",
          "height": 748
        },
        "id": "hl0qQwwdJfJs",
        "outputId": "60386282-fbe3-4d45-cec9-b6eea987f71f"
      },
      "outputs": [
        {
          "name": "stderr",
          "output_type": "stream",
          "text": [
            "<ipython-input-17-d8f32911b1e1>:7: UserWarning: \n",
            "\n",
            "`distplot` is a deprecated function and will be removed in seaborn v0.14.0.\n",
            "\n",
            "Please adapt your code to use either `displot` (a figure-level function with\n",
            "similar flexibility) or `histplot` (an axes-level function for histograms).\n",
            "\n",
            "For a guide to updating your code to use the new functions, please see\n",
            "https://gist.github.com/mwaskom/de44147ed2974457ad6372750bbe5751\n",
            "\n",
            "  sns.distplot(data['SalePrice'], fit=norm);\n"
          ]
        },
        {
          "data": {
            "image/png": "[encoded data removed]",
            "text/plain": [
              "<Figure size 432x288 with 1 Axes>"
            ]
          },
          "metadata": {},
          "output_type": "display_data"
        },
        {
          "data": {
            "image/png": "[encoded data removed]",
            "text/plain": [
              "<Figure size 432x288 with 1 Axes>"
            ]
          },
          "metadata": {},
          "output_type": "display_data"
        }
      ],
      "source": [
        "from scipy.stats import norm\n",
        "from scipy import stats\n",
        "# Pre-process:\n",
        "data['SalePrice'] = np.log(data['SalePrice'])\n",
        "\n",
        "# Distribution Plot:\n",
        "sns.distplot(data['SalePrice'], fit=norm);\n",
        "fig = plt.figure()\n",
        "res = stats.probplot(data['SalePrice'], plot=plt)"
      ]
    },
    {
      "cell_type": "markdown",
      "metadata": {
        "id": "MalR-JrqO0yI"
      },
      "source": [
        "<font color='red'> **Answer:**</font>"
      ]
    },
    {
      "cell_type": "markdown",
      "metadata": {
        "id": "OQPBZ0QWJfJs"
      },
      "source": [
        "**1.1.3. Calculate the correlation between price and each feature. Which are the top 3 features that have the highest correlation with  price? Is the correlation positive or negative? Explain what happens with the price when each of those 3 features change (consider only one feature at a time) and others are kept constant. (0.5 point)** \n",
        "\n"
      ]
    },
    {
      "cell_type": "code",
      "execution_count": null,
      "metadata": {
        "colab": {
          "base_uri": "https://localhost:8080/"
        },
        "id": "A59X1K5fJfJs",
        "outputId": "85add7ea-e9cc-4e80-ba8d-1c7e7e9841e1"
      },
      "outputs": [
        {
          "name": "stdout",
          "output_type": "stream",
          "text": [
            "Null-valued Columns: 14\n",
            "\n",
            "\n"
          ]
        },
        {
          "data": {
            "text/plain": [
              "LotFrontage     259\n",
              "GarageType       81\n",
              "GarageYrBlt      81\n",
              "GarageFinish     81\n",
              "GarageQual       81\n",
              "GarageCond       81\n",
              "BsmtExposure     38\n",
              "BsmtFinType2     38\n",
              "BsmtQual         37\n",
              "BsmtCond         37\n",
              "BsmtFinType1     37\n",
              "MasVnrType        8\n",
              "MasVnrArea        8\n",
              "Electrical        1\n",
              "dtype: int64"
            ]
          },
          "execution_count": 21,
          "metadata": {},
          "output_type": "execute_result"
        }
      ],
      "source": [
        "# Replacing Infinite Values with 0:\n",
        "clean_data = data.replace([np.inf, -np.inf], 0)\n",
        "\n",
        "# Detecting Null Values\n",
        "columns_with_miss = clean_data.isna().sum()\n",
        "columns_with_miss = columns_with_miss[columns_with_miss!=0]\n",
        "print('Null-valued Columns:', len(columns_with_miss))\n",
        "print('\\n')\n",
        "\n",
        "columns_with_miss.sort_values(ascending=False)"
      ]
    },
    {
      "cell_type": "markdown",
      "metadata": {
        "id": "zLYyFSd-JfJt"
      },
      "source": [
        "<font color='red'> **Answer:**</font>"
      ]
    },
    {
      "cell_type": "markdown",
      "metadata": {
        "id": "0qQzbp4RJfJt"
      },
      "source": [
        "**1.1.4.  Now you have to build a regression model that would be trained on training data and later predict the price on test data. You are free to select features on which you want train the model. The dataset has missing values, so please apply the following methods for dealing with the missing data in the features of your choice:**\n",
        "\n",
        "a) mean imputation\n",
        "\n",
        "b) median imputation\n",
        "\n",
        "c) mode imputation\n",
        "\n",
        "d) dropping missing values\n",
        "\n",
        "**Split dataset into the training (80% of the all rows) and test ( 20% of all rows) set, you can use train_test_split function from scikit-learn. While splitting, set the parameter random_state equal to 2, this will reproduce similar split during grading.**\n",
        "\n",
        "**For each of the case report MAE, RMSE and R<sup>2</sup>. Which method works better ?(2.0 points)**\n",
        "\n"
      ]
    },
    {
      "cell_type": "code",
      "execution_count": null,
      "metadata": {
        "colab": {
          "base_uri": "https://localhost:8080/"
        },
        "id": "DCaoOjKWJfJt",
        "outputId": "47eaac84-1881-485c-997e-2acad267ccaf"
      },
      "outputs": [
        {
          "name": "stdout",
          "output_type": "stream",
          "text": [
            "Method: mean imputation  MAE: 0.0871512862162341  RMSE: 0.15692176113734338  R2: 0.8536717866631454\n",
            "Method: median imputation  MAE: 302.02813620588086  RMSE: 2958.8960440376263  R2: -52026082.92068131\n",
            "Method: mode imputation  MAE: 0.08714368883068863  RMSE: 0.15691647328262165  R2: 0.8536816482564811\n",
            "Method: dropping missing values  MAE: 0.09912382147791733  RMSE: 0.22877522593722743  R2: 0.6426794829278946\n"
          ]
        }
      ],
      "source": [
        "from sklearn.model_selection import train_test_split\n",
        "from sklearn.impute import SimpleImputer\n",
        "from sklearn.linear_model import LinearRegression\n",
        "from sklearn.metrics import mean_absolute_error\n",
        "from sklearn.metrics import mean_squared_error\n",
        "from sklearn.metrics import r2_score\n",
        "\n",
        "\n",
        "methods = ['mean imputation', 'median imputation', 'mode imputation', 'dropping missing values']\n",
        "#Store the result in the following variables\n",
        "MAE = []\n",
        "RMSE = []\n",
        "R2 = []\n",
        "\n",
        "df = pd.get_dummies(clean_data)\n",
        "\n",
        "# Mean\n",
        "mean_imputer = SimpleImputer(missing_values = np.nan , strategy='mean')\n",
        "result_mean_imputer = mean_imputer.fit_transform(df)\n",
        "mean_df = pd.DataFrame(result_mean_imputer, columns = df.columns)\n",
        "\n",
        "# Median\n",
        "median_imputer = SimpleImputer(missing_values = np.nan , strategy='median')\n",
        "result_median_imputer = median_imputer.fit_transform(df)\n",
        "median_df = pd.DataFrame(result_median_imputer, columns = df.columns)\n",
        "\n",
        "# Mode\n",
        "mode_imputer = SimpleImputer(missing_values = np.nan , strategy='most_frequent')\n",
        "result_mode_imputer = mode_imputer.fit_transform(df)\n",
        "mode_df = pd.DataFrame(result_mode_imputer, columns = df.columns)\n",
        "\n",
        "# Without NAs\n",
        "non_na_df = df.dropna()\n",
        "\n",
        "def model(data):\n",
        "  default_df = data\n",
        "  X_train, X_test, y_train, y_test = train_test_split(default_df.loc[:, default_df.columns != 'SalePrice'], default_df['SalePrice'],\n",
        "  train_size = 0.8,\n",
        "  test_size = 0.2,\n",
        "  random_state = 2)\n",
        "  lr_model = LinearRegression()\n",
        "  lr_model.fit(X_train, y_train)\n",
        "  lr_pred = lr_model.predict(X_test)\n",
        "  lr_pred_tr = lr_model.predict(X_train)\n",
        "  test_set_mae = mean_absolute_error(y_test, lr_pred)\n",
        "  MAE.append(test_set_mae)\n",
        "  test_set_rmse = (np.sqrt(mean_squared_error(y_test, lr_pred)))\n",
        "  RMSE.append(test_set_rmse)\n",
        "  lr_wcv_test_set_r2 = r2_score(y_test, lr_pred)\n",
        "  R2.append(lr_wcv_test_set_r2)\n",
        "  return MAE, RMSE, R2\n",
        "\n",
        "model(mean_df)\n",
        "model(median_df)\n",
        "model(mode_df)\n",
        "model(non_na_df)\n",
        "\n",
        "# Print the Results:\n",
        "i = 0\n",
        "for m in methods:\n",
        "    print(\"Method: \" + m + \"  MAE: \" + str(MAE[i]) + \"  RMSE: \" + str(RMSE[i]) + \"  R2: \" + str(R2[i]))\n",
        "    i+=1\n",
        "    \n"
      ]
    },
    {
      "cell_type": "markdown",
      "metadata": {
        "id": "di6eU4kRJfJt"
      },
      "source": [
        "<font color='red'> **Answer: Ideally, the desired state is RMSE=MAE=0 & R2=1 but in this situation, the closest and the best one is the mode imputation one.**</font>"
      ]
    },
    {
      "cell_type": "markdown",
      "metadata": {
        "id": "O4mCTiasJfJu"
      },
      "source": [
        "**Please store the best MAE, RMSE, r2_best score in the following variables. We will use these variable to compare ```1.2.7```**"
      ]
    },
    {
      "cell_type": "code",
      "execution_count": null,
      "metadata": {
        "id": "XD8eDSFNJfJv"
      },
      "outputs": [],
      "source": [
        "# Mode Imputation:\n",
        "mae_best = MAE[2]    # best MAE\n",
        "rmse_best = RMSE[2]  # best RMSE\n",
        "r2_best = R2[2]      # best R2"
      ]
    },
    {
      "cell_type": "markdown",
      "metadata": {
        "id": "qgkUo5YBJfJv"
      },
      "source": [
        "# 1.2 Principal Component Analysis (PCA) (3 points)\n",
        "Our model performs quite good. But there is always room to make it better and simpler. By simpler, we mean the reducing the dimensionality of the dataset so that we can have a simpler linear regression model. <br> <br>If you noticed after one-hot encoding, we have 270 features (columns) but all these features do not hold the same level of information. For example, the first feature may hold 50% of the information required to make the linear regression acheive the performance we already had; the last, (feature number 270) may contribute to only 0.0000001% to the total output. Hence, adding this last variable (actually there could be more) to our linear regression model (read equation) will only increase the complexity of the model; space, time and computational complexity. Therefore, it is wise and desirable to make the model simpler yet performing the best (better). \n",
        "<br> <br>\n",
        "One such way to reduce the dimensionality of the dataset is known as Pricipal Component Analysis. Using this method, we can find out which features contribute the most in our model, therefore, we can wisely select how many we need. We will perform, PCA in this section of the homework. <br><br>\n",
        "\n",
        "*There is another powerful method for dimensionality reduction, named t-SNE. We will use t-sne in future homework. <br><br>*\n",
        "\n"
      ]
    },
    {
      "cell_type": "markdown",
      "metadata": {
        "id": "Gm5DmYT3JfJv"
      },
      "source": [
        "**1.2.1. From ```1.1.4``` keep the best method to deal with missing values and apply PCA to reduce the number of features. (1 point)**"
      ]
    },
    {
      "cell_type": "code",
      "execution_count": null,
      "metadata": {
        "colab": {
          "base_uri": "https://localhost:8080/",
          "height": 295
        },
        "id": "Zy7hzDhHJfJv",
        "outputId": "cbae2784-3474-4a18-d14c-39ef559fad8e"
      },
      "outputs": [
        {
          "data": {
            "image/png": "[encoded data removed]",
            "text/plain": [
              "<Figure size 432x288 with 1 Axes>"
            ]
          },
          "metadata": {},
          "output_type": "display_data"
        }
      ],
      "source": [
        "import pandas as pd\n",
        "import numpy as np\n",
        "import matplotlib.pyplot as plt\n",
        "from sklearn.decomposition import PCA\n",
        "from sklearn.preprocessing import StandardScaler\n",
        "\n",
        "X = mode_df.drop(\"SalePrice\", axis = 1)\n",
        "y = mode_df[\"SalePrice\"]\n",
        "\n",
        "# Scale:\n",
        "scaled_df = StandardScaler().fit_transform(mode_df)\n",
        "scaled_df= pd.DataFrame(scaled_df, columns=mode_df.columns)\n",
        "scaled_df.head()\n",
        "\n",
        "# Fit PCA as Requested:\n",
        "pca = PCA(whiten=True, svd_solver='randomized', random_state=0)\n",
        "pca_df = pca.fit_transform(scaled_df)\n",
        "\n",
        "# Check the Dimensions:\n",
        "pca_df.shape\n",
        "\n",
        "# Fit PCA as Requested:\n",
        "pca = PCA(n_components=4, whiten=True, svd_solver='randomized', random_state=0)\n",
        "pca_df = pca.fit_transform(scaled_df)\n",
        "\n",
        "# Explained Variance:\n",
        "exp_var_cumul = np.cumsum(pca.explained_variance_ratio_)\n",
        "\n",
        "# Plot:\n",
        "plt.plot(exp_var_cumul)\n",
        "plt.ylabel('Explained Variance')\n",
        "plt.xlabel('Principal Components')\n",
        "plt.title('Explained Variance Ratio by PCA')\n",
        "plt.show()"
      ]
    },
    {
      "cell_type": "markdown",
      "metadata": {
        "id": "aWby6Ko4PCcV"
      },
      "source": [
        "<font color='red'> **Answer:**</font>"
      ]
    },
    {
      "cell_type": "markdown",
      "metadata": {
        "id": "Y-w3klggJfJw"
      },
      "source": [
        "**1.2.2. What percentage of the variance is explained by the first five components? (0.25 point)**"
      ]
    },
    {
      "cell_type": "code",
      "execution_count": null,
      "metadata": {
        "id": "WlNcmGRdPDjd"
      },
      "outputs": [],
      "source": []
    },
    {
      "cell_type": "markdown",
      "metadata": {
        "id": "oQEVP0WjJfJw"
      },
      "source": [
        "<font color='red'> **Answer: Not shown on the graph but probably, ~20% of the variance can be explained by the first 5 components.**</font>"
      ]
    },
    {
      "cell_type": "markdown",
      "metadata": {
        "id": "J7ELb09LJfJw"
      },
      "source": [
        "It would be helpful if we could see all of the variance against the number of components, so a plot would give us a better understanding of the situation. "
      ]
    },
    {
      "cell_type": "markdown",
      "metadata": {
        "id": "u3FzebW5JfJ2"
      },
      "source": [
        "**1.2.3. Please plot the result of PCA you built in ```1.2.1```<br>\n",
        "X-axis=Number of Components, Y-axis=Total explained variance and explain the result.(0.5 point)**"
      ]
    },
    {
      "cell_type": "code",
      "execution_count": null,
      "metadata": {
        "colab": {
          "base_uri": "https://localhost:8080/",
          "height": 442
        },
        "id": "Irp6UKBbJfJ3",
        "outputId": "d2d6f4b8-8530-4de5-b6b9-78be995761b4"
      },
      "outputs": [
        {
          "data": {
            "image/png": "[encoded data removed]",
            "text/plain": [
              "<Figure size 720x504 with 1 Axes>"
            ]
          },
          "metadata": {},
          "output_type": "display_data"
        }
      ],
      "source": [
        "import matplotlib.pyplot as plt\n",
        "\n",
        "# Initialize & Fit PCA:\n",
        "pca = PCA(whiten=True, svd_solver='randomized', random_state=0)\n",
        "df_pca = pca.fit_transform(scaled_df)\n",
        "\n",
        "# Explained Variance:\n",
        "exp_var_cumul = np.cumsum(pca.explained_variance_ratio_)\n",
        "\n",
        "# Plot:\n",
        "plt.figure(figsize=(10,7))\n",
        "\n",
        "lw=2\n",
        "plt.plot(exp_var_cumul, color='k', lw=lw)\n",
        "plt.xlabel('Principal Components')\n",
        "plt.ylabel('Explained Variance')\n",
        "\n",
        "plt.xlim(0, 300)\n",
        "plt.yticks(np.arange(0, 1.1, 0.1))\n",
        "\n",
        "plt.axhline(0.9, c='c')\n",
        "plt.show()"
      ]
    },
    {
      "cell_type": "markdown",
      "metadata": {
        "id": "WHnlCo-5JfJ3"
      },
      "source": [
        "<font color='red'> **Answer: ~90% of the variance can be explained by the first ~150 components, based on this graph; so, the rest might be less beneficial.**</font>"
      ]
    },
    {
      "cell_type": "markdown",
      "metadata": {
        "id": "1_4PB8XRJfJ4"
      },
      "source": [
        "**1.2.5. Again, from ```1.1.4``` keep the best method to deal with missing values and use PCA to reduce the number of features. But you can use only the number of features that are significant in ```1.1.3```, in this case you have to choose an optimum n_component value based on the PCA plot. Otherwise, you can select all of the features and pass the n_components=37. In all cases, keep random_state for PCA equal to 0. (0.25 points)**"
      ]
    },
    {
      "cell_type": "code",
      "execution_count": null,
      "metadata": {
        "id": "T5V5J9lkJfJ4"
      },
      "outputs": [],
      "source": [
        "pca = PCA(n_components = 37, whiten=True, svd_solver='randomized', random_state=0)\n",
        "new_data = pd.DataFrame(pca.fit_transform(X))\n",
        "new_data = pd.concat([new_data, scaled_df[\"SalePrice\"]], axis=1)"
      ]
    },
    {
      "cell_type": "markdown",
      "metadata": {
        "id": "sGf3C80oPFbA"
      },
      "source": [
        "<font color='red'> **Answer:**</font>"
      ]
    },
    {
      "cell_type": "markdown",
      "metadata": {
        "id": "-ii2fvRuJfJ4"
      },
      "source": [
        "**1.2.6. Use the new components derived from PCA to predict the house pricing. Keep the ratio of test and train set to 20/80 and the random_state equal to 0. Report MAE, RMSE and R<sup>2</sup> (0.75 point)** <br>\n",
        "*Hint: Now your training data is different. Please use pca.transform(X) function to create your new training dataset. But make sure you have the fitted pca from ```1.2.5```*"
      ]
    },
    {
      "cell_type": "code",
      "execution_count": null,
      "metadata": {
        "colab": {
          "base_uri": "https://localhost:8080/"
        },
        "id": "nO8i5zgiJfJ4",
        "outputId": "1927f4d4-dc9c-44ed-f29f-7d6ec4888708"
      },
      "outputs": [
        {
          "name": "stdout",
          "output_type": "stream",
          "text": [
            "MAE: 0.09480378398921588  RMSE: 0.14007952745489918  R2: 0.8834186904129737\n"
          ]
        }
      ],
      "source": [
        "methods = ['mean imputation', 'median imputation', 'mode imputation', 'dropping missing value']\n",
        "\n",
        "MAE = []\n",
        "RMSE = []\n",
        "R2 = []\n",
        "\n",
        "# Split by 80/20:\n",
        "X_train_pca, X_test_pca, y_train_pca, y_test_pca = train_test_split(X,y, train_size = 0.8, test_size = 0.2)\n",
        "\n",
        "# Fit & Transform PCA:\n",
        "X_train_pca = pca.fit_transform(X_train_pca)\n",
        "X_test_pca = pca.transform(X_test_pca)\n",
        "\n",
        "# Start Linear Regression Model:\n",
        "regressor = LinearRegression()\n",
        "regressor.fit(X_train_pca, y_train_pca)\n",
        "lr_predict = regressor.predict(X_test_pca)\n",
        "lr_predict_train = regressor.predict(X_train_pca)\n",
        "mae_pca = mean_absolute_error(y_test_pca, lr_predict)\n",
        "MAE.append(mae_pca)\n",
        "rmse_pca = (np.sqrt(mean_squared_error(y_test_pca, lr_predict)))\n",
        "RMSE.append(rmse_pca)\n",
        "r2_pca = r2_score(y_test_pca, lr_predict)\n",
        "R2.append(r2_pca)\n",
        "    \n",
        "print(\"MAE: \" + str(mae_pca) + \"  RMSE: \" + str(rmse_pca) + \"  R2: \" + str(r2_pca))"
      ]
    },
    {
      "cell_type": "markdown",
      "metadata": {
        "id": "Z18-EyLXPJkq"
      },
      "source": [
        "<font color='red'> **Answer:**</font>"
      ]
    },
    {
      "cell_type": "markdown",
      "metadata": {
        "id": "BJ8DEaLyJfJ4"
      },
      "source": [
        "**1.2.7 The following cell would calculate the difference between pre-PCA and post-PCA. Please explain the situation based on the differences. (0.25 point)**"
      ]
    },
    {
      "cell_type": "code",
      "execution_count": null,
      "metadata": {
        "colab": {
          "base_uri": "https://localhost:8080/"
        },
        "id": "aLFLGYHnJfJ5",
        "outputId": "4834b7d9-e559-4cff-ca0a-636e04f1d335"
      },
      "outputs": [
        {
          "name": "stdout",
          "output_type": "stream",
          "text": [
            "MAE difference after PCA:  -0.0076600951585272525\n",
            "RMSE difference after PCA:  0.016836945827722466\n",
            "R2 difference after PCA:  -0.029737042156492643\n"
          ]
        }
      ],
      "source": [
        "print(\"MAE difference after PCA: \", mae_best-mae_pca)\n",
        "print(\"RMSE difference after PCA: \", rmse_best-rmse_pca)\n",
        "print(\"R2 difference after PCA: \", r2_best-r2_pca)"
      ]
    },
    {
      "cell_type": "markdown",
      "metadata": {
        "id": "YTZCW4GEJfJ5"
      },
      "source": [
        "<font color='red'> **Answer: Even though we got worse values for these variables, applying PCA made our model simpler than the previous one.**</font>"
      ]
    },
    {
      "cell_type": "markdown",
      "metadata": {
        "id": "MVj81M_uJfJ5"
      },
      "source": [
        "## 1.3 Overfitting (5 points)\n",
        "\n",
        "Now our model is comparatively better than the earlier models. It is less complex yet performs the almost the same. Let's dive a little deeper into the model now. In this section, we will check if the model is overfitting. The concept of overfitting has already been delivered in the lectures. However, if you are interesed in honing it up, please take a look here or anywhere you understand better: https://datascience.foundation/sciencewhitepaper/underfitting-and-overfitting-in-machine-learning\n",
        "<br>\n",
        "But, unfortunately it is difficult to know if a model is overfitting or underfitting. One way to know more about model's performance is cross-validation. Cross-validation is also used in the hyperparameter searching to find the best performing model in a given scenario.  \n",
        "We have a few techniques to prevent overfitting and we will focus on \n",
        "- 1.3.1 Cross-validation \n",
        "    - K-Fold cross-validation: Most common (we would apply this one to see the performance of the Linear regression model)\n",
        "    - Leave One Out (LOO): Takes each row as the validation set for once, and trains the model on the rest n-1 rows. Thus, it trains n number of models.\n",
        "\n",
        "    - Leave P-Out (LPO): Creates possible splits after leaving p samples out. For n rows, there would be (nCp) possibile train-test splits.\n",
        "    - (For classification problems) Stratified K-Fold: Ensures relative class proportion is preserved in each train and validation fold. Important when the class label is imbalanced (e.g. 95% label: 1; 5% label: 0).\n",
        "    \n",
        "    *The last three techniques will be discussed in detail in the 7th Lecture.* <br><br>\n",
        "    \n",
        "- 1.3.2 Regularization \n",
        "    - L1 (Lasso)    \n",
        "    - L2 (Ridge)\n",
        "\n"
      ]
    },
    {
      "cell_type": "markdown",
      "metadata": {
        "id": "cgnrzErbJfJ5"
      },
      "source": [
        "**1.3.0. Now we have to check if the trained regression model in ```1.1.4``` is overfitting. Please use R<sup>2</sup> value on train and test result to determine the overfitting. Please explain the result from the perspective of the dataset and the value(0.2 point)**"
      ]
    },
    {
      "cell_type": "code",
      "execution_count": null,
      "metadata": {
        "colab": {
          "base_uri": "https://localhost:8080/"
        },
        "id": "-U9AhTxCJfJ5",
        "outputId": "a8477886-0de1-46c8-c94b-e40f1954c490"
      },
      "outputs": [
        {
          "name": "stdout",
          "output_type": "stream",
          "text": [
            "R2 for:\n",
            " \tTest Set:  0.8536816482564811 \n",
            "\tTrain Set:  0.95117698632769\n"
          ]
        }
      ],
      "source": [
        "df = mode_df\n",
        "\n",
        "# Split the Dataset\n",
        "X_train, X_test, y_train, y_test = train_test_split(df.loc[:, df.columns != 'SalePrice'], df['SalePrice'], train_size = 0.8, test_size = 0.2, random_state = 2)\n",
        "\n",
        "# Initialize Linear Regression Model:\n",
        "lr_model = LinearRegression()\n",
        "\n",
        "# Fit: Train & Predict:\n",
        "lr_model.fit(X_train, y_train)\n",
        "lr_pred = lr_model.predict(X_test)\n",
        "lr_pred_tr = lr_model.predict(X_train)\n",
        "lr_test_set_r2 = r2_score(y_test, lr_pred)\n",
        "lr_train_set_r2 = r2_score(y_train, lr_pred_tr)\n",
        "\n",
        "print(\"R2 for:\\n\", \"\\tTest Set: \", lr_test_set_r2, \"\\n\\tTrain Set: \", lr_train_set_r2)"
      ]
    },
    {
      "cell_type": "markdown",
      "metadata": {
        "id": "aejhzWfUJfJ6"
      },
      "source": [
        "<font color='red'> **Answer:**</font>"
      ]
    },
    {
      "cell_type": "markdown",
      "metadata": {
        "id": "la1JX3IhJfJ6"
      },
      "source": [
        "**1.3.1 Please apply K-fold=10 fold closs validation on the training dataset of ```1.1.4``` Keep random_state=1, shuffle=True, while performing cross validation, make sure that return_train_score=True.(0.5 point)**\n"
      ]
    },
    {
      "cell_type": "code",
      "execution_count": null,
      "metadata": {
        "colab": {
          "base_uri": "https://localhost:8080/"
        },
        "id": "7cZsA7alJfJ6",
        "outputId": "9dc7fb5f-48ec-435f-9990-a12a2e4de051"
      },
      "outputs": [
        {
          "name": "stdout",
          "output_type": "stream",
          "text": [
            "R^2: -25815084.207 (77445255.236)\n",
            "MSE: -4407611.200 (13222833.540)\n"
          ]
        }
      ],
      "source": [
        "from sklearn.model_selection import KFold\n",
        "from sklearn.model_selection import cross_val_score\n",
        "from sklearn.model_selection import GridSearchCV\n",
        "from sklearn.model_selection import cross_validate\n",
        "from sklearn.feature_selection import RFE\n",
        "from numpy import mean\n",
        "from numpy import std\n",
        "\n",
        "# Initialize Linear Regression Model:\n",
        "lm = LinearRegression()\n",
        "\n",
        "# Run 10-fold Cross-Validation:\n",
        "cv = KFold(n_splits = 10, shuffle = True, random_state = 1)\n",
        "\n",
        "# Get the Scores:\n",
        "scores = cross_validate(lm, X_train, y_train, scoring=['r2',\"neg_mean_squared_error\"], cv=cv)\n",
        "\n",
        "# Print the Performance:\n",
        "print('R^2: %.3f (%.3f)' % (mean(scores['test_r2']), std(scores['test_r2'])))\n",
        "print('MSE: %.3f (%.3f)' % (mean(scores['test_neg_mean_squared_error']), std(scores['test_neg_mean_squared_error'])))"
      ]
    },
    {
      "cell_type": "markdown",
      "metadata": {
        "id": "oGuHm1lkPPTM"
      },
      "source": [
        "<font color='red'> **Answer:**</font>"
      ]
    },
    {
      "cell_type": "markdown",
      "metadata": {
        "id": "TALQSL6JJfJ6"
      },
      "source": [
        "**1.3.1.2. Please plot the training and test R<sup>2</sup> value where X-axis=number of folds, Y-axis=R<sup>2</sup> value. Explain the plot, if the model shows overfitting or not.(0.3 point)**"
      ]
    },
    {
      "cell_type": "code",
      "execution_count": null,
      "metadata": {
        "colab": {
          "background_save": true,
          "base_uri": "https://localhost:8080/"
        },
        "id": "h6AxRDbsJfJ6",
        "outputId": "a73cbb3d-dd6e-48d7-d1cd-335acab33945"
      },
      "outputs": [
        {
          "name": "stdout",
          "output_type": "stream",
          "text": [
            "Fitting 10 folds for each of 13 candidates, totalling 130 fits\n"
          ]
        },
        {
          "data": {
            "text/plain": [
              "<matplotlib.legend.Legend at 0x7fbea693d850>"
            ]
          },
          "execution_count": 43,
          "metadata": {},
          "output_type": "execute_result"
        },
        {
          "data": {
            "image/png": "[encoded data removed]",
            "text/plain": [
              "<Figure size 1152x432 with 1 Axes>"
            ]
          },
          "metadata": {},
          "output_type": "display_data"
        }
      ],
      "source": [
        "# Create Cross-Validation Scheme:\n",
        "folds = KFold(n_splits = 10, shuffle = True, random_state = 1)\n",
        "\n",
        "# Specify the Range of Hyperparameters to Tune:\n",
        "hyper_params = [{'n_features_to_select': list(range(1, 9))}] # for faster results\n",
        "\n",
        "# Perform Grid Search using Linear Regression Model:\n",
        "lm = LinearRegression()\n",
        "lm.fit(X_train, y_train)\n",
        "rfe = RFE(lm)\n",
        "model_cv = GridSearchCV(estimator = rfe, param_grid = hyper_params, scoring = 'r2', cv = folds, verbose = 1, return_train_score=True)\n",
        "model_cv.fit(X_train, y_train)\n",
        "cv_results = pd.DataFrame(model_cv.cv_results_)\n",
        "cv_results\n",
        "\n",
        "# Plot the Results:\n",
        "plt.figure(figsize=(16,6))\n",
        "plt.plot(cv_results[\"param_n_features_to_select\"], cv_results[\"mean_test_score\"])\n",
        "plt.plot(cv_results[\"param_n_features_to_select\"], cv_results[\"mean_train_score\"])\n",
        "plt.xlabel('Features')\n",
        "plt.ylabel('R^2')\n",
        "plt.title(f\"Optimal # of Features: {model_cv.best_params_}\")\n",
        "plt.legend(['test score', 'train score'], loc='upper left')"
      ]
    },
    {
      "cell_type": "markdown",
      "metadata": {
        "id": "Qq62bO4LJfJ6"
      },
      "source": [
        "<font color='red'> **Answer:**</font>"
      ]
    },
    {
      "cell_type": "markdown",
      "metadata": {
        "id": "PRU2r7W0JfJ7"
      },
      "source": [
        "**1.3.2  Please apply L1 (Lasso) regularization with variable alpha parameters and report the corresponding alpha value and R<sup>2</sup> value. Use the training split from ```1.1.4``` (1.5 point)**"
      ]
    },
    {
      "cell_type": "code",
      "execution_count": 44,
      "metadata": {
        "id": "JBLdIUk6JfJ7",
        "scrolled": true,
        "colab": {
          "base_uri": "https://localhost:8080/"
        },
        "outputId": "f6ab7477-0a92-43f4-e3d8-3a4791c14bc2"
      },
      "outputs": [
        {
          "output_type": "stream",
          "name": "stdout",
          "text": [
            "0.0001 : 86.42954050791698\n",
            "0.0002 : 86.97591496958829\n",
            "0.00030000000000000003 : 87.28265401303423\n",
            "0.0004 : 87.40559927644247\n",
            "0.0005 : 87.42756516577529\n",
            "0.0006000000000000001 : 87.39979079475322\n",
            "0.0007 : 87.35770372635801\n",
            "0.0008 : 87.28375816981429\n"
          ]
        }
      ],
      "source": [
        "from sklearn.model_selection import KFold\n",
        "from sklearn.model_selection import cross_val_score\n",
        "from numpy import mean\n",
        "from numpy import std\n",
        "import pandas as pd\n",
        "from sklearn.linear_model import Lasso, Ridge\n",
        "\n",
        "X = mode_df.drop(\"SalePrice\", axis = 1)\n",
        "y = mode_df[\"SalePrice\"]\n",
        "cross_val_scores_lasso = []\n",
        "\n",
        "# List to maintain the different values of alpha\n",
        "alpha = [] \n",
        "\n",
        "# Loop to for different alpha value\n",
        "for i in range(1, 9):\n",
        "  lassoModel = Lasso(alpha = i * 0.0001)\n",
        "  lassoModel.fit(X_train, y_train)\n",
        "  scores = cross_val_score(lassoModel, X, y, cv = 10)\n",
        "  avg_cross_val_score = mean(scores)*100\n",
        "  cross_val_scores_lasso.append(avg_cross_val_score)\n",
        "  alpha.append(i * 0.0001)\n",
        "\n",
        "# Loop to print the different values of cross-validation scores\n",
        "for i in range(0, len(alpha)):\n",
        "  print(str(alpha[i]) + ' : ' + str(cross_val_scores_lasso[i]))"
      ]
    },
    {
      "cell_type": "markdown",
      "metadata": {
        "id": "AkVH-g4qPRtL"
      },
      "source": [
        "<font color='red'> **Answer:**</font>"
      ]
    },
    {
      "cell_type": "markdown",
      "metadata": {
        "id": "8bfFzmDfJfJ7"
      },
      "source": [
        "**1.3.3. Take the best alpha value from ```1.3.2``` and use it to train a new lasso model and report the  R<sup>2</sup> value on test set. Use the train test split from ```1.1.4```. (0.5 point)**"
      ]
    },
    {
      "cell_type": "code",
      "execution_count": 45,
      "metadata": {
        "id": "26ebQVQ6JfJ7",
        "colab": {
          "base_uri": "https://localhost:8080/"
        },
        "outputId": "7086212d-ec61-43ff-c369-541fdab3147c"
      },
      "outputs": [
        {
          "output_type": "stream",
          "name": "stdout",
          "text": [
            "0.9023691872903872\n"
          ]
        }
      ],
      "source": [
        "from sklearn.model_selection import train_test_split\n",
        "\n",
        "# Building and fitting the Lasso Regression Model\n",
        "lassoModelBest = Lasso(alpha = 0.0005)\n",
        "lassoModelBest.fit(X_train, y_train)\n",
        "\n",
        "# Evaluating the Lasso Regression model\n",
        "print(lassoModelBest.score(X_test, y_test))"
      ]
    },
    {
      "cell_type": "markdown",
      "metadata": {
        "id": "TKhAN3tbPT3N"
      },
      "source": [
        "<font color='red'> **Answer:**</font>"
      ]
    },
    {
      "cell_type": "markdown",
      "metadata": {
        "id": "CNhJ6cwkJfJ7"
      },
      "source": [
        "**1.3.4.  Please apply L2 (Ridge) regularization with variable alpha parameters and report the corresponding alpha value and R<sup>2</sup> value. Use the training split from ```1.1.4``` (1.5 point)**\n",
        "\n",
        "N.B. The $alpha$ here in the ridge regularization is the same as $lambda$ you saw in the lecture. We did not initiate the variable with $lambda$ because $lambda$ is a reserved keyword in python which is used to create small anonymous functions. A $lambda$ function can take any number of arguments, but can only have one expression.\n",
        "You can read more about it here: https://www.w3schools.com/python/ref_keyword_lambda.asp#:~:text=The%20lambda%20keyword%20is%20used,and%20the%20result%20is%20returned."
      ]
    },
    {
      "cell_type": "code",
      "execution_count": 46,
      "metadata": {
        "id": "WQXWz0z4JfJ8",
        "colab": {
          "base_uri": "https://localhost:8080/"
        },
        "outputId": "734d85b2-dcd4-4700-cc81-bf22f07f00d7"
      },
      "outputs": [
        {
          "output_type": "stream",
          "name": "stdout",
          "text": [
            "0.0001 : 84.65071165365036\n",
            "0.0002 : 84.65177677646632\n",
            "0.00030000000000000003 : 84.65284079304215\n",
            "0.0004 : 84.6539037055399\n",
            "0.0005 : 84.6549655160851\n",
            "0.0006000000000000001 : 84.6560262267847\n",
            "0.0007 : 84.65708583975578\n",
            "0.0008 : 84.65814435711059\n"
          ]
        }
      ],
      "source": [
        "cross_val_scores_ridge = []\n",
        "\n",
        "# List to maintain the different values of alpha\n",
        "alpha = []\n",
        "\n",
        "# Loop to for different alpha value\n",
        "for i in range(1, 9):\n",
        "  ridgeModel = Ridge(alpha = i * 0.0001)\n",
        "  ridgeModel.fit(X_train, y_train)\n",
        "  scores = cross_val_score(ridgeModel, X, y, cv = 10) #TODO\n",
        "  avg_cross_val_score = mean(scores)*100\n",
        "  cross_val_scores_ridge.append(avg_cross_val_score)\n",
        "  alpha.append(i * 0.0001)\n",
        "\n",
        "# Loop to print the different values of cross-validation scores\n",
        "for i in range(0, len(alpha)):\n",
        "  print(str(alpha[i])+' : '+str(cross_val_scores_ridge[i]))"
      ]
    },
    {
      "cell_type": "markdown",
      "metadata": {
        "id": "NKgwq2qcPVS-"
      },
      "source": [
        "<font color='red'> **Answer:**</font>"
      ]
    },
    {
      "cell_type": "markdown",
      "metadata": {
        "id": "_3k6yZXNJfJ8"
      },
      "source": [
        "**1.3.5. Take the best alpha value from ```1.3.4``` and use it to train a new ridge model and report the  R<sup>2</sup> value on test set. Use the train test split from ```1.1.4```. (0.5 point)**"
      ]
    },
    {
      "cell_type": "code",
      "execution_count": 47,
      "metadata": {
        "id": "JB_FtNHeJfJ8",
        "colab": {
          "base_uri": "https://localhost:8080/"
        },
        "outputId": "866e9b97-b42a-478f-cbfc-ca5b0b11f7e1"
      },
      "outputs": [
        {
          "output_type": "stream",
          "name": "stdout",
          "text": [
            "0.853893725649357\n"
          ]
        }
      ],
      "source": [
        "from sklearn.model_selection import train_test_split\n",
        "\n",
        "# Building and fitting the Ridge Regression Model\n",
        "ridgeModelBest = Ridge(alpha = 0.0008)\n",
        "ridgeModelBest.fit(X_train, y_train)\n",
        "\n",
        "# Evaluating the ridge Regression model\n",
        "print(ridgeModelBest.score(X_test, y_test))"
      ]
    },
    {
      "cell_type": "markdown",
      "metadata": {
        "id": "2Y5DdlEpPYKL"
      },
      "source": [
        "<font color='red'> **Answer:**</font>"
      ]
    },
    {
      "cell_type": "markdown",
      "metadata": {
        "id": "k-5hoCclJfJ8"
      },
      "source": [
        "## How long did it take you to solve the homework?\n",
        "\n",
        "* Please answer as precisely as you can. It does not affect your points or grade in any way. It is okay, if it took 0.5 hours or 24 hours. The collected information will be used to improve future homeworks.\n",
        "\n",
        "\n",
        "<font color='red'> **Answer: didn't count but a lot!**</font> \n",
        "\n",
        "## What is the level of difficulty for this homework?\n",
        "you can put only number between $0:10$ ($0:$ easy, $10:$ difficult)\n",
        "\n",
        "<font color='red'> **Answer: 10**</font>"
      ]
    }
  ],
  "metadata": {
    "colab": {
      "provenance": []
    },
    "kernelspec": {
      "display_name": "Python 3",
      "language": "python",
      "name": "python3"
    },
    "language_info": {
      "codemirror_mode": {
        "name": "ipython",
        "version": 3
      },
      "file_extension": ".py",
      "mimetype": "text/x-python",
      "name": "python",
      "nbconvert_exporter": "python",
      "pygments_lexer": "ipython3",
      "version": "3.6.9"
    }
  },
  "nbformat": 4,
  "nbformat_minor": 0
}